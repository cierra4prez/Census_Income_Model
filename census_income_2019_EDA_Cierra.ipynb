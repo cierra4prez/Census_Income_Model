{
 "cells": [
  {
   "cell_type": "code",
   "execution_count": 1,
   "metadata": {
    "ExecuteTime": {
     "end_time": "2021-01-08T03:31:23.125117Z",
     "start_time": "2021-01-08T03:31:20.278549Z"
    }
   },
   "outputs": [],
   "source": [
    "import pandas as pd\n",
    "import numpy as np\n",
    "import matplotlib.pyplot as plt\n",
    "import seaborn as sns\n",
    "from sklearn.model_selection import train_test_split, GridSearchCV\n",
    "from sklearn.linear_model import LogisticRegression\n",
    "from sklearn.tree import DecisionTreeClassifier\n",
    "from sklearn.metrics import accuracy_score\n",
    "from sklearn.preprocessing import LabelEncoder\n",
    "from sklearn.tree import DecisionTreeClassifier\n",
    "from sklearn.ensemble import RandomForestClassifier\n",
    "from sklearn.metrics import accuracy_score\n",
    "from sklearn.pipeline import Pipeline\n",
    "\n",
    "pd.options.display.max_columns = 100\n",
    "sns.set_style('white')"
   ]
  },
  {
   "cell_type": "code",
   "execution_count": 2,
   "metadata": {
    "ExecuteTime": {
     "end_time": "2021-01-08T03:31:31.459740Z",
     "start_time": "2021-01-08T03:31:23.129672Z"
    }
   },
   "outputs": [
    {
     "data": {
      "text/html": [
       "<div>\n",
       "<style scoped>\n",
       "    .dataframe tbody tr th:only-of-type {\n",
       "        vertical-align: middle;\n",
       "    }\n",
       "\n",
       "    .dataframe tbody tr th {\n",
       "        vertical-align: top;\n",
       "    }\n",
       "\n",
       "    .dataframe thead th {\n",
       "        text-align: right;\n",
       "    }\n",
       "</style>\n",
       "<table border=\"1\" class=\"dataframe\">\n",
       "  <thead>\n",
       "    <tr style=\"text-align: right;\">\n",
       "      <th></th>\n",
       "      <th>PWGTP</th>\n",
       "      <th>WGTP</th>\n",
       "      <th>PINCP</th>\n",
       "      <th>WKHP</th>\n",
       "      <th>WAGP</th>\n",
       "      <th>AGEP</th>\n",
       "      <th>FER</th>\n",
       "      <th>COW</th>\n",
       "      <th>CPLT</th>\n",
       "      <th>CIT</th>\n",
       "      <th>POBP</th>\n",
       "      <th>PARTNER</th>\n",
       "      <th>SEX</th>\n",
       "      <th>RAC1P</th>\n",
       "      <th>SCHL</th>\n",
       "      <th>OCCP</th>\n",
       "      <th>NAICSP</th>\n",
       "      <th>SERIALNO</th>\n",
       "      <th>SPORDER</th>\n",
       "      <th>WAOB</th>\n",
       "    </tr>\n",
       "  </thead>\n",
       "  <tbody>\n",
       "    <tr>\n",
       "      <th>0</th>\n",
       "      <td>71</td>\n",
       "      <td>0</td>\n",
       "      <td>63000</td>\n",
       "      <td>80</td>\n",
       "      <td>63000</td>\n",
       "      <td>35</td>\n",
       "      <td>0</td>\n",
       "      <td>1</td>\n",
       "      <td>0</td>\n",
       "      <td>1</td>\n",
       "      <td>18</td>\n",
       "      <td>-1</td>\n",
       "      <td>1</td>\n",
       "      <td>1</td>\n",
       "      <td>17</td>\n",
       "      <td>6250</td>\n",
       "      <td>23</td>\n",
       "      <td>2019GQ0000001</td>\n",
       "      <td>1</td>\n",
       "      <td>1</td>\n",
       "    </tr>\n",
       "    <tr>\n",
       "      <th>1</th>\n",
       "      <td>67</td>\n",
       "      <td>0</td>\n",
       "      <td>0</td>\n",
       "      <td>0</td>\n",
       "      <td>0</td>\n",
       "      <td>25</td>\n",
       "      <td>0</td>\n",
       "      <td>0</td>\n",
       "      <td>0</td>\n",
       "      <td>1</td>\n",
       "      <td>48</td>\n",
       "      <td>-1</td>\n",
       "      <td>1</td>\n",
       "      <td>1</td>\n",
       "      <td>12</td>\n",
       "      <td>9</td>\n",
       "      <td>-1</td>\n",
       "      <td>2019GQ0000004</td>\n",
       "      <td>1</td>\n",
       "      <td>1</td>\n",
       "    </tr>\n",
       "    <tr>\n",
       "      <th>2</th>\n",
       "      <td>24</td>\n",
       "      <td>0</td>\n",
       "      <td>2000</td>\n",
       "      <td>15</td>\n",
       "      <td>2000</td>\n",
       "      <td>21</td>\n",
       "      <td>2</td>\n",
       "      <td>2</td>\n",
       "      <td>0</td>\n",
       "      <td>5</td>\n",
       "      <td>229</td>\n",
       "      <td>-1</td>\n",
       "      <td>2</td>\n",
       "      <td>6</td>\n",
       "      <td>19</td>\n",
       "      <td>4740</td>\n",
       "      <td>611M1</td>\n",
       "      <td>2019GQ0000007</td>\n",
       "      <td>1</td>\n",
       "      <td>4</td>\n",
       "    </tr>\n",
       "    <tr>\n",
       "      <th>3</th>\n",
       "      <td>52</td>\n",
       "      <td>0</td>\n",
       "      <td>0</td>\n",
       "      <td>0</td>\n",
       "      <td>0</td>\n",
       "      <td>49</td>\n",
       "      <td>0</td>\n",
       "      <td>1</td>\n",
       "      <td>0</td>\n",
       "      <td>1</td>\n",
       "      <td>6</td>\n",
       "      <td>-1</td>\n",
       "      <td>1</td>\n",
       "      <td>1</td>\n",
       "      <td>21</td>\n",
       "      <td>110</td>\n",
       "      <td>722Z</td>\n",
       "      <td>2019GQ0000010</td>\n",
       "      <td>1</td>\n",
       "      <td>1</td>\n",
       "    </tr>\n",
       "    <tr>\n",
       "      <th>4</th>\n",
       "      <td>28</td>\n",
       "      <td>0</td>\n",
       "      <td>6000</td>\n",
       "      <td>15</td>\n",
       "      <td>6000</td>\n",
       "      <td>18</td>\n",
       "      <td>2</td>\n",
       "      <td>1</td>\n",
       "      <td>0</td>\n",
       "      <td>1</td>\n",
       "      <td>6</td>\n",
       "      <td>-1</td>\n",
       "      <td>2</td>\n",
       "      <td>1</td>\n",
       "      <td>16</td>\n",
       "      <td>4110</td>\n",
       "      <td>722Z</td>\n",
       "      <td>2019GQ0000013</td>\n",
       "      <td>1</td>\n",
       "      <td>1</td>\n",
       "    </tr>\n",
       "  </tbody>\n",
       "</table>\n",
       "</div>"
      ],
      "text/plain": [
       "   PWGTP  WGTP  PINCP  WKHP   WAGP  AGEP  FER  COW  CPLT  CIT  POBP  PARTNER  \\\n",
       "0     71     0  63000    80  63000    35    0    1     0    1    18       -1   \n",
       "1     67     0      0     0      0    25    0    0     0    1    48       -1   \n",
       "2     24     0   2000    15   2000    21    2    2     0    5   229       -1   \n",
       "3     52     0      0     0      0    49    0    1     0    1     6       -1   \n",
       "4     28     0   6000    15   6000    18    2    1     0    1     6       -1   \n",
       "\n",
       "   SEX  RAC1P  SCHL  OCCP NAICSP       SERIALNO  SPORDER  WAOB  \n",
       "0    1      1    17  6250     23  2019GQ0000001        1     1  \n",
       "1    1      1    12     9     -1  2019GQ0000004        1     1  \n",
       "2    2      6    19  4740  611M1  2019GQ0000007        1     4  \n",
       "3    1      1    21   110   722Z  2019GQ0000010        1     1  \n",
       "4    2      1    16  4110   722Z  2019GQ0000013        1     1  "
      ]
     },
     "execution_count": 2,
     "metadata": {},
     "output_type": "execute_result"
    }
   ],
   "source": [
    "df = pd.read_csv('Data/census_income_2019.csv', compression = 'zip')\n",
    "df.head()"
   ]
  },
  {
   "cell_type": "code",
   "execution_count": 3,
   "metadata": {
    "ExecuteTime": {
     "end_time": "2021-01-08T03:31:31.478120Z",
     "start_time": "2021-01-08T03:31:31.465972Z"
    }
   },
   "outputs": [
    {
     "data": {
      "text/plain": [
       "(3239553, 20)"
      ]
     },
     "execution_count": 3,
     "metadata": {},
     "output_type": "execute_result"
    }
   ],
   "source": [
    "df.shape"
   ]
  },
  {
   "cell_type": "markdown",
   "metadata": {},
   "source": [
    "##### Update Column Names"
   ]
  },
  {
   "cell_type": "code",
   "execution_count": 4,
   "metadata": {
    "ExecuteTime": {
     "end_time": "2021-01-08T03:31:31.488660Z",
     "start_time": "2021-01-08T03:31:31.483398Z"
    }
   },
   "outputs": [],
   "source": [
    "org_vars = \"\"\"PINCP\n",
    "WAGP\n",
    "INTP\n",
    "ADJINC\n",
    "PWGTP\n",
    "OCCP\n",
    "NAICSP\n",
    "WKHP\n",
    "AGEP\n",
    "SEX\n",
    "FER\n",
    "CPLT\n",
    "PARTNER\n",
    "COW\n",
    "RAC1P\n",
    "POBP\n",
    "CIT\n",
    "SCHL\n",
    "DIS\n",
    "SERIALNO\n",
    "SPORDER\n",
    "WAOB\"\"\".split(\"\\n\")"
   ]
  },
  {
   "cell_type": "code",
   "execution_count": 5,
   "metadata": {
    "ExecuteTime": {
     "end_time": "2021-01-08T03:31:31.498898Z",
     "start_time": "2021-01-08T03:31:31.492357Z"
    }
   },
   "outputs": [],
   "source": [
    "uptd_vars = \"\"\"INCOME\n",
    "SALARY\n",
    "INTEREST_DIV\n",
    "ADJINC\n",
    "FNLWGT\n",
    "OCCUPATION\n",
    "WORK_INDUSTRY\n",
    "WKLY_HRS\n",
    "AGE\n",
    "SEX\n",
    "MOM\n",
    "COUPLE\n",
    "PARTNER\n",
    "WORK_CLASS\n",
    "RACE\n",
    "POB_DETAIL\n",
    "CITIZENSHIP\n",
    "EDUCATION\n",
    "DIS\n",
    "SERIALNO\n",
    "PERSON_NO\n",
    "POB_WORLD\"\"\".split(\"\\n\")"
   ]
  },
  {
   "cell_type": "code",
   "execution_count": 6,
   "metadata": {
    "ExecuteTime": {
     "end_time": "2021-01-08T03:31:31.506075Z",
     "start_time": "2021-01-08T03:31:31.502399Z"
    }
   },
   "outputs": [],
   "source": [
    "vars_dict = dict(zip(org_vars, uptd_vars))"
   ]
  },
  {
   "cell_type": "code",
   "execution_count": 7,
   "metadata": {
    "ExecuteTime": {
     "end_time": "2021-01-08T03:31:33.267071Z",
     "start_time": "2021-01-08T03:31:31.511325Z"
    }
   },
   "outputs": [
    {
     "data": {
      "text/html": [
       "<div>\n",
       "<style scoped>\n",
       "    .dataframe tbody tr th:only-of-type {\n",
       "        vertical-align: middle;\n",
       "    }\n",
       "\n",
       "    .dataframe tbody tr th {\n",
       "        vertical-align: top;\n",
       "    }\n",
       "\n",
       "    .dataframe thead th {\n",
       "        text-align: right;\n",
       "    }\n",
       "</style>\n",
       "<table border=\"1\" class=\"dataframe\">\n",
       "  <thead>\n",
       "    <tr style=\"text-align: right;\">\n",
       "      <th></th>\n",
       "      <th>FNLWGT</th>\n",
       "      <th>WGTP</th>\n",
       "      <th>INCOME</th>\n",
       "      <th>WKLY_HRS</th>\n",
       "      <th>SALARY</th>\n",
       "      <th>AGE</th>\n",
       "      <th>MOM</th>\n",
       "      <th>WORK_CLASS</th>\n",
       "      <th>COUPLE</th>\n",
       "      <th>CITIZENSHIP</th>\n",
       "      <th>POB_DETAIL</th>\n",
       "      <th>PARTNER</th>\n",
       "      <th>SEX</th>\n",
       "      <th>RACE</th>\n",
       "      <th>EDUCATION</th>\n",
       "      <th>OCCUPATION</th>\n",
       "      <th>WORK_INDUSTRY</th>\n",
       "      <th>SERIALNO</th>\n",
       "      <th>PERSON_NO</th>\n",
       "      <th>POB_WORLD</th>\n",
       "    </tr>\n",
       "  </thead>\n",
       "  <tbody>\n",
       "    <tr>\n",
       "      <th>0</th>\n",
       "      <td>71</td>\n",
       "      <td>0</td>\n",
       "      <td>63000</td>\n",
       "      <td>80</td>\n",
       "      <td>63000</td>\n",
       "      <td>35</td>\n",
       "      <td>0</td>\n",
       "      <td>1</td>\n",
       "      <td>0</td>\n",
       "      <td>1</td>\n",
       "      <td>18</td>\n",
       "      <td>-1</td>\n",
       "      <td>1</td>\n",
       "      <td>1</td>\n",
       "      <td>17</td>\n",
       "      <td>6250</td>\n",
       "      <td>23</td>\n",
       "      <td>2019GQ0000001</td>\n",
       "      <td>1</td>\n",
       "      <td>1</td>\n",
       "    </tr>\n",
       "    <tr>\n",
       "      <th>1</th>\n",
       "      <td>67</td>\n",
       "      <td>0</td>\n",
       "      <td>0</td>\n",
       "      <td>0</td>\n",
       "      <td>0</td>\n",
       "      <td>25</td>\n",
       "      <td>0</td>\n",
       "      <td>0</td>\n",
       "      <td>0</td>\n",
       "      <td>1</td>\n",
       "      <td>48</td>\n",
       "      <td>-1</td>\n",
       "      <td>1</td>\n",
       "      <td>1</td>\n",
       "      <td>12</td>\n",
       "      <td>9</td>\n",
       "      <td>-1</td>\n",
       "      <td>2019GQ0000004</td>\n",
       "      <td>1</td>\n",
       "      <td>1</td>\n",
       "    </tr>\n",
       "    <tr>\n",
       "      <th>2</th>\n",
       "      <td>24</td>\n",
       "      <td>0</td>\n",
       "      <td>2000</td>\n",
       "      <td>15</td>\n",
       "      <td>2000</td>\n",
       "      <td>21</td>\n",
       "      <td>2</td>\n",
       "      <td>2</td>\n",
       "      <td>0</td>\n",
       "      <td>5</td>\n",
       "      <td>229</td>\n",
       "      <td>-1</td>\n",
       "      <td>2</td>\n",
       "      <td>6</td>\n",
       "      <td>19</td>\n",
       "      <td>4740</td>\n",
       "      <td>611M1</td>\n",
       "      <td>2019GQ0000007</td>\n",
       "      <td>1</td>\n",
       "      <td>4</td>\n",
       "    </tr>\n",
       "    <tr>\n",
       "      <th>3</th>\n",
       "      <td>52</td>\n",
       "      <td>0</td>\n",
       "      <td>0</td>\n",
       "      <td>0</td>\n",
       "      <td>0</td>\n",
       "      <td>49</td>\n",
       "      <td>0</td>\n",
       "      <td>1</td>\n",
       "      <td>0</td>\n",
       "      <td>1</td>\n",
       "      <td>6</td>\n",
       "      <td>-1</td>\n",
       "      <td>1</td>\n",
       "      <td>1</td>\n",
       "      <td>21</td>\n",
       "      <td>110</td>\n",
       "      <td>722Z</td>\n",
       "      <td>2019GQ0000010</td>\n",
       "      <td>1</td>\n",
       "      <td>1</td>\n",
       "    </tr>\n",
       "    <tr>\n",
       "      <th>4</th>\n",
       "      <td>28</td>\n",
       "      <td>0</td>\n",
       "      <td>6000</td>\n",
       "      <td>15</td>\n",
       "      <td>6000</td>\n",
       "      <td>18</td>\n",
       "      <td>2</td>\n",
       "      <td>1</td>\n",
       "      <td>0</td>\n",
       "      <td>1</td>\n",
       "      <td>6</td>\n",
       "      <td>-1</td>\n",
       "      <td>2</td>\n",
       "      <td>1</td>\n",
       "      <td>16</td>\n",
       "      <td>4110</td>\n",
       "      <td>722Z</td>\n",
       "      <td>2019GQ0000013</td>\n",
       "      <td>1</td>\n",
       "      <td>1</td>\n",
       "    </tr>\n",
       "  </tbody>\n",
       "</table>\n",
       "</div>"
      ],
      "text/plain": [
       "   FNLWGT  WGTP  INCOME  WKLY_HRS  SALARY  AGE  MOM  WORK_CLASS  COUPLE  \\\n",
       "0      71     0   63000        80   63000   35    0           1       0   \n",
       "1      67     0       0         0       0   25    0           0       0   \n",
       "2      24     0    2000        15    2000   21    2           2       0   \n",
       "3      52     0       0         0       0   49    0           1       0   \n",
       "4      28     0    6000        15    6000   18    2           1       0   \n",
       "\n",
       "   CITIZENSHIP  POB_DETAIL  PARTNER  SEX  RACE  EDUCATION  OCCUPATION  \\\n",
       "0            1          18       -1    1     1         17        6250   \n",
       "1            1          48       -1    1     1         12           9   \n",
       "2            5         229       -1    2     6         19        4740   \n",
       "3            1           6       -1    1     1         21         110   \n",
       "4            1           6       -1    2     1         16        4110   \n",
       "\n",
       "  WORK_INDUSTRY       SERIALNO  PERSON_NO  POB_WORLD  \n",
       "0            23  2019GQ0000001          1          1  \n",
       "1            -1  2019GQ0000004          1          1  \n",
       "2         611M1  2019GQ0000007          1          4  \n",
       "3          722Z  2019GQ0000010          1          1  \n",
       "4          722Z  2019GQ0000013          1          1  "
      ]
     },
     "execution_count": 7,
     "metadata": {},
     "output_type": "execute_result"
    }
   ],
   "source": [
    "df = df.rename(columns=vars_dict)\n",
    "df.head() #Sanity Check"
   ]
  },
  {
   "cell_type": "code",
   "execution_count": 8,
   "metadata": {
    "ExecuteTime": {
     "end_time": "2021-01-08T03:31:37.768040Z",
     "start_time": "2021-01-08T03:31:33.278527Z"
    },
    "scrolled": true
   },
   "outputs": [
    {
     "data": {
      "text/plain": [
       "0"
      ]
     },
     "execution_count": 8,
     "metadata": {},
     "output_type": "execute_result"
    }
   ],
   "source": [
    "#checking for duplicates\n",
    "df.duplicated().sum()"
   ]
  },
  {
   "cell_type": "code",
   "execution_count": 9,
   "metadata": {
    "ExecuteTime": {
     "end_time": "2021-01-08T03:31:38.301400Z",
     "start_time": "2021-01-08T03:31:37.774414Z"
    }
   },
   "outputs": [],
   "source": [
    "##Remove unnecessary columns\n",
    "df = df.drop(['SERIALNO', 'PERSON_NO'], axis=1)"
   ]
  },
  {
   "cell_type": "markdown",
   "metadata": {},
   "source": [
    "# Data Cleaning"
   ]
  },
  {
   "cell_type": "code",
   "execution_count": 10,
   "metadata": {
    "ExecuteTime": {
     "end_time": "2021-01-08T03:31:39.255036Z",
     "start_time": "2021-01-08T03:31:38.304384Z"
    }
   },
   "outputs": [],
   "source": [
    "# narrow down data to adults over the 17 years old\n",
    "df = df[df.AGE > 17]\n",
    "\n",
    "# narrow down data to adults who worked in the past 12 months\n",
    "df = df[df.WKLY_HRS > 0]"
   ]
  },
  {
   "cell_type": "code",
   "execution_count": 11,
   "metadata": {
    "ExecuteTime": {
     "end_time": "2021-01-08T03:31:40.640446Z",
     "start_time": "2021-01-08T03:31:39.257815Z"
    },
    "scrolled": true
   },
   "outputs": [
    {
     "data": {
      "text/html": [
       "<div>\n",
       "<style scoped>\n",
       "    .dataframe tbody tr th:only-of-type {\n",
       "        vertical-align: middle;\n",
       "    }\n",
       "\n",
       "    .dataframe tbody tr th {\n",
       "        vertical-align: top;\n",
       "    }\n",
       "\n",
       "    .dataframe thead th {\n",
       "        text-align: right;\n",
       "    }\n",
       "</style>\n",
       "<table border=\"1\" class=\"dataframe\">\n",
       "  <thead>\n",
       "    <tr style=\"text-align: right;\">\n",
       "      <th></th>\n",
       "      <th>FNLWGT</th>\n",
       "      <th>WGTP</th>\n",
       "      <th>INCOME</th>\n",
       "      <th>WKLY_HRS</th>\n",
       "      <th>SALARY</th>\n",
       "      <th>AGE</th>\n",
       "      <th>MOM</th>\n",
       "      <th>WORK_CLASS</th>\n",
       "      <th>COUPLE</th>\n",
       "      <th>CITIZENSHIP</th>\n",
       "      <th>POB_DETAIL</th>\n",
       "      <th>PARTNER</th>\n",
       "      <th>SEX</th>\n",
       "      <th>RACE</th>\n",
       "      <th>EDUCATION</th>\n",
       "      <th>OCCUPATION</th>\n",
       "      <th>POB_WORLD</th>\n",
       "    </tr>\n",
       "  </thead>\n",
       "  <tbody>\n",
       "    <tr>\n",
       "      <th>count</th>\n",
       "      <td>1.659727e+06</td>\n",
       "      <td>1.659727e+06</td>\n",
       "      <td>1.659727e+06</td>\n",
       "      <td>1.659727e+06</td>\n",
       "      <td>1.659727e+06</td>\n",
       "      <td>1.659727e+06</td>\n",
       "      <td>1.659727e+06</td>\n",
       "      <td>1.659727e+06</td>\n",
       "      <td>1.659727e+06</td>\n",
       "      <td>1.659727e+06</td>\n",
       "      <td>1.659727e+06</td>\n",
       "      <td>1.659727e+06</td>\n",
       "      <td>1.659727e+06</td>\n",
       "      <td>1.659727e+06</td>\n",
       "      <td>1.659727e+06</td>\n",
       "      <td>1.659727e+06</td>\n",
       "      <td>1.659727e+06</td>\n",
       "    </tr>\n",
       "    <tr>\n",
       "      <th>mean</th>\n",
       "      <td>1.033513e+02</td>\n",
       "      <td>9.579058e+01</td>\n",
       "      <td>6.058823e+04</td>\n",
       "      <td>3.839128e+01</td>\n",
       "      <td>5.189937e+04</td>\n",
       "      <td>4.390527e+01</td>\n",
       "      <td>5.906477e-01</td>\n",
       "      <td>2.103359e+00</td>\n",
       "      <td>8.639788e-01</td>\n",
       "      <td>1.519284e+00</td>\n",
       "      <td>6.538772e+01</td>\n",
       "      <td>2.079902e-01</td>\n",
       "      <td>1.478681e+00</td>\n",
       "      <td>1.873518e+00</td>\n",
       "      <td>1.871658e+01</td>\n",
       "      <td>4.088068e+03</td>\n",
       "      <td>1.451513e+00</td>\n",
       "    </tr>\n",
       "    <tr>\n",
       "      <th>std</th>\n",
       "      <td>9.061065e+01</td>\n",
       "      <td>8.493126e+01</td>\n",
       "      <td>7.691692e+04</td>\n",
       "      <td>1.310493e+01</td>\n",
       "      <td>6.724644e+04</td>\n",
       "      <td>1.525340e+01</td>\n",
       "      <td>9.042176e-01</td>\n",
       "      <td>1.827131e+00</td>\n",
       "      <td>8.056928e-01</td>\n",
       "      <td>1.227446e+00</td>\n",
       "      <td>9.273321e+01</td>\n",
       "      <td>8.872759e-01</td>\n",
       "      <td>4.995454e-01</td>\n",
       "      <td>2.079837e+00</td>\n",
       "      <td>3.274921e+00</td>\n",
       "      <td>2.685733e+03</td>\n",
       "      <td>1.123796e+00</td>\n",
       "    </tr>\n",
       "    <tr>\n",
       "      <th>min</th>\n",
       "      <td>1.000000e+00</td>\n",
       "      <td>0.000000e+00</td>\n",
       "      <td>-1.020000e+04</td>\n",
       "      <td>1.000000e+00</td>\n",
       "      <td>0.000000e+00</td>\n",
       "      <td>1.800000e+01</td>\n",
       "      <td>0.000000e+00</td>\n",
       "      <td>1.000000e+00</td>\n",
       "      <td>0.000000e+00</td>\n",
       "      <td>1.000000e+00</td>\n",
       "      <td>1.000000e+00</td>\n",
       "      <td>-1.000000e+00</td>\n",
       "      <td>1.000000e+00</td>\n",
       "      <td>1.000000e+00</td>\n",
       "      <td>1.000000e+00</td>\n",
       "      <td>1.000000e+01</td>\n",
       "      <td>1.000000e+00</td>\n",
       "    </tr>\n",
       "    <tr>\n",
       "      <th>25%</th>\n",
       "      <td>5.100000e+01</td>\n",
       "      <td>4.800000e+01</td>\n",
       "      <td>2.100000e+04</td>\n",
       "      <td>3.500000e+01</td>\n",
       "      <td>1.450000e+04</td>\n",
       "      <td>3.100000e+01</td>\n",
       "      <td>0.000000e+00</td>\n",
       "      <td>1.000000e+00</td>\n",
       "      <td>0.000000e+00</td>\n",
       "      <td>1.000000e+00</td>\n",
       "      <td>1.800000e+01</td>\n",
       "      <td>0.000000e+00</td>\n",
       "      <td>1.000000e+00</td>\n",
       "      <td>1.000000e+00</td>\n",
       "      <td>1.600000e+01</td>\n",
       "      <td>2.040000e+03</td>\n",
       "      <td>1.000000e+00</td>\n",
       "    </tr>\n",
       "    <tr>\n",
       "      <th>50%</th>\n",
       "      <td>7.900000e+01</td>\n",
       "      <td>7.400000e+01</td>\n",
       "      <td>4.024000e+04</td>\n",
       "      <td>4.000000e+01</td>\n",
       "      <td>3.540000e+04</td>\n",
       "      <td>4.400000e+01</td>\n",
       "      <td>0.000000e+00</td>\n",
       "      <td>1.000000e+00</td>\n",
       "      <td>1.000000e+00</td>\n",
       "      <td>1.000000e+00</td>\n",
       "      <td>3.600000e+01</td>\n",
       "      <td>0.000000e+00</td>\n",
       "      <td>1.000000e+00</td>\n",
       "      <td>1.000000e+00</td>\n",
       "      <td>1.900000e+01</td>\n",
       "      <td>4.110000e+03</td>\n",
       "      <td>1.000000e+00</td>\n",
       "    </tr>\n",
       "    <tr>\n",
       "      <th>75%</th>\n",
       "      <td>1.230000e+02</td>\n",
       "      <td>1.160000e+02</td>\n",
       "      <td>7.200000e+04</td>\n",
       "      <td>4.200000e+01</td>\n",
       "      <td>6.500000e+04</td>\n",
       "      <td>5.600000e+01</td>\n",
       "      <td>2.000000e+00</td>\n",
       "      <td>3.000000e+00</td>\n",
       "      <td>1.000000e+00</td>\n",
       "      <td>1.000000e+00</td>\n",
       "      <td>4.800000e+01</td>\n",
       "      <td>0.000000e+00</td>\n",
       "      <td>2.000000e+00</td>\n",
       "      <td>1.000000e+00</td>\n",
       "      <td>2.100000e+01</td>\n",
       "      <td>5.740000e+03</td>\n",
       "      <td>1.000000e+00</td>\n",
       "    </tr>\n",
       "    <tr>\n",
       "      <th>max</th>\n",
       "      <td>2.408000e+03</td>\n",
       "      <td>2.377000e+03</td>\n",
       "      <td>1.629000e+06</td>\n",
       "      <td>9.900000e+01</td>\n",
       "      <td>7.170000e+05</td>\n",
       "      <td>9.600000e+01</td>\n",
       "      <td>2.000000e+00</td>\n",
       "      <td>8.000000e+00</td>\n",
       "      <td>4.000000e+00</td>\n",
       "      <td>5.000000e+00</td>\n",
       "      <td>5.540000e+02</td>\n",
       "      <td>4.000000e+00</td>\n",
       "      <td>2.000000e+00</td>\n",
       "      <td>9.000000e+00</td>\n",
       "      <td>2.400000e+01</td>\n",
       "      <td>9.830000e+03</td>\n",
       "      <td>8.000000e+00</td>\n",
       "    </tr>\n",
       "  </tbody>\n",
       "</table>\n",
       "</div>"
      ],
      "text/plain": [
       "             FNLWGT          WGTP        INCOME      WKLY_HRS        SALARY  \\\n",
       "count  1.659727e+06  1.659727e+06  1.659727e+06  1.659727e+06  1.659727e+06   \n",
       "mean   1.033513e+02  9.579058e+01  6.058823e+04  3.839128e+01  5.189937e+04   \n",
       "std    9.061065e+01  8.493126e+01  7.691692e+04  1.310493e+01  6.724644e+04   \n",
       "min    1.000000e+00  0.000000e+00 -1.020000e+04  1.000000e+00  0.000000e+00   \n",
       "25%    5.100000e+01  4.800000e+01  2.100000e+04  3.500000e+01  1.450000e+04   \n",
       "50%    7.900000e+01  7.400000e+01  4.024000e+04  4.000000e+01  3.540000e+04   \n",
       "75%    1.230000e+02  1.160000e+02  7.200000e+04  4.200000e+01  6.500000e+04   \n",
       "max    2.408000e+03  2.377000e+03  1.629000e+06  9.900000e+01  7.170000e+05   \n",
       "\n",
       "                AGE           MOM    WORK_CLASS        COUPLE   CITIZENSHIP  \\\n",
       "count  1.659727e+06  1.659727e+06  1.659727e+06  1.659727e+06  1.659727e+06   \n",
       "mean   4.390527e+01  5.906477e-01  2.103359e+00  8.639788e-01  1.519284e+00   \n",
       "std    1.525340e+01  9.042176e-01  1.827131e+00  8.056928e-01  1.227446e+00   \n",
       "min    1.800000e+01  0.000000e+00  1.000000e+00  0.000000e+00  1.000000e+00   \n",
       "25%    3.100000e+01  0.000000e+00  1.000000e+00  0.000000e+00  1.000000e+00   \n",
       "50%    4.400000e+01  0.000000e+00  1.000000e+00  1.000000e+00  1.000000e+00   \n",
       "75%    5.600000e+01  2.000000e+00  3.000000e+00  1.000000e+00  1.000000e+00   \n",
       "max    9.600000e+01  2.000000e+00  8.000000e+00  4.000000e+00  5.000000e+00   \n",
       "\n",
       "         POB_DETAIL       PARTNER           SEX          RACE     EDUCATION  \\\n",
       "count  1.659727e+06  1.659727e+06  1.659727e+06  1.659727e+06  1.659727e+06   \n",
       "mean   6.538772e+01  2.079902e-01  1.478681e+00  1.873518e+00  1.871658e+01   \n",
       "std    9.273321e+01  8.872759e-01  4.995454e-01  2.079837e+00  3.274921e+00   \n",
       "min    1.000000e+00 -1.000000e+00  1.000000e+00  1.000000e+00  1.000000e+00   \n",
       "25%    1.800000e+01  0.000000e+00  1.000000e+00  1.000000e+00  1.600000e+01   \n",
       "50%    3.600000e+01  0.000000e+00  1.000000e+00  1.000000e+00  1.900000e+01   \n",
       "75%    4.800000e+01  0.000000e+00  2.000000e+00  1.000000e+00  2.100000e+01   \n",
       "max    5.540000e+02  4.000000e+00  2.000000e+00  9.000000e+00  2.400000e+01   \n",
       "\n",
       "         OCCUPATION     POB_WORLD  \n",
       "count  1.659727e+06  1.659727e+06  \n",
       "mean   4.088068e+03  1.451513e+00  \n",
       "std    2.685733e+03  1.123796e+00  \n",
       "min    1.000000e+01  1.000000e+00  \n",
       "25%    2.040000e+03  1.000000e+00  \n",
       "50%    4.110000e+03  1.000000e+00  \n",
       "75%    5.740000e+03  1.000000e+00  \n",
       "max    9.830000e+03  8.000000e+00  "
      ]
     },
     "execution_count": 11,
     "metadata": {},
     "output_type": "execute_result"
    }
   ],
   "source": [
    "df.describe()"
   ]
  },
  {
   "cell_type": "markdown",
   "metadata": {},
   "source": [
    "#### Checking relationships between features before feature creation"
   ]
  },
  {
   "cell_type": "code",
   "execution_count": 12,
   "metadata": {
    "ExecuteTime": {
     "end_time": "2021-01-08T03:31:43.245646Z",
     "start_time": "2021-01-08T03:31:40.662098Z"
    },
    "scrolled": false
   },
   "outputs": [
    {
     "data": {
      "image/png": "[encoded data removed]",
      "text/plain": [
       "<Figure size 1800x1080 with 2 Axes>"
      ]
     },
     "metadata": {
      "needs_background": "light"
     },
     "output_type": "display_data"
    }
   ],
   "source": [
    "#create a heatmap to visualize the correlations\n",
    "fig, ax = plt.subplots(figsize=(25,15)) # figsize to make larger\n",
    "corr = df.corr()\n",
    "\n",
    "# Generate a mask for the upper triangle\n",
    "mask = np.zeros_like(corr, dtype=np.bool)\n",
    "mask[np.triu_indices_from(mask)] = True\n",
    "\n",
    "sns.heatmap(corr, mask=mask, cmap='bwr', center=0, annot=True)\n",
    "\n",
    "# fix for matplotlib bug that cuts off top/bottom of seaborn viz\n",
    "b, t = plt.ylim() # discover the values for bottom and top\n",
    "b += 0.5 # Add 0.5 to the bottom\n",
    "t -= 0.5 # Subtract 0.5 from the top\n",
    "plt.ylim(b, t) # update the ylim(bottom, top) values\n",
    "\n",
    "plt.show()"
   ]
  },
  {
   "cell_type": "markdown",
   "metadata": {},
   "source": [
    "## Feature Creation"
   ]
  },
  {
   "cell_type": "markdown",
   "metadata": {},
   "source": [
    "### **CITIZENSHIP**"
   ]
  },
  {
   "cell_type": "code",
   "execution_count": 13,
   "metadata": {
    "ExecuteTime": {
     "end_time": "2021-01-08T03:31:43.271706Z",
     "start_time": "2021-01-08T03:31:43.252724Z"
    }
   },
   "outputs": [],
   "source": [
    "# Create new column - 1 indicating born in US, 0 indicating born outside of US\n",
    "df['CITIZENSHIP_BIN'] = np.where(df['CITIZENSHIP']==1 , 1, 0)"
   ]
  },
  {
   "cell_type": "markdown",
   "metadata": {},
   "source": [
    "### **EDUCATION**"
   ]
  },
  {
   "cell_type": "code",
   "execution_count": 14,
   "metadata": {
    "ExecuteTime": {
     "end_time": "2021-01-08T03:31:44.208427Z",
     "start_time": "2021-01-08T03:31:43.276860Z"
    }
   },
   "outputs": [],
   "source": [
    "conditions = [ \n",
    "    (df['EDUCATION'] <= 15), # Undergraduate\n",
    "    ((df['EDUCATION'] >= 16) & (df['EDUCATION'] <= 19)), # High School graduate without college degree\n",
    "    (df['EDUCATION'] == 20), # Associate's Degree\n",
    "    (df['EDUCATION'] == 21), # Bachelor's Degree\n",
    "    (df['EDUCATION'] == 22), # Master's Degree\n",
    "    (df['EDUCATION'] == 23), # Professional degree beyond Master's\n",
    "    (df['EDUCATION'] == 24), # Doctorate Degree \n",
    "]\n",
    "\n",
    "choices = [\n",
    "    \"No High School Diploma or GED\",\n",
    "    'High School', \n",
    "    \"Associate's\", \n",
    "    \"Bachelor's\",\n",
    "    \"Master's\", \n",
    "    \"Professional Other\", \n",
    "    \"Doctorate\", \n",
    "]\n",
    "\n",
    "df['EDUCATION'] = np.select(conditions, choices, default='NA')\n"
   ]
  },
  {
   "cell_type": "code",
   "execution_count": 15,
   "metadata": {
    "ExecuteTime": {
     "end_time": "2021-01-08T03:31:44.707384Z",
     "start_time": "2021-01-08T03:31:44.211722Z"
    }
   },
   "outputs": [
    {
     "name": "stdout",
     "output_type": "stream",
     "text": [
      "Count:\n",
      "High School                      769592\n",
      "Bachelor's                       378817\n",
      "Master's                         166793\n",
      "Associate's                      154487\n",
      "No High School Diploma or GED    118434\n",
      "Professional Other                42571\n",
      "Doctorate                         29033\n",
      "Name: EDUCATION, dtype: int64\n",
      "----------------------------------------\n",
      "Proportion:\n",
      "High School                      0.463686\n",
      "Bachelor's                       0.228241\n",
      "Master's                         0.100494\n",
      "Associate's                      0.093080\n",
      "No High School Diploma or GED    0.071358\n",
      "Professional Other               0.025649\n",
      "Doctorate                        0.017493\n",
      "Name: EDUCATION, dtype: float64\n"
     ]
    }
   ],
   "source": [
    "# Sanity Check\n",
    "print('Count:')\n",
    "print(df.EDUCATION.value_counts())\n",
    "print('-'*40)\n",
    "print('Proportion:')\n",
    "print(df.EDUCATION.value_counts(normalize=True))"
   ]
  },
  {
   "cell_type": "markdown",
   "metadata": {},
   "source": [
    "### **RACE**"
   ]
  },
  {
   "cell_type": "markdown",
   "metadata": {
    "ExecuteTime": {
     "end_time": "2021-01-07T17:27:14.177372Z",
     "start_time": "2021-01-07T17:27:14.169815Z"
    }
   },
   "source": [
    "*White/Non-White*"
   ]
  },
  {
   "cell_type": "code",
   "execution_count": 16,
   "metadata": {
    "ExecuteTime": {
     "end_time": "2021-01-08T03:31:45.048724Z",
     "start_time": "2021-01-08T03:31:44.710904Z"
    }
   },
   "outputs": [],
   "source": [
    "#Creating a new feature RACE2\n",
    "conditions = [ \n",
    "    (df['RACE'] == 1), # White\n",
    "    (df['RACE'] <= 19)] # Non-White\n",
    "\n",
    "choices = [\"White\",\"Non-White\"]\n",
    "\n",
    "df['RACE2'] = np.select(conditions, choices, default='NA')\n"
   ]
  },
  {
   "cell_type": "code",
   "execution_count": 17,
   "metadata": {
    "ExecuteTime": {
     "end_time": "2021-01-08T03:31:45.537643Z",
     "start_time": "2021-01-08T03:31:45.051511Z"
    }
   },
   "outputs": [
    {
     "name": "stdout",
     "output_type": "stream",
     "text": [
      "Count:\n",
      "White        1296635\n",
      "Non-White     363092\n",
      "Name: RACE2, dtype: int64\n",
      "----------------------------------------\n",
      "Proportion:\n",
      "White        0.781234\n",
      "Non-White    0.218766\n",
      "Name: RACE2, dtype: float64\n"
     ]
    }
   ],
   "source": [
    "# Sanity Check\n",
    "print('Count:')\n",
    "print(df.RACE2.value_counts())\n",
    "print('-'*40)\n",
    "print('Proportion:')\n",
    "print(df.RACE2.value_counts(normalize=True))"
   ]
  },
  {
   "cell_type": "markdown",
   "metadata": {
    "ExecuteTime": {
     "end_time": "2021-01-07T17:27:14.177372Z",
     "start_time": "2021-01-07T17:27:14.169815Z"
    }
   },
   "source": [
    "*White, Black, Asian, Native American, Other*"
   ]
  },
  {
   "cell_type": "code",
   "execution_count": 18,
   "metadata": {
    "ExecuteTime": {
     "end_time": "2021-01-08T03:31:45.993274Z",
     "start_time": "2021-01-08T03:31:45.540586Z"
    }
   },
   "outputs": [],
   "source": [
    "#Creating a new feature RACE3\n",
    "conditions = [ \n",
    "    (df['RACE'] == 1), # White\n",
    "    (df['RACE'] == 2), # Black\n",
    "    (df['RACE'] == 6), # Asian\n",
    "    ((df['RACE'] == 3)|(df['RACE'] == 4)|(df['RACE'] == 5)|(df['RACE'] == 7)), # Native American\n",
    "    ((df['RACE'] == 8)|(df['RACE'] == 9)) # Other\n",
    "]\n",
    "choices = ['White',\n",
    "           'Black',\n",
    "           'Asian',\n",
    "           'Native American',\n",
    "           'Other']\n",
    "\n",
    "df['RACE3'] = np.select(conditions, choices, default='NA')"
   ]
  },
  {
   "cell_type": "code",
   "execution_count": 19,
   "metadata": {
    "ExecuteTime": {
     "end_time": "2021-01-08T03:31:46.435560Z",
     "start_time": "2021-01-08T03:31:45.998076Z"
    }
   },
   "outputs": [
    {
     "name": "stdout",
     "output_type": "stream",
     "text": [
      "Count:\n",
      "White              1296635\n",
      "Black               143878\n",
      "Other               101755\n",
      "Asian               100462\n",
      "Native American      16997\n",
      "Name: RACE3, dtype: int64\n",
      "----------------------------------------\n",
      "Proportion:\n",
      "White              0.781234\n",
      "Black              0.086688\n",
      "Other              0.061308\n",
      "Asian              0.060529\n",
      "Native American    0.010241\n",
      "Name: RACE3, dtype: float64\n"
     ]
    }
   ],
   "source": [
    "# Sanity Check\n",
    "print('Count:')\n",
    "print(df.RACE3.value_counts())\n",
    "print('-'*40)\n",
    "print('Proportion:')\n",
    "print(df.RACE3.value_counts(normalize=True))"
   ]
  },
  {
   "cell_type": "markdown",
   "metadata": {},
   "source": [
    "### **AGE**"
   ]
  },
  {
   "cell_type": "markdown",
   "metadata": {},
   "source": [
    "*Create a new feature indicating \"older than 65\""
   ]
  },
  {
   "cell_type": "code",
   "execution_count": 20,
   "metadata": {
    "ExecuteTime": {
     "end_time": "2021-01-08T03:31:46.443493Z",
     "start_time": "2021-01-08T03:31:46.439057Z"
    }
   },
   "outputs": [],
   "source": [
    "# #Creating a new feature AGE_DIV\n",
    "# conditions = [ \n",
    "#     (df['AGE'] <= 65),\n",
    "#     (df['AGE'] > 65)\n",
    "# ]\n",
    "\n",
    "# choices = ['0',\n",
    "#            '1'\n",
    "# ]\n",
    "# df['Over_65'] = np.select(conditions, choices, default='NA')"
   ]
  },
  {
   "cell_type": "code",
   "execution_count": 21,
   "metadata": {
    "ExecuteTime": {
     "end_time": "2021-01-08T03:31:46.475246Z",
     "start_time": "2021-01-08T03:31:46.447557Z"
    }
   },
   "outputs": [],
   "source": [
    "df['OVER_65'] = np.where(df['AGE'] >= 65, 1, 0)"
   ]
  },
  {
   "cell_type": "code",
   "execution_count": 22,
   "metadata": {
    "ExecuteTime": {
     "end_time": "2021-01-08T03:31:46.502126Z",
     "start_time": "2021-01-08T03:31:46.477880Z"
    }
   },
   "outputs": [
    {
     "data": {
      "text/plain": [
       "0    1510977\n",
       "1     148750\n",
       "Name: OVER_65, dtype: int64"
      ]
     },
     "execution_count": 22,
     "metadata": {},
     "output_type": "execute_result"
    }
   ],
   "source": [
    "# Sanity Check\n",
    "df.OVER_65.value_counts()"
   ]
  },
  {
   "cell_type": "markdown",
   "metadata": {},
   "source": [
    "### **OCCUPATION**"
   ]
  },
  {
   "cell_type": "code",
   "execution_count": 23,
   "metadata": {
    "ExecuteTime": {
     "end_time": "2021-01-08T03:31:47.526491Z",
     "start_time": "2021-01-08T03:31:46.510905Z"
    }
   },
   "outputs": [],
   "source": [
    "# Binning Occupations\n",
    "\n",
    "conditions = [ \n",
    "    ((df['OCCUPATION'] >= 10) & (df['OCCUPATION'] <= 440)), #MGR\n",
    "    ((df['OCCUPATION'] >= 500) & (df['OCCUPATION'] <= 750)), #BUS\n",
    "    ((df['OCCUPATION'] >= 800) & (df['OCCUPATION'] <= 960)), #FIN\n",
    "    ((df['OCCUPATION'] >= 1005) & (df['OCCUPATION'] <= 1240)), #CMM\n",
    "    ((df['OCCUPATION'] >= 1305) & (df['OCCUPATION'] <= 1560)), #ENG\n",
    "    ((df['OCCUPATION'] >= 1600) & (df['OCCUPATION'] <= 1980)), #SCI\n",
    "    ((df['OCCUPATION'] >= 2001) & (df['OCCUPATION'] <= 2060)), #CMS \n",
    "    ((df['OCCUPATION'] >= 2100) & (df['OCCUPATION'] <= 2180)), #LGL\n",
    "    ((df['OCCUPATION'] >= 2205) & (df['OCCUPATION'] <= 2555)), #EDU\n",
    "    ((df['OCCUPATION'] >= 2600) & (df['OCCUPATION'] <= 2920)), #ENT \n",
    "    ((df['OCCUPATION'] >= 3000) & (df['OCCUPATION'] <= 3550)), #MED\n",
    "    ((df['OCCUPATION'] >= 3610) & (df['OCCUPATION'] <= 3655)), #HLS\n",
    "    ((df['OCCUPATION'] >= 3700) & (df['OCCUPATION'] <= 3960)), #PRT \n",
    "    ((df['OCCUPATION'] >= 4000) & (df['OCCUPATION'] <= 4160)), #EAT\n",
    "    ((df['OCCUPATION'] >= 4200) & (df['OCCUPATION'] <= 4255)), #CLN\n",
    "    ((df['OCCUPATION'] >= 4330) & (df['OCCUPATION'] <= 4655)), #PRS\n",
    "    ((df['OCCUPATION'] >= 4700) & (df['OCCUPATION'] <= 4965)), #SAL\n",
    "    ((df['OCCUPATION'] >= 5000) & (df['OCCUPATION'] <= 5940)), #OFF\n",
    "    ((df['OCCUPATION'] >= 6005) & (df['OCCUPATION'] <= 6130)), #FFF\n",
    "    ((df['OCCUPATION'] >= 6200) & (df['OCCUPATION'] <= 6765)), #CON\n",
    "    ((df['OCCUPATION'] >= 6800) & (df['OCCUPATION'] <= 6950)), #EXT\n",
    "    ((df['OCCUPATION'] >= 7000) & (df['OCCUPATION'] <= 7640)), #RPR\n",
    "    ((df['OCCUPATION'] >= 7700) & (df['OCCUPATION'] <= 8990)), #PRD\n",
    "    ((df['OCCUPATION'] >= 9005) & (df['OCCUPATION'] <= 9760)), #TRN\n",
    "    ((df['OCCUPATION'] >= 9800) & (df['OCCUPATION'] <= 9830)), #MIL\n",
    "]\n",
    "\n",
    "choices = [\n",
    "    'MGR', \n",
    "    'BUS', \n",
    "    'FIN',\n",
    "    'CMM', \n",
    "    'ENG', \n",
    "    'SCI',\n",
    "    'CMS', \n",
    "    'LGL', \n",
    "    'EDU',\n",
    "    'ENT', \n",
    "    'MED', \n",
    "    'HLS',\n",
    "    'PRT', \n",
    "    'EAT', \n",
    "    'CLN',\n",
    "    'PRS', \n",
    "    'SAL', \n",
    "    'OFF',\n",
    "    'FFF', \n",
    "    'CON', \n",
    "    'EXT',\n",
    "    'RPR',\n",
    "    'PRD', \n",
    "    'TRN', \n",
    "    'MIL',\n",
    "]\n",
    "\n",
    "df['OCCUPATION'] = np.select(conditions, choices, default='NA')"
   ]
  },
  {
   "cell_type": "code",
   "execution_count": 24,
   "metadata": {
    "ExecuteTime": {
     "end_time": "2021-01-08T03:31:47.535778Z",
     "start_time": "2021-01-08T03:31:47.532083Z"
    }
   },
   "outputs": [],
   "source": [
    "# df.OCCUPATION.value_counts() #Sanity Check"
   ]
  },
  {
   "cell_type": "markdown",
   "metadata": {},
   "source": [
    "### **WORK_INDUSTRY**"
   ]
  },
  {
   "cell_type": "code",
   "execution_count": 25,
   "metadata": {
    "ExecuteTime": {
     "end_time": "2021-01-08T03:31:49.181265Z",
     "start_time": "2021-01-08T03:31:47.539907Z"
    }
   },
   "outputs": [],
   "source": [
    "# Removing letters from values \n",
    "df['WORK_INDUSTRY'] = df.WORK_INDUSTRY.apply(\n",
    "    lambda x: ''.join([num for num in x if num.isnumeric()]))\n"
   ]
  },
  {
   "cell_type": "code",
   "execution_count": 26,
   "metadata": {
    "ExecuteTime": {
     "end_time": "2021-01-08T03:31:49.683753Z",
     "start_time": "2021-01-08T03:31:49.184268Z"
    }
   },
   "outputs": [],
   "source": [
    "# Taking care of extraneous data\n",
    "df['WORK_INDUSTRY'] = df['WORK_INDUSTRY'].apply(\n",
    "    lambda x:'99' if '9281' in x else x)\n"
   ]
  },
  {
   "cell_type": "code",
   "execution_count": 27,
   "metadata": {
    "ExecuteTime": {
     "end_time": "2021-01-08T03:31:51.382468Z",
     "start_time": "2021-01-08T03:31:49.687246Z"
    },
    "scrolled": true
   },
   "outputs": [],
   "source": [
    "def first_2_digits(num):\n",
    "    return int(num[:2])\n",
    "df['WORK_INDUSTRY'] = df.WORK_INDUSTRY.apply(first_2_digits).sort_values()\n"
   ]
  },
  {
   "cell_type": "code",
   "execution_count": 28,
   "metadata": {
    "ExecuteTime": {
     "end_time": "2021-01-08T03:31:51.909901Z",
     "start_time": "2021-01-08T03:31:51.386841Z"
    },
    "scrolled": true
   },
   "outputs": [],
   "source": [
    "# Binning Industry\n",
    "\n",
    "conditions = [ \n",
    "    (df['WORK_INDUSTRY'] == 11), #AGR\n",
    "    (df['WORK_INDUSTRY'] == 21), #EXT\n",
    "    (df['WORK_INDUSTRY'] == 22), #UTL\n",
    "    (df['WORK_INDUSTRY'] == 23), #CON\n",
    "    ((df['WORK_INDUSTRY'] >= 30) & (df['WORK_INDUSTRY'] <= 33)| (df['WORK_INDUSTRY'] == 3)), #MFG  ADD 3\n",
    "    ((df['WORK_INDUSTRY'] == 42) | (df['WORK_INDUSTRY'] == 4)), #WHL\n",
    "    ((df['WORK_INDUSTRY'] >= 44) & (df['WORK_INDUSTRY'] <= 45)), #RET ADD 4\n",
    "    ((df['WORK_INDUSTRY'] >= 48) & (df['WORK_INDUSTRY'] <= 49)), #TRN\n",
    "    (df['WORK_INDUSTRY'] == 51), # INF\n",
    "    ((df['WORK_INDUSTRY'] >= 52) & (df['WORK_INDUSTRY'] <= 53)), # FIN\n",
    "    ((df['WORK_INDUSTRY'] >= 54) & (df['WORK_INDUSTRY'] <= 56)), #PRF\n",
    "    (df['WORK_INDUSTRY'] == 61), #EDU\n",
    "    (df['WORK_INDUSTRY'] == 62), #MED/SCA\n",
    "    ((df['WORK_INDUSTRY'] >= 71) & (df['WORK_INDUSTRY'] <= 72)), #ENT\n",
    "    (df['WORK_INDUSTRY'] == 81), # SRV\n",
    "    ((df['WORK_INDUSTRY'] >= 921) & (df['WORK_INDUSTRY'] <= 923)), #ADM\n",
    "    (df['WORK_INDUSTRY'] == 99), #MIL\n",
    "]\n",
    "\n",
    "choices = [\n",
    "    'AGR',\n",
    "    'EXT',\n",
    "    'UTL',\n",
    "    'CON',\n",
    "    'MFG',\n",
    "    'WHL',\n",
    "    'RET',\n",
    "    'TRN',\n",
    "    'INF',\n",
    "    'FIN',\n",
    "    'PRF',\n",
    "    'EDU',\n",
    "    'MED',\n",
    "    'ENT',\n",
    "    'SRV',\n",
    "    'ADM',\n",
    "    'MIL'\n",
    "]\n",
    "\n",
    "df['WORK_INDUSTRY'] = np.select(conditions, choices, default='NA')"
   ]
  },
  {
   "cell_type": "markdown",
   "metadata": {},
   "source": [
    "**Checking out features after engineering**"
   ]
  },
  {
   "cell_type": "markdown",
   "metadata": {},
   "source": [
    "# Exploring Target Variable"
   ]
  },
  {
   "cell_type": "code",
   "execution_count": 29,
   "metadata": {
    "ExecuteTime": {
     "end_time": "2021-01-08T03:31:52.417923Z",
     "start_time": "2021-01-08T03:31:51.912466Z"
    },
    "scrolled": true
   },
   "outputs": [
    {
     "data": {
      "text/plain": [
       "<=65k    1183289\n",
       ">65k      476438\n",
       "Name: TARGET, dtype: int64"
      ]
     },
     "execution_count": 29,
     "metadata": {},
     "output_type": "execute_result"
    }
   ],
   "source": [
    "df['TARGET'] = np.where(df.INCOME > 65000, '>65k', '<=65k')\n",
    "df.TARGET.value_counts()"
   ]
  },
  {
   "cell_type": "code",
   "execution_count": 30,
   "metadata": {
    "ExecuteTime": {
     "end_time": "2021-01-08T03:31:53.734153Z",
     "start_time": "2021-01-08T03:31:52.419889Z"
    },
    "scrolled": true
   },
   "outputs": [
    {
     "data": {
      "image/png": "[encoded data removed]",
      "text/plain": [
       "<Figure size 432x288 with 1 Axes>"
      ]
     },
     "metadata": {
      "needs_background": "light"
     },
     "output_type": "display_data"
    }
   ],
   "source": [
    "sns.histplot(data = df, x=\"TARGET\")\n",
    "plt.show()"
   ]
  },
  {
   "cell_type": "code",
   "execution_count": 82,
   "metadata": {
    "ExecuteTime": {
     "end_time": "2021-01-08T04:06:24.358378Z",
     "start_time": "2021-01-08T04:06:24.285053Z"
    }
   },
   "outputs": [
    {
     "data": {
      "text/plain": [
       "0    0.712942\n",
       "1    0.287058\n",
       "Name: TARGET, dtype: float64"
      ]
     },
     "execution_count": 82,
     "metadata": {},
     "output_type": "execute_result"
    }
   ],
   "source": [
    "df.TARGET.value_counts(normalize=True)"
   ]
  },
  {
   "cell_type": "code",
   "execution_count": 31,
   "metadata": {
    "ExecuteTime": {
     "end_time": "2021-01-08T03:31:54.677283Z",
     "start_time": "2021-01-08T03:31:53.738296Z"
    },
    "scrolled": true
   },
   "outputs": [
    {
     "data": {
      "text/plain": [
       "<matplotlib.axes._subplots.AxesSubplot at 0x7ff11468ba90>"
      ]
     },
     "execution_count": 31,
     "metadata": {},
     "output_type": "execute_result"
    },
    {
     "data": {
      "image/png": "[encoded data removed]",
      "text/plain": [
       "<Figure size 432x288 with 1 Axes>"
      ]
     },
     "metadata": {
      "needs_background": "light"
     },
     "output_type": "display_data"
    }
   ],
   "source": [
    "sns.boxplot(x=df.INCOME)\n"
   ]
  },
  {
   "cell_type": "code",
   "execution_count": 32,
   "metadata": {
    "ExecuteTime": {
     "end_time": "2021-01-08T03:31:54.760602Z",
     "start_time": "2021-01-08T03:31:54.680938Z"
    }
   },
   "outputs": [
    {
     "data": {
      "text/plain": [
       "count    1.659727e+06\n",
       "mean     6.058823e+04\n",
       "std      7.691692e+04\n",
       "min     -1.020000e+04\n",
       "25%      2.100000e+04\n",
       "50%      4.024000e+04\n",
       "75%      7.200000e+04\n",
       "max      1.629000e+06\n",
       "Name: INCOME, dtype: float64"
      ]
     },
     "execution_count": 32,
     "metadata": {},
     "output_type": "execute_result"
    }
   ],
   "source": [
    "df.INCOME.describe()"
   ]
  },
  {
   "cell_type": "code",
   "execution_count": 33,
   "metadata": {
    "ExecuteTime": {
     "end_time": "2021-01-08T03:31:54.801687Z",
     "start_time": "2021-01-08T03:31:54.770036Z"
    }
   },
   "outputs": [
    {
     "data": {
      "text/plain": [
       "0           63000\n",
       "2            2000\n",
       "4            6000\n",
       "11           3200\n",
       "13            500\n",
       "            ...  \n",
       "3239548    150000\n",
       "3239549     27000\n",
       "3239550     75000\n",
       "3239551     57000\n",
       "3239552     55000\n",
       "Name: INCOME, Length: 1659727, dtype: int64"
      ]
     },
     "execution_count": 33,
     "metadata": {},
     "output_type": "execute_result"
    }
   ],
   "source": [
    "df.INCOME"
   ]
  },
  {
   "cell_type": "code",
   "execution_count": 34,
   "metadata": {
    "ExecuteTime": {
     "end_time": "2021-01-08T03:31:56.845033Z",
     "start_time": "2021-01-08T03:31:54.809711Z"
    }
   },
   "outputs": [
    {
     "data": {
      "text/plain": [
       "count    1.656282e+06\n",
       "mean     6.071761e+04\n",
       "std      7.694438e+04\n",
       "min      1.040000e+02\n",
       "25%      2.100000e+04\n",
       "50%      4.050000e+04\n",
       "75%      7.200000e+04\n",
       "max      1.629000e+06\n",
       "Name: INCOME, dtype: float64"
      ]
     },
     "execution_count": 34,
     "metadata": {},
     "output_type": "execute_result"
    }
   ],
   "source": [
    "df[df.INCOME > 100]['INCOME'].describe()"
   ]
  },
  {
   "cell_type": "code",
   "execution_count": 35,
   "metadata": {
    "ExecuteTime": {
     "end_time": "2021-01-08T03:31:56.928619Z",
     "start_time": "2021-01-08T03:31:56.851362Z"
    }
   },
   "outputs": [
    {
     "data": {
      "text/plain": [
       "count    1.659727e+06\n",
       "mean     5.189937e+04\n",
       "std      6.724644e+04\n",
       "min      0.000000e+00\n",
       "25%      1.450000e+04\n",
       "50%      3.540000e+04\n",
       "75%      6.500000e+04\n",
       "max      7.170000e+05\n",
       "Name: SALARY, dtype: float64"
      ]
     },
     "execution_count": 35,
     "metadata": {},
     "output_type": "execute_result"
    }
   ],
   "source": [
    "df.SALARY.describe()"
   ]
  },
  {
   "cell_type": "markdown",
   "metadata": {},
   "source": [
    "# Additional EDA"
   ]
  },
  {
   "cell_type": "code",
   "execution_count": 36,
   "metadata": {
    "ExecuteTime": {
     "end_time": "2021-01-08T03:31:57.269359Z",
     "start_time": "2021-01-08T03:31:56.943969Z"
    },
    "scrolled": true
   },
   "outputs": [
    {
     "data": {
      "text/plain": [
       "High School                      769592\n",
       "Bachelor's                       378817\n",
       "Master's                         166793\n",
       "Associate's                      154487\n",
       "No High School Diploma or GED    118434\n",
       "Professional Other                42571\n",
       "Doctorate                         29033\n",
       "Name: EDUCATION, dtype: int64"
      ]
     },
     "execution_count": 36,
     "metadata": {},
     "output_type": "execute_result"
    }
   ],
   "source": [
    "df.EDUCATION.value_counts()"
   ]
  },
  {
   "cell_type": "code",
   "execution_count": 37,
   "metadata": {
    "ExecuteTime": {
     "end_time": "2021-01-08T03:32:39.732901Z",
     "start_time": "2021-01-08T03:31:57.284584Z"
    },
    "scrolled": true
   },
   "outputs": [
    {
     "data": {
      "text/plain": [
       "<matplotlib.axes._subplots.AxesSubplot at 0x7ff0e9499588>"
      ]
     },
     "execution_count": 37,
     "metadata": {},
     "output_type": "execute_result"
    },
    {
     "data": {
      "image/png": "[encoded data removed]",
      "text/plain": [
       "<Figure size 432x288 with 1 Axes>"
      ]
     },
     "metadata": {
      "needs_background": "light"
     },
     "output_type": "display_data"
    }
   ],
   "source": [
    "sns.barplot(data=df, x='EDUCATION', y='INCOME')"
   ]
  },
  {
   "cell_type": "code",
   "execution_count": 38,
   "metadata": {
    "ExecuteTime": {
     "end_time": "2021-01-08T03:33:24.726166Z",
     "start_time": "2021-01-08T03:32:39.735356Z"
    }
   },
   "outputs": [
    {
     "data": {
      "text/plain": [
       "<matplotlib.axes._subplots.AxesSubplot at 0x7ff0f0b58f60>"
      ]
     },
     "execution_count": 38,
     "metadata": {},
     "output_type": "execute_result"
    },
    {
     "data": {
      "image/png": "[encoded data removed]",
      "text/plain": [
       "<Figure size 432x288 with 1 Axes>"
      ]
     },
     "metadata": {
      "needs_background": "light"
     },
     "output_type": "display_data"
    }
   ],
   "source": [
    "sns.barplot(data=df, x='EDUCATION', y='SALARY')"
   ]
  },
  {
   "cell_type": "code",
   "execution_count": 86,
   "metadata": {
    "ExecuteTime": {
     "end_time": "2021-01-08T05:47:57.402040Z",
     "start_time": "2021-01-08T05:47:54.677762Z"
    }
   },
   "outputs": [
    {
     "data": {
      "image/png": "[encoded data removed]",
      "text/plain": [
       "<Figure size 432x288 with 1 Axes>"
      ]
     },
     "metadata": {
      "needs_background": "light"
     },
     "output_type": "display_data"
    }
   ],
   "source": [
    "sns.histplot(data = df, x=\"EDUCATION\", hue = \"TARGET\")\n",
    "plt.show()"
   ]
  },
  {
   "cell_type": "code",
   "execution_count": 39,
   "metadata": {
    "ExecuteTime": {
     "end_time": "2021-01-08T03:33:27.238945Z",
     "start_time": "2021-01-08T03:33:24.729303Z"
    },
    "scrolled": true
   },
   "outputs": [
    {
     "data": {
      "image/png": "[encoded data removed]",
      "text/plain": [
       "<Figure size 432x288 with 1 Axes>"
      ]
     },
     "metadata": {
      "needs_background": "light"
     },
     "output_type": "display_data"
    }
   ],
   "source": [
    "sns.histplot(data = df, x=\"RACE\", hue = \"TARGET\")\n",
    "plt.show()"
   ]
  },
  {
   "cell_type": "code",
   "execution_count": 40,
   "metadata": {
    "ExecuteTime": {
     "end_time": "2021-01-08T03:33:30.335289Z",
     "start_time": "2021-01-08T03:33:27.251113Z"
    }
   },
   "outputs": [
    {
     "data": {
      "image/png": "[encoded data removed]",
      "text/plain": [
       "<Figure size 432x288 with 1 Axes>"
      ]
     },
     "metadata": {
      "needs_background": "light"
     },
     "output_type": "display_data"
    }
   ],
   "source": [
    "# 0: non-white, 1: white\n",
    "sns.histplot(data = df, x=\"RACE2\", hue = \"TARGET\")\n",
    "plt.show()"
   ]
  },
  {
   "cell_type": "code",
   "execution_count": 41,
   "metadata": {
    "ExecuteTime": {
     "end_time": "2021-01-08T03:33:33.592909Z",
     "start_time": "2021-01-08T03:33:30.345200Z"
    }
   },
   "outputs": [
    {
     "data": {
      "image/png": "[encoded data removed]",
      "text/plain": [
       "<Figure size 432x288 with 1 Axes>"
      ]
     },
     "metadata": {
      "needs_background": "light"
     },
     "output_type": "display_data"
    }
   ],
   "source": [
    "# Groups: White, Black, , Asian, American Indian, Other\n",
    "sns.histplot(data = df, x=\"RACE3\", hue = \"TARGET\")\n",
    "plt.show()"
   ]
  },
  {
   "cell_type": "code",
   "execution_count": 42,
   "metadata": {
    "ExecuteTime": {
     "end_time": "2021-01-08T03:33:36.633191Z",
     "start_time": "2021-01-08T03:33:33.597304Z"
    },
    "scrolled": false
   },
   "outputs": [
    {
     "data": {
      "image/png": "[encoded data removed]",
      "text/plain": [
       "<Figure size 432x288 with 1 Axes>"
      ]
     },
     "metadata": {
      "needs_background": "light"
     },
     "output_type": "display_data"
    }
   ],
   "source": [
    "sns.histplot(data = df, x=\"AGE\", hue = \"TARGET\")\n",
    "plt.show()"
   ]
  },
  {
   "cell_type": "code",
   "execution_count": 43,
   "metadata": {
    "ExecuteTime": {
     "end_time": "2021-01-08T03:33:38.978316Z",
     "start_time": "2021-01-08T03:33:36.635349Z"
    },
    "scrolled": true
   },
   "outputs": [
    {
     "data": {
      "image/png": "[encoded data removed]",
      "text/plain": [
       "<Figure size 432x288 with 1 Axes>"
      ]
     },
     "metadata": {
      "needs_background": "light"
     },
     "output_type": "display_data"
    }
   ],
   "source": [
    "sns.histplot(data = df, x=\"OVER_65\", hue = \"TARGET\")\n",
    "plt.show()"
   ]
  },
  {
   "cell_type": "code",
   "execution_count": 44,
   "metadata": {
    "ExecuteTime": {
     "end_time": "2021-01-08T03:33:41.470874Z",
     "start_time": "2021-01-08T03:33:38.982498Z"
    },
    "scrolled": false
   },
   "outputs": [
    {
     "data": {
      "image/png": "[encoded data removed]",
      "text/plain": [
       "<Figure size 432x288 with 1 Axes>"
      ]
     },
     "metadata": {
      "needs_background": "light"
     },
     "output_type": "display_data"
    }
   ],
   "source": [
    "sns.histplot(data = df, x=\"SEX\", hue = \"TARGET\")\n",
    "plt.show()"
   ]
  },
  {
   "cell_type": "code",
   "execution_count": 45,
   "metadata": {
    "ExecuteTime": {
     "end_time": "2021-01-08T03:33:41.514701Z",
     "start_time": "2021-01-08T03:33:41.474449Z"
    }
   },
   "outputs": [
    {
     "data": {
      "text/plain": [
       "1    0.521319\n",
       "2    0.478681\n",
       "Name: SEX, dtype: float64"
      ]
     },
     "execution_count": 45,
     "metadata": {},
     "output_type": "execute_result"
    }
   ],
   "source": [
    "df.SEX.value_counts(normalize=True)"
   ]
  },
  {
   "cell_type": "code",
   "execution_count": 46,
   "metadata": {
    "ExecuteTime": {
     "end_time": "2021-01-08T03:33:44.082385Z",
     "start_time": "2021-01-08T03:33:41.530008Z"
    },
    "scrolled": true
   },
   "outputs": [
    {
     "data": {
      "image/png": "[encoded data removed]",
      "text/plain": [
       "<Figure size 432x288 with 1 Axes>"
      ]
     },
     "metadata": {
      "needs_background": "light"
     },
     "output_type": "display_data"
    }
   ],
   "source": [
    "sns.histplot(data = df, x=\"CITIZENSHIP\", hue = \"TARGET\")\n",
    "plt.show()"
   ]
  },
  {
   "cell_type": "code",
   "execution_count": 47,
   "metadata": {
    "ExecuteTime": {
     "end_time": "2021-01-08T03:33:47.403738Z",
     "start_time": "2021-01-08T03:33:44.086788Z"
    },
    "scrolled": true
   },
   "outputs": [
    {
     "data": {
      "image/png": "[encoded data removed]",
      "text/plain": [
       "<Figure size 432x288 with 1 Axes>"
      ]
     },
     "metadata": {
      "needs_background": "light"
     },
     "output_type": "display_data"
    }
   ],
   "source": [
    "sns.histplot(data = df, x=\"COUPLE\", hue = \"TARGET\")\n",
    "plt.show()"
   ]
  },
  {
   "cell_type": "markdown",
   "metadata": {
    "ExecuteTime": {
     "end_time": "2021-01-07T17:14:08.360955Z",
     "start_time": "2021-01-07T17:14:08.349719Z"
    }
   },
   "source": [
    "- 1 - Opposite-sex husband/wife/spouse household\n",
    "- 2 - Same-sex husband/wife/spouse household\n",
    "- 3 - Opposite-sex unmarried partner household\n",
    "- 4 - Same-sex unmarried partner household"
   ]
  },
  {
   "cell_type": "code",
   "execution_count": 48,
   "metadata": {
    "ExecuteTime": {
     "end_time": "2021-01-08T03:33:49.953698Z",
     "start_time": "2021-01-08T03:33:47.409822Z"
    },
    "scrolled": false
   },
   "outputs": [
    {
     "data": {
      "image/png": "[encoded data removed]",
      "text/plain": [
       "<Figure size 432x288 with 1 Axes>"
      ]
     },
     "metadata": {
      "needs_background": "light"
     },
     "output_type": "display_data"
    }
   ],
   "source": [
    "sns.histplot(data = df, x=\"PARTNER\", hue = \"TARGET\")\n",
    "plt.show()"
   ]
  },
  {
   "cell_type": "markdown",
   "metadata": {
    "ExecuteTime": {
     "end_time": "2021-01-07T17:14:12.776008Z",
     "start_time": "2021-01-07T17:14:12.756831Z"
    }
   },
   "source": [
    "- -1 - N/A (GQ/vacant)\n",
    "- 0\t- No unmarried partner in household\n",
    "- 1\t- Male householder, male partner\n",
    "- 2\t- Male householder, female partner\n",
    "- 3\t- Female householder, female partner\n",
    "- 4\t- Female householder, male partner"
   ]
  },
  {
   "cell_type": "code",
   "execution_count": 49,
   "metadata": {
    "ExecuteTime": {
     "end_time": "2021-01-08T03:33:50.005652Z",
     "start_time": "2021-01-08T03:33:49.961019Z"
    }
   },
   "outputs": [
    {
     "data": {
      "text/plain": [
       " 0    0.884924\n",
       " 4    0.038762\n",
       " 2    0.038427\n",
       "-1    0.033240\n",
       " 3    0.002341\n",
       " 1    0.002305\n",
       "Name: PARTNER, dtype: float64"
      ]
     },
     "execution_count": 49,
     "metadata": {},
     "output_type": "execute_result"
    }
   ],
   "source": [
    "df.PARTNER.value_counts(normalize=True)"
   ]
  },
  {
   "cell_type": "code",
   "execution_count": 50,
   "metadata": {
    "ExecuteTime": {
     "end_time": "2021-01-08T03:33:50.025253Z",
     "start_time": "2021-01-08T03:33:50.016387Z"
    }
   },
   "outputs": [],
   "source": [
    "# sns.histplot(data = df, x=\"POB_WORLD\", hue = \"TARGET_60\")"
   ]
  },
  {
   "cell_type": "code",
   "execution_count": 51,
   "metadata": {
    "ExecuteTime": {
     "end_time": "2021-01-08T03:33:50.696861Z",
     "start_time": "2021-01-08T03:33:50.031905Z"
    }
   },
   "outputs": [
    {
     "data": {
      "text/plain": [
       "<matplotlib.axes._subplots.AxesSubplot at 0x7ff0ea948e10>"
      ]
     },
     "execution_count": 51,
     "metadata": {},
     "output_type": "execute_result"
    },
    {
     "data": {
      "image/png": "[encoded data removed]",
      "text/plain": [
       "<Figure size 432x288 with 1 Axes>"
      ]
     },
     "metadata": {
      "needs_background": "light"
     },
     "output_type": "display_data"
    }
   ],
   "source": [
    "sns.boxplot(x=df.SALARY)\n"
   ]
  },
  {
   "cell_type": "code",
   "execution_count": 52,
   "metadata": {
    "ExecuteTime": {
     "end_time": "2021-01-08T03:33:50.746317Z",
     "start_time": "2021-01-08T03:33:50.699260Z"
    }
   },
   "outputs": [
    {
     "data": {
      "text/plain": [
       "40240.0"
      ]
     },
     "execution_count": 52,
     "metadata": {},
     "output_type": "execute_result"
    }
   ],
   "source": [
    "df.INCOME.median()"
   ]
  },
  {
   "cell_type": "code",
   "execution_count": 53,
   "metadata": {
    "ExecuteTime": {
     "end_time": "2021-01-08T03:33:50.788819Z",
     "start_time": "2021-01-08T03:33:50.748427Z"
    }
   },
   "outputs": [
    {
     "data": {
      "text/plain": [
       "35400.0"
      ]
     },
     "execution_count": 53,
     "metadata": {},
     "output_type": "execute_result"
    }
   ],
   "source": [
    "df.SALARY.median()"
   ]
  },
  {
   "cell_type": "code",
   "execution_count": 58,
   "metadata": {
    "ExecuteTime": {
     "end_time": "2021-01-07T21:10:48.761709Z",
     "start_time": "2021-01-07T21:10:41.109478Z"
    }
   },
   "outputs": [
    {
     "data": {
      "image/png": "[encoded data removed]",
      "text/plain": [
       "<Figure size 1800x1080 with 2 Axes>"
      ]
     },
     "metadata": {
      "needs_background": "light"
     },
     "output_type": "display_data"
    }
   ],
   "source": [
    "#Checking correlations heatmap for added features\n",
    "\n",
    "fig, ax = plt.subplots(figsize=(25,15)) # figsize to make larger\n",
    "corr = df.corr()\n",
    "\n",
    "# Generate a mask for the upper triangle\n",
    "mask = np.zeros_like(corr, dtype=np.bool)\n",
    "mask[np.triu_indices_from(mask)] = True\n",
    "\n",
    "sns.heatmap(corr, mask=mask, cmap='bwr', center=0, annot=True)\n",
    "\n",
    "# fix for matplotlib bug that cuts off top/bottom of seaborn viz\n",
    "b, t = plt.ylim() # discover the values for bottom and top\n",
    "b += 0.5 # Add 0.5 to the bottom\n",
    "t -= 0.5 # Subtract 0.5 from the top\n",
    "plt.ylim(b, t) # update the ylim(bottom, top) values\n",
    "\n",
    "plt.show()"
   ]
  },
  {
   "cell_type": "markdown",
   "metadata": {},
   "source": [
    "# Prepare Data for Modeling\n",
    "- LabelEncoder for non-numeric features\n",
    "- Remove unnecessary variables\n"
   ]
  },
  {
   "cell_type": "code",
   "execution_count": 54,
   "metadata": {
    "ExecuteTime": {
     "end_time": "2021-01-08T03:33:53.843971Z",
     "start_time": "2021-01-08T03:33:50.793984Z"
    },
    "scrolled": false
   },
   "outputs": [],
   "source": [
    "le = LabelEncoder()\n",
    "cols = ['OCCUPATION', 'WORK_INDUSTRY', 'EDUCATION', 'RACE2', 'RACE3',]\n",
    "df.loc[:,cols] = df.loc[:,cols].apply(le.fit_transform)"
   ]
  },
  {
   "cell_type": "code",
   "execution_count": 55,
   "metadata": {
    "ExecuteTime": {
     "end_time": "2021-01-08T03:33:54.472321Z",
     "start_time": "2021-01-08T03:33:53.847168Z"
    }
   },
   "outputs": [],
   "source": [
    "X = df.drop(['TARGET','INCOME', 'SALARY'], axis=1)\n",
    "y = df.TARGET"
   ]
  },
  {
   "cell_type": "code",
   "execution_count": 56,
   "metadata": {
    "ExecuteTime": {
     "end_time": "2021-01-08T03:33:54.798032Z",
     "start_time": "2021-01-08T03:33:54.475162Z"
    }
   },
   "outputs": [
    {
     "data": {
      "text/plain": [
       "0.7129419476817573"
      ]
     },
     "execution_count": 56,
     "metadata": {},
     "output_type": "execute_result"
    }
   ],
   "source": [
    "null_accuracy = y.value_counts()[0]/y.value_counts().sum()\n",
    "null_accuracy"
   ]
  },
  {
   "cell_type": "code",
   "execution_count": 57,
   "metadata": {
    "ExecuteTime": {
     "end_time": "2021-01-08T03:33:54.820142Z",
     "start_time": "2021-01-08T03:33:54.801001Z"
    }
   },
   "outputs": [
    {
     "data": {
      "text/html": [
       "<div>\n",
       "<style scoped>\n",
       "    .dataframe tbody tr th:only-of-type {\n",
       "        vertical-align: middle;\n",
       "    }\n",
       "\n",
       "    .dataframe tbody tr th {\n",
       "        vertical-align: top;\n",
       "    }\n",
       "\n",
       "    .dataframe thead th {\n",
       "        text-align: right;\n",
       "    }\n",
       "</style>\n",
       "<table border=\"1\" class=\"dataframe\">\n",
       "  <thead>\n",
       "    <tr style=\"text-align: right;\">\n",
       "      <th></th>\n",
       "      <th>FNLWGT</th>\n",
       "      <th>WGTP</th>\n",
       "      <th>INCOME</th>\n",
       "      <th>WKLY_HRS</th>\n",
       "      <th>SALARY</th>\n",
       "      <th>AGE</th>\n",
       "      <th>MOM</th>\n",
       "      <th>WORK_CLASS</th>\n",
       "      <th>COUPLE</th>\n",
       "      <th>CITIZENSHIP</th>\n",
       "      <th>POB_DETAIL</th>\n",
       "      <th>PARTNER</th>\n",
       "      <th>SEX</th>\n",
       "      <th>RACE</th>\n",
       "      <th>EDUCATION</th>\n",
       "      <th>OCCUPATION</th>\n",
       "      <th>WORK_INDUSTRY</th>\n",
       "      <th>POB_WORLD</th>\n",
       "      <th>CITIZENSHIP_BIN</th>\n",
       "      <th>RACE2</th>\n",
       "      <th>RACE3</th>\n",
       "      <th>OVER_65</th>\n",
       "      <th>TARGET</th>\n",
       "    </tr>\n",
       "  </thead>\n",
       "  <tbody>\n",
       "    <tr>\n",
       "      <th>0</th>\n",
       "      <td>71</td>\n",
       "      <td>0</td>\n",
       "      <td>63000</td>\n",
       "      <td>80</td>\n",
       "      <td>63000</td>\n",
       "      <td>35</td>\n",
       "      <td>0</td>\n",
       "      <td>1</td>\n",
       "      <td>0</td>\n",
       "      <td>1</td>\n",
       "      <td>18</td>\n",
       "      <td>-1</td>\n",
       "      <td>1</td>\n",
       "      <td>1</td>\n",
       "      <td>3</td>\n",
       "      <td>4</td>\n",
       "      <td>1</td>\n",
       "      <td>1</td>\n",
       "      <td>1</td>\n",
       "      <td>1</td>\n",
       "      <td>4</td>\n",
       "      <td>0</td>\n",
       "      <td>&lt;=65k</td>\n",
       "    </tr>\n",
       "    <tr>\n",
       "      <th>2</th>\n",
       "      <td>24</td>\n",
       "      <td>0</td>\n",
       "      <td>2000</td>\n",
       "      <td>15</td>\n",
       "      <td>2000</td>\n",
       "      <td>21</td>\n",
       "      <td>2</td>\n",
       "      <td>2</td>\n",
       "      <td>0</td>\n",
       "      <td>5</td>\n",
       "      <td>229</td>\n",
       "      <td>-1</td>\n",
       "      <td>2</td>\n",
       "      <td>6</td>\n",
       "      <td>3</td>\n",
       "      <td>23</td>\n",
       "      <td>2</td>\n",
       "      <td>4</td>\n",
       "      <td>0</td>\n",
       "      <td>0</td>\n",
       "      <td>0</td>\n",
       "      <td>0</td>\n",
       "      <td>&lt;=65k</td>\n",
       "    </tr>\n",
       "  </tbody>\n",
       "</table>\n",
       "</div>"
      ],
      "text/plain": [
       "   FNLWGT  WGTP  INCOME  WKLY_HRS  SALARY  AGE  MOM  WORK_CLASS  COUPLE  \\\n",
       "0      71     0   63000        80   63000   35    0           1       0   \n",
       "2      24     0    2000        15    2000   21    2           2       0   \n",
       "\n",
       "   CITIZENSHIP  POB_DETAIL  PARTNER  SEX  RACE  EDUCATION  OCCUPATION  \\\n",
       "0            1          18       -1    1     1          3           4   \n",
       "2            5         229       -1    2     6          3          23   \n",
       "\n",
       "   WORK_INDUSTRY  POB_WORLD  CITIZENSHIP_BIN  RACE2  RACE3  OVER_65 TARGET  \n",
       "0              1          1                1      1      4        0  <=65k  \n",
       "2              2          4                0      0      0        0  <=65k  "
      ]
     },
     "execution_count": 57,
     "metadata": {},
     "output_type": "execute_result"
    }
   ],
   "source": [
    "df.head(2) #Sanity Check"
   ]
  },
  {
   "cell_type": "markdown",
   "metadata": {},
   "source": [
    "# Model Testing"
   ]
  },
  {
   "cell_type": "markdown",
   "metadata": {},
   "source": [
    "## Baseline Model"
   ]
  },
  {
   "cell_type": "code",
   "execution_count": 75,
   "metadata": {
    "ExecuteTime": {
     "end_time": "2021-01-08T04:01:12.645485Z",
     "start_time": "2021-01-08T04:01:12.422974Z"
    }
   },
   "outputs": [],
   "source": [
    "df['TARGET'] = np.where(df.INCOME > 65000, 1, 0)\n",
    "y = df.TARGET"
   ]
  },
  {
   "cell_type": "code",
   "execution_count": 76,
   "metadata": {
    "ExecuteTime": {
     "end_time": "2021-01-08T04:01:15.526675Z",
     "start_time": "2021-01-08T04:01:13.620530Z"
    }
   },
   "outputs": [],
   "source": [
    "X_train, X_test, y_train, y_test = train_test_split(X, y, random_state = 42, stratify = y)"
   ]
  },
  {
   "cell_type": "code",
   "execution_count": 77,
   "metadata": {
    "ExecuteTime": {
     "end_time": "2021-01-08T04:01:38.913727Z",
     "start_time": "2021-01-08T04:01:15.533101Z"
    },
    "scrolled": true
   },
   "outputs": [],
   "source": [
    "tree = DecisionTreeClassifier()\n",
    "tree.fit(X_train, y_train)\n",
    "y_pred = tree.predict(X_test)"
   ]
  },
  {
   "cell_type": "code",
   "execution_count": 78,
   "metadata": {
    "ExecuteTime": {
     "end_time": "2021-01-08T04:01:38.973073Z",
     "start_time": "2021-01-08T04:01:38.918329Z"
    }
   },
   "outputs": [
    {
     "data": {
      "text/plain": [
       "0.7550056394782759"
      ]
     },
     "execution_count": 78,
     "metadata": {},
     "output_type": "execute_result"
    }
   ],
   "source": [
    "accuracy_score(y_test, y_pred)"
   ]
  },
  {
   "cell_type": "code",
   "execution_count": 79,
   "metadata": {
    "ExecuteTime": {
     "end_time": "2021-01-08T04:01:39.522773Z",
     "start_time": "2021-01-08T04:01:38.985905Z"
    },
    "scrolled": false
   },
   "outputs": [
    {
     "data": {
      "text/plain": [
       "0.5791966089346624"
      ]
     },
     "execution_count": 79,
     "metadata": {},
     "output_type": "execute_result"
    }
   ],
   "source": [
    "from sklearn import metrics\n",
    "F1_score = 2*(metrics.precision_score(y_test, y_pred)*\n",
    "   metrics.recall_score(y_test, y_pred))/(\n",
    "    metrics.precision_score(y_test, y_pred)\n",
    "    +metrics.recall_score(y_test, y_pred))\n",
    "F1_score"
   ]
  },
  {
   "cell_type": "code",
   "execution_count": null,
   "metadata": {},
   "outputs": [],
   "source": []
  },
  {
   "cell_type": "code",
   "execution_count": 64,
   "metadata": {
    "ExecuteTime": {
     "end_time": "2021-01-07T21:11:36.901822Z",
     "start_time": "2021-01-07T21:11:36.877919Z"
    }
   },
   "outputs": [],
   "source": [
    "importance = tree.feature_importances_\n",
    "feat_imp_dict = dict(zip(X.columns, importance))"
   ]
  },
  {
   "cell_type": "code",
   "execution_count": 65,
   "metadata": {
    "ExecuteTime": {
     "end_time": "2021-01-07T21:11:36.923251Z",
     "start_time": "2021-01-07T21:11:36.913224Z"
    }
   },
   "outputs": [
    {
     "data": {
      "text/plain": [
       "{'FNLWGT': 0.1194326090849417,\n",
       " 'WGTP': 0.11794765991017589,\n",
       " 'WKLY_HRS': 0.12856929469436412,\n",
       " 'AGE': 0.15811073936180034,\n",
       " 'MOM': 0.004091376859825121,\n",
       " 'WORK_CLASS': 0.031530524553964934,\n",
       " 'COUPLE': 0.019776034694149153,\n",
       " 'CITIZENSHIP': 0.001792319755956541,\n",
       " 'POB_DETAIL': 0.10990857020838904,\n",
       " 'PARTNER': 0.007655028787124059,\n",
       " 'SEX': 0.019765670520082174,\n",
       " 'RACE': 0.009513592088459458,\n",
       " 'EDUCATION': 0.06783669559686173,\n",
       " 'OCCUPATION': 0.10934987199140316,\n",
       " 'WORK_INDUSTRY': 0.07233094766148263,\n",
       " 'POB_WORLD': 0.006447536702411469,\n",
       " 'RACE2': 0.003648357605190095,\n",
       " 'RACE3': 0.010593751951685689,\n",
       " 'AGE_DIV': 0.0016994179717326583}"
      ]
     },
     "execution_count": 65,
     "metadata": {},
     "output_type": "execute_result"
    }
   ],
   "source": [
    "feat_imp_dict"
   ]
  },
  {
   "cell_type": "markdown",
   "metadata": {},
   "source": [
    "## Decision Tree and GridSearch"
   ]
  },
  {
   "cell_type": "code",
   "execution_count": 85,
   "metadata": {
    "ExecuteTime": {
     "end_time": "2021-01-07T21:48:26.349476Z",
     "start_time": "2021-01-07T21:48:26.336209Z"
    }
   },
   "outputs": [],
   "source": [
    "dt = DecisionTreeClassifier()\n",
    "dt_param_grid = {\n",
    "    'criterion' : ['gini', 'entropy'],\n",
    "    'max_depth' : [8, 9, 10, 11],\n",
    "    'min_samples_split' : [2, 5, 10],\n",
    "    'min_samples_leaf' : [1, 2, 3, 4, 5, 6, 7, 8]\n",
    "}"
   ]
  },
  {
   "cell_type": "code",
   "execution_count": 86,
   "metadata": {
    "ExecuteTime": {
     "end_time": "2021-01-07T23:04:36.096697Z",
     "start_time": "2021-01-07T21:48:27.376092Z"
    },
    "scrolled": false
   },
   "outputs": [
    {
     "name": "stdout",
     "output_type": "stream",
     "text": [
      "Fitting 3 folds for each of 192 candidates, totalling 576 fits\n"
     ]
    },
    {
     "name": "stderr",
     "output_type": "stream",
     "text": [
      "[Parallel(n_jobs=-1)]: Using backend LokyBackend with 4 concurrent workers.\n",
      "[Parallel(n_jobs=-1)]: Done  42 tasks      | elapsed:  5.8min\n",
      "[Parallel(n_jobs=-1)]: Done 192 tasks      | elapsed: 23.7min\n",
      "[Parallel(n_jobs=-1)]: Done 442 tasks      | elapsed: 57.2min\n",
      "[Parallel(n_jobs=-1)]: Done 576 out of 576 | elapsed: 75.3min finished\n"
     ]
    },
    {
     "data": {
      "text/plain": [
       "GridSearchCV(cv=3, error_score='raise-deprecating',\n",
       "             estimator=DecisionTreeClassifier(class_weight=None,\n",
       "                                              criterion='gini', max_depth=None,\n",
       "                                              max_features=None,\n",
       "                                              max_leaf_nodes=None,\n",
       "                                              min_impurity_decrease=0.0,\n",
       "                                              min_impurity_split=None,\n",
       "                                              min_samples_leaf=1,\n",
       "                                              min_samples_split=2,\n",
       "                                              min_weight_fraction_leaf=0.0,\n",
       "                                              presort=False, random_state=None,\n",
       "                                              splitter='best'),\n",
       "             iid='warn', n_jobs=-1,\n",
       "             param_grid={'criterion': ['gini', 'entropy'],\n",
       "                         'max_depth': [8, 9, 10, 11],\n",
       "                         'min_samples_leaf': [1, 2, 3, 4, 5, 6, 7, 8],\n",
       "                         'min_samples_split': [2, 5, 10]},\n",
       "             pre_dispatch='2*n_jobs', refit=True, return_train_score=False,\n",
       "             scoring=None, verbose=True)"
      ]
     },
     "execution_count": 86,
     "metadata": {},
     "output_type": "execute_result"
    }
   ],
   "source": [
    "dt_grid_search = GridSearchCV(dt, dt_param_grid, cv=3, verbose=True, n_jobs=-1)\n",
    "dt_grid_search.fit(X_train, y_train)"
   ]
  },
  {
   "cell_type": "code",
   "execution_count": 88,
   "metadata": {
    "ExecuteTime": {
     "end_time": "2021-01-07T23:06:34.487838Z",
     "start_time": "2021-01-07T23:06:30.645819Z"
    }
   },
   "outputs": [
    {
     "data": {
      "text/plain": [
       "0.8079468443021989"
      ]
     },
     "execution_count": 88,
     "metadata": {},
     "output_type": "execute_result"
    }
   ],
   "source": [
    "dt_grid_search.score(X_test, y_test)"
   ]
  },
  {
   "cell_type": "code",
   "execution_count": 91,
   "metadata": {
    "ExecuteTime": {
     "end_time": "2021-01-07T23:22:02.878309Z",
     "start_time": "2021-01-07T23:21:25.913839Z"
    }
   },
   "outputs": [
    {
     "data": {
      "text/plain": [
       "DecisionTreeClassifier(class_weight=None, criterion='gini', max_depth=None,\n",
       "                       max_features=None, max_leaf_nodes=None,\n",
       "                       min_impurity_decrease=0.0, min_impurity_split=None,\n",
       "                       min_samples_leaf=1, min_samples_split=2,\n",
       "                       min_weight_fraction_leaf=0.0, presort=False,\n",
       "                       random_state=None, splitter='best')"
      ]
     },
     "execution_count": 91,
     "metadata": {},
     "output_type": "execute_result"
    }
   ],
   "source": [
    "dt_ = DecisionTreeClassifier(criterion = 'gini', min_samples_split = 2, min_samples_leaf = 1)\n",
    "dt_.fit(X_train, y_train)\n"
   ]
  },
  {
   "cell_type": "code",
   "execution_count": 93,
   "metadata": {
    "ExecuteTime": {
     "end_time": "2021-01-07T23:22:29.539668Z",
     "start_time": "2021-01-07T23:22:28.953506Z"
    }
   },
   "outputs": [
    {
     "data": {
      "image/png": "[encoded data removed]",
      "text/plain": [
       "<Figure size 576x576 with 1 Axes>"
      ]
     },
     "metadata": {},
     "output_type": "display_data"
    }
   ],
   "source": [
    "def plot_feature_imporances(model):\n",
    "    n_features = X_train.shape[1]\n",
    "    plt.figure(figsize = (8,8))\n",
    "    plt.barh(range(n_features), model.feature_importances_, align = 'center')\n",
    "    plt.yticks(np.arange(n_features), X_train.columns.values)\n",
    "    plt.xlabel('Feature importance')\n",
    "    plt.ylabel('Feature')\n",
    "    \n",
    "plot_feature_imporances(dt_)"
   ]
  },
  {
   "cell_type": "markdown",
   "metadata": {},
   "source": [
    "## LogisticRegression and GridSearch"
   ]
  },
  {
   "cell_type": "code",
   "execution_count": 68,
   "metadata": {
    "ExecuteTime": {
     "end_time": "2021-01-07T21:11:36.986071Z",
     "start_time": "2021-01-07T21:11:36.981552Z"
    }
   },
   "outputs": [],
   "source": [
    "# pipe = Pipeline([('logrg', LogisticRegression())])\n",
    "\n",
    "# param_grid = {\n",
    "#     'logrg__penalty' : ['l1', 'l2'],\n",
    "#     'logrg__C' : [.01, .1, 1, 10, 100 ],\n",
    "#     'logrg__solver' : ['liblinear', 'sag', 'saga'],\n",
    "#     'logrg__max_iter' : [100, 200, 300]\n",
    "# }"
   ]
  },
  {
   "cell_type": "code",
   "execution_count": 69,
   "metadata": {
    "ExecuteTime": {
     "end_time": "2021-01-07T21:11:36.999458Z",
     "start_time": "2021-01-07T21:11:36.992973Z"
    }
   },
   "outputs": [],
   "source": [
    "# clf = GridSearchCV(pipe, param_grid, cv = 3, verbose=True, n_jobs=-1)\n",
    "# best_clf = clf.fit(X_train, y_train)"
   ]
  },
  {
   "cell_type": "code",
   "execution_count": 70,
   "metadata": {
    "ExecuteTime": {
     "end_time": "2021-01-07T21:11:37.010183Z",
     "start_time": "2021-01-07T21:11:37.003692Z"
    }
   },
   "outputs": [],
   "source": [
    "# best_clf.best_params_"
   ]
  },
  {
   "cell_type": "code",
   "execution_count": 71,
   "metadata": {
    "ExecuteTime": {
     "end_time": "2021-01-07T21:11:37.021800Z",
     "start_time": "2021-01-07T21:11:37.015906Z"
    }
   },
   "outputs": [],
   "source": [
    "# best_clf.best_score_"
   ]
  },
  {
   "cell_type": "markdown",
   "metadata": {},
   "source": [
    "## RandomForest and GridSearch"
   ]
  },
  {
   "cell_type": "code",
   "execution_count": 72,
   "metadata": {
    "ExecuteTime": {
     "end_time": "2021-01-07T21:11:37.036127Z",
     "start_time": "2021-01-07T21:11:37.027978Z"
    }
   },
   "outputs": [],
   "source": [
    "# rf_clf = RandomForestClassifier()\n",
    "# rf_param_grid = {\n",
    "#     'n_estimators': [10, 30, 100],\n",
    "#     'criterion': ['gini', 'entropy'],\n",
    "#     'max_depth': [None, 2, 6, 10],\n",
    "#     'min_samples_split': [5, 10],\n",
    "#     'min_samples_leaf': [3, 6]\n",
    "# }"
   ]
  },
  {
   "cell_type": "code",
   "execution_count": 73,
   "metadata": {
    "ExecuteTime": {
     "end_time": "2021-01-07T21:11:37.055432Z",
     "start_time": "2021-01-07T21:11:37.044565Z"
    }
   },
   "outputs": [],
   "source": [
    "\n",
    "# rf_grid_search = GridSearchCV(rf_clf, rf_param_grid, cv=3, verbose=True, n_jobs=-1)\n",
    "# rf_grid_search.fit(X_train, y_train)"
   ]
  },
  {
   "cell_type": "code",
   "execution_count": 74,
   "metadata": {
    "ExecuteTime": {
     "end_time": "2021-01-07T21:11:37.066780Z",
     "start_time": "2021-01-07T21:11:37.062815Z"
    }
   },
   "outputs": [],
   "source": [
    "# rf_grid_search.best_params_"
   ]
  },
  {
   "cell_type": "code",
   "execution_count": 75,
   "metadata": {
    "ExecuteTime": {
     "end_time": "2021-01-07T21:11:37.087989Z",
     "start_time": "2021-01-07T21:11:37.079343Z"
    }
   },
   "outputs": [],
   "source": [
    "# rf_grid_search.best_score_"
   ]
  },
  {
   "cell_type": "code",
   "execution_count": 76,
   "metadata": {
    "ExecuteTime": {
     "end_time": "2021-01-07T21:11:37.103042Z",
     "start_time": "2021-01-07T21:11:37.094574Z"
    }
   },
   "outputs": [],
   "source": [
    "# rf_clf = RandomForestClassifier(criterion = 'gini', min_samples_split = 5, min_samples_leaf = 6)\n",
    "# rf_clf.fit(X_train, y_train)"
   ]
  },
  {
   "cell_type": "code",
   "execution_count": 77,
   "metadata": {
    "ExecuteTime": {
     "end_time": "2021-01-07T21:11:37.118453Z",
     "start_time": "2021-01-07T21:11:37.110511Z"
    }
   },
   "outputs": [],
   "source": [
    "# y_pred = rf_clf.predict(X_test)\n",
    "# accuracy_score(y_test, y_pred)"
   ]
  },
  {
   "cell_type": "code",
   "execution_count": 78,
   "metadata": {
    "ExecuteTime": {
     "end_time": "2021-01-07T21:11:37.134869Z",
     "start_time": "2021-01-07T21:11:37.125120Z"
    }
   },
   "outputs": [],
   "source": [
    "# def plot_feature_imporances(model):\n",
    "#     n_features = X_train.shape[1]\n",
    "#     plt.figure(figsize = (8,8))\n",
    "#     plt.barh(range(n_features), model.feature_importances_, align = 'center')\n",
    "#     plt.yticks(np.arange(n_features), X_train.columns.values)\n",
    "#     plt.xlabel('Feature importance')\n",
    "#     plt.ylabel('Feature')\n",
    "    \n",
    "# plot_feature_imporances(rf_clf)"
   ]
  },
  {
   "cell_type": "markdown",
   "metadata": {},
   "source": [
    "## Model Evaluation Summary"
   ]
  },
  {
   "cell_type": "code",
   "execution_count": 79,
   "metadata": {
    "ExecuteTime": {
     "end_time": "2021-01-07T21:11:37.151961Z",
     "start_time": "2021-01-07T21:11:37.143562Z"
    }
   },
   "outputs": [],
   "source": [
    "# logrg_score = best_clf.score(X_test, y_test)\n",
    "# dt_score = dt_grid_search.score(X_test, y_test)\n",
    "# rf_score = rf_grid_search.score(X_test, y_test)\n",
    "\n",
    "\n",
    "# print(\"Logistic regression grid search \", logrg_score)\n",
    "# print(\"Decision tree grid search \", dt_score)\n",
    "# print(\"Random forest grid search\", rf_score)"
   ]
  },
  {
   "cell_type": "code",
   "execution_count": null,
   "metadata": {},
   "outputs": [],
   "source": []
  },
  {
   "cell_type": "code",
   "execution_count": null,
   "metadata": {},
   "outputs": [],
   "source": []
  }
 ],
 "metadata": {
  "kernelspec": {
   "display_name": "Python 3",
   "language": "python",
   "name": "python3"
  },
  "language_info": {
   "codemirror_mode": {
    "name": "ipython",
    "version": 3
   },
   "file_extension": ".py",
   "mimetype": "text/x-python",
   "name": "python",
   "nbconvert_exporter": "python",
   "pygments_lexer": "ipython3",
   "version": "3.6.9"
  },
  "toc": {
   "base_numbering": 1,
   "nav_menu": {},
   "number_sections": true,
   "sideBar": true,
   "skip_h1_title": false,
   "title_cell": "Table of Contents",
   "title_sidebar": "Contents",
   "toc_cell": false,
   "toc_position": {},
   "toc_section_display": true,
   "toc_window_display": false
  }
 },
 "nbformat": 4,
 "nbformat_minor": 4
}
