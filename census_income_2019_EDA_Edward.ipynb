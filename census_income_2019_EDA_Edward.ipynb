{
 "cells": [
  {
   "cell_type": "code",
   "execution_count": 1,
   "metadata": {},
   "outputs": [],
   "source": [
    "import pandas as pd\n",
    "import numpy as np\n",
    "import matplotlib.pyplot as plt\n",
    "import seaborn as sns\n",
    "from sklearn.model_selection import train_test_split\n",
    "from sklearn.linear_model import LogisticRegression\n",
    "from sklearn.tree import DecisionTreeClassifier\n",
    "from sklearn.metrics import accuracy_score\n",
    "\n",
    "pd.options.display.max_columns = 999\n",
    "sns.set_style('white')"
   ]
  },
  {
   "cell_type": "code",
   "execution_count": 2,
   "metadata": {},
   "outputs": [],
   "source": [
    "df = pd.read_csv('census_income_2019.csv', compression = 'zip')"
   ]
  },
  {
   "cell_type": "code",
   "execution_count": 3,
   "metadata": {
    "scrolled": true
   },
   "outputs": [
    {
     "data": {
      "text/html": [
       "<div>\n",
       "<style scoped>\n",
       "    .dataframe tbody tr th:only-of-type {\n",
       "        vertical-align: middle;\n",
       "    }\n",
       "\n",
       "    .dataframe tbody tr th {\n",
       "        vertical-align: top;\n",
       "    }\n",
       "\n",
       "    .dataframe thead th {\n",
       "        text-align: right;\n",
       "    }\n",
       "</style>\n",
       "<table border=\"1\" class=\"dataframe\">\n",
       "  <thead>\n",
       "    <tr style=\"text-align: right;\">\n",
       "      <th></th>\n",
       "      <th>PWGTP</th>\n",
       "      <th>WGTP</th>\n",
       "      <th>PINCP</th>\n",
       "      <th>WKHP</th>\n",
       "      <th>WAGP</th>\n",
       "      <th>AGEP</th>\n",
       "      <th>FER</th>\n",
       "      <th>DIS</th>\n",
       "      <th>COW</th>\n",
       "      <th>CPLT</th>\n",
       "      <th>ADJINC</th>\n",
       "      <th>CIT</th>\n",
       "      <th>POBP</th>\n",
       "      <th>PARTNER</th>\n",
       "      <th>SEX</th>\n",
       "      <th>RAC1P</th>\n",
       "      <th>SCHL</th>\n",
       "      <th>OCCP</th>\n",
       "      <th>NAICSP</th>\n",
       "      <th>SERIALNO</th>\n",
       "      <th>SPORDER</th>\n",
       "    </tr>\n",
       "  </thead>\n",
       "  <tbody>\n",
       "    <tr>\n",
       "      <th>0</th>\n",
       "      <td>71</td>\n",
       "      <td>0</td>\n",
       "      <td>63000</td>\n",
       "      <td>80</td>\n",
       "      <td>63000</td>\n",
       "      <td>35</td>\n",
       "      <td>0</td>\n",
       "      <td>2</td>\n",
       "      <td>1</td>\n",
       "      <td>0</td>\n",
       "      <td>1.010145</td>\n",
       "      <td>1</td>\n",
       "      <td>18</td>\n",
       "      <td>-1</td>\n",
       "      <td>1</td>\n",
       "      <td>1</td>\n",
       "      <td>17</td>\n",
       "      <td>6250</td>\n",
       "      <td>23</td>\n",
       "      <td>2019GQ0000001</td>\n",
       "      <td>1</td>\n",
       "    </tr>\n",
       "    <tr>\n",
       "      <th>1</th>\n",
       "      <td>67</td>\n",
       "      <td>0</td>\n",
       "      <td>0</td>\n",
       "      <td>0</td>\n",
       "      <td>0</td>\n",
       "      <td>25</td>\n",
       "      <td>0</td>\n",
       "      <td>2</td>\n",
       "      <td>0</td>\n",
       "      <td>0</td>\n",
       "      <td>1.010145</td>\n",
       "      <td>1</td>\n",
       "      <td>48</td>\n",
       "      <td>-1</td>\n",
       "      <td>1</td>\n",
       "      <td>1</td>\n",
       "      <td>12</td>\n",
       "      <td>9</td>\n",
       "      <td>-1</td>\n",
       "      <td>2019GQ0000004</td>\n",
       "      <td>1</td>\n",
       "    </tr>\n",
       "    <tr>\n",
       "      <th>2</th>\n",
       "      <td>24</td>\n",
       "      <td>0</td>\n",
       "      <td>2000</td>\n",
       "      <td>15</td>\n",
       "      <td>2000</td>\n",
       "      <td>21</td>\n",
       "      <td>2</td>\n",
       "      <td>2</td>\n",
       "      <td>2</td>\n",
       "      <td>0</td>\n",
       "      <td>1.010145</td>\n",
       "      <td>5</td>\n",
       "      <td>229</td>\n",
       "      <td>-1</td>\n",
       "      <td>2</td>\n",
       "      <td>6</td>\n",
       "      <td>19</td>\n",
       "      <td>4740</td>\n",
       "      <td>611M1</td>\n",
       "      <td>2019GQ0000007</td>\n",
       "      <td>1</td>\n",
       "    </tr>\n",
       "    <tr>\n",
       "      <th>3</th>\n",
       "      <td>52</td>\n",
       "      <td>0</td>\n",
       "      <td>0</td>\n",
       "      <td>0</td>\n",
       "      <td>0</td>\n",
       "      <td>49</td>\n",
       "      <td>0</td>\n",
       "      <td>2</td>\n",
       "      <td>1</td>\n",
       "      <td>0</td>\n",
       "      <td>1.010145</td>\n",
       "      <td>1</td>\n",
       "      <td>6</td>\n",
       "      <td>-1</td>\n",
       "      <td>1</td>\n",
       "      <td>1</td>\n",
       "      <td>21</td>\n",
       "      <td>110</td>\n",
       "      <td>722Z</td>\n",
       "      <td>2019GQ0000010</td>\n",
       "      <td>1</td>\n",
       "    </tr>\n",
       "    <tr>\n",
       "      <th>4</th>\n",
       "      <td>28</td>\n",
       "      <td>0</td>\n",
       "      <td>6000</td>\n",
       "      <td>15</td>\n",
       "      <td>6000</td>\n",
       "      <td>18</td>\n",
       "      <td>2</td>\n",
       "      <td>2</td>\n",
       "      <td>1</td>\n",
       "      <td>0</td>\n",
       "      <td>1.010145</td>\n",
       "      <td>1</td>\n",
       "      <td>6</td>\n",
       "      <td>-1</td>\n",
       "      <td>2</td>\n",
       "      <td>1</td>\n",
       "      <td>16</td>\n",
       "      <td>4110</td>\n",
       "      <td>722Z</td>\n",
       "      <td>2019GQ0000013</td>\n",
       "      <td>1</td>\n",
       "    </tr>\n",
       "  </tbody>\n",
       "</table>\n",
       "</div>"
      ],
      "text/plain": [
       "   PWGTP  WGTP  PINCP  WKHP   WAGP  AGEP  FER  DIS  COW  CPLT    ADJINC  CIT  \\\n",
       "0     71     0  63000    80  63000    35    0    2    1     0  1.010145    1   \n",
       "1     67     0      0     0      0    25    0    2    0     0  1.010145    1   \n",
       "2     24     0   2000    15   2000    21    2    2    2     0  1.010145    5   \n",
       "3     52     0      0     0      0    49    0    2    1     0  1.010145    1   \n",
       "4     28     0   6000    15   6000    18    2    2    1     0  1.010145    1   \n",
       "\n",
       "   POBP  PARTNER  SEX  RAC1P  SCHL  OCCP NAICSP       SERIALNO  SPORDER  \n",
       "0    18       -1    1      1    17  6250     23  2019GQ0000001        1  \n",
       "1    48       -1    1      1    12     9     -1  2019GQ0000004        1  \n",
       "2   229       -1    2      6    19  4740  611M1  2019GQ0000007        1  \n",
       "3     6       -1    1      1    21   110   722Z  2019GQ0000010        1  \n",
       "4     6       -1    2      1    16  4110   722Z  2019GQ0000013        1  "
      ]
     },
     "execution_count": 3,
     "metadata": {},
     "output_type": "execute_result"
    }
   ],
   "source": [
    "df.head()"
   ]
  },
  {
   "cell_type": "code",
   "execution_count": 4,
   "metadata": {},
   "outputs": [
    {
     "data": {
      "text/plain": [
       "(3239553, 21)"
      ]
     },
     "execution_count": 4,
     "metadata": {},
     "output_type": "execute_result"
    }
   ],
   "source": [
    "df.shape"
   ]
  },
  {
   "cell_type": "code",
   "execution_count": 5,
   "metadata": {
    "scrolled": false
   },
   "outputs": [
    {
     "data": {
      "text/html": [
       "<div>\n",
       "<style scoped>\n",
       "    .dataframe tbody tr th:only-of-type {\n",
       "        vertical-align: middle;\n",
       "    }\n",
       "\n",
       "    .dataframe tbody tr th {\n",
       "        vertical-align: top;\n",
       "    }\n",
       "\n",
       "    .dataframe thead th {\n",
       "        text-align: right;\n",
       "    }\n",
       "</style>\n",
       "<table border=\"1\" class=\"dataframe\">\n",
       "  <thead>\n",
       "    <tr style=\"text-align: right;\">\n",
       "      <th></th>\n",
       "      <th>PWGTP</th>\n",
       "      <th>WGTP</th>\n",
       "      <th>PINCP</th>\n",
       "      <th>WKHP</th>\n",
       "      <th>WAGP</th>\n",
       "      <th>AGEP</th>\n",
       "      <th>FER</th>\n",
       "      <th>DIS</th>\n",
       "      <th>COW</th>\n",
       "      <th>CPLT</th>\n",
       "      <th>ADJINC</th>\n",
       "      <th>CIT</th>\n",
       "      <th>POBP</th>\n",
       "      <th>PARTNER</th>\n",
       "      <th>SEX</th>\n",
       "      <th>RAC1P</th>\n",
       "      <th>SCHL</th>\n",
       "      <th>OCCP</th>\n",
       "      <th>NAICSP</th>\n",
       "      <th>SERIALNO</th>\n",
       "      <th>SPORDER</th>\n",
       "    </tr>\n",
       "  </thead>\n",
       "  <tbody>\n",
       "    <tr>\n",
       "      <th>0</th>\n",
       "      <td>71</td>\n",
       "      <td>0</td>\n",
       "      <td>63000</td>\n",
       "      <td>80</td>\n",
       "      <td>63000</td>\n",
       "      <td>35</td>\n",
       "      <td>0</td>\n",
       "      <td>2</td>\n",
       "      <td>1</td>\n",
       "      <td>0</td>\n",
       "      <td>1.010145</td>\n",
       "      <td>1</td>\n",
       "      <td>18</td>\n",
       "      <td>-1</td>\n",
       "      <td>1</td>\n",
       "      <td>1</td>\n",
       "      <td>17</td>\n",
       "      <td>6250</td>\n",
       "      <td>23</td>\n",
       "      <td>2019GQ0000001</td>\n",
       "      <td>1</td>\n",
       "    </tr>\n",
       "    <tr>\n",
       "      <th>1</th>\n",
       "      <td>67</td>\n",
       "      <td>0</td>\n",
       "      <td>0</td>\n",
       "      <td>0</td>\n",
       "      <td>0</td>\n",
       "      <td>25</td>\n",
       "      <td>0</td>\n",
       "      <td>2</td>\n",
       "      <td>0</td>\n",
       "      <td>0</td>\n",
       "      <td>1.010145</td>\n",
       "      <td>1</td>\n",
       "      <td>48</td>\n",
       "      <td>-1</td>\n",
       "      <td>1</td>\n",
       "      <td>1</td>\n",
       "      <td>12</td>\n",
       "      <td>9</td>\n",
       "      <td>-1</td>\n",
       "      <td>2019GQ0000004</td>\n",
       "      <td>1</td>\n",
       "    </tr>\n",
       "    <tr>\n",
       "      <th>2</th>\n",
       "      <td>24</td>\n",
       "      <td>0</td>\n",
       "      <td>2000</td>\n",
       "      <td>15</td>\n",
       "      <td>2000</td>\n",
       "      <td>21</td>\n",
       "      <td>2</td>\n",
       "      <td>2</td>\n",
       "      <td>2</td>\n",
       "      <td>0</td>\n",
       "      <td>1.010145</td>\n",
       "      <td>5</td>\n",
       "      <td>229</td>\n",
       "      <td>-1</td>\n",
       "      <td>2</td>\n",
       "      <td>6</td>\n",
       "      <td>19</td>\n",
       "      <td>4740</td>\n",
       "      <td>611M1</td>\n",
       "      <td>2019GQ0000007</td>\n",
       "      <td>1</td>\n",
       "    </tr>\n",
       "    <tr>\n",
       "      <th>3</th>\n",
       "      <td>52</td>\n",
       "      <td>0</td>\n",
       "      <td>0</td>\n",
       "      <td>0</td>\n",
       "      <td>0</td>\n",
       "      <td>49</td>\n",
       "      <td>0</td>\n",
       "      <td>2</td>\n",
       "      <td>1</td>\n",
       "      <td>0</td>\n",
       "      <td>1.010145</td>\n",
       "      <td>1</td>\n",
       "      <td>6</td>\n",
       "      <td>-1</td>\n",
       "      <td>1</td>\n",
       "      <td>1</td>\n",
       "      <td>21</td>\n",
       "      <td>110</td>\n",
       "      <td>722Z</td>\n",
       "      <td>2019GQ0000010</td>\n",
       "      <td>1</td>\n",
       "    </tr>\n",
       "    <tr>\n",
       "      <th>4</th>\n",
       "      <td>28</td>\n",
       "      <td>0</td>\n",
       "      <td>6000</td>\n",
       "      <td>15</td>\n",
       "      <td>6000</td>\n",
       "      <td>18</td>\n",
       "      <td>2</td>\n",
       "      <td>2</td>\n",
       "      <td>1</td>\n",
       "      <td>0</td>\n",
       "      <td>1.010145</td>\n",
       "      <td>1</td>\n",
       "      <td>6</td>\n",
       "      <td>-1</td>\n",
       "      <td>2</td>\n",
       "      <td>1</td>\n",
       "      <td>16</td>\n",
       "      <td>4110</td>\n",
       "      <td>722Z</td>\n",
       "      <td>2019GQ0000013</td>\n",
       "      <td>1</td>\n",
       "    </tr>\n",
       "  </tbody>\n",
       "</table>\n",
       "</div>"
      ],
      "text/plain": [
       "   PWGTP  WGTP  PINCP  WKHP   WAGP  AGEP  FER  DIS  COW  CPLT    ADJINC  CIT  \\\n",
       "0     71     0  63000    80  63000    35    0    2    1     0  1.010145    1   \n",
       "1     67     0      0     0      0    25    0    2    0     0  1.010145    1   \n",
       "2     24     0   2000    15   2000    21    2    2    2     0  1.010145    5   \n",
       "3     52     0      0     0      0    49    0    2    1     0  1.010145    1   \n",
       "4     28     0   6000    15   6000    18    2    2    1     0  1.010145    1   \n",
       "\n",
       "   POBP  PARTNER  SEX  RAC1P  SCHL  OCCP NAICSP       SERIALNO  SPORDER  \n",
       "0    18       -1    1      1    17  6250     23  2019GQ0000001        1  \n",
       "1    48       -1    1      1    12     9     -1  2019GQ0000004        1  \n",
       "2   229       -1    2      6    19  4740  611M1  2019GQ0000007        1  \n",
       "3     6       -1    1      1    21   110   722Z  2019GQ0000010        1  \n",
       "4     6       -1    2      1    16  4110   722Z  2019GQ0000013        1  "
      ]
     },
     "execution_count": 5,
     "metadata": {},
     "output_type": "execute_result"
    }
   ],
   "source": [
    "df.head()"
   ]
  },
  {
   "cell_type": "code",
   "execution_count": 6,
   "metadata": {},
   "outputs": [
    {
     "data": {
      "text/plain": [
       "(3239553, 21)"
      ]
     },
     "execution_count": 6,
     "metadata": {},
     "output_type": "execute_result"
    }
   ],
   "source": [
    "df.shape"
   ]
  },
  {
   "cell_type": "code",
   "execution_count": 7,
   "metadata": {},
   "outputs": [],
   "source": [
    "org_vars = \"\"\"PINCP\n",
    "WAGP\n",
    "INTP\n",
    "ADJINC\n",
    "PWGTP\n",
    "OCCP\n",
    "NAICSP\n",
    "WKHP\n",
    "AGEP\n",
    "SEX\n",
    "FER\n",
    "CPLT\n",
    "PARTNER\n",
    "COW\n",
    "RAC1P\n",
    "POBP\n",
    "CIT\n",
    "SCHL\n",
    "DIS\n",
    "SERIALNO\n",
    "SPORDER\n",
    "WAOB\"\"\".split(\"\\n\")"
   ]
  },
  {
   "cell_type": "code",
   "execution_count": 8,
   "metadata": {},
   "outputs": [],
   "source": [
    "uptd_vars = \"\"\"INCOME\n",
    "SALARY\n",
    "INTEREST_DIV\n",
    "ADJINC\n",
    "FNLWGT\n",
    "OCCUPATION\n",
    "WORK_INDUSTRY\n",
    "WKLY_HRS\n",
    "AGE\n",
    "SEX\n",
    "MOM\n",
    "COUPLE\n",
    "PARTNER\n",
    "WORK_CLASS\n",
    "RACE\n",
    "POB_DETAIL\n",
    "CITIZENSHIP\n",
    "EDUCATION\n",
    "DIS\n",
    "SERIALNO\n",
    "PERSON_NO\n",
    "POB_WORLD\"\"\".split(\"\\n\")"
   ]
  },
  {
   "cell_type": "code",
   "execution_count": 9,
   "metadata": {},
   "outputs": [],
   "source": [
    "vars_dict = dict(zip(org_vars, uptd_vars))"
   ]
  },
  {
   "cell_type": "code",
   "execution_count": 10,
   "metadata": {
    "scrolled": true
   },
   "outputs": [
    {
     "data": {
      "text/plain": [
       "{'PINCP': 'INCOME',\n",
       " 'WAGP': 'SALARY',\n",
       " 'INTP': 'INTEREST_DIV',\n",
       " 'ADJINC': 'ADJINC',\n",
       " 'PWGTP': 'FNLWGT',\n",
       " 'OCCP': 'OCCUPATION',\n",
       " 'NAICSP': 'WORK_INDUSTRY',\n",
       " 'WKHP': 'WKLY_HRS',\n",
       " 'AGEP': 'AGE',\n",
       " 'SEX': 'SEX',\n",
       " 'FER': 'MOM',\n",
       " 'CPLT': 'COUPLE',\n",
       " 'PARTNER': 'PARTNER',\n",
       " 'COW': 'WORK_CLASS',\n",
       " 'RAC1P': 'RACE',\n",
       " 'POBP': 'POB_DETAIL',\n",
       " 'CIT': 'CITIZENSHIP',\n",
       " 'SCHL': 'EDUCATION',\n",
       " 'DIS': 'DIS',\n",
       " 'SERIALNO': 'SERIALNO',\n",
       " 'SPORDER': 'PERSON_NO',\n",
       " 'WAOB': 'POB_WORLD'}"
      ]
     },
     "execution_count": 10,
     "metadata": {},
     "output_type": "execute_result"
    }
   ],
   "source": [
    "vars_dict"
   ]
  },
  {
   "cell_type": "code",
   "execution_count": 11,
   "metadata": {},
   "outputs": [
    {
     "data": {
      "text/plain": [
       "PWGTP         int64\n",
       "WGTP          int64\n",
       "PINCP         int64\n",
       "WKHP          int64\n",
       "WAGP          int64\n",
       "AGEP          int64\n",
       "FER           int64\n",
       "DIS           int64\n",
       "COW           int64\n",
       "CPLT          int64\n",
       "ADJINC      float64\n",
       "CIT           int64\n",
       "POBP          int64\n",
       "PARTNER       int64\n",
       "SEX           int64\n",
       "RAC1P         int64\n",
       "SCHL          int64\n",
       "OCCP          int64\n",
       "NAICSP       object\n",
       "SERIALNO     object\n",
       "SPORDER       int64\n",
       "dtype: object"
      ]
     },
     "execution_count": 11,
     "metadata": {},
     "output_type": "execute_result"
    }
   ],
   "source": [
    "df.dtypes"
   ]
  },
  {
   "cell_type": "code",
   "execution_count": 12,
   "metadata": {},
   "outputs": [],
   "source": [
    "df = df.rename(columns=vars_dict)"
   ]
  },
  {
   "cell_type": "code",
   "execution_count": 13,
   "metadata": {
    "scrolled": false
   },
   "outputs": [
    {
     "data": {
      "text/html": [
       "<div>\n",
       "<style scoped>\n",
       "    .dataframe tbody tr th:only-of-type {\n",
       "        vertical-align: middle;\n",
       "    }\n",
       "\n",
       "    .dataframe tbody tr th {\n",
       "        vertical-align: top;\n",
       "    }\n",
       "\n",
       "    .dataframe thead th {\n",
       "        text-align: right;\n",
       "    }\n",
       "</style>\n",
       "<table border=\"1\" class=\"dataframe\">\n",
       "  <thead>\n",
       "    <tr style=\"text-align: right;\">\n",
       "      <th></th>\n",
       "      <th>FNLWGT</th>\n",
       "      <th>WGTP</th>\n",
       "      <th>INCOME</th>\n",
       "      <th>WKLY_HRS</th>\n",
       "      <th>SALARY</th>\n",
       "      <th>AGE</th>\n",
       "      <th>MOM</th>\n",
       "      <th>DIS</th>\n",
       "      <th>WORK_CLASS</th>\n",
       "      <th>COUPLE</th>\n",
       "      <th>ADJINC</th>\n",
       "      <th>CITIZENSHIP</th>\n",
       "      <th>POB_DETAIL</th>\n",
       "      <th>PARTNER</th>\n",
       "      <th>SEX</th>\n",
       "      <th>RACE</th>\n",
       "      <th>EDUCATION</th>\n",
       "      <th>OCCUPATION</th>\n",
       "      <th>WORK_INDUSTRY</th>\n",
       "      <th>SERIALNO</th>\n",
       "      <th>PERSON_NO</th>\n",
       "    </tr>\n",
       "  </thead>\n",
       "  <tbody>\n",
       "    <tr>\n",
       "      <th>0</th>\n",
       "      <td>71</td>\n",
       "      <td>0</td>\n",
       "      <td>63000</td>\n",
       "      <td>80</td>\n",
       "      <td>63000</td>\n",
       "      <td>35</td>\n",
       "      <td>0</td>\n",
       "      <td>2</td>\n",
       "      <td>1</td>\n",
       "      <td>0</td>\n",
       "      <td>1.010145</td>\n",
       "      <td>1</td>\n",
       "      <td>18</td>\n",
       "      <td>-1</td>\n",
       "      <td>1</td>\n",
       "      <td>1</td>\n",
       "      <td>17</td>\n",
       "      <td>6250</td>\n",
       "      <td>23</td>\n",
       "      <td>2019GQ0000001</td>\n",
       "      <td>1</td>\n",
       "    </tr>\n",
       "    <tr>\n",
       "      <th>1</th>\n",
       "      <td>67</td>\n",
       "      <td>0</td>\n",
       "      <td>0</td>\n",
       "      <td>0</td>\n",
       "      <td>0</td>\n",
       "      <td>25</td>\n",
       "      <td>0</td>\n",
       "      <td>2</td>\n",
       "      <td>0</td>\n",
       "      <td>0</td>\n",
       "      <td>1.010145</td>\n",
       "      <td>1</td>\n",
       "      <td>48</td>\n",
       "      <td>-1</td>\n",
       "      <td>1</td>\n",
       "      <td>1</td>\n",
       "      <td>12</td>\n",
       "      <td>9</td>\n",
       "      <td>-1</td>\n",
       "      <td>2019GQ0000004</td>\n",
       "      <td>1</td>\n",
       "    </tr>\n",
       "    <tr>\n",
       "      <th>2</th>\n",
       "      <td>24</td>\n",
       "      <td>0</td>\n",
       "      <td>2000</td>\n",
       "      <td>15</td>\n",
       "      <td>2000</td>\n",
       "      <td>21</td>\n",
       "      <td>2</td>\n",
       "      <td>2</td>\n",
       "      <td>2</td>\n",
       "      <td>0</td>\n",
       "      <td>1.010145</td>\n",
       "      <td>5</td>\n",
       "      <td>229</td>\n",
       "      <td>-1</td>\n",
       "      <td>2</td>\n",
       "      <td>6</td>\n",
       "      <td>19</td>\n",
       "      <td>4740</td>\n",
       "      <td>611M1</td>\n",
       "      <td>2019GQ0000007</td>\n",
       "      <td>1</td>\n",
       "    </tr>\n",
       "    <tr>\n",
       "      <th>3</th>\n",
       "      <td>52</td>\n",
       "      <td>0</td>\n",
       "      <td>0</td>\n",
       "      <td>0</td>\n",
       "      <td>0</td>\n",
       "      <td>49</td>\n",
       "      <td>0</td>\n",
       "      <td>2</td>\n",
       "      <td>1</td>\n",
       "      <td>0</td>\n",
       "      <td>1.010145</td>\n",
       "      <td>1</td>\n",
       "      <td>6</td>\n",
       "      <td>-1</td>\n",
       "      <td>1</td>\n",
       "      <td>1</td>\n",
       "      <td>21</td>\n",
       "      <td>110</td>\n",
       "      <td>722Z</td>\n",
       "      <td>2019GQ0000010</td>\n",
       "      <td>1</td>\n",
       "    </tr>\n",
       "    <tr>\n",
       "      <th>4</th>\n",
       "      <td>28</td>\n",
       "      <td>0</td>\n",
       "      <td>6000</td>\n",
       "      <td>15</td>\n",
       "      <td>6000</td>\n",
       "      <td>18</td>\n",
       "      <td>2</td>\n",
       "      <td>2</td>\n",
       "      <td>1</td>\n",
       "      <td>0</td>\n",
       "      <td>1.010145</td>\n",
       "      <td>1</td>\n",
       "      <td>6</td>\n",
       "      <td>-1</td>\n",
       "      <td>2</td>\n",
       "      <td>1</td>\n",
       "      <td>16</td>\n",
       "      <td>4110</td>\n",
       "      <td>722Z</td>\n",
       "      <td>2019GQ0000013</td>\n",
       "      <td>1</td>\n",
       "    </tr>\n",
       "  </tbody>\n",
       "</table>\n",
       "</div>"
      ],
      "text/plain": [
       "   FNLWGT  WGTP  INCOME  WKLY_HRS  SALARY  AGE  MOM  DIS  WORK_CLASS  COUPLE  \\\n",
       "0      71     0   63000        80   63000   35    0    2           1       0   \n",
       "1      67     0       0         0       0   25    0    2           0       0   \n",
       "2      24     0    2000        15    2000   21    2    2           2       0   \n",
       "3      52     0       0         0       0   49    0    2           1       0   \n",
       "4      28     0    6000        15    6000   18    2    2           1       0   \n",
       "\n",
       "     ADJINC  CITIZENSHIP  POB_DETAIL  PARTNER  SEX  RACE  EDUCATION  \\\n",
       "0  1.010145            1          18       -1    1     1         17   \n",
       "1  1.010145            1          48       -1    1     1         12   \n",
       "2  1.010145            5         229       -1    2     6         19   \n",
       "3  1.010145            1           6       -1    1     1         21   \n",
       "4  1.010145            1           6       -1    2     1         16   \n",
       "\n",
       "   OCCUPATION WORK_INDUSTRY       SERIALNO  PERSON_NO  \n",
       "0        6250            23  2019GQ0000001          1  \n",
       "1           9            -1  2019GQ0000004          1  \n",
       "2        4740         611M1  2019GQ0000007          1  \n",
       "3         110          722Z  2019GQ0000010          1  \n",
       "4        4110          722Z  2019GQ0000013          1  "
      ]
     },
     "execution_count": 13,
     "metadata": {},
     "output_type": "execute_result"
    }
   ],
   "source": [
    "df.head()"
   ]
  },
  {
   "cell_type": "code",
   "execution_count": 14,
   "metadata": {},
   "outputs": [
    {
     "data": {
      "text/plain": [
       "0"
      ]
     },
     "execution_count": 14,
     "metadata": {},
     "output_type": "execute_result"
    }
   ],
   "source": [
    "df.duplicated().sum()"
   ]
  },
  {
   "cell_type": "code",
   "execution_count": 15,
   "metadata": {},
   "outputs": [],
   "source": [
    "# narrow down data to adults over the 17 years old\n",
    "df = df[df.AGE > 17]"
   ]
  },
  {
   "cell_type": "code",
   "execution_count": 16,
   "metadata": {},
   "outputs": [
    {
     "data": {
      "text/plain": [
       "(2599171, 21)"
      ]
     },
     "execution_count": 16,
     "metadata": {},
     "output_type": "execute_result"
    }
   ],
   "source": [
    "df.shape"
   ]
  },
  {
   "cell_type": "code",
   "execution_count": 17,
   "metadata": {},
   "outputs": [],
   "source": [
    "# narrow down data to adults who worked in the past 12 months\n",
    "df = df[df.WKLY_HRS > 0]"
   ]
  },
  {
   "cell_type": "code",
   "execution_count": 18,
   "metadata": {
    "scrolled": true
   },
   "outputs": [
    {
     "data": {
      "text/plain": [
       "(1659727, 21)"
      ]
     },
     "execution_count": 18,
     "metadata": {},
     "output_type": "execute_result"
    }
   ],
   "source": [
    "df.shape"
   ]
  },
  {
   "cell_type": "code",
   "execution_count": 19,
   "metadata": {
    "scrolled": true
   },
   "outputs": [
    {
     "data": {
      "text/html": [
       "<div>\n",
       "<style scoped>\n",
       "    .dataframe tbody tr th:only-of-type {\n",
       "        vertical-align: middle;\n",
       "    }\n",
       "\n",
       "    .dataframe tbody tr th {\n",
       "        vertical-align: top;\n",
       "    }\n",
       "\n",
       "    .dataframe thead th {\n",
       "        text-align: right;\n",
       "    }\n",
       "</style>\n",
       "<table border=\"1\" class=\"dataframe\">\n",
       "  <thead>\n",
       "    <tr style=\"text-align: right;\">\n",
       "      <th></th>\n",
       "      <th>FNLWGT</th>\n",
       "      <th>WGTP</th>\n",
       "      <th>INCOME</th>\n",
       "      <th>WKLY_HRS</th>\n",
       "      <th>SALARY</th>\n",
       "      <th>AGE</th>\n",
       "      <th>MOM</th>\n",
       "      <th>DIS</th>\n",
       "      <th>WORK_CLASS</th>\n",
       "      <th>COUPLE</th>\n",
       "      <th>ADJINC</th>\n",
       "      <th>CITIZENSHIP</th>\n",
       "      <th>POB_DETAIL</th>\n",
       "      <th>PARTNER</th>\n",
       "      <th>SEX</th>\n",
       "      <th>RACE</th>\n",
       "      <th>EDUCATION</th>\n",
       "      <th>OCCUPATION</th>\n",
       "      <th>PERSON_NO</th>\n",
       "    </tr>\n",
       "  </thead>\n",
       "  <tbody>\n",
       "    <tr>\n",
       "      <th>count</th>\n",
       "      <td>1.659727e+06</td>\n",
       "      <td>1.659727e+06</td>\n",
       "      <td>1.659727e+06</td>\n",
       "      <td>1.659727e+06</td>\n",
       "      <td>1.659727e+06</td>\n",
       "      <td>1.659727e+06</td>\n",
       "      <td>1.659727e+06</td>\n",
       "      <td>1.659727e+06</td>\n",
       "      <td>1.659727e+06</td>\n",
       "      <td>1.659727e+06</td>\n",
       "      <td>1.659727e+06</td>\n",
       "      <td>1.659727e+06</td>\n",
       "      <td>1.659727e+06</td>\n",
       "      <td>1.659727e+06</td>\n",
       "      <td>1.659727e+06</td>\n",
       "      <td>1.659727e+06</td>\n",
       "      <td>1.659727e+06</td>\n",
       "      <td>1.659727e+06</td>\n",
       "      <td>1.659727e+06</td>\n",
       "    </tr>\n",
       "    <tr>\n",
       "      <th>mean</th>\n",
       "      <td>1.033513e+02</td>\n",
       "      <td>9.579058e+01</td>\n",
       "      <td>6.058823e+04</td>\n",
       "      <td>3.839128e+01</td>\n",
       "      <td>5.189937e+04</td>\n",
       "      <td>4.390527e+01</td>\n",
       "      <td>5.906477e-01</td>\n",
       "      <td>1.928990e+00</td>\n",
       "      <td>2.103359e+00</td>\n",
       "      <td>8.639788e-01</td>\n",
       "      <td>1.010145e+00</td>\n",
       "      <td>1.519284e+00</td>\n",
       "      <td>6.538772e+01</td>\n",
       "      <td>2.079902e-01</td>\n",
       "      <td>1.478681e+00</td>\n",
       "      <td>1.873518e+00</td>\n",
       "      <td>1.871658e+01</td>\n",
       "      <td>4.088068e+03</td>\n",
       "      <td>1.676787e+00</td>\n",
       "    </tr>\n",
       "    <tr>\n",
       "      <th>std</th>\n",
       "      <td>9.061065e+01</td>\n",
       "      <td>8.493126e+01</td>\n",
       "      <td>7.691692e+04</td>\n",
       "      <td>1.310493e+01</td>\n",
       "      <td>6.724644e+04</td>\n",
       "      <td>1.525340e+01</td>\n",
       "      <td>9.042176e-01</td>\n",
       "      <td>2.568414e-01</td>\n",
       "      <td>1.827131e+00</td>\n",
       "      <td>8.056928e-01</td>\n",
       "      <td>3.338952e-11</td>\n",
       "      <td>1.227446e+00</td>\n",
       "      <td>9.273321e+01</td>\n",
       "      <td>8.872759e-01</td>\n",
       "      <td>4.995454e-01</td>\n",
       "      <td>2.079837e+00</td>\n",
       "      <td>3.274921e+00</td>\n",
       "      <td>2.685733e+03</td>\n",
       "      <td>9.803672e-01</td>\n",
       "    </tr>\n",
       "    <tr>\n",
       "      <th>min</th>\n",
       "      <td>1.000000e+00</td>\n",
       "      <td>0.000000e+00</td>\n",
       "      <td>-1.020000e+04</td>\n",
       "      <td>1.000000e+00</td>\n",
       "      <td>0.000000e+00</td>\n",
       "      <td>1.800000e+01</td>\n",
       "      <td>0.000000e+00</td>\n",
       "      <td>1.000000e+00</td>\n",
       "      <td>1.000000e+00</td>\n",
       "      <td>0.000000e+00</td>\n",
       "      <td>1.010145e+00</td>\n",
       "      <td>1.000000e+00</td>\n",
       "      <td>1.000000e+00</td>\n",
       "      <td>-1.000000e+00</td>\n",
       "      <td>1.000000e+00</td>\n",
       "      <td>1.000000e+00</td>\n",
       "      <td>1.000000e+00</td>\n",
       "      <td>1.000000e+01</td>\n",
       "      <td>1.000000e+00</td>\n",
       "    </tr>\n",
       "    <tr>\n",
       "      <th>25%</th>\n",
       "      <td>5.100000e+01</td>\n",
       "      <td>4.800000e+01</td>\n",
       "      <td>2.100000e+04</td>\n",
       "      <td>3.500000e+01</td>\n",
       "      <td>1.450000e+04</td>\n",
       "      <td>3.100000e+01</td>\n",
       "      <td>0.000000e+00</td>\n",
       "      <td>2.000000e+00</td>\n",
       "      <td>1.000000e+00</td>\n",
       "      <td>0.000000e+00</td>\n",
       "      <td>1.010145e+00</td>\n",
       "      <td>1.000000e+00</td>\n",
       "      <td>1.800000e+01</td>\n",
       "      <td>0.000000e+00</td>\n",
       "      <td>1.000000e+00</td>\n",
       "      <td>1.000000e+00</td>\n",
       "      <td>1.600000e+01</td>\n",
       "      <td>2.040000e+03</td>\n",
       "      <td>1.000000e+00</td>\n",
       "    </tr>\n",
       "    <tr>\n",
       "      <th>50%</th>\n",
       "      <td>7.900000e+01</td>\n",
       "      <td>7.400000e+01</td>\n",
       "      <td>4.024000e+04</td>\n",
       "      <td>4.000000e+01</td>\n",
       "      <td>3.540000e+04</td>\n",
       "      <td>4.400000e+01</td>\n",
       "      <td>0.000000e+00</td>\n",
       "      <td>2.000000e+00</td>\n",
       "      <td>1.000000e+00</td>\n",
       "      <td>1.000000e+00</td>\n",
       "      <td>1.010145e+00</td>\n",
       "      <td>1.000000e+00</td>\n",
       "      <td>3.600000e+01</td>\n",
       "      <td>0.000000e+00</td>\n",
       "      <td>1.000000e+00</td>\n",
       "      <td>1.000000e+00</td>\n",
       "      <td>1.900000e+01</td>\n",
       "      <td>4.110000e+03</td>\n",
       "      <td>1.000000e+00</td>\n",
       "    </tr>\n",
       "    <tr>\n",
       "      <th>75%</th>\n",
       "      <td>1.230000e+02</td>\n",
       "      <td>1.160000e+02</td>\n",
       "      <td>7.200000e+04</td>\n",
       "      <td>4.200000e+01</td>\n",
       "      <td>6.500000e+04</td>\n",
       "      <td>5.600000e+01</td>\n",
       "      <td>2.000000e+00</td>\n",
       "      <td>2.000000e+00</td>\n",
       "      <td>3.000000e+00</td>\n",
       "      <td>1.000000e+00</td>\n",
       "      <td>1.010145e+00</td>\n",
       "      <td>1.000000e+00</td>\n",
       "      <td>4.800000e+01</td>\n",
       "      <td>0.000000e+00</td>\n",
       "      <td>2.000000e+00</td>\n",
       "      <td>1.000000e+00</td>\n",
       "      <td>2.100000e+01</td>\n",
       "      <td>5.740000e+03</td>\n",
       "      <td>2.000000e+00</td>\n",
       "    </tr>\n",
       "    <tr>\n",
       "      <th>max</th>\n",
       "      <td>2.408000e+03</td>\n",
       "      <td>2.377000e+03</td>\n",
       "      <td>1.629000e+06</td>\n",
       "      <td>9.900000e+01</td>\n",
       "      <td>7.170000e+05</td>\n",
       "      <td>9.600000e+01</td>\n",
       "      <td>2.000000e+00</td>\n",
       "      <td>2.000000e+00</td>\n",
       "      <td>8.000000e+00</td>\n",
       "      <td>4.000000e+00</td>\n",
       "      <td>1.010145e+00</td>\n",
       "      <td>5.000000e+00</td>\n",
       "      <td>5.540000e+02</td>\n",
       "      <td>4.000000e+00</td>\n",
       "      <td>2.000000e+00</td>\n",
       "      <td>9.000000e+00</td>\n",
       "      <td>2.400000e+01</td>\n",
       "      <td>9.830000e+03</td>\n",
       "      <td>2.000000e+01</td>\n",
       "    </tr>\n",
       "  </tbody>\n",
       "</table>\n",
       "</div>"
      ],
      "text/plain": [
       "             FNLWGT          WGTP        INCOME      WKLY_HRS        SALARY  \\\n",
       "count  1.659727e+06  1.659727e+06  1.659727e+06  1.659727e+06  1.659727e+06   \n",
       "mean   1.033513e+02  9.579058e+01  6.058823e+04  3.839128e+01  5.189937e+04   \n",
       "std    9.061065e+01  8.493126e+01  7.691692e+04  1.310493e+01  6.724644e+04   \n",
       "min    1.000000e+00  0.000000e+00 -1.020000e+04  1.000000e+00  0.000000e+00   \n",
       "25%    5.100000e+01  4.800000e+01  2.100000e+04  3.500000e+01  1.450000e+04   \n",
       "50%    7.900000e+01  7.400000e+01  4.024000e+04  4.000000e+01  3.540000e+04   \n",
       "75%    1.230000e+02  1.160000e+02  7.200000e+04  4.200000e+01  6.500000e+04   \n",
       "max    2.408000e+03  2.377000e+03  1.629000e+06  9.900000e+01  7.170000e+05   \n",
       "\n",
       "                AGE           MOM           DIS    WORK_CLASS        COUPLE  \\\n",
       "count  1.659727e+06  1.659727e+06  1.659727e+06  1.659727e+06  1.659727e+06   \n",
       "mean   4.390527e+01  5.906477e-01  1.928990e+00  2.103359e+00  8.639788e-01   \n",
       "std    1.525340e+01  9.042176e-01  2.568414e-01  1.827131e+00  8.056928e-01   \n",
       "min    1.800000e+01  0.000000e+00  1.000000e+00  1.000000e+00  0.000000e+00   \n",
       "25%    3.100000e+01  0.000000e+00  2.000000e+00  1.000000e+00  0.000000e+00   \n",
       "50%    4.400000e+01  0.000000e+00  2.000000e+00  1.000000e+00  1.000000e+00   \n",
       "75%    5.600000e+01  2.000000e+00  2.000000e+00  3.000000e+00  1.000000e+00   \n",
       "max    9.600000e+01  2.000000e+00  2.000000e+00  8.000000e+00  4.000000e+00   \n",
       "\n",
       "             ADJINC   CITIZENSHIP    POB_DETAIL       PARTNER           SEX  \\\n",
       "count  1.659727e+06  1.659727e+06  1.659727e+06  1.659727e+06  1.659727e+06   \n",
       "mean   1.010145e+00  1.519284e+00  6.538772e+01  2.079902e-01  1.478681e+00   \n",
       "std    3.338952e-11  1.227446e+00  9.273321e+01  8.872759e-01  4.995454e-01   \n",
       "min    1.010145e+00  1.000000e+00  1.000000e+00 -1.000000e+00  1.000000e+00   \n",
       "25%    1.010145e+00  1.000000e+00  1.800000e+01  0.000000e+00  1.000000e+00   \n",
       "50%    1.010145e+00  1.000000e+00  3.600000e+01  0.000000e+00  1.000000e+00   \n",
       "75%    1.010145e+00  1.000000e+00  4.800000e+01  0.000000e+00  2.000000e+00   \n",
       "max    1.010145e+00  5.000000e+00  5.540000e+02  4.000000e+00  2.000000e+00   \n",
       "\n",
       "               RACE     EDUCATION    OCCUPATION     PERSON_NO  \n",
       "count  1.659727e+06  1.659727e+06  1.659727e+06  1.659727e+06  \n",
       "mean   1.873518e+00  1.871658e+01  4.088068e+03  1.676787e+00  \n",
       "std    2.079837e+00  3.274921e+00  2.685733e+03  9.803672e-01  \n",
       "min    1.000000e+00  1.000000e+00  1.000000e+01  1.000000e+00  \n",
       "25%    1.000000e+00  1.600000e+01  2.040000e+03  1.000000e+00  \n",
       "50%    1.000000e+00  1.900000e+01  4.110000e+03  1.000000e+00  \n",
       "75%    1.000000e+00  2.100000e+01  5.740000e+03  2.000000e+00  \n",
       "max    9.000000e+00  2.400000e+01  9.830000e+03  2.000000e+01  "
      ]
     },
     "execution_count": 19,
     "metadata": {},
     "output_type": "execute_result"
    }
   ],
   "source": [
    "df.describe()"
   ]
  },
  {
   "cell_type": "code",
   "execution_count": 20,
   "metadata": {},
   "outputs": [
    {
     "data": {
      "text/plain": [
       "<matplotlib.axes._subplots.AxesSubplot at 0x2331a9398e0>"
      ]
     },
     "execution_count": 20,
     "metadata": {},
     "output_type": "execute_result"
    },
    {
     "data": {
      "image/png": "[encoded data removed]",
      "text/plain": [
       "<Figure size 432x288 with 1 Axes>"
      ]
     },
     "metadata": {},
     "output_type": "display_data"
    }
   ],
   "source": [
    "sns.boxplot(x=df.INCOME)\n"
   ]
  },
  {
   "cell_type": "code",
   "execution_count": 21,
   "metadata": {},
   "outputs": [
    {
     "data": {
      "text/plain": [
       "count    1.659727e+06\n",
       "mean     6.058823e+04\n",
       "std      7.691692e+04\n",
       "min     -1.020000e+04\n",
       "25%      2.100000e+04\n",
       "50%      4.024000e+04\n",
       "75%      7.200000e+04\n",
       "max      1.629000e+06\n",
       "Name: INCOME, dtype: float64"
      ]
     },
     "execution_count": 21,
     "metadata": {},
     "output_type": "execute_result"
    }
   ],
   "source": [
    "df.INCOME.describe()"
   ]
  },
  {
   "cell_type": "code",
   "execution_count": 22,
   "metadata": {},
   "outputs": [
    {
     "data": {
      "text/plain": [
       "0           63000\n",
       "2            2000\n",
       "4            6000\n",
       "11           3200\n",
       "13            500\n",
       "            ...  \n",
       "3239548    150000\n",
       "3239549     27000\n",
       "3239550     75000\n",
       "3239551     57000\n",
       "3239552     55000\n",
       "Name: INCOME, Length: 1659727, dtype: int64"
      ]
     },
     "execution_count": 22,
     "metadata": {},
     "output_type": "execute_result"
    }
   ],
   "source": [
    "df.INCOME"
   ]
  },
  {
   "cell_type": "code",
   "execution_count": 23,
   "metadata": {},
   "outputs": [
    {
     "data": {
      "text/plain": [
       "count    1.656282e+06\n",
       "mean     6.071761e+04\n",
       "std      7.694438e+04\n",
       "min      1.040000e+02\n",
       "25%      2.100000e+04\n",
       "50%      4.050000e+04\n",
       "75%      7.200000e+04\n",
       "max      1.629000e+06\n",
       "Name: INCOME, dtype: float64"
      ]
     },
     "execution_count": 23,
     "metadata": {},
     "output_type": "execute_result"
    }
   ],
   "source": [
    "df[df.INCOME > 100]['INCOME'].describe()"
   ]
  },
  {
   "cell_type": "code",
   "execution_count": 24,
   "metadata": {},
   "outputs": [
    {
     "data": {
      "text/plain": [
       "count    1.659727e+06\n",
       "mean     5.189937e+04\n",
       "std      6.724644e+04\n",
       "min      0.000000e+00\n",
       "25%      1.450000e+04\n",
       "50%      3.540000e+04\n",
       "75%      6.500000e+04\n",
       "max      7.170000e+05\n",
       "Name: SALARY, dtype: float64"
      ]
     },
     "execution_count": 24,
     "metadata": {},
     "output_type": "execute_result"
    }
   ],
   "source": [
    "df.SALARY.describe()"
   ]
  },
  {
   "cell_type": "code",
   "execution_count": 25,
   "metadata": {},
   "outputs": [
    {
     "data": {
      "text/plain": [
       "21    378817\n",
       "16    342093\n",
       "19    250254\n",
       "22    166793\n",
       "20    154487\n",
       "18    120758\n",
       "17     56487\n",
       "23     42571\n",
       "24     29033\n",
       "15     26173\n",
       "14     23779\n",
       "1      15897\n",
       "13     15039\n",
       "12     12130\n",
       "9       8507\n",
       "11      8136\n",
       "10      2418\n",
       "8       1794\n",
       "6       1670\n",
       "7       1112\n",
       "5        797\n",
       "4        423\n",
       "2        298\n",
       "3        261\n",
       "Name: EDUCATION, dtype: int64"
      ]
     },
     "execution_count": 25,
     "metadata": {},
     "output_type": "execute_result"
    }
   ],
   "source": [
    "df.EDUCATION.value_counts()"
   ]
  },
  {
   "cell_type": "code",
   "execution_count": 26,
   "metadata": {
    "scrolled": true
   },
   "outputs": [
    {
     "data": {
      "text/plain": [
       "<matplotlib.axes._subplots.AxesSubplot at 0x2331b3f1310>"
      ]
     },
     "execution_count": 26,
     "metadata": {},
     "output_type": "execute_result"
    },
    {
     "data": {
      "image/png": "[encoded data removed]",
      "text/plain": [
       "<Figure size 432x288 with 1 Axes>"
      ]
     },
     "metadata": {},
     "output_type": "display_data"
    }
   ],
   "source": [
    "sns.barplot(data=df, x='EDUCATION', y='INCOME')"
   ]
  },
  {
   "cell_type": "code",
   "execution_count": 27,
   "metadata": {},
   "outputs": [
    {
     "data": {
      "text/plain": [
       "<matplotlib.axes._subplots.AxesSubplot at 0x2331ce460a0>"
      ]
     },
     "execution_count": 27,
     "metadata": {},
     "output_type": "execute_result"
    },
    {
     "data": {
      "image/png": "[encoded data removed]",
      "text/plain": [
       "<Figure size 432x288 with 1 Axes>"
      ]
     },
     "metadata": {},
     "output_type": "display_data"
    }
   ],
   "source": [
    "sns.barplot(data=df, x='EDUCATION', y='SALARY')"
   ]
  },
  {
   "cell_type": "code",
   "execution_count": 28,
   "metadata": {},
   "outputs": [],
   "source": [
    "df['TARGET'] = np.where(df.INCOME > 65000, '>65k', '<=65k')"
   ]
  },
  {
   "cell_type": "code",
   "execution_count": 29,
   "metadata": {},
   "outputs": [
    {
     "data": {
      "text/plain": [
       "array([  10,   20,   40,   51,   52,   60,  101,  102,  110,  120,  135,\n",
       "        136,  137,  140,  150,  160,  205,  220,  230,  300,  310,  335,\n",
       "        340,  350,  360,  410,  420,  425,  440,  500,  510,  520,  530,\n",
       "        540,  565,  600,  630,  640,  650,  700,  705,  710,  725,  726,\n",
       "        735,  750,  800,  810,  820,  830,  845,  850,  860,  900,  910,\n",
       "        930,  940,  960, 1005, 1006, 1007, 1010, 1021, 1022, 1031, 1032,\n",
       "       1050, 1065, 1105, 1106, 1108, 1200, 1220, 1240, 1305, 1306, 1310,\n",
       "       1320, 1340, 1350, 1360, 1400, 1410, 1420, 1430, 1440, 1450, 1460,\n",
       "       1520, 1530, 1541, 1545, 1551, 1555, 1560, 1600, 1610, 1640, 1650,\n",
       "       1700, 1710, 1720, 1745, 1750, 1760, 1800, 1821, 1822, 1825, 1840,\n",
       "       1860, 1900, 1910, 1920, 1935, 1970, 1980, 2001, 2002, 2003, 2004,\n",
       "       2005, 2006, 2011, 2012, 2013, 2014, 2015, 2016, 2025, 2040, 2050,\n",
       "       2060, 2100, 2105, 2145, 2170, 2180, 2205, 2300, 2310, 2320, 2330,\n",
       "       2350, 2360, 2400, 2435, 2440, 2545, 2555, 2600, 2631, 2632, 2633,\n",
       "       2634, 2635, 2636, 2640, 2700, 2710, 2721, 2722, 2723, 2740, 2751,\n",
       "       2752, 2755, 2770, 2805, 2810, 2825, 2830, 2840, 2850, 2861, 2862,\n",
       "       2865, 2905, 2910, 2920, 3000, 3010, 3030, 3040, 3050, 3090, 3100,\n",
       "       3110, 3120, 3140, 3150, 3160, 3200, 3210, 3220, 3230, 3245, 3250,\n",
       "       3255, 3256, 3258, 3261, 3270, 3300, 3310, 3321, 3322, 3323, 3324,\n",
       "       3330, 3401, 3402, 3421, 3422, 3423, 3424, 3430, 3500, 3515, 3520,\n",
       "       3545, 3550, 3601, 3602, 3603, 3605, 3610, 3620, 3630, 3640, 3645,\n",
       "       3646, 3647, 3648, 3649, 3655, 3700, 3710, 3720, 3725, 3740, 3750,\n",
       "       3801, 3802, 3820, 3840, 3870, 3900, 3910, 3930, 3940, 3945, 3946,\n",
       "       3960, 4000, 4010, 4020, 4030, 4040, 4055, 4110, 4120, 4130, 4140,\n",
       "       4150, 4160, 4200, 4210, 4220, 4230, 4240, 4251, 4252, 4255, 4330,\n",
       "       4340, 4350, 4400, 4420, 4435, 4461, 4465, 4500, 4510, 4521, 4522,\n",
       "       4525, 4530, 4540, 4600, 4621, 4622, 4640, 4655, 4700, 4710, 4720,\n",
       "       4740, 4750, 4760, 4800, 4810, 4820, 4830, 4840, 4850, 4900, 4920,\n",
       "       4930, 4940, 4950, 4965, 5000, 5010, 5020, 5040, 5100, 5110, 5120,\n",
       "       5140, 5150, 5160, 5165, 5220, 5230, 5240, 5250, 5260, 5300, 5310,\n",
       "       5320, 5330, 5340, 5350, 5360, 5400, 5410, 5420, 5500, 5510, 5521,\n",
       "       5522, 5530, 5540, 5550, 5560, 5600, 5610, 5630, 5710, 5720, 5730,\n",
       "       5740, 5810, 5820, 5840, 5850, 5860, 5900, 5910, 5920, 5940, 6005,\n",
       "       6010, 6040, 6050, 6115, 6120, 6130, 6200, 6210, 6220, 6230, 6240,\n",
       "       6250, 6260, 6305, 6330, 6355, 6360, 6400, 6410, 6441, 6442, 6460,\n",
       "       6515, 6520, 6530, 6540, 6600, 6660, 6700, 6710, 6720, 6730, 6740,\n",
       "       6765, 6800, 6825, 6835, 6850, 6950, 7000, 7010, 7020, 7030, 7040,\n",
       "       7100, 7120, 7130, 7140, 7150, 7160, 7200, 7210, 7220, 7240, 7260,\n",
       "       7300, 7315, 7320, 7330, 7340, 7350, 7360, 7410, 7420, 7430, 7510,\n",
       "       7540, 7560, 7610, 7640, 7700, 7720, 7730, 7740, 7750, 7800, 7810,\n",
       "       7830, 7840, 7850, 7855, 7905, 7925, 7950, 8000, 8025, 8030, 8040,\n",
       "       8100, 8130, 8140, 8225, 8250, 8255, 8256, 8300, 8310, 8320, 8335,\n",
       "       8350, 8365, 8450, 8465, 8500, 8510, 8530, 8540, 8555, 8600, 8610,\n",
       "       8620, 8630, 8640, 8650, 8710, 8720, 8730, 8740, 8750, 8760, 8800,\n",
       "       8810, 8830, 8850, 8910, 8920, 8930, 8940, 8950, 8990, 9005, 9030,\n",
       "       9040, 9050, 9110, 9121, 9122, 9130, 9141, 9142, 9150, 9210, 9240,\n",
       "       9265, 9300, 9310, 9350, 9365, 9410, 9415, 9430, 9510, 9570, 9600,\n",
       "       9610, 9620, 9630, 9640, 9645, 9650, 9720, 9760, 9800, 9810, 9825,\n",
       "       9830], dtype=int64)"
      ]
     },
     "execution_count": 29,
     "metadata": {},
     "output_type": "execute_result"
    }
   ],
   "source": [
    "df.OCCUPATION.sort_values().unique()"
   ]
  },
  {
   "cell_type": "code",
   "execution_count": 30,
   "metadata": {},
   "outputs": [
    {
     "data": {
      "text/plain": [
       "<function numpy.select(condlist, choicelist, default=0)>"
      ]
     },
     "execution_count": 30,
     "metadata": {},
     "output_type": "execute_result"
    }
   ],
   "source": [
    "np.select"
   ]
  },
  {
   "cell_type": "code",
   "execution_count": 31,
   "metadata": {},
   "outputs": [
    {
     "data": {
      "text/plain": [
       "<=65k    1183289\n",
       ">65k      476438\n",
       "Name: TARGET, dtype: int64"
      ]
     },
     "execution_count": 31,
     "metadata": {},
     "output_type": "execute_result"
    }
   ],
   "source": [
    "df.TARGET.value_counts()"
   ]
  },
  {
   "cell_type": "code",
   "execution_count": 32,
   "metadata": {},
   "outputs": [
    {
     "data": {
      "image/png": "[encoded data removed]",
      "text/plain": [
       "<Figure size 432x288 with 1 Axes>"
      ]
     },
     "metadata": {},
     "output_type": "display_data"
    }
   ],
   "source": [
    "sns.histplot(data = df, x=\"TARGET\")\n",
    "plt.show()"
   ]
  },
  {
   "cell_type": "code",
   "execution_count": 33,
   "metadata": {
    "scrolled": true
   },
   "outputs": [
    {
     "data": {
      "image/png": "[encoded data removed]",
      "text/plain": [
       "<Figure size 432x288 with 1 Axes>"
      ]
     },
     "metadata": {},
     "output_type": "display_data"
    }
   ],
   "source": [
    "sns.histplot(data = df, x=\"RACE\", hue = \"TARGET\")\n",
    "plt.show()"
   ]
  },
  {
   "cell_type": "code",
   "execution_count": 34,
   "metadata": {},
   "outputs": [
    {
     "data": {
      "image/png": "[encoded data removed]",
      "text/plain": [
       "<Figure size 432x288 with 1 Axes>"
      ]
     },
     "metadata": {},
     "output_type": "display_data"
    }
   ],
   "source": [
    "sns.histplot(data = df, x=\"AGE\", hue = \"TARGET\")\n",
    "plt.show()"
   ]
  },
  {
   "cell_type": "code",
   "execution_count": 35,
   "metadata": {
    "scrolled": true
   },
   "outputs": [
    {
     "data": {
      "image/png": "[encoded data removed]",
      "text/plain": [
       "<Figure size 432x288 with 1 Axes>"
      ]
     },
     "metadata": {},
     "output_type": "display_data"
    }
   ],
   "source": [
    "sns.histplot(data = df, x=\"SEX\", hue = \"TARGET\")\n",
    "plt.show()"
   ]
  },
  {
   "cell_type": "code",
   "execution_count": 36,
   "metadata": {},
   "outputs": [
    {
     "data": {
      "text/plain": [
       "1    865247\n",
       "2    794480\n",
       "Name: SEX, dtype: int64"
      ]
     },
     "execution_count": 36,
     "metadata": {},
     "output_type": "execute_result"
    }
   ],
   "source": [
    "df.SEX.value_counts()"
   ]
  },
  {
   "cell_type": "code",
   "execution_count": 37,
   "metadata": {
    "scrolled": true
   },
   "outputs": [
    {
     "data": {
      "image/png": "[encoded data removed]",
      "text/plain": [
       "<Figure size 432x288 with 1 Axes>"
      ]
     },
     "metadata": {},
     "output_type": "display_data"
    }
   ],
   "source": [
    "sns.histplot(data = df, x=\"CITIZENSHIP\", hue = \"TARGET\")\n",
    "plt.show()"
   ]
  },
  {
   "cell_type": "code",
   "execution_count": 38,
   "metadata": {
    "scrolled": true
   },
   "outputs": [
    {
     "data": {
      "image/png": "[encoded data removed]",
      "text/plain": [
       "<Figure size 432x288 with 1 Axes>"
      ]
     },
     "metadata": {},
     "output_type": "display_data"
    }
   ],
   "source": [
    "sns.histplot(data = df, x=\"COUPLE\", hue = \"TARGET\")\n",
    "plt.show()"
   ]
  },
  {
   "cell_type": "code",
   "execution_count": 51,
   "metadata": {
    "scrolled": false
   },
   "outputs": [
    {
     "data": {
      "image/png": "[encoded data removed]",
      "text/plain": [
       "<Figure size 432x288 with 1 Axes>"
      ]
     },
     "metadata": {},
     "output_type": "display_data"
    }
   ],
   "source": [
    "sns.histplot(data = df, x=\"PARTNER\", hue = \"TARGET\")\n",
    "plt.show()"
   ]
  },
  {
   "cell_type": "code",
   "execution_count": 52,
   "metadata": {},
   "outputs": [
    {
     "data": {
      "text/plain": [
       " 0    1468733\n",
       " 4      64335\n",
       " 2      63778\n",
       "-1      55170\n",
       " 3       3885\n",
       " 1       3826\n",
       "Name: PARTNER, dtype: int64"
      ]
     },
     "execution_count": 52,
     "metadata": {},
     "output_type": "execute_result"
    }
   ],
   "source": [
    "df.PARTNER.value_counts()"
   ]
  },
  {
   "cell_type": "code",
   "execution_count": 39,
   "metadata": {},
   "outputs": [
    {
     "data": {
      "text/plain": [
       "array([1, 2], dtype=int64)"
      ]
     },
     "execution_count": 39,
     "metadata": {},
     "output_type": "execute_result"
    }
   ],
   "source": [
    "df.SEX.unique()"
   ]
  },
  {
   "cell_type": "code",
   "execution_count": 40,
   "metadata": {},
   "outputs": [],
   "source": [
    "# sns.histplot(data = df, x=\"POB_WORLD\", hue = \"TARGET_60\")"
   ]
  },
  {
   "cell_type": "code",
   "execution_count": 41,
   "metadata": {},
   "outputs": [
    {
     "data": {
      "text/plain": [
       "<matplotlib.axes._subplots.AxesSubplot at 0x23344840100>"
      ]
     },
     "execution_count": 41,
     "metadata": {},
     "output_type": "execute_result"
    },
    {
     "data": {
      "image/png": "[encoded data removed]",
      "text/plain": [
       "<Figure size 432x288 with 1 Axes>"
      ]
     },
     "metadata": {},
     "output_type": "display_data"
    }
   ],
   "source": [
    "sns.boxplot(x=df.SALARY)\n"
   ]
  },
  {
   "cell_type": "code",
   "execution_count": 42,
   "metadata": {},
   "outputs": [
    {
     "data": {
      "text/plain": [
       "40240.0"
      ]
     },
     "execution_count": 42,
     "metadata": {},
     "output_type": "execute_result"
    }
   ],
   "source": [
    "df.INCOME.median()"
   ]
  },
  {
   "cell_type": "code",
   "execution_count": 43,
   "metadata": {},
   "outputs": [
    {
     "data": {
      "text/plain": [
       "35400.0"
      ]
     },
     "execution_count": 43,
     "metadata": {},
     "output_type": "execute_result"
    }
   ],
   "source": [
    "df.SALARY.median()"
   ]
  },
  {
   "cell_type": "code",
   "execution_count": 44,
   "metadata": {},
   "outputs": [],
   "source": [
    "# Removed work_industry because it was causing an error when running model because because letters in values. Also, occupation might be a more relavent variable\n",
    "\n",
    "X = df.drop(['TARGET','INCOME', 'SALARY', 'SERIALNO', 'PERSON_NO', 'WORK_INDUSTRY'], axis=1)\n",
    "y = df.TARGET"
   ]
  },
  {
   "cell_type": "code",
   "execution_count": 45,
   "metadata": {},
   "outputs": [],
   "source": [
    "X_train, X_test, y_train, y_test = train_test_split(X, y, random_state = 42, stratify = y)"
   ]
  },
  {
   "cell_type": "code",
   "execution_count": 46,
   "metadata": {
    "scrolled": true
   },
   "outputs": [],
   "source": [
    "tree = DecisionTreeClassifier()\n",
    "tree.fit(X_train, y_train)\n",
    "y_pred = tree.predict(X_test)"
   ]
  },
  {
   "cell_type": "code",
   "execution_count": 47,
   "metadata": {},
   "outputs": [
    {
     "data": {
      "text/plain": [
       "0.7603269933386675"
      ]
     },
     "execution_count": 47,
     "metadata": {},
     "output_type": "execute_result"
    }
   ],
   "source": [
    "accuracy_score(y_test, y_pred)"
   ]
  },
  {
   "cell_type": "code",
   "execution_count": 48,
   "metadata": {},
   "outputs": [],
   "source": [
    "importance = tree.feature_importances_\n",
    "feat_imp_dict = dict(zip(X.columns, importance))"
   ]
  },
  {
   "cell_type": "code",
   "execution_count": 49,
   "metadata": {},
   "outputs": [
    {
     "data": {
      "text/plain": [
       "{'FNLWGT': 0.10737034283873946,\n",
       " 'WGTP': 0.10770226109288566,\n",
       " 'WKLY_HRS': 0.10356490290646486,\n",
       " 'AGE': 0.13724754956857824,\n",
       " 'MOM': 0.004077181445960685,\n",
       " 'DIS': 0.0067789818158014116,\n",
       " 'WORK_CLASS': 0.029490136197915223,\n",
       " 'COUPLE': 0.01815344905731833,\n",
       " 'ADJINC': 0.0,\n",
       " 'CITIZENSHIP': 0.007320066712374286,\n",
       " 'POB_DETAIL': 0.10322069428372836,\n",
       " 'PARTNER': 0.00627397784666162,\n",
       " 'SEX': 0.01929266603514084,\n",
       " 'RACE': 0.01679120987870512,\n",
       " 'EDUCATION': 0.07903887979435953,\n",
       " 'OCCUPATION': 0.25367770052536637}"
      ]
     },
     "execution_count": 49,
     "metadata": {},
     "output_type": "execute_result"
    }
   ],
   "source": [
    "feat_imp_dict"
   ]
  },
  {
   "cell_type": "code",
   "execution_count": 50,
   "metadata": {},
   "outputs": [
    {
     "data": {
      "text/plain": [
       "array(['23', '611M1', '722Z', '337', '56173', '447', '92M1', '928110P7',\n",
       "       '5121', '623M', '928110P1', '4481', '928110P4', '928110P3',\n",
       "       '42393', '7224', '5412', '44511', '713Z', '813M', '32711', '6111',\n",
       "       '3256', '4441Z', '622M', '531M', '561M', '51912', '3MS', '5241',\n",
       "       '8131', '5417', '443142', '493', '3352', '336M', '928110P2',\n",
       "       '8121M', '721M', '111', '2211P', '4411', '6243', '8111Z', '6244',\n",
       "       '442', '4244', '5616', '4511M', '611M3', '443141', '44512',\n",
       "       '45221', '712', '115', '5613', '331M', '3231', '611M2', '488',\n",
       "       '92MP', '5416', '3272', '6214', '3121', '484', '45121', '5617Z',\n",
       "       '112', '6241', '5614', '6216', '5411', '446Z', '4MS', '483', '492',\n",
       "       '6231', '311M2', '8123', '51111', '812111', '52M2', '6211', '5615',\n",
       "       '4539', '52M1', '814', '811192', '5419Z', '71395', '4531', '44611',\n",
       "       '6222', '44821', '3365', '311S', '6242', '4452', '7211', '621M',\n",
       "       '4533', '4523', '4236', '45322', '562', '9211MP', '3391', '3399M',\n",
       "       '7115', '517311', '4853', '8129', '7112', '333MS', '3219ZM',\n",
       "       '311811', '3118Z', '335M', '33311', '5418', '4234', '4239Z', '515',\n",
       "       '8139Z', '3211', '92113', '491', '3116', '5321', '334M2', '3261',\n",
       "       '8113', '4243', '45321', '92119', '6212', '454110', '53M', '3115',\n",
       "       '332M', '5415', '928P', '3366', '221MP', '44413', '4413', '213',\n",
       "       '522M', '532M2', '3131', '3132Z', '327M', '4453', '7111', '45113',\n",
       "       '923', '928110P5', '485M', '4233', '54194', '4238', '114', '5413',\n",
       "       '1133', '3252', '315M', '334M1', '5111Z', '454310', '928110P6',\n",
       "       '3335', '31411', '4442', '3255', '5313', '325M', '812112',\n",
       "       '32199M', '482', '711M', '332MZ', '517Z', '2121', '5122', '487',\n",
       "       '3345', '4483', '424M', '3254', '5221M', '3327', '42491', '5414',\n",
       "       '3314', '4249Z', '32621', '3221', '62131', '3328', '3222M', '4542',\n",
       "       '4248', '4412', '45439', '3322', '3331M', '92M2', '5242', '211',\n",
       "       '31M', '3262M', '3399ZM', '81393', '3279', '33641M2', '311M1',\n",
       "       '8112', '3321', '4237', '3341', '55', '33641M1', '3113', '3114',\n",
       "       '3333', '3313', '32221', '2212P', '32411', '316M', '2123', '51913',\n",
       "       '8114', '481', '4235', '3315', '4231', '5191ZM', '22132', '113M',\n",
       "       '8122', '6213ZM', '62132', '33MS', '4241', '4245', '3212', '3241M',\n",
       "       '2213M', '3336', '22S', '42S', '3369', '5182', '314Z', '4232',\n",
       "       '3162', '4247', '2122', '3122', '5112', '45114', '4251', '33299M',\n",
       "       '486', '3253', '327120', '3133'], dtype=object)"
      ]
     },
     "execution_count": 50,
     "metadata": {},
     "output_type": "execute_result"
    }
   ],
   "source": [
    "df.WORK_INDUSTRY.unique()"
   ]
  }
 ],
 "metadata": {
  "kernelspec": {
   "display_name": "Python 3",
   "language": "python",
   "name": "python3"
  },
  "language_info": {
   "codemirror_mode": {
    "name": "ipython",
    "version": 3
   },
   "file_extension": ".py",
   "mimetype": "text/x-python",
   "name": "python",
   "nbconvert_exporter": "python",
   "pygments_lexer": "ipython3",
   "version": "3.6.9"
  },
  "toc": {
   "base_numbering": 1,
   "nav_menu": {},
   "number_sections": true,
   "sideBar": true,
   "skip_h1_title": false,
   "title_cell": "Table of Contents",
   "title_sidebar": "Contents",
   "toc_cell": false,
   "toc_position": {},
   "toc_section_display": true,
   "toc_window_display": false
  }
 },
 "nbformat": 4,
 "nbformat_minor": 4
}
