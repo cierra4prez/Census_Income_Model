{
 "cells": [
  {
   "cell_type": "code",
   "execution_count": 1,
   "metadata": {},
   "outputs": [],
   "source": [
    "import pandas as pd\n",
    "import numpy as np\n",
    "import matplotlib.pyplot as plt\n",
    "import seaborn as sns\n",
    "pd.options.display.max_columns = 999"
   ]
  },
  {
   "cell_type": "code",
   "execution_count": 2,
   "metadata": {},
   "outputs": [
    {
     "name": "stderr",
     "output_type": "stream",
     "text": [
      "C:\\Users\\edwar\\anaconda3\\lib\\site-packages\\numpy\\lib\\arraysetops.py:569: FutureWarning: elementwise comparison failed; returning scalar instead, but in the future will perform elementwise comparison\n",
      "  mask |= (ar1 == a)\n"
     ]
    }
   ],
   "source": [
    "df = pd.read_csv('census_income_2019.csv', index_col= 0 )"
   ]
  },
  {
   "cell_type": "code",
   "execution_count": 3,
   "metadata": {
    "scrolled": false
   },
   "outputs": [
    {
     "data": {
      "text/html": [
       "<div>\n",
       "<style scoped>\n",
       "    .dataframe tbody tr th:only-of-type {\n",
       "        vertical-align: middle;\n",
       "    }\n",
       "\n",
       "    .dataframe tbody tr th {\n",
       "        vertical-align: top;\n",
       "    }\n",
       "\n",
       "    .dataframe thead th {\n",
       "        text-align: right;\n",
       "    }\n",
       "</style>\n",
       "<table border=\"1\" class=\"dataframe\">\n",
       "  <thead>\n",
       "    <tr style=\"text-align: right;\">\n",
       "      <th></th>\n",
       "      <th>PWGTP</th>\n",
       "      <th>WGTP</th>\n",
       "      <th>PINCP</th>\n",
       "      <th>WKHP</th>\n",
       "      <th>WAGP</th>\n",
       "      <th>AGEP</th>\n",
       "      <th>FER</th>\n",
       "      <th>DIS</th>\n",
       "      <th>COW</th>\n",
       "      <th>CPLT</th>\n",
       "      <th>ADJINC</th>\n",
       "      <th>CIT</th>\n",
       "      <th>POBP</th>\n",
       "      <th>PARTNER</th>\n",
       "      <th>SEX</th>\n",
       "      <th>RAC1P</th>\n",
       "      <th>SCHL</th>\n",
       "      <th>OCCP</th>\n",
       "      <th>NAICSP</th>\n",
       "      <th>SERIALNO</th>\n",
       "      <th>SPORDER</th>\n",
       "      <th>WAOB</th>\n",
       "    </tr>\n",
       "  </thead>\n",
       "  <tbody>\n",
       "    <tr>\n",
       "      <th>1</th>\n",
       "      <td>71</td>\n",
       "      <td>0</td>\n",
       "      <td>63000</td>\n",
       "      <td>80</td>\n",
       "      <td>63000</td>\n",
       "      <td>35</td>\n",
       "      <td>0</td>\n",
       "      <td>2</td>\n",
       "      <td>1</td>\n",
       "      <td>0</td>\n",
       "      <td>1.010145</td>\n",
       "      <td>1</td>\n",
       "      <td>18</td>\n",
       "      <td>-1</td>\n",
       "      <td>1</td>\n",
       "      <td>1</td>\n",
       "      <td>17</td>\n",
       "      <td>6250</td>\n",
       "      <td>23</td>\n",
       "      <td>2019GQ0000001</td>\n",
       "      <td>1</td>\n",
       "      <td>1</td>\n",
       "    </tr>\n",
       "    <tr>\n",
       "      <th>2</th>\n",
       "      <td>67</td>\n",
       "      <td>0</td>\n",
       "      <td>0</td>\n",
       "      <td>0</td>\n",
       "      <td>0</td>\n",
       "      <td>25</td>\n",
       "      <td>0</td>\n",
       "      <td>2</td>\n",
       "      <td>0</td>\n",
       "      <td>0</td>\n",
       "      <td>1.010145</td>\n",
       "      <td>1</td>\n",
       "      <td>48</td>\n",
       "      <td>-1</td>\n",
       "      <td>1</td>\n",
       "      <td>1</td>\n",
       "      <td>12</td>\n",
       "      <td>9</td>\n",
       "      <td>-1</td>\n",
       "      <td>2019GQ0000004</td>\n",
       "      <td>1</td>\n",
       "      <td>1</td>\n",
       "    </tr>\n",
       "    <tr>\n",
       "      <th>3</th>\n",
       "      <td>24</td>\n",
       "      <td>0</td>\n",
       "      <td>2000</td>\n",
       "      <td>15</td>\n",
       "      <td>2000</td>\n",
       "      <td>21</td>\n",
       "      <td>2</td>\n",
       "      <td>2</td>\n",
       "      <td>2</td>\n",
       "      <td>0</td>\n",
       "      <td>1.010145</td>\n",
       "      <td>5</td>\n",
       "      <td>229</td>\n",
       "      <td>-1</td>\n",
       "      <td>2</td>\n",
       "      <td>6</td>\n",
       "      <td>19</td>\n",
       "      <td>4740</td>\n",
       "      <td>611M1</td>\n",
       "      <td>2019GQ0000007</td>\n",
       "      <td>1</td>\n",
       "      <td>4</td>\n",
       "    </tr>\n",
       "    <tr>\n",
       "      <th>4</th>\n",
       "      <td>52</td>\n",
       "      <td>0</td>\n",
       "      <td>0</td>\n",
       "      <td>0</td>\n",
       "      <td>0</td>\n",
       "      <td>49</td>\n",
       "      <td>0</td>\n",
       "      <td>2</td>\n",
       "      <td>1</td>\n",
       "      <td>0</td>\n",
       "      <td>1.010145</td>\n",
       "      <td>1</td>\n",
       "      <td>6</td>\n",
       "      <td>-1</td>\n",
       "      <td>1</td>\n",
       "      <td>1</td>\n",
       "      <td>21</td>\n",
       "      <td>110</td>\n",
       "      <td>722Z</td>\n",
       "      <td>2019GQ0000010</td>\n",
       "      <td>1</td>\n",
       "      <td>1</td>\n",
       "    </tr>\n",
       "    <tr>\n",
       "      <th>5</th>\n",
       "      <td>28</td>\n",
       "      <td>0</td>\n",
       "      <td>6000</td>\n",
       "      <td>15</td>\n",
       "      <td>6000</td>\n",
       "      <td>18</td>\n",
       "      <td>2</td>\n",
       "      <td>2</td>\n",
       "      <td>1</td>\n",
       "      <td>0</td>\n",
       "      <td>1.010145</td>\n",
       "      <td>1</td>\n",
       "      <td>6</td>\n",
       "      <td>-1</td>\n",
       "      <td>2</td>\n",
       "      <td>1</td>\n",
       "      <td>16</td>\n",
       "      <td>4110</td>\n",
       "      <td>722Z</td>\n",
       "      <td>2019GQ0000013</td>\n",
       "      <td>1</td>\n",
       "      <td>1</td>\n",
       "    </tr>\n",
       "  </tbody>\n",
       "</table>\n",
       "</div>"
      ],
      "text/plain": [
       "   PWGTP  WGTP  PINCP  WKHP   WAGP  AGEP  FER  DIS  COW  CPLT    ADJINC  CIT  \\\n",
       "1     71     0  63000    80  63000    35    0    2    1     0  1.010145    1   \n",
       "2     67     0      0     0      0    25    0    2    0     0  1.010145    1   \n",
       "3     24     0   2000    15   2000    21    2    2    2     0  1.010145    5   \n",
       "4     52     0      0     0      0    49    0    2    1     0  1.010145    1   \n",
       "5     28     0   6000    15   6000    18    2    2    1     0  1.010145    1   \n",
       "\n",
       "   POBP  PARTNER  SEX  RAC1P  SCHL  OCCP NAICSP       SERIALNO  SPORDER  WAOB  \n",
       "1    18       -1    1      1    17  6250     23  2019GQ0000001        1     1  \n",
       "2    48       -1    1      1    12     9     -1  2019GQ0000004        1     1  \n",
       "3   229       -1    2      6    19  4740  611M1  2019GQ0000007        1     4  \n",
       "4     6       -1    1      1    21   110   722Z  2019GQ0000010        1     1  \n",
       "5     6       -1    2      1    16  4110   722Z  2019GQ0000013        1     1  "
      ]
     },
     "execution_count": 3,
     "metadata": {},
     "output_type": "execute_result"
    }
   ],
   "source": [
    "df.head()"
   ]
  },
  {
   "cell_type": "code",
   "execution_count": 4,
   "metadata": {},
   "outputs": [
    {
     "data": {
      "text/plain": [
       "(3239553, 22)"
      ]
     },
     "execution_count": 4,
     "metadata": {},
     "output_type": "execute_result"
    }
   ],
   "source": [
    "df.shape"
   ]
  },
  {
   "cell_type": "code",
   "execution_count": 5,
   "metadata": {},
   "outputs": [
    {
     "data": {
      "text/plain": [
       "PWGTP         int64\n",
       "WGTP          int64\n",
       "PINCP         int64\n",
       "WKHP          int64\n",
       "WAGP          int64\n",
       "AGEP          int64\n",
       "FER           int64\n",
       "DIS           int64\n",
       "COW           int64\n",
       "CPLT          int64\n",
       "ADJINC      float64\n",
       "CIT           int64\n",
       "POBP          int64\n",
       "PARTNER       int64\n",
       "SEX           int64\n",
       "RAC1P         int64\n",
       "SCHL          int64\n",
       "OCCP          int64\n",
       "NAICSP       object\n",
       "SERIALNO     object\n",
       "SPORDER       int64\n",
       "WAOB          int64\n",
       "dtype: object"
      ]
     },
     "execution_count": 5,
     "metadata": {},
     "output_type": "execute_result"
    }
   ],
   "source": [
    "df.dtypes"
   ]
  },
  {
   "cell_type": "code",
   "execution_count": 6,
   "metadata": {},
   "outputs": [],
   "source": [
    "org_vars = \"\"\"PINCP\n",
    "WAGP\n",
    "INTP\n",
    "ADJINC\n",
    "PWGTP\n",
    "OCCP\n",
    "NAICSP\n",
    "WKHP\n",
    "AGEP\n",
    "SEX\n",
    "FER\n",
    "CPLT\n",
    "PARTNER\n",
    "COW\n",
    "RAC1P\n",
    "POBP\n",
    "CIT\n",
    "SCHL\n",
    "DIS\n",
    "SERIALNO\n",
    "SPORDER\n",
    "WAOB\"\"\".split(\"\\n\")"
   ]
  },
  {
   "cell_type": "code",
   "execution_count": 7,
   "metadata": {},
   "outputs": [],
   "source": [
    "uptd_vars = \"\"\"INCOME\n",
    "SALARY\n",
    "INTEREST_DIV\n",
    "ADJINC\n",
    "FNLWGT\n",
    "OCCUPATION\n",
    "WORK_INDUSTRY\n",
    "WKLY_HRS\n",
    "AGE\n",
    "SEX\n",
    "MOM\n",
    "COUPLE\n",
    "PARTNER\n",
    "WORK_CLASS\n",
    "RACE\n",
    "POB_DETAIL\n",
    "CITIZENSHIP\n",
    "EDUCATION\n",
    "DIS\n",
    "SERIALNO\n",
    "PERSON_NO\n",
    "POB_WORLD\"\"\".split(\"\\n\")"
   ]
  },
  {
   "cell_type": "code",
   "execution_count": 8,
   "metadata": {},
   "outputs": [],
   "source": [
    "vars_dict = dict(zip(org_vars, uptd_vars))"
   ]
  },
  {
   "cell_type": "code",
   "execution_count": 9,
   "metadata": {},
   "outputs": [
    {
     "data": {
      "text/plain": [
       "{'PINCP': 'INCOME',\n",
       " 'WAGP': 'SALARY',\n",
       " 'INTP': 'INTEREST_DIV',\n",
       " 'ADJINC': 'ADJINC',\n",
       " 'PWGTP': 'FNLWGT',\n",
       " 'OCCP': 'OCCUPATION',\n",
       " 'NAICSP': 'WORK_INDUSTRY',\n",
       " 'WKHP': 'WKLY_HRS',\n",
       " 'AGEP': 'AGE',\n",
       " 'SEX': 'SEX',\n",
       " 'FER': 'MOM',\n",
       " 'CPLT': 'COUPLE',\n",
       " 'PARTNER': 'PARTNER',\n",
       " 'COW': 'WORK_CLASS',\n",
       " 'RAC1P': 'RACE',\n",
       " 'POBP': 'POB_DETAIL',\n",
       " 'CIT': 'CITIZENSHIP',\n",
       " 'SCHL': 'EDUCATION',\n",
       " 'DIS': 'DIS',\n",
       " 'SERIALNO': 'SERIALNO',\n",
       " 'SPORDER': 'PERSON_NO',\n",
       " 'WAOB': 'POB_WORLD'}"
      ]
     },
     "execution_count": 9,
     "metadata": {},
     "output_type": "execute_result"
    }
   ],
   "source": [
    "vars_dict"
   ]
  },
  {
   "cell_type": "code",
   "execution_count": 10,
   "metadata": {},
   "outputs": [],
   "source": [
    "df = df.rename(columns=vars_dict)"
   ]
  },
  {
   "cell_type": "code",
   "execution_count": 11,
   "metadata": {
    "scrolled": true
   },
   "outputs": [
    {
     "data": {
      "text/html": [
       "<div>\n",
       "<style scoped>\n",
       "    .dataframe tbody tr th:only-of-type {\n",
       "        vertical-align: middle;\n",
       "    }\n",
       "\n",
       "    .dataframe tbody tr th {\n",
       "        vertical-align: top;\n",
       "    }\n",
       "\n",
       "    .dataframe thead th {\n",
       "        text-align: right;\n",
       "    }\n",
       "</style>\n",
       "<table border=\"1\" class=\"dataframe\">\n",
       "  <thead>\n",
       "    <tr style=\"text-align: right;\">\n",
       "      <th></th>\n",
       "      <th>FNLWGT</th>\n",
       "      <th>WGTP</th>\n",
       "      <th>INCOME</th>\n",
       "      <th>WKLY_HRS</th>\n",
       "      <th>SALARY</th>\n",
       "      <th>AGE</th>\n",
       "      <th>MOM</th>\n",
       "      <th>DIS</th>\n",
       "      <th>WORK_CLASS</th>\n",
       "      <th>COUPLE</th>\n",
       "      <th>ADJINC</th>\n",
       "      <th>CITIZENSHIP</th>\n",
       "      <th>POB_DETAIL</th>\n",
       "      <th>PARTNER</th>\n",
       "      <th>SEX</th>\n",
       "      <th>RACE</th>\n",
       "      <th>EDUCATION</th>\n",
       "      <th>OCCUPATION</th>\n",
       "      <th>WORK_INDUSTRY</th>\n",
       "      <th>SERIALNO</th>\n",
       "      <th>PERSON_NO</th>\n",
       "      <th>POB_WORLD</th>\n",
       "    </tr>\n",
       "  </thead>\n",
       "  <tbody>\n",
       "    <tr>\n",
       "      <th>1</th>\n",
       "      <td>71</td>\n",
       "      <td>0</td>\n",
       "      <td>63000</td>\n",
       "      <td>80</td>\n",
       "      <td>63000</td>\n",
       "      <td>35</td>\n",
       "      <td>0</td>\n",
       "      <td>2</td>\n",
       "      <td>1</td>\n",
       "      <td>0</td>\n",
       "      <td>1.010145</td>\n",
       "      <td>1</td>\n",
       "      <td>18</td>\n",
       "      <td>-1</td>\n",
       "      <td>1</td>\n",
       "      <td>1</td>\n",
       "      <td>17</td>\n",
       "      <td>6250</td>\n",
       "      <td>23</td>\n",
       "      <td>2019GQ0000001</td>\n",
       "      <td>1</td>\n",
       "      <td>1</td>\n",
       "    </tr>\n",
       "    <tr>\n",
       "      <th>2</th>\n",
       "      <td>67</td>\n",
       "      <td>0</td>\n",
       "      <td>0</td>\n",
       "      <td>0</td>\n",
       "      <td>0</td>\n",
       "      <td>25</td>\n",
       "      <td>0</td>\n",
       "      <td>2</td>\n",
       "      <td>0</td>\n",
       "      <td>0</td>\n",
       "      <td>1.010145</td>\n",
       "      <td>1</td>\n",
       "      <td>48</td>\n",
       "      <td>-1</td>\n",
       "      <td>1</td>\n",
       "      <td>1</td>\n",
       "      <td>12</td>\n",
       "      <td>9</td>\n",
       "      <td>-1</td>\n",
       "      <td>2019GQ0000004</td>\n",
       "      <td>1</td>\n",
       "      <td>1</td>\n",
       "    </tr>\n",
       "    <tr>\n",
       "      <th>3</th>\n",
       "      <td>24</td>\n",
       "      <td>0</td>\n",
       "      <td>2000</td>\n",
       "      <td>15</td>\n",
       "      <td>2000</td>\n",
       "      <td>21</td>\n",
       "      <td>2</td>\n",
       "      <td>2</td>\n",
       "      <td>2</td>\n",
       "      <td>0</td>\n",
       "      <td>1.010145</td>\n",
       "      <td>5</td>\n",
       "      <td>229</td>\n",
       "      <td>-1</td>\n",
       "      <td>2</td>\n",
       "      <td>6</td>\n",
       "      <td>19</td>\n",
       "      <td>4740</td>\n",
       "      <td>611M1</td>\n",
       "      <td>2019GQ0000007</td>\n",
       "      <td>1</td>\n",
       "      <td>4</td>\n",
       "    </tr>\n",
       "    <tr>\n",
       "      <th>4</th>\n",
       "      <td>52</td>\n",
       "      <td>0</td>\n",
       "      <td>0</td>\n",
       "      <td>0</td>\n",
       "      <td>0</td>\n",
       "      <td>49</td>\n",
       "      <td>0</td>\n",
       "      <td>2</td>\n",
       "      <td>1</td>\n",
       "      <td>0</td>\n",
       "      <td>1.010145</td>\n",
       "      <td>1</td>\n",
       "      <td>6</td>\n",
       "      <td>-1</td>\n",
       "      <td>1</td>\n",
       "      <td>1</td>\n",
       "      <td>21</td>\n",
       "      <td>110</td>\n",
       "      <td>722Z</td>\n",
       "      <td>2019GQ0000010</td>\n",
       "      <td>1</td>\n",
       "      <td>1</td>\n",
       "    </tr>\n",
       "    <tr>\n",
       "      <th>5</th>\n",
       "      <td>28</td>\n",
       "      <td>0</td>\n",
       "      <td>6000</td>\n",
       "      <td>15</td>\n",
       "      <td>6000</td>\n",
       "      <td>18</td>\n",
       "      <td>2</td>\n",
       "      <td>2</td>\n",
       "      <td>1</td>\n",
       "      <td>0</td>\n",
       "      <td>1.010145</td>\n",
       "      <td>1</td>\n",
       "      <td>6</td>\n",
       "      <td>-1</td>\n",
       "      <td>2</td>\n",
       "      <td>1</td>\n",
       "      <td>16</td>\n",
       "      <td>4110</td>\n",
       "      <td>722Z</td>\n",
       "      <td>2019GQ0000013</td>\n",
       "      <td>1</td>\n",
       "      <td>1</td>\n",
       "    </tr>\n",
       "  </tbody>\n",
       "</table>\n",
       "</div>"
      ],
      "text/plain": [
       "   FNLWGT  WGTP  INCOME  WKLY_HRS  SALARY  AGE  MOM  DIS  WORK_CLASS  COUPLE  \\\n",
       "1      71     0   63000        80   63000   35    0    2           1       0   \n",
       "2      67     0       0         0       0   25    0    2           0       0   \n",
       "3      24     0    2000        15    2000   21    2    2           2       0   \n",
       "4      52     0       0         0       0   49    0    2           1       0   \n",
       "5      28     0    6000        15    6000   18    2    2           1       0   \n",
       "\n",
       "     ADJINC  CITIZENSHIP  POB_DETAIL  PARTNER  SEX  RACE  EDUCATION  \\\n",
       "1  1.010145            1          18       -1    1     1         17   \n",
       "2  1.010145            1          48       -1    1     1         12   \n",
       "3  1.010145            5         229       -1    2     6         19   \n",
       "4  1.010145            1           6       -1    1     1         21   \n",
       "5  1.010145            1           6       -1    2     1         16   \n",
       "\n",
       "   OCCUPATION WORK_INDUSTRY       SERIALNO  PERSON_NO  POB_WORLD  \n",
       "1        6250            23  2019GQ0000001          1          1  \n",
       "2           9            -1  2019GQ0000004          1          1  \n",
       "3        4740         611M1  2019GQ0000007          1          4  \n",
       "4         110          722Z  2019GQ0000010          1          1  \n",
       "5        4110          722Z  2019GQ0000013          1          1  "
      ]
     },
     "execution_count": 11,
     "metadata": {},
     "output_type": "execute_result"
    }
   ],
   "source": [
    "df.head()"
   ]
  },
  {
   "cell_type": "code",
   "execution_count": 12,
   "metadata": {},
   "outputs": [
    {
     "data": {
      "text/plain": [
       "0"
      ]
     },
     "execution_count": 12,
     "metadata": {},
     "output_type": "execute_result"
    }
   ],
   "source": [
    "df.duplicated().sum()"
   ]
  },
  {
   "cell_type": "code",
   "execution_count": 13,
   "metadata": {},
   "outputs": [],
   "source": [
    "# narrow down data to adults over the 17 years old\n",
    "df = df[df.AGE > 17]"
   ]
  },
  {
   "cell_type": "code",
   "execution_count": 14,
   "metadata": {},
   "outputs": [
    {
     "data": {
      "text/plain": [
       "(2599171, 22)"
      ]
     },
     "execution_count": 14,
     "metadata": {},
     "output_type": "execute_result"
    }
   ],
   "source": [
    "df.shape"
   ]
  },
  {
   "cell_type": "code",
   "execution_count": 15,
   "metadata": {},
   "outputs": [],
   "source": [
    "# narrow down data to adults who worked in the past 12 months\n",
    "df = df[df.WKLY_HRS > 0]"
   ]
  },
  {
   "cell_type": "code",
   "execution_count": 16,
   "metadata": {
    "scrolled": true
   },
   "outputs": [
    {
     "data": {
      "text/plain": [
       "(1659727, 22)"
      ]
     },
     "execution_count": 16,
     "metadata": {},
     "output_type": "execute_result"
    }
   ],
   "source": [
    "df.shape"
   ]
  },
  {
   "cell_type": "code",
   "execution_count": 17,
   "metadata": {
    "scrolled": true
   },
   "outputs": [
    {
     "data": {
      "text/html": [
       "<div>\n",
       "<style scoped>\n",
       "    .dataframe tbody tr th:only-of-type {\n",
       "        vertical-align: middle;\n",
       "    }\n",
       "\n",
       "    .dataframe tbody tr th {\n",
       "        vertical-align: top;\n",
       "    }\n",
       "\n",
       "    .dataframe thead th {\n",
       "        text-align: right;\n",
       "    }\n",
       "</style>\n",
       "<table border=\"1\" class=\"dataframe\">\n",
       "  <thead>\n",
       "    <tr style=\"text-align: right;\">\n",
       "      <th></th>\n",
       "      <th>FNLWGT</th>\n",
       "      <th>WGTP</th>\n",
       "      <th>INCOME</th>\n",
       "      <th>WKLY_HRS</th>\n",
       "      <th>SALARY</th>\n",
       "      <th>AGE</th>\n",
       "      <th>MOM</th>\n",
       "      <th>DIS</th>\n",
       "      <th>WORK_CLASS</th>\n",
       "      <th>COUPLE</th>\n",
       "      <th>ADJINC</th>\n",
       "      <th>CITIZENSHIP</th>\n",
       "      <th>POB_DETAIL</th>\n",
       "      <th>PARTNER</th>\n",
       "      <th>SEX</th>\n",
       "      <th>RACE</th>\n",
       "      <th>EDUCATION</th>\n",
       "      <th>OCCUPATION</th>\n",
       "      <th>PERSON_NO</th>\n",
       "      <th>POB_WORLD</th>\n",
       "    </tr>\n",
       "  </thead>\n",
       "  <tbody>\n",
       "    <tr>\n",
       "      <th>count</th>\n",
       "      <td>1.659727e+06</td>\n",
       "      <td>1.659727e+06</td>\n",
       "      <td>1.659727e+06</td>\n",
       "      <td>1.659727e+06</td>\n",
       "      <td>1.659727e+06</td>\n",
       "      <td>1.659727e+06</td>\n",
       "      <td>1.659727e+06</td>\n",
       "      <td>1.659727e+06</td>\n",
       "      <td>1.659727e+06</td>\n",
       "      <td>1.659727e+06</td>\n",
       "      <td>1.659727e+06</td>\n",
       "      <td>1.659727e+06</td>\n",
       "      <td>1.659727e+06</td>\n",
       "      <td>1.659727e+06</td>\n",
       "      <td>1.659727e+06</td>\n",
       "      <td>1.659727e+06</td>\n",
       "      <td>1.659727e+06</td>\n",
       "      <td>1.659727e+06</td>\n",
       "      <td>1.659727e+06</td>\n",
       "      <td>1.659727e+06</td>\n",
       "    </tr>\n",
       "    <tr>\n",
       "      <th>mean</th>\n",
       "      <td>1.033513e+02</td>\n",
       "      <td>9.579058e+01</td>\n",
       "      <td>6.058823e+04</td>\n",
       "      <td>3.839128e+01</td>\n",
       "      <td>5.189937e+04</td>\n",
       "      <td>4.390527e+01</td>\n",
       "      <td>5.906477e-01</td>\n",
       "      <td>1.928990e+00</td>\n",
       "      <td>2.103359e+00</td>\n",
       "      <td>8.639788e-01</td>\n",
       "      <td>1.010145e+00</td>\n",
       "      <td>1.519284e+00</td>\n",
       "      <td>6.538772e+01</td>\n",
       "      <td>2.079902e-01</td>\n",
       "      <td>1.478681e+00</td>\n",
       "      <td>1.873518e+00</td>\n",
       "      <td>1.871658e+01</td>\n",
       "      <td>4.088068e+03</td>\n",
       "      <td>1.676787e+00</td>\n",
       "      <td>1.451513e+00</td>\n",
       "    </tr>\n",
       "    <tr>\n",
       "      <th>std</th>\n",
       "      <td>9.061065e+01</td>\n",
       "      <td>8.493126e+01</td>\n",
       "      <td>7.691692e+04</td>\n",
       "      <td>1.310493e+01</td>\n",
       "      <td>6.724644e+04</td>\n",
       "      <td>1.525340e+01</td>\n",
       "      <td>9.042176e-01</td>\n",
       "      <td>2.568414e-01</td>\n",
       "      <td>1.827131e+00</td>\n",
       "      <td>8.056928e-01</td>\n",
       "      <td>3.338952e-11</td>\n",
       "      <td>1.227446e+00</td>\n",
       "      <td>9.273321e+01</td>\n",
       "      <td>8.872759e-01</td>\n",
       "      <td>4.995454e-01</td>\n",
       "      <td>2.079837e+00</td>\n",
       "      <td>3.274921e+00</td>\n",
       "      <td>2.685733e+03</td>\n",
       "      <td>9.803672e-01</td>\n",
       "      <td>1.123796e+00</td>\n",
       "    </tr>\n",
       "    <tr>\n",
       "      <th>min</th>\n",
       "      <td>1.000000e+00</td>\n",
       "      <td>0.000000e+00</td>\n",
       "      <td>-1.020000e+04</td>\n",
       "      <td>1.000000e+00</td>\n",
       "      <td>0.000000e+00</td>\n",
       "      <td>1.800000e+01</td>\n",
       "      <td>0.000000e+00</td>\n",
       "      <td>1.000000e+00</td>\n",
       "      <td>1.000000e+00</td>\n",
       "      <td>0.000000e+00</td>\n",
       "      <td>1.010145e+00</td>\n",
       "      <td>1.000000e+00</td>\n",
       "      <td>1.000000e+00</td>\n",
       "      <td>-1.000000e+00</td>\n",
       "      <td>1.000000e+00</td>\n",
       "      <td>1.000000e+00</td>\n",
       "      <td>1.000000e+00</td>\n",
       "      <td>1.000000e+01</td>\n",
       "      <td>1.000000e+00</td>\n",
       "      <td>1.000000e+00</td>\n",
       "    </tr>\n",
       "    <tr>\n",
       "      <th>25%</th>\n",
       "      <td>5.100000e+01</td>\n",
       "      <td>4.800000e+01</td>\n",
       "      <td>2.100000e+04</td>\n",
       "      <td>3.500000e+01</td>\n",
       "      <td>1.450000e+04</td>\n",
       "      <td>3.100000e+01</td>\n",
       "      <td>0.000000e+00</td>\n",
       "      <td>2.000000e+00</td>\n",
       "      <td>1.000000e+00</td>\n",
       "      <td>0.000000e+00</td>\n",
       "      <td>1.010145e+00</td>\n",
       "      <td>1.000000e+00</td>\n",
       "      <td>1.800000e+01</td>\n",
       "      <td>0.000000e+00</td>\n",
       "      <td>1.000000e+00</td>\n",
       "      <td>1.000000e+00</td>\n",
       "      <td>1.600000e+01</td>\n",
       "      <td>2.040000e+03</td>\n",
       "      <td>1.000000e+00</td>\n",
       "      <td>1.000000e+00</td>\n",
       "    </tr>\n",
       "    <tr>\n",
       "      <th>50%</th>\n",
       "      <td>7.900000e+01</td>\n",
       "      <td>7.400000e+01</td>\n",
       "      <td>4.024000e+04</td>\n",
       "      <td>4.000000e+01</td>\n",
       "      <td>3.540000e+04</td>\n",
       "      <td>4.400000e+01</td>\n",
       "      <td>0.000000e+00</td>\n",
       "      <td>2.000000e+00</td>\n",
       "      <td>1.000000e+00</td>\n",
       "      <td>1.000000e+00</td>\n",
       "      <td>1.010145e+00</td>\n",
       "      <td>1.000000e+00</td>\n",
       "      <td>3.600000e+01</td>\n",
       "      <td>0.000000e+00</td>\n",
       "      <td>1.000000e+00</td>\n",
       "      <td>1.000000e+00</td>\n",
       "      <td>1.900000e+01</td>\n",
       "      <td>4.110000e+03</td>\n",
       "      <td>1.000000e+00</td>\n",
       "      <td>1.000000e+00</td>\n",
       "    </tr>\n",
       "    <tr>\n",
       "      <th>75%</th>\n",
       "      <td>1.230000e+02</td>\n",
       "      <td>1.160000e+02</td>\n",
       "      <td>7.200000e+04</td>\n",
       "      <td>4.200000e+01</td>\n",
       "      <td>6.500000e+04</td>\n",
       "      <td>5.600000e+01</td>\n",
       "      <td>2.000000e+00</td>\n",
       "      <td>2.000000e+00</td>\n",
       "      <td>3.000000e+00</td>\n",
       "      <td>1.000000e+00</td>\n",
       "      <td>1.010145e+00</td>\n",
       "      <td>1.000000e+00</td>\n",
       "      <td>4.800000e+01</td>\n",
       "      <td>0.000000e+00</td>\n",
       "      <td>2.000000e+00</td>\n",
       "      <td>1.000000e+00</td>\n",
       "      <td>2.100000e+01</td>\n",
       "      <td>5.740000e+03</td>\n",
       "      <td>2.000000e+00</td>\n",
       "      <td>1.000000e+00</td>\n",
       "    </tr>\n",
       "    <tr>\n",
       "      <th>max</th>\n",
       "      <td>2.408000e+03</td>\n",
       "      <td>2.377000e+03</td>\n",
       "      <td>1.629000e+06</td>\n",
       "      <td>9.900000e+01</td>\n",
       "      <td>7.170000e+05</td>\n",
       "      <td>9.600000e+01</td>\n",
       "      <td>2.000000e+00</td>\n",
       "      <td>2.000000e+00</td>\n",
       "      <td>8.000000e+00</td>\n",
       "      <td>4.000000e+00</td>\n",
       "      <td>1.010145e+00</td>\n",
       "      <td>5.000000e+00</td>\n",
       "      <td>5.540000e+02</td>\n",
       "      <td>4.000000e+00</td>\n",
       "      <td>2.000000e+00</td>\n",
       "      <td>9.000000e+00</td>\n",
       "      <td>2.400000e+01</td>\n",
       "      <td>9.830000e+03</td>\n",
       "      <td>2.000000e+01</td>\n",
       "      <td>8.000000e+00</td>\n",
       "    </tr>\n",
       "  </tbody>\n",
       "</table>\n",
       "</div>"
      ],
      "text/plain": [
       "             FNLWGT          WGTP        INCOME      WKLY_HRS        SALARY  \\\n",
       "count  1.659727e+06  1.659727e+06  1.659727e+06  1.659727e+06  1.659727e+06   \n",
       "mean   1.033513e+02  9.579058e+01  6.058823e+04  3.839128e+01  5.189937e+04   \n",
       "std    9.061065e+01  8.493126e+01  7.691692e+04  1.310493e+01  6.724644e+04   \n",
       "min    1.000000e+00  0.000000e+00 -1.020000e+04  1.000000e+00  0.000000e+00   \n",
       "25%    5.100000e+01  4.800000e+01  2.100000e+04  3.500000e+01  1.450000e+04   \n",
       "50%    7.900000e+01  7.400000e+01  4.024000e+04  4.000000e+01  3.540000e+04   \n",
       "75%    1.230000e+02  1.160000e+02  7.200000e+04  4.200000e+01  6.500000e+04   \n",
       "max    2.408000e+03  2.377000e+03  1.629000e+06  9.900000e+01  7.170000e+05   \n",
       "\n",
       "                AGE           MOM           DIS    WORK_CLASS        COUPLE  \\\n",
       "count  1.659727e+06  1.659727e+06  1.659727e+06  1.659727e+06  1.659727e+06   \n",
       "mean   4.390527e+01  5.906477e-01  1.928990e+00  2.103359e+00  8.639788e-01   \n",
       "std    1.525340e+01  9.042176e-01  2.568414e-01  1.827131e+00  8.056928e-01   \n",
       "min    1.800000e+01  0.000000e+00  1.000000e+00  1.000000e+00  0.000000e+00   \n",
       "25%    3.100000e+01  0.000000e+00  2.000000e+00  1.000000e+00  0.000000e+00   \n",
       "50%    4.400000e+01  0.000000e+00  2.000000e+00  1.000000e+00  1.000000e+00   \n",
       "75%    5.600000e+01  2.000000e+00  2.000000e+00  3.000000e+00  1.000000e+00   \n",
       "max    9.600000e+01  2.000000e+00  2.000000e+00  8.000000e+00  4.000000e+00   \n",
       "\n",
       "             ADJINC   CITIZENSHIP    POB_DETAIL       PARTNER           SEX  \\\n",
       "count  1.659727e+06  1.659727e+06  1.659727e+06  1.659727e+06  1.659727e+06   \n",
       "mean   1.010145e+00  1.519284e+00  6.538772e+01  2.079902e-01  1.478681e+00   \n",
       "std    3.338952e-11  1.227446e+00  9.273321e+01  8.872759e-01  4.995454e-01   \n",
       "min    1.010145e+00  1.000000e+00  1.000000e+00 -1.000000e+00  1.000000e+00   \n",
       "25%    1.010145e+00  1.000000e+00  1.800000e+01  0.000000e+00  1.000000e+00   \n",
       "50%    1.010145e+00  1.000000e+00  3.600000e+01  0.000000e+00  1.000000e+00   \n",
       "75%    1.010145e+00  1.000000e+00  4.800000e+01  0.000000e+00  2.000000e+00   \n",
       "max    1.010145e+00  5.000000e+00  5.540000e+02  4.000000e+00  2.000000e+00   \n",
       "\n",
       "               RACE     EDUCATION    OCCUPATION     PERSON_NO     POB_WORLD  \n",
       "count  1.659727e+06  1.659727e+06  1.659727e+06  1.659727e+06  1.659727e+06  \n",
       "mean   1.873518e+00  1.871658e+01  4.088068e+03  1.676787e+00  1.451513e+00  \n",
       "std    2.079837e+00  3.274921e+00  2.685733e+03  9.803672e-01  1.123796e+00  \n",
       "min    1.000000e+00  1.000000e+00  1.000000e+01  1.000000e+00  1.000000e+00  \n",
       "25%    1.000000e+00  1.600000e+01  2.040000e+03  1.000000e+00  1.000000e+00  \n",
       "50%    1.000000e+00  1.900000e+01  4.110000e+03  1.000000e+00  1.000000e+00  \n",
       "75%    1.000000e+00  2.100000e+01  5.740000e+03  2.000000e+00  1.000000e+00  \n",
       "max    9.000000e+00  2.400000e+01  9.830000e+03  2.000000e+01  8.000000e+00  "
      ]
     },
     "execution_count": 17,
     "metadata": {},
     "output_type": "execute_result"
    }
   ],
   "source": [
    "df.describe()"
   ]
  },
  {
   "cell_type": "code",
   "execution_count": 18,
   "metadata": {},
   "outputs": [
    {
     "data": {
      "text/plain": [
       "<matplotlib.axes._subplots.AxesSubplot at 0x17b8bfc0d30>"
      ]
     },
     "execution_count": 18,
     "metadata": {},
     "output_type": "execute_result"
    },
    {
     "data": {
      "image/png": "[encoded data removed]",
      "text/plain": [
       "<Figure size 432x288 with 1 Axes>"
      ]
     },
     "metadata": {
      "needs_background": "light"
     },
     "output_type": "display_data"
    }
   ],
   "source": [
    "sns.boxplot(x=df.INCOME)\n"
   ]
  },
  {
   "cell_type": "code",
   "execution_count": 19,
   "metadata": {},
   "outputs": [
    {
     "data": {
      "text/plain": [
       "count    1.659727e+06\n",
       "mean     6.058823e+04\n",
       "std      7.691692e+04\n",
       "min     -1.020000e+04\n",
       "25%      2.100000e+04\n",
       "50%      4.024000e+04\n",
       "75%      7.200000e+04\n",
       "max      1.629000e+06\n",
       "Name: INCOME, dtype: float64"
      ]
     },
     "execution_count": 19,
     "metadata": {},
     "output_type": "execute_result"
    }
   ],
   "source": [
    "df.INCOME.describe()"
   ]
  },
  {
   "cell_type": "code",
   "execution_count": 20,
   "metadata": {},
   "outputs": [
    {
     "data": {
      "text/plain": [
       "1           63000\n",
       "3            2000\n",
       "5            6000\n",
       "12           3200\n",
       "14            500\n",
       "            ...  \n",
       "3239549    150000\n",
       "3239550     27000\n",
       "3239551     75000\n",
       "3239552     57000\n",
       "3239553     55000\n",
       "Name: INCOME, Length: 1659727, dtype: int64"
      ]
     },
     "execution_count": 20,
     "metadata": {},
     "output_type": "execute_result"
    }
   ],
   "source": [
    "df.INCOME"
   ]
  },
  {
   "cell_type": "code",
   "execution_count": 21,
   "metadata": {},
   "outputs": [
    {
     "data": {
      "text/plain": [
       "count    1.656282e+06\n",
       "mean     6.071761e+04\n",
       "std      7.694438e+04\n",
       "min      1.040000e+02\n",
       "25%      2.100000e+04\n",
       "50%      4.050000e+04\n",
       "75%      7.200000e+04\n",
       "max      1.629000e+06\n",
       "Name: INCOME, dtype: float64"
      ]
     },
     "execution_count": 21,
     "metadata": {},
     "output_type": "execute_result"
    }
   ],
   "source": [
    "df[df.INCOME > 100]['INCOME'].describe()"
   ]
  },
  {
   "cell_type": "code",
   "execution_count": 22,
   "metadata": {},
   "outputs": [
    {
     "data": {
      "text/plain": [
       "count    1.659727e+06\n",
       "mean     5.189937e+04\n",
       "std      6.724644e+04\n",
       "min      0.000000e+00\n",
       "25%      1.450000e+04\n",
       "50%      3.540000e+04\n",
       "75%      6.500000e+04\n",
       "max      7.170000e+05\n",
       "Name: SALARY, dtype: float64"
      ]
     },
     "execution_count": 22,
     "metadata": {},
     "output_type": "execute_result"
    }
   ],
   "source": [
    "df.SALARY.describe()"
   ]
  },
  {
   "cell_type": "code",
   "execution_count": 23,
   "metadata": {},
   "outputs": [
    {
     "data": {
      "text/plain": [
       "21    378817\n",
       "16    342093\n",
       "19    250254\n",
       "22    166793\n",
       "20    154487\n",
       "18    120758\n",
       "17     56487\n",
       "23     42571\n",
       "24     29033\n",
       "15     26173\n",
       "14     23779\n",
       "1      15897\n",
       "13     15039\n",
       "12     12130\n",
       "9       8507\n",
       "11      8136\n",
       "10      2418\n",
       "8       1794\n",
       "6       1670\n",
       "7       1112\n",
       "5        797\n",
       "4        423\n",
       "2        298\n",
       "3        261\n",
       "Name: EDUCATION, dtype: int64"
      ]
     },
     "execution_count": 23,
     "metadata": {},
     "output_type": "execute_result"
    }
   ],
   "source": [
    "df.EDUCATION.value_counts()"
   ]
  },
  {
   "cell_type": "code",
   "execution_count": 24,
   "metadata": {
    "scrolled": true
   },
   "outputs": [
    {
     "data": {
      "text/plain": [
       "<matplotlib.axes._subplots.AxesSubplot at 0x17b8bfded60>"
      ]
     },
     "execution_count": 24,
     "metadata": {},
     "output_type": "execute_result"
    },
    {
     "data": {
      "image/png": "[encoded data removed]",
      "text/plain": [
       "<Figure size 432x288 with 1 Axes>"
      ]
     },
     "metadata": {
      "needs_background": "light"
     },
     "output_type": "display_data"
    }
   ],
   "source": [
    "sns.barplot(data=df, x='EDUCATION', y='INCOME')"
   ]
  },
  {
   "cell_type": "code",
   "execution_count": 25,
   "metadata": {},
   "outputs": [
    {
     "data": {
      "text/plain": [
       "<matplotlib.axes._subplots.AxesSubplot at 0x17b8d7b0f10>"
      ]
     },
     "execution_count": 25,
     "metadata": {},
     "output_type": "execute_result"
    },
    {
     "data": {
      "image/png": "[encoded data removed]",
      "text/plain": [
       "<Figure size 432x288 with 1 Axes>"
      ]
     },
     "metadata": {
      "needs_background": "light"
     },
     "output_type": "display_data"
    }
   ],
   "source": [
    "sns.barplot(data=df, x='EDUCATION', y='SALARY')"
   ]
  },
  {
   "cell_type": "code",
   "execution_count": 26,
   "metadata": {},
   "outputs": [],
   "source": [
    "df['TARGET_60'] = np.where(df.INCOME >= 60000, 'Over_60k', 'Under_60k')"
   ]
  },
  {
   "cell_type": "code",
   "execution_count": 27,
   "metadata": {
    "scrolled": true
   },
   "outputs": [
    {
     "data": {
      "text/plain": [
       "<seaborn.axisgrid.FacetGrid at 0x17b8d7b0f70>"
      ]
     },
     "execution_count": 27,
     "metadata": {},
     "output_type": "execute_result"
    },
    {
     "data": {
      "image/png": "[encoded data removed]",
      "text/plain": [
       "<Figure size 449.875x360 with 1 Axes>"
      ]
     },
     "metadata": {
      "needs_background": "light"
     },
     "output_type": "display_data"
    }
   ],
   "source": [
    "sns.displot(data = df, x=\"RACE\", hue = \"TARGET_60\")"
   ]
  },
  {
   "cell_type": "code",
   "execution_count": 28,
   "metadata": {},
   "outputs": [
    {
     "data": {
      "image/png": "[encoded data removed]",
      "text/plain": [
       "<Figure size 432x288 with 1 Axes>"
      ]
     },
     "metadata": {
      "needs_background": "light"
     },
     "output_type": "display_data"
    }
   ],
   "source": [
    "sns.barplot(data = df, x=\"SEX\", hue = \"TARGET_60\")\n",
    "plt.show()"
   ]
  },
  {
   "cell_type": "code",
   "execution_count": 29,
   "metadata": {},
   "outputs": [
    {
     "data": {
      "text/plain": [
       "<matplotlib.axes._subplots.AxesSubplot at 0x17bbc0139a0>"
      ]
     },
     "execution_count": 29,
     "metadata": {},
     "output_type": "execute_result"
    },
    {
     "data": {
      "image/png": "[encoded data removed]",
      "text/plain": [
       "<Figure size 432x288 with 1 Axes>"
      ]
     },
     "metadata": {
      "needs_background": "light"
     },
     "output_type": "display_data"
    }
   ],
   "source": [
    "sns.barplot(data = df, x=\"POB_WORLD\", hue = \"TARGET_60\")"
   ]
  },
  {
   "cell_type": "code",
   "execution_count": 30,
   "metadata": {},
   "outputs": [
    {
     "data": {
      "text/plain": [
       "<matplotlib.axes._subplots.AxesSubplot at 0x17bbc05da00>"
      ]
     },
     "execution_count": 30,
     "metadata": {},
     "output_type": "execute_result"
    },
    {
     "data": {
      "image/png": "[encoded data removed]",
      "text/plain": [
       "<Figure size 432x288 with 1 Axes>"
      ]
     },
     "metadata": {
      "needs_background": "light"
     },
     "output_type": "display_data"
    }
   ],
   "source": [
    "sns.boxplot(x=df.SALARY)\n"
   ]
  },
  {
   "cell_type": "code",
   "execution_count": 31,
   "metadata": {},
   "outputs": [
    {
     "data": {
      "text/plain": [
       "40240.0"
      ]
     },
     "execution_count": 31,
     "metadata": {},
     "output_type": "execute_result"
    }
   ],
   "source": [
    "df.INCOME.median()"
   ]
  },
  {
   "cell_type": "code",
   "execution_count": 32,
   "metadata": {},
   "outputs": [
    {
     "data": {
      "text/plain": [
       "35400.0"
      ]
     },
     "execution_count": 32,
     "metadata": {},
     "output_type": "execute_result"
    }
   ],
   "source": [
    "df.SALARY.median()"
   ]
  }
 ],
 "metadata": {
  "kernelspec": {
   "display_name": "Python 3",
   "language": "python",
   "name": "python3"
  },
  "language_info": {
   "codemirror_mode": {
    "name": "ipython",
    "version": 3
   },
   "file_extension": ".py",
   "mimetype": "text/x-python",
   "name": "python",
   "nbconvert_exporter": "python",
   "pygments_lexer": "ipython3",
   "version": "3.8.3"
  },
  "toc": {
   "base_numbering": 1,
   "nav_menu": {},
   "number_sections": true,
   "sideBar": true,
   "skip_h1_title": false,
   "title_cell": "Table of Contents",
   "title_sidebar": "Contents",
   "toc_cell": false,
   "toc_position": {},
   "toc_section_display": true,
   "toc_window_display": false
  }
 },
 "nbformat": 4,
 "nbformat_minor": 4
}
