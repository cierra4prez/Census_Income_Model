{
 "cells": [
  {
   "cell_type": "code",
   "execution_count": 1,
   "metadata": {
    "ExecuteTime": {
     "end_time": "2021-01-07T20:25:51.017904Z",
     "start_time": "2021-01-07T20:25:47.238076Z"
    }
   },
   "outputs": [],
   "source": [
    "import pandas as pd\n",
    "import numpy as np\n",
    "import matplotlib.pyplot as plt\n",
    "import seaborn as sns\n",
    "from sklearn.model_selection import train_test_split\n",
    "from sklearn.linear_model import LogisticRegression\n",
    "from sklearn.tree import DecisionTreeClassifier\n",
    "from sklearn.metrics import accuracy_score\n",
    "from sklearn.preprocessing import LabelEncoder\n",
    "\n",
    "pd.options.display.max_columns = 999\n",
    "\n",
    "sns.set_style('white')"
   ]
  },
  {
   "cell_type": "code",
   "execution_count": 2,
   "metadata": {
    "ExecuteTime": {
     "end_time": "2021-01-07T20:25:51.036816Z",
     "start_time": "2021-01-07T20:25:51.027087Z"
    }
   },
   "outputs": [],
   "source": [
    "#pd.options.display.max_rows = 100"
   ]
  },
  {
   "cell_type": "code",
   "execution_count": 3,
   "metadata": {
    "ExecuteTime": {
     "end_time": "2021-01-07T20:25:58.243602Z",
     "start_time": "2021-01-07T20:25:51.055464Z"
    }
   },
   "outputs": [
    {
     "data": {
      "text/html": [
       "<div>\n",
       "<style scoped>\n",
       "    .dataframe tbody tr th:only-of-type {\n",
       "        vertical-align: middle;\n",
       "    }\n",
       "\n",
       "    .dataframe tbody tr th {\n",
       "        vertical-align: top;\n",
       "    }\n",
       "\n",
       "    .dataframe thead th {\n",
       "        text-align: right;\n",
       "    }\n",
       "</style>\n",
       "<table border=\"1\" class=\"dataframe\">\n",
       "  <thead>\n",
       "    <tr style=\"text-align: right;\">\n",
       "      <th></th>\n",
       "      <th>PWGTP</th>\n",
       "      <th>WGTP</th>\n",
       "      <th>PINCP</th>\n",
       "      <th>WKHP</th>\n",
       "      <th>WAGP</th>\n",
       "      <th>AGEP</th>\n",
       "      <th>FER</th>\n",
       "      <th>DIS</th>\n",
       "      <th>COW</th>\n",
       "      <th>CPLT</th>\n",
       "      <th>ADJINC</th>\n",
       "      <th>CIT</th>\n",
       "      <th>POBP</th>\n",
       "      <th>PARTNER</th>\n",
       "      <th>SEX</th>\n",
       "      <th>RAC1P</th>\n",
       "      <th>SCHL</th>\n",
       "      <th>OCCP</th>\n",
       "      <th>NAICSP</th>\n",
       "      <th>SERIALNO</th>\n",
       "      <th>SPORDER</th>\n",
       "    </tr>\n",
       "  </thead>\n",
       "  <tbody>\n",
       "    <tr>\n",
       "      <th>0</th>\n",
       "      <td>71</td>\n",
       "      <td>0</td>\n",
       "      <td>63000</td>\n",
       "      <td>80</td>\n",
       "      <td>63000</td>\n",
       "      <td>35</td>\n",
       "      <td>0</td>\n",
       "      <td>2</td>\n",
       "      <td>1</td>\n",
       "      <td>0</td>\n",
       "      <td>1.010145</td>\n",
       "      <td>1</td>\n",
       "      <td>18</td>\n",
       "      <td>-1</td>\n",
       "      <td>1</td>\n",
       "      <td>1</td>\n",
       "      <td>17</td>\n",
       "      <td>6250</td>\n",
       "      <td>23</td>\n",
       "      <td>2019GQ0000001</td>\n",
       "      <td>1</td>\n",
       "    </tr>\n",
       "    <tr>\n",
       "      <th>1</th>\n",
       "      <td>67</td>\n",
       "      <td>0</td>\n",
       "      <td>0</td>\n",
       "      <td>0</td>\n",
       "      <td>0</td>\n",
       "      <td>25</td>\n",
       "      <td>0</td>\n",
       "      <td>2</td>\n",
       "      <td>0</td>\n",
       "      <td>0</td>\n",
       "      <td>1.010145</td>\n",
       "      <td>1</td>\n",
       "      <td>48</td>\n",
       "      <td>-1</td>\n",
       "      <td>1</td>\n",
       "      <td>1</td>\n",
       "      <td>12</td>\n",
       "      <td>9</td>\n",
       "      <td>-1</td>\n",
       "      <td>2019GQ0000004</td>\n",
       "      <td>1</td>\n",
       "    </tr>\n",
       "    <tr>\n",
       "      <th>2</th>\n",
       "      <td>24</td>\n",
       "      <td>0</td>\n",
       "      <td>2000</td>\n",
       "      <td>15</td>\n",
       "      <td>2000</td>\n",
       "      <td>21</td>\n",
       "      <td>2</td>\n",
       "      <td>2</td>\n",
       "      <td>2</td>\n",
       "      <td>0</td>\n",
       "      <td>1.010145</td>\n",
       "      <td>5</td>\n",
       "      <td>229</td>\n",
       "      <td>-1</td>\n",
       "      <td>2</td>\n",
       "      <td>6</td>\n",
       "      <td>19</td>\n",
       "      <td>4740</td>\n",
       "      <td>611M1</td>\n",
       "      <td>2019GQ0000007</td>\n",
       "      <td>1</td>\n",
       "    </tr>\n",
       "    <tr>\n",
       "      <th>3</th>\n",
       "      <td>52</td>\n",
       "      <td>0</td>\n",
       "      <td>0</td>\n",
       "      <td>0</td>\n",
       "      <td>0</td>\n",
       "      <td>49</td>\n",
       "      <td>0</td>\n",
       "      <td>2</td>\n",
       "      <td>1</td>\n",
       "      <td>0</td>\n",
       "      <td>1.010145</td>\n",
       "      <td>1</td>\n",
       "      <td>6</td>\n",
       "      <td>-1</td>\n",
       "      <td>1</td>\n",
       "      <td>1</td>\n",
       "      <td>21</td>\n",
       "      <td>110</td>\n",
       "      <td>722Z</td>\n",
       "      <td>2019GQ0000010</td>\n",
       "      <td>1</td>\n",
       "    </tr>\n",
       "    <tr>\n",
       "      <th>4</th>\n",
       "      <td>28</td>\n",
       "      <td>0</td>\n",
       "      <td>6000</td>\n",
       "      <td>15</td>\n",
       "      <td>6000</td>\n",
       "      <td>18</td>\n",
       "      <td>2</td>\n",
       "      <td>2</td>\n",
       "      <td>1</td>\n",
       "      <td>0</td>\n",
       "      <td>1.010145</td>\n",
       "      <td>1</td>\n",
       "      <td>6</td>\n",
       "      <td>-1</td>\n",
       "      <td>2</td>\n",
       "      <td>1</td>\n",
       "      <td>16</td>\n",
       "      <td>4110</td>\n",
       "      <td>722Z</td>\n",
       "      <td>2019GQ0000013</td>\n",
       "      <td>1</td>\n",
       "    </tr>\n",
       "  </tbody>\n",
       "</table>\n",
       "</div>"
      ],
      "text/plain": [
       "   PWGTP  WGTP  PINCP  WKHP   WAGP  AGEP  FER  DIS  COW  CPLT    ADJINC  CIT  \\\n",
       "0     71     0  63000    80  63000    35    0    2    1     0  1.010145    1   \n",
       "1     67     0      0     0      0    25    0    2    0     0  1.010145    1   \n",
       "2     24     0   2000    15   2000    21    2    2    2     0  1.010145    5   \n",
       "3     52     0      0     0      0    49    0    2    1     0  1.010145    1   \n",
       "4     28     0   6000    15   6000    18    2    2    1     0  1.010145    1   \n",
       "\n",
       "   POBP  PARTNER  SEX  RAC1P  SCHL  OCCP NAICSP       SERIALNO  SPORDER  \n",
       "0    18       -1    1      1    17  6250     23  2019GQ0000001        1  \n",
       "1    48       -1    1      1    12     9     -1  2019GQ0000004        1  \n",
       "2   229       -1    2      6    19  4740  611M1  2019GQ0000007        1  \n",
       "3     6       -1    1      1    21   110   722Z  2019GQ0000010        1  \n",
       "4     6       -1    2      1    16  4110   722Z  2019GQ0000013        1  "
      ]
     },
     "execution_count": 3,
     "metadata": {},
     "output_type": "execute_result"
    }
   ],
   "source": [
    "df = pd.read_csv('census_income_2019.csv', compression = 'zip')\n",
    "df.head()"
   ]
  },
  {
   "cell_type": "code",
   "execution_count": 4,
   "metadata": {
    "ExecuteTime": {
     "end_time": "2021-01-07T20:25:58.256387Z",
     "start_time": "2021-01-07T20:25:58.248377Z"
    }
   },
   "outputs": [
    {
     "data": {
      "text/plain": [
       "(3239553, 21)"
      ]
     },
     "execution_count": 4,
     "metadata": {},
     "output_type": "execute_result"
    }
   ],
   "source": [
    "df.shape"
   ]
  },
  {
   "cell_type": "markdown",
   "metadata": {},
   "source": [
    "##### Update Column Names"
   ]
  },
  {
   "cell_type": "code",
   "execution_count": 5,
   "metadata": {
    "ExecuteTime": {
     "end_time": "2021-01-07T20:25:58.268868Z",
     "start_time": "2021-01-07T20:25:58.259799Z"
    }
   },
   "outputs": [],
   "source": [
    "org_vars = \"\"\"PINCP\n",
    "WAGP\n",
    "INTP\n",
    "ADJINC\n",
    "PWGTP\n",
    "OCCP\n",
    "NAICSP\n",
    "WKHP\n",
    "AGEP\n",
    "SEX\n",
    "FER\n",
    "CPLT\n",
    "PARTNER\n",
    "COW\n",
    "RAC1P\n",
    "POBP\n",
    "CIT\n",
    "SCHL\n",
    "DIS\n",
    "SERIALNO\n",
    "SPORDER\n",
    "WAOB\"\"\".split(\"\\n\")"
   ]
  },
  {
   "cell_type": "code",
   "execution_count": 6,
   "metadata": {
    "ExecuteTime": {
     "end_time": "2021-01-07T20:25:58.277048Z",
     "start_time": "2021-01-07T20:25:58.271482Z"
    }
   },
   "outputs": [],
   "source": [
    "uptd_vars = \"\"\"INCOME\n",
    "SALARY\n",
    "INTEREST_DIV\n",
    "ADJINC\n",
    "FNLWGT\n",
    "OCCUPATION\n",
    "WORK_INDUSTRY\n",
    "WKLY_HRS\n",
    "AGE\n",
    "SEX\n",
    "MOM\n",
    "COUPLE\n",
    "PARTNER\n",
    "WORK_CLASS\n",
    "RACE\n",
    "POB_DETAIL\n",
    "CITIZENSHIP\n",
    "EDUCATION\n",
    "DIS\n",
    "SERIALNO\n",
    "PERSON_NO\n",
    "POB_WORLD\"\"\".split(\"\\n\")"
   ]
  },
  {
   "cell_type": "code",
   "execution_count": 7,
   "metadata": {
    "ExecuteTime": {
     "end_time": "2021-01-07T20:25:58.286028Z",
     "start_time": "2021-01-07T20:25:58.280935Z"
    }
   },
   "outputs": [],
   "source": [
    "vars_dict = dict(zip(org_vars, uptd_vars))\n",
    "# vars_dict #Uncomment to view"
   ]
  },
  {
   "cell_type": "code",
   "execution_count": 8,
   "metadata": {
    "ExecuteTime": {
     "end_time": "2021-01-07T20:25:59.308716Z",
     "start_time": "2021-01-07T20:25:58.292660Z"
    }
   },
   "outputs": [
    {
     "data": {
      "text/html": [
       "<div>\n",
       "<style scoped>\n",
       "    .dataframe tbody tr th:only-of-type {\n",
       "        vertical-align: middle;\n",
       "    }\n",
       "\n",
       "    .dataframe tbody tr th {\n",
       "        vertical-align: top;\n",
       "    }\n",
       "\n",
       "    .dataframe thead th {\n",
       "        text-align: right;\n",
       "    }\n",
       "</style>\n",
       "<table border=\"1\" class=\"dataframe\">\n",
       "  <thead>\n",
       "    <tr style=\"text-align: right;\">\n",
       "      <th></th>\n",
       "      <th>FNLWGT</th>\n",
       "      <th>WGTP</th>\n",
       "      <th>INCOME</th>\n",
       "      <th>WKLY_HRS</th>\n",
       "      <th>SALARY</th>\n",
       "      <th>AGE</th>\n",
       "      <th>MOM</th>\n",
       "      <th>DIS</th>\n",
       "      <th>WORK_CLASS</th>\n",
       "      <th>COUPLE</th>\n",
       "      <th>ADJINC</th>\n",
       "      <th>CITIZENSHIP</th>\n",
       "      <th>POB_DETAIL</th>\n",
       "      <th>PARTNER</th>\n",
       "      <th>SEX</th>\n",
       "      <th>RACE</th>\n",
       "      <th>EDUCATION</th>\n",
       "      <th>OCCUPATION</th>\n",
       "      <th>WORK_INDUSTRY</th>\n",
       "      <th>SERIALNO</th>\n",
       "      <th>PERSON_NO</th>\n",
       "    </tr>\n",
       "  </thead>\n",
       "  <tbody>\n",
       "    <tr>\n",
       "      <th>0</th>\n",
       "      <td>71</td>\n",
       "      <td>0</td>\n",
       "      <td>63000</td>\n",
       "      <td>80</td>\n",
       "      <td>63000</td>\n",
       "      <td>35</td>\n",
       "      <td>0</td>\n",
       "      <td>2</td>\n",
       "      <td>1</td>\n",
       "      <td>0</td>\n",
       "      <td>1.010145</td>\n",
       "      <td>1</td>\n",
       "      <td>18</td>\n",
       "      <td>-1</td>\n",
       "      <td>1</td>\n",
       "      <td>1</td>\n",
       "      <td>17</td>\n",
       "      <td>6250</td>\n",
       "      <td>23</td>\n",
       "      <td>2019GQ0000001</td>\n",
       "      <td>1</td>\n",
       "    </tr>\n",
       "    <tr>\n",
       "      <th>1</th>\n",
       "      <td>67</td>\n",
       "      <td>0</td>\n",
       "      <td>0</td>\n",
       "      <td>0</td>\n",
       "      <td>0</td>\n",
       "      <td>25</td>\n",
       "      <td>0</td>\n",
       "      <td>2</td>\n",
       "      <td>0</td>\n",
       "      <td>0</td>\n",
       "      <td>1.010145</td>\n",
       "      <td>1</td>\n",
       "      <td>48</td>\n",
       "      <td>-1</td>\n",
       "      <td>1</td>\n",
       "      <td>1</td>\n",
       "      <td>12</td>\n",
       "      <td>9</td>\n",
       "      <td>-1</td>\n",
       "      <td>2019GQ0000004</td>\n",
       "      <td>1</td>\n",
       "    </tr>\n",
       "    <tr>\n",
       "      <th>2</th>\n",
       "      <td>24</td>\n",
       "      <td>0</td>\n",
       "      <td>2000</td>\n",
       "      <td>15</td>\n",
       "      <td>2000</td>\n",
       "      <td>21</td>\n",
       "      <td>2</td>\n",
       "      <td>2</td>\n",
       "      <td>2</td>\n",
       "      <td>0</td>\n",
       "      <td>1.010145</td>\n",
       "      <td>5</td>\n",
       "      <td>229</td>\n",
       "      <td>-1</td>\n",
       "      <td>2</td>\n",
       "      <td>6</td>\n",
       "      <td>19</td>\n",
       "      <td>4740</td>\n",
       "      <td>611M1</td>\n",
       "      <td>2019GQ0000007</td>\n",
       "      <td>1</td>\n",
       "    </tr>\n",
       "    <tr>\n",
       "      <th>3</th>\n",
       "      <td>52</td>\n",
       "      <td>0</td>\n",
       "      <td>0</td>\n",
       "      <td>0</td>\n",
       "      <td>0</td>\n",
       "      <td>49</td>\n",
       "      <td>0</td>\n",
       "      <td>2</td>\n",
       "      <td>1</td>\n",
       "      <td>0</td>\n",
       "      <td>1.010145</td>\n",
       "      <td>1</td>\n",
       "      <td>6</td>\n",
       "      <td>-1</td>\n",
       "      <td>1</td>\n",
       "      <td>1</td>\n",
       "      <td>21</td>\n",
       "      <td>110</td>\n",
       "      <td>722Z</td>\n",
       "      <td>2019GQ0000010</td>\n",
       "      <td>1</td>\n",
       "    </tr>\n",
       "    <tr>\n",
       "      <th>4</th>\n",
       "      <td>28</td>\n",
       "      <td>0</td>\n",
       "      <td>6000</td>\n",
       "      <td>15</td>\n",
       "      <td>6000</td>\n",
       "      <td>18</td>\n",
       "      <td>2</td>\n",
       "      <td>2</td>\n",
       "      <td>1</td>\n",
       "      <td>0</td>\n",
       "      <td>1.010145</td>\n",
       "      <td>1</td>\n",
       "      <td>6</td>\n",
       "      <td>-1</td>\n",
       "      <td>2</td>\n",
       "      <td>1</td>\n",
       "      <td>16</td>\n",
       "      <td>4110</td>\n",
       "      <td>722Z</td>\n",
       "      <td>2019GQ0000013</td>\n",
       "      <td>1</td>\n",
       "    </tr>\n",
       "  </tbody>\n",
       "</table>\n",
       "</div>"
      ],
      "text/plain": [
       "   FNLWGT  WGTP  INCOME  WKLY_HRS  SALARY  AGE  MOM  DIS  WORK_CLASS  COUPLE  \\\n",
       "0      71     0   63000        80   63000   35    0    2           1       0   \n",
       "1      67     0       0         0       0   25    0    2           0       0   \n",
       "2      24     0    2000        15    2000   21    2    2           2       0   \n",
       "3      52     0       0         0       0   49    0    2           1       0   \n",
       "4      28     0    6000        15    6000   18    2    2           1       0   \n",
       "\n",
       "     ADJINC  CITIZENSHIP  POB_DETAIL  PARTNER  SEX  RACE  EDUCATION  \\\n",
       "0  1.010145            1          18       -1    1     1         17   \n",
       "1  1.010145            1          48       -1    1     1         12   \n",
       "2  1.010145            5         229       -1    2     6         19   \n",
       "3  1.010145            1           6       -1    1     1         21   \n",
       "4  1.010145            1           6       -1    2     1         16   \n",
       "\n",
       "   OCCUPATION WORK_INDUSTRY       SERIALNO  PERSON_NO  \n",
       "0        6250            23  2019GQ0000001          1  \n",
       "1           9            -1  2019GQ0000004          1  \n",
       "2        4740         611M1  2019GQ0000007          1  \n",
       "3         110          722Z  2019GQ0000010          1  \n",
       "4        4110          722Z  2019GQ0000013          1  "
      ]
     },
     "execution_count": 8,
     "metadata": {},
     "output_type": "execute_result"
    }
   ],
   "source": [
    "df = df.rename(columns=vars_dict)\n",
    "df.head() #Sanity Check"
   ]
  },
  {
   "cell_type": "code",
   "execution_count": 9,
   "metadata": {
    "ExecuteTime": {
     "end_time": "2021-01-07T20:25:59.335243Z",
     "start_time": "2021-01-07T20:25:59.314278Z"
    },
    "scrolled": true
   },
   "outputs": [
    {
     "data": {
      "text/html": [
       "<div>\n",
       "<style scoped>\n",
       "    .dataframe tbody tr th:only-of-type {\n",
       "        vertical-align: middle;\n",
       "    }\n",
       "\n",
       "    .dataframe tbody tr th {\n",
       "        vertical-align: top;\n",
       "    }\n",
       "\n",
       "    .dataframe thead th {\n",
       "        text-align: right;\n",
       "    }\n",
       "</style>\n",
       "<table border=\"1\" class=\"dataframe\">\n",
       "  <thead>\n",
       "    <tr style=\"text-align: right;\">\n",
       "      <th></th>\n",
       "      <th>FNLWGT</th>\n",
       "      <th>WGTP</th>\n",
       "      <th>INCOME</th>\n",
       "      <th>WKLY_HRS</th>\n",
       "      <th>SALARY</th>\n",
       "      <th>AGE</th>\n",
       "      <th>MOM</th>\n",
       "      <th>DIS</th>\n",
       "      <th>WORK_CLASS</th>\n",
       "      <th>COUPLE</th>\n",
       "      <th>ADJINC</th>\n",
       "      <th>CITIZENSHIP</th>\n",
       "      <th>POB_DETAIL</th>\n",
       "      <th>PARTNER</th>\n",
       "      <th>SEX</th>\n",
       "      <th>RACE</th>\n",
       "      <th>EDUCATION</th>\n",
       "      <th>OCCUPATION</th>\n",
       "      <th>WORK_INDUSTRY</th>\n",
       "      <th>SERIALNO</th>\n",
       "      <th>PERSON_NO</th>\n",
       "    </tr>\n",
       "  </thead>\n",
       "  <tbody>\n",
       "    <tr>\n",
       "      <th>0</th>\n",
       "      <td>71</td>\n",
       "      <td>0</td>\n",
       "      <td>63000</td>\n",
       "      <td>80</td>\n",
       "      <td>63000</td>\n",
       "      <td>35</td>\n",
       "      <td>0</td>\n",
       "      <td>2</td>\n",
       "      <td>1</td>\n",
       "      <td>0</td>\n",
       "      <td>1.010145</td>\n",
       "      <td>1</td>\n",
       "      <td>18</td>\n",
       "      <td>-1</td>\n",
       "      <td>1</td>\n",
       "      <td>1</td>\n",
       "      <td>17</td>\n",
       "      <td>6250</td>\n",
       "      <td>23</td>\n",
       "      <td>2019GQ0000001</td>\n",
       "      <td>1</td>\n",
       "    </tr>\n",
       "    <tr>\n",
       "      <th>1</th>\n",
       "      <td>67</td>\n",
       "      <td>0</td>\n",
       "      <td>0</td>\n",
       "      <td>0</td>\n",
       "      <td>0</td>\n",
       "      <td>25</td>\n",
       "      <td>0</td>\n",
       "      <td>2</td>\n",
       "      <td>0</td>\n",
       "      <td>0</td>\n",
       "      <td>1.010145</td>\n",
       "      <td>1</td>\n",
       "      <td>48</td>\n",
       "      <td>-1</td>\n",
       "      <td>1</td>\n",
       "      <td>1</td>\n",
       "      <td>12</td>\n",
       "      <td>9</td>\n",
       "      <td>-1</td>\n",
       "      <td>2019GQ0000004</td>\n",
       "      <td>1</td>\n",
       "    </tr>\n",
       "    <tr>\n",
       "      <th>2</th>\n",
       "      <td>24</td>\n",
       "      <td>0</td>\n",
       "      <td>2000</td>\n",
       "      <td>15</td>\n",
       "      <td>2000</td>\n",
       "      <td>21</td>\n",
       "      <td>2</td>\n",
       "      <td>2</td>\n",
       "      <td>2</td>\n",
       "      <td>0</td>\n",
       "      <td>1.010145</td>\n",
       "      <td>5</td>\n",
       "      <td>229</td>\n",
       "      <td>-1</td>\n",
       "      <td>2</td>\n",
       "      <td>6</td>\n",
       "      <td>19</td>\n",
       "      <td>4740</td>\n",
       "      <td>611M1</td>\n",
       "      <td>2019GQ0000007</td>\n",
       "      <td>1</td>\n",
       "    </tr>\n",
       "    <tr>\n",
       "      <th>3</th>\n",
       "      <td>52</td>\n",
       "      <td>0</td>\n",
       "      <td>0</td>\n",
       "      <td>0</td>\n",
       "      <td>0</td>\n",
       "      <td>49</td>\n",
       "      <td>0</td>\n",
       "      <td>2</td>\n",
       "      <td>1</td>\n",
       "      <td>0</td>\n",
       "      <td>1.010145</td>\n",
       "      <td>1</td>\n",
       "      <td>6</td>\n",
       "      <td>-1</td>\n",
       "      <td>1</td>\n",
       "      <td>1</td>\n",
       "      <td>21</td>\n",
       "      <td>110</td>\n",
       "      <td>722Z</td>\n",
       "      <td>2019GQ0000010</td>\n",
       "      <td>1</td>\n",
       "    </tr>\n",
       "    <tr>\n",
       "      <th>4</th>\n",
       "      <td>28</td>\n",
       "      <td>0</td>\n",
       "      <td>6000</td>\n",
       "      <td>15</td>\n",
       "      <td>6000</td>\n",
       "      <td>18</td>\n",
       "      <td>2</td>\n",
       "      <td>2</td>\n",
       "      <td>1</td>\n",
       "      <td>0</td>\n",
       "      <td>1.010145</td>\n",
       "      <td>1</td>\n",
       "      <td>6</td>\n",
       "      <td>-1</td>\n",
       "      <td>2</td>\n",
       "      <td>1</td>\n",
       "      <td>16</td>\n",
       "      <td>4110</td>\n",
       "      <td>722Z</td>\n",
       "      <td>2019GQ0000013</td>\n",
       "      <td>1</td>\n",
       "    </tr>\n",
       "  </tbody>\n",
       "</table>\n",
       "</div>"
      ],
      "text/plain": [
       "   FNLWGT  WGTP  INCOME  WKLY_HRS  SALARY  AGE  MOM  DIS  WORK_CLASS  COUPLE  \\\n",
       "0      71     0   63000        80   63000   35    0    2           1       0   \n",
       "1      67     0       0         0       0   25    0    2           0       0   \n",
       "2      24     0    2000        15    2000   21    2    2           2       0   \n",
       "3      52     0       0         0       0   49    0    2           1       0   \n",
       "4      28     0    6000        15    6000   18    2    2           1       0   \n",
       "\n",
       "     ADJINC  CITIZENSHIP  POB_DETAIL  PARTNER  SEX  RACE  EDUCATION  \\\n",
       "0  1.010145            1          18       -1    1     1         17   \n",
       "1  1.010145            1          48       -1    1     1         12   \n",
       "2  1.010145            5         229       -1    2     6         19   \n",
       "3  1.010145            1           6       -1    1     1         21   \n",
       "4  1.010145            1           6       -1    2     1         16   \n",
       "\n",
       "   OCCUPATION WORK_INDUSTRY       SERIALNO  PERSON_NO  \n",
       "0        6250            23  2019GQ0000001          1  \n",
       "1           9            -1  2019GQ0000004          1  \n",
       "2        4740         611M1  2019GQ0000007          1  \n",
       "3         110          722Z  2019GQ0000010          1  \n",
       "4        4110          722Z  2019GQ0000013          1  "
      ]
     },
     "execution_count": 9,
     "metadata": {},
     "output_type": "execute_result"
    }
   ],
   "source": [
    "df.head()"
   ]
  },
  {
   "cell_type": "code",
   "execution_count": 10,
   "metadata": {
    "ExecuteTime": {
     "end_time": "2021-01-07T20:26:03.951703Z",
     "start_time": "2021-01-07T20:25:59.338537Z"
    },
    "scrolled": true
   },
   "outputs": [
    {
     "data": {
      "text/plain": [
       "0"
      ]
     },
     "execution_count": 10,
     "metadata": {},
     "output_type": "execute_result"
    }
   ],
   "source": [
    "#checking for duplicates\n",
    "df.duplicated().sum()"
   ]
  },
  {
   "cell_type": "code",
   "execution_count": 11,
   "metadata": {
    "ExecuteTime": {
     "end_time": "2021-01-07T20:26:04.443261Z",
     "start_time": "2021-01-07T20:26:03.956041Z"
    }
   },
   "outputs": [],
   "source": [
    "##Remove MOM, DIS, SERIALNO and PERSON_NO here?\n",
    "df = df.drop(['DIS','ADJINC','SERIALNO', 'PERSON_NO'], axis=1)"
   ]
  },
  {
   "cell_type": "markdown",
   "metadata": {},
   "source": [
    "# Cleaning"
   ]
  },
  {
   "cell_type": "code",
   "execution_count": 12,
   "metadata": {
    "ExecuteTime": {
     "end_time": "2021-01-07T20:26:05.076498Z",
     "start_time": "2021-01-07T20:26:04.454893Z"
    }
   },
   "outputs": [],
   "source": [
    "# narrow down data to adults over the 17 years old\n",
    "df = df[df.AGE > 17]"
   ]
  },
  {
   "cell_type": "code",
   "execution_count": 13,
   "metadata": {
    "ExecuteTime": {
     "end_time": "2021-01-07T20:26:05.090144Z",
     "start_time": "2021-01-07T20:26:05.079076Z"
    }
   },
   "outputs": [
    {
     "data": {
      "text/plain": [
       "(2599171, 17)"
      ]
     },
     "execution_count": 13,
     "metadata": {},
     "output_type": "execute_result"
    }
   ],
   "source": [
    "df.shape"
   ]
  },
  {
   "cell_type": "code",
   "execution_count": 14,
   "metadata": {
    "ExecuteTime": {
     "end_time": "2021-01-07T20:26:05.496668Z",
     "start_time": "2021-01-07T20:26:05.095584Z"
    }
   },
   "outputs": [],
   "source": [
    "# narrow down data to adults who worked in the past 12 months\n",
    "df = df[df.WKLY_HRS > 0]"
   ]
  },
  {
   "cell_type": "code",
   "execution_count": 15,
   "metadata": {
    "ExecuteTime": {
     "end_time": "2021-01-07T20:26:05.520395Z",
     "start_time": "2021-01-07T20:26:05.506222Z"
    },
    "scrolled": true
   },
   "outputs": [
    {
     "data": {
      "text/plain": [
       "(1659727, 17)"
      ]
     },
     "execution_count": 15,
     "metadata": {},
     "output_type": "execute_result"
    }
   ],
   "source": [
    "df.shape"
   ]
  },
  {
   "cell_type": "code",
   "execution_count": 16,
   "metadata": {
    "ExecuteTime": {
     "end_time": "2021-01-07T20:26:06.755139Z",
     "start_time": "2021-01-07T20:26:05.530954Z"
    },
    "scrolled": true
   },
   "outputs": [
    {
     "data": {
      "text/html": [
       "<div>\n",
       "<style scoped>\n",
       "    .dataframe tbody tr th:only-of-type {\n",
       "        vertical-align: middle;\n",
       "    }\n",
       "\n",
       "    .dataframe tbody tr th {\n",
       "        vertical-align: top;\n",
       "    }\n",
       "\n",
       "    .dataframe thead th {\n",
       "        text-align: right;\n",
       "    }\n",
       "</style>\n",
       "<table border=\"1\" class=\"dataframe\">\n",
       "  <thead>\n",
       "    <tr style=\"text-align: right;\">\n",
       "      <th></th>\n",
       "      <th>FNLWGT</th>\n",
       "      <th>WGTP</th>\n",
       "      <th>INCOME</th>\n",
       "      <th>WKLY_HRS</th>\n",
       "      <th>SALARY</th>\n",
       "      <th>AGE</th>\n",
       "      <th>MOM</th>\n",
       "      <th>WORK_CLASS</th>\n",
       "      <th>COUPLE</th>\n",
       "      <th>CITIZENSHIP</th>\n",
       "      <th>POB_DETAIL</th>\n",
       "      <th>PARTNER</th>\n",
       "      <th>SEX</th>\n",
       "      <th>RACE</th>\n",
       "      <th>EDUCATION</th>\n",
       "      <th>OCCUPATION</th>\n",
       "    </tr>\n",
       "  </thead>\n",
       "  <tbody>\n",
       "    <tr>\n",
       "      <th>count</th>\n",
       "      <td>1.659727e+06</td>\n",
       "      <td>1.659727e+06</td>\n",
       "      <td>1.659727e+06</td>\n",
       "      <td>1.659727e+06</td>\n",
       "      <td>1.659727e+06</td>\n",
       "      <td>1.659727e+06</td>\n",
       "      <td>1.659727e+06</td>\n",
       "      <td>1.659727e+06</td>\n",
       "      <td>1.659727e+06</td>\n",
       "      <td>1.659727e+06</td>\n",
       "      <td>1.659727e+06</td>\n",
       "      <td>1.659727e+06</td>\n",
       "      <td>1.659727e+06</td>\n",
       "      <td>1.659727e+06</td>\n",
       "      <td>1.659727e+06</td>\n",
       "      <td>1.659727e+06</td>\n",
       "    </tr>\n",
       "    <tr>\n",
       "      <th>mean</th>\n",
       "      <td>1.033513e+02</td>\n",
       "      <td>9.579058e+01</td>\n",
       "      <td>6.058823e+04</td>\n",
       "      <td>3.839128e+01</td>\n",
       "      <td>5.189937e+04</td>\n",
       "      <td>4.390527e+01</td>\n",
       "      <td>5.906477e-01</td>\n",
       "      <td>2.103359e+00</td>\n",
       "      <td>8.639788e-01</td>\n",
       "      <td>1.519284e+00</td>\n",
       "      <td>6.538772e+01</td>\n",
       "      <td>2.079902e-01</td>\n",
       "      <td>1.478681e+00</td>\n",
       "      <td>1.873518e+00</td>\n",
       "      <td>1.871658e+01</td>\n",
       "      <td>4.088068e+03</td>\n",
       "    </tr>\n",
       "    <tr>\n",
       "      <th>std</th>\n",
       "      <td>9.061065e+01</td>\n",
       "      <td>8.493126e+01</td>\n",
       "      <td>7.691692e+04</td>\n",
       "      <td>1.310493e+01</td>\n",
       "      <td>6.724644e+04</td>\n",
       "      <td>1.525340e+01</td>\n",
       "      <td>9.042176e-01</td>\n",
       "      <td>1.827131e+00</td>\n",
       "      <td>8.056928e-01</td>\n",
       "      <td>1.227446e+00</td>\n",
       "      <td>9.273321e+01</td>\n",
       "      <td>8.872759e-01</td>\n",
       "      <td>4.995454e-01</td>\n",
       "      <td>2.079837e+00</td>\n",
       "      <td>3.274921e+00</td>\n",
       "      <td>2.685733e+03</td>\n",
       "    </tr>\n",
       "    <tr>\n",
       "      <th>min</th>\n",
       "      <td>1.000000e+00</td>\n",
       "      <td>0.000000e+00</td>\n",
       "      <td>-1.020000e+04</td>\n",
       "      <td>1.000000e+00</td>\n",
       "      <td>0.000000e+00</td>\n",
       "      <td>1.800000e+01</td>\n",
       "      <td>0.000000e+00</td>\n",
       "      <td>1.000000e+00</td>\n",
       "      <td>0.000000e+00</td>\n",
       "      <td>1.000000e+00</td>\n",
       "      <td>1.000000e+00</td>\n",
       "      <td>-1.000000e+00</td>\n",
       "      <td>1.000000e+00</td>\n",
       "      <td>1.000000e+00</td>\n",
       "      <td>1.000000e+00</td>\n",
       "      <td>1.000000e+01</td>\n",
       "    </tr>\n",
       "    <tr>\n",
       "      <th>25%</th>\n",
       "      <td>5.100000e+01</td>\n",
       "      <td>4.800000e+01</td>\n",
       "      <td>2.100000e+04</td>\n",
       "      <td>3.500000e+01</td>\n",
       "      <td>1.450000e+04</td>\n",
       "      <td>3.100000e+01</td>\n",
       "      <td>0.000000e+00</td>\n",
       "      <td>1.000000e+00</td>\n",
       "      <td>0.000000e+00</td>\n",
       "      <td>1.000000e+00</td>\n",
       "      <td>1.800000e+01</td>\n",
       "      <td>0.000000e+00</td>\n",
       "      <td>1.000000e+00</td>\n",
       "      <td>1.000000e+00</td>\n",
       "      <td>1.600000e+01</td>\n",
       "      <td>2.040000e+03</td>\n",
       "    </tr>\n",
       "    <tr>\n",
       "      <th>50%</th>\n",
       "      <td>7.900000e+01</td>\n",
       "      <td>7.400000e+01</td>\n",
       "      <td>4.024000e+04</td>\n",
       "      <td>4.000000e+01</td>\n",
       "      <td>3.540000e+04</td>\n",
       "      <td>4.400000e+01</td>\n",
       "      <td>0.000000e+00</td>\n",
       "      <td>1.000000e+00</td>\n",
       "      <td>1.000000e+00</td>\n",
       "      <td>1.000000e+00</td>\n",
       "      <td>3.600000e+01</td>\n",
       "      <td>0.000000e+00</td>\n",
       "      <td>1.000000e+00</td>\n",
       "      <td>1.000000e+00</td>\n",
       "      <td>1.900000e+01</td>\n",
       "      <td>4.110000e+03</td>\n",
       "    </tr>\n",
       "    <tr>\n",
       "      <th>75%</th>\n",
       "      <td>1.230000e+02</td>\n",
       "      <td>1.160000e+02</td>\n",
       "      <td>7.200000e+04</td>\n",
       "      <td>4.200000e+01</td>\n",
       "      <td>6.500000e+04</td>\n",
       "      <td>5.600000e+01</td>\n",
       "      <td>2.000000e+00</td>\n",
       "      <td>3.000000e+00</td>\n",
       "      <td>1.000000e+00</td>\n",
       "      <td>1.000000e+00</td>\n",
       "      <td>4.800000e+01</td>\n",
       "      <td>0.000000e+00</td>\n",
       "      <td>2.000000e+00</td>\n",
       "      <td>1.000000e+00</td>\n",
       "      <td>2.100000e+01</td>\n",
       "      <td>5.740000e+03</td>\n",
       "    </tr>\n",
       "    <tr>\n",
       "      <th>max</th>\n",
       "      <td>2.408000e+03</td>\n",
       "      <td>2.377000e+03</td>\n",
       "      <td>1.629000e+06</td>\n",
       "      <td>9.900000e+01</td>\n",
       "      <td>7.170000e+05</td>\n",
       "      <td>9.600000e+01</td>\n",
       "      <td>2.000000e+00</td>\n",
       "      <td>8.000000e+00</td>\n",
       "      <td>4.000000e+00</td>\n",
       "      <td>5.000000e+00</td>\n",
       "      <td>5.540000e+02</td>\n",
       "      <td>4.000000e+00</td>\n",
       "      <td>2.000000e+00</td>\n",
       "      <td>9.000000e+00</td>\n",
       "      <td>2.400000e+01</td>\n",
       "      <td>9.830000e+03</td>\n",
       "    </tr>\n",
       "  </tbody>\n",
       "</table>\n",
       "</div>"
      ],
      "text/plain": [
       "             FNLWGT          WGTP        INCOME      WKLY_HRS        SALARY  \\\n",
       "count  1.659727e+06  1.659727e+06  1.659727e+06  1.659727e+06  1.659727e+06   \n",
       "mean   1.033513e+02  9.579058e+01  6.058823e+04  3.839128e+01  5.189937e+04   \n",
       "std    9.061065e+01  8.493126e+01  7.691692e+04  1.310493e+01  6.724644e+04   \n",
       "min    1.000000e+00  0.000000e+00 -1.020000e+04  1.000000e+00  0.000000e+00   \n",
       "25%    5.100000e+01  4.800000e+01  2.100000e+04  3.500000e+01  1.450000e+04   \n",
       "50%    7.900000e+01  7.400000e+01  4.024000e+04  4.000000e+01  3.540000e+04   \n",
       "75%    1.230000e+02  1.160000e+02  7.200000e+04  4.200000e+01  6.500000e+04   \n",
       "max    2.408000e+03  2.377000e+03  1.629000e+06  9.900000e+01  7.170000e+05   \n",
       "\n",
       "                AGE           MOM    WORK_CLASS        COUPLE   CITIZENSHIP  \\\n",
       "count  1.659727e+06  1.659727e+06  1.659727e+06  1.659727e+06  1.659727e+06   \n",
       "mean   4.390527e+01  5.906477e-01  2.103359e+00  8.639788e-01  1.519284e+00   \n",
       "std    1.525340e+01  9.042176e-01  1.827131e+00  8.056928e-01  1.227446e+00   \n",
       "min    1.800000e+01  0.000000e+00  1.000000e+00  0.000000e+00  1.000000e+00   \n",
       "25%    3.100000e+01  0.000000e+00  1.000000e+00  0.000000e+00  1.000000e+00   \n",
       "50%    4.400000e+01  0.000000e+00  1.000000e+00  1.000000e+00  1.000000e+00   \n",
       "75%    5.600000e+01  2.000000e+00  3.000000e+00  1.000000e+00  1.000000e+00   \n",
       "max    9.600000e+01  2.000000e+00  8.000000e+00  4.000000e+00  5.000000e+00   \n",
       "\n",
       "         POB_DETAIL       PARTNER           SEX          RACE     EDUCATION  \\\n",
       "count  1.659727e+06  1.659727e+06  1.659727e+06  1.659727e+06  1.659727e+06   \n",
       "mean   6.538772e+01  2.079902e-01  1.478681e+00  1.873518e+00  1.871658e+01   \n",
       "std    9.273321e+01  8.872759e-01  4.995454e-01  2.079837e+00  3.274921e+00   \n",
       "min    1.000000e+00 -1.000000e+00  1.000000e+00  1.000000e+00  1.000000e+00   \n",
       "25%    1.800000e+01  0.000000e+00  1.000000e+00  1.000000e+00  1.600000e+01   \n",
       "50%    3.600000e+01  0.000000e+00  1.000000e+00  1.000000e+00  1.900000e+01   \n",
       "75%    4.800000e+01  0.000000e+00  2.000000e+00  1.000000e+00  2.100000e+01   \n",
       "max    5.540000e+02  4.000000e+00  2.000000e+00  9.000000e+00  2.400000e+01   \n",
       "\n",
       "         OCCUPATION  \n",
       "count  1.659727e+06  \n",
       "mean   4.088068e+03  \n",
       "std    2.685733e+03  \n",
       "min    1.000000e+01  \n",
       "25%    2.040000e+03  \n",
       "50%    4.110000e+03  \n",
       "75%    5.740000e+03  \n",
       "max    9.830000e+03  "
      ]
     },
     "execution_count": 16,
     "metadata": {},
     "output_type": "execute_result"
    }
   ],
   "source": [
    "df.describe()"
   ]
  },
  {
   "cell_type": "markdown",
   "metadata": {},
   "source": [
    "#### Checking relationships between features before feature creation"
   ]
  },
  {
   "cell_type": "code",
   "execution_count": 17,
   "metadata": {
    "ExecuteTime": {
     "end_time": "2021-01-07T20:26:08.976503Z",
     "start_time": "2021-01-07T20:26:06.757785Z"
    },
    "scrolled": false
   },
   "outputs": [
    {
     "data": {
      "image/png": "[encoded data removed]",
      "text/plain": [
       "<Figure size 1800x1080 with 2 Axes>"
      ]
     },
     "metadata": {
      "needs_background": "light"
     },
     "output_type": "display_data"
    }
   ],
   "source": [
    "#create a heatmap to visualize the correlations\n",
    "fig, ax = plt.subplots(figsize=(25,15)) # figsize to make larger\n",
    "corr = df.corr()\n",
    "\n",
    "# Generate a mask for the upper triangle\n",
    "mask = np.zeros_like(corr, dtype=np.bool)\n",
    "mask[np.triu_indices_from(mask)] = True\n",
    "\n",
    "sns.heatmap(corr, mask=mask, cmap='bwr', center=0, annot=True)\n",
    "\n",
    "# fix for matplotlib bug that cuts off top/bottom of seaborn viz\n",
    "b, t = plt.ylim() # discover the values for bottom and top\n",
    "b += 0.5 # Add 0.5 to the bottom\n",
    "t -= 0.5 # Subtract 0.5 from the top\n",
    "plt.ylim(b, t) # update the ylim(bottom, top) values\n",
    "\n",
    "plt.show()"
   ]
  },
  {
   "cell_type": "markdown",
   "metadata": {},
   "source": [
    "## Feature Creation"
   ]
  },
  {
   "cell_type": "markdown",
   "metadata": {},
   "source": [
    "### **CITIZENSHIP**"
   ]
  },
  {
   "cell_type": "code",
   "execution_count": 18,
   "metadata": {
    "ExecuteTime": {
     "end_time": "2021-01-07T20:26:08.996219Z",
     "start_time": "2021-01-07T20:26:08.979781Z"
    }
   },
   "outputs": [],
   "source": [
    "# 1 indicating born in US, 0 indicating born outside of US\n",
    "df['CITIZENSHIP'] = np.where(df['CITIZENSHIP']==1 , 1, 0)"
   ]
  },
  {
   "cell_type": "markdown",
   "metadata": {},
   "source": [
    "### **EDUCATION**"
   ]
  },
  {
   "cell_type": "code",
   "execution_count": 19,
   "metadata": {
    "ExecuteTime": {
     "end_time": "2021-01-07T20:26:10.166563Z",
     "start_time": "2021-01-07T20:26:08.998870Z"
    }
   },
   "outputs": [],
   "source": [
    "conditions = [ \n",
    "    (df['EDUCATION'] <= 15), # Undergraduate\n",
    "    ((df['EDUCATION'] >= 16) & (df['EDUCATION'] <= 19)), # High School graduate without college degree\n",
    "    (df['EDUCATION'] == 20), # Associate's Degree\n",
    "    (df['EDUCATION'] == 21), # Bachelor's Degree\n",
    "    (df['EDUCATION'] == 22), # Master's Degree\n",
    "    (df['EDUCATION'] == 23), # Professional degree beyond Master's\n",
    "    (df['EDUCATION'] == 24), # Doctorate Degree \n",
    "]\n",
    "\n",
    "choices = [\n",
    "    \"No High School Diploma or GED\",\n",
    "    'High School', \n",
    "    \"Associate's\", \n",
    "    \"Bachelor's\",\n",
    "    \"Master's\", \n",
    "    \"Professional Other\", \n",
    "    \"Doctorate\", \n",
    "]\n",
    "\n",
    "df['EDUCATION'] = np.select(conditions, choices, default='NA')\n"
   ]
  },
  {
   "cell_type": "code",
   "execution_count": 20,
   "metadata": {
    "ExecuteTime": {
     "end_time": "2021-01-07T20:26:10.860097Z",
     "start_time": "2021-01-07T20:26:10.229513Z"
    }
   },
   "outputs": [
    {
     "name": "stdout",
     "output_type": "stream",
     "text": [
      "Count:\n",
      "High School                      769592\n",
      "Bachelor's                       378817\n",
      "Master's                         166793\n",
      "Associate's                      154487\n",
      "No High School Diploma or GED    118434\n",
      "Professional Other                42571\n",
      "Doctorate                         29033\n",
      "Name: EDUCATION, dtype: int64\n",
      "----------------------------------------\n",
      "Proportion:\n",
      "High School                      0.463686\n",
      "Bachelor's                       0.228241\n",
      "Master's                         0.100494\n",
      "Associate's                      0.093080\n",
      "No High School Diploma or GED    0.071358\n",
      "Professional Other               0.025649\n",
      "Doctorate                        0.017493\n",
      "Name: EDUCATION, dtype: float64\n"
     ]
    }
   ],
   "source": [
    "# Sanity Check\n",
    "print('Count:')\n",
    "print(df.EDUCATION.value_counts())\n",
    "print('-'*40)\n",
    "print('Proportion:')\n",
    "print(df.EDUCATION.value_counts(normalize=True))"
   ]
  },
  {
   "cell_type": "markdown",
   "metadata": {},
   "source": [
    "### **RACE**"
   ]
  },
  {
   "cell_type": "markdown",
   "metadata": {
    "ExecuteTime": {
     "end_time": "2021-01-07T17:27:14.177372Z",
     "start_time": "2021-01-07T17:27:14.169815Z"
    }
   },
   "source": [
    "*White/Non-White*"
   ]
  },
  {
   "cell_type": "code",
   "execution_count": 21,
   "metadata": {
    "ExecuteTime": {
     "end_time": "2021-01-07T20:26:11.242307Z",
     "start_time": "2021-01-07T20:26:10.862942Z"
    }
   },
   "outputs": [],
   "source": [
    "#Creating a new feature RACE2\n",
    "conditions = [ \n",
    "    (df['RACE'] == 1), # White\n",
    "    (df['RACE'] <= 19)] # Non-White\n",
    "\n",
    "choices = [\"White\",\"Non-White\"]\n",
    "\n",
    "df['RACE2'] = np.select(conditions, choices, default='NA')\n"
   ]
  },
  {
   "cell_type": "code",
   "execution_count": 22,
   "metadata": {
    "ExecuteTime": {
     "end_time": "2021-01-07T20:26:11.811075Z",
     "start_time": "2021-01-07T20:26:11.245957Z"
    }
   },
   "outputs": [
    {
     "name": "stdout",
     "output_type": "stream",
     "text": [
      "Count:\n",
      "White        1296635\n",
      "Non-White     363092\n",
      "Name: RACE2, dtype: int64\n",
      "----------------------------------------\n",
      "Proportion:\n",
      "White        0.781234\n",
      "Non-White    0.218766\n",
      "Name: RACE2, dtype: float64\n"
     ]
    }
   ],
   "source": [
    "# Sanity Check\n",
    "print('Count:')\n",
    "print(df.RACE2.value_counts())\n",
    "print('-'*40)\n",
    "print('Proportion:')\n",
    "print(df.RACE2.value_counts(normalize=True))"
   ]
  },
  {
   "cell_type": "markdown",
   "metadata": {
    "ExecuteTime": {
     "end_time": "2021-01-07T17:27:14.177372Z",
     "start_time": "2021-01-07T17:27:14.169815Z"
    }
   },
   "source": [
    "*White, Black, Asian, Native American, Other*"
   ]
  },
  {
   "cell_type": "code",
   "execution_count": 23,
   "metadata": {
    "ExecuteTime": {
     "end_time": "2021-01-07T20:26:12.336438Z",
     "start_time": "2021-01-07T20:26:11.819050Z"
    }
   },
   "outputs": [],
   "source": [
    "#Creating a new feature RACE3\n",
    "conditions = [ \n",
    "    (df['RACE'] == 1), # White\n",
    "    (df['RACE'] == 2), # Black\n",
    "    (df['RACE'] == 6), # Asian\n",
    "    ((df['RACE'] == 3)|(df['RACE'] == 4)|(df['RACE'] == 5)|(df['RACE'] == 7)), # Native American\n",
    "    ((df['RACE'] == 8)|(df['RACE'] == 9)) # Other\n",
    "]\n",
    "choices = ['White',\n",
    "           'Black',\n",
    "           'Asian',\n",
    "           'Native American',\n",
    "           'Other']\n",
    "\n",
    "df['RACE3'] = np.select(conditions, choices, default='NA')"
   ]
  },
  {
   "cell_type": "code",
   "execution_count": 24,
   "metadata": {
    "ExecuteTime": {
     "end_time": "2021-01-07T20:26:12.876199Z",
     "start_time": "2021-01-07T20:26:12.343850Z"
    }
   },
   "outputs": [
    {
     "name": "stdout",
     "output_type": "stream",
     "text": [
      "Count:\n",
      "White              1296635\n",
      "Black               143878\n",
      "Other               101755\n",
      "Asian               100462\n",
      "Native American      16997\n",
      "Name: RACE3, dtype: int64\n",
      "----------------------------------------\n",
      "Proportion:\n",
      "White              0.781234\n",
      "Black              0.086688\n",
      "Other              0.061308\n",
      "Asian              0.060529\n",
      "Native American    0.010241\n",
      "Name: RACE3, dtype: float64\n"
     ]
    }
   ],
   "source": [
    "# Sanity Check\n",
    "print('Count:')\n",
    "print(df.RACE3.value_counts())\n",
    "print('-'*40)\n",
    "print('Proportion:')\n",
    "print(df.RACE3.value_counts(normalize=True))"
   ]
  },
  {
   "cell_type": "markdown",
   "metadata": {},
   "source": [
    "### **AGE**"
   ]
  },
  {
   "cell_type": "markdown",
   "metadata": {},
   "source": [
    "*Create a new feature indicating \"older than 65\""
   ]
  },
  {
   "cell_type": "code",
   "execution_count": 25,
   "metadata": {
    "ExecuteTime": {
     "end_time": "2021-01-07T20:26:13.151174Z",
     "start_time": "2021-01-07T20:26:12.879185Z"
    }
   },
   "outputs": [],
   "source": [
    "#Creating a new feature AGE_DIV\n",
    "conditions = [ \n",
    "    (df['AGE'] <= 65),\n",
    "    (df['AGE'] > 65)\n",
    "]\n",
    "\n",
    "choices = ['<65 yrs',\n",
    "           '>65 yrs'\n",
    "]\n",
    "df['AGE_DIV'] = np.select(conditions, choices, default='NA')"
   ]
  },
  {
   "cell_type": "code",
   "execution_count": 26,
   "metadata": {
    "ExecuteTime": {
     "end_time": "2021-01-07T20:26:13.477755Z",
     "start_time": "2021-01-07T20:26:13.156861Z"
    }
   },
   "outputs": [
    {
     "data": {
      "text/plain": [
       "<65 yrs    1533545\n",
       ">65 yrs     126182\n",
       "Name: AGE_DIV, dtype: int64"
      ]
     },
     "execution_count": 26,
     "metadata": {},
     "output_type": "execute_result"
    }
   ],
   "source": [
    "# Sanity Check\n",
    "df.AGE_DIV.value_counts()"
   ]
  },
  {
   "cell_type": "markdown",
   "metadata": {},
   "source": [
    "### **OCCUPATION**"
   ]
  },
  {
   "cell_type": "code",
   "execution_count": 27,
   "metadata": {
    "ExecuteTime": {
     "end_time": "2021-01-07T20:26:14.316033Z",
     "start_time": "2021-01-07T20:26:13.486278Z"
    }
   },
   "outputs": [],
   "source": [
    "# Binning Occupations\n",
    "\n",
    "conditions = [ \n",
    "    ((df['OCCUPATION'] >= 10) & (df['OCCUPATION'] <= 440)), #MGR\n",
    "    ((df['OCCUPATION'] >= 500) & (df['OCCUPATION'] <= 750)), #BUS\n",
    "    ((df['OCCUPATION'] >= 800) & (df['OCCUPATION'] <= 960)), #FIN\n",
    "    ((df['OCCUPATION'] >= 1005) & (df['OCCUPATION'] <= 1240)), #CMM\n",
    "    ((df['OCCUPATION'] >= 1305) & (df['OCCUPATION'] <= 1560)), #ENG\n",
    "    ((df['OCCUPATION'] >= 1600) & (df['OCCUPATION'] <= 1980)), #SCI\n",
    "    ((df['OCCUPATION'] >= 2001) & (df['OCCUPATION'] <= 2060)), #CMS \n",
    "    ((df['OCCUPATION'] >= 2100) & (df['OCCUPATION'] <= 2180)), #LGL\n",
    "    ((df['OCCUPATION'] >= 2205) & (df['OCCUPATION'] <= 2555)), #EDU\n",
    "    ((df['OCCUPATION'] >= 2600) & (df['OCCUPATION'] <= 2920)), #ENT \n",
    "    ((df['OCCUPATION'] >= 3000) & (df['OCCUPATION'] <= 3550)), #MED\n",
    "    ((df['OCCUPATION'] >= 3610) & (df['OCCUPATION'] <= 3655)), #HLS\n",
    "    ((df['OCCUPATION'] >= 3700) & (df['OCCUPATION'] <= 3960)), #PRT \n",
    "    ((df['OCCUPATION'] >= 4000) & (df['OCCUPATION'] <= 4160)), #EAT\n",
    "    ((df['OCCUPATION'] >= 4200) & (df['OCCUPATION'] <= 4255)), #CLN\n",
    "    ((df['OCCUPATION'] >= 4330) & (df['OCCUPATION'] <= 4655)), #PRS\n",
    "    ((df['OCCUPATION'] >= 4700) & (df['OCCUPATION'] <= 4965)), #SAL\n",
    "    ((df['OCCUPATION'] >= 5000) & (df['OCCUPATION'] <= 5940)), #OFF\n",
    "    ((df['OCCUPATION'] >= 6005) & (df['OCCUPATION'] <= 6130)), #FFF\n",
    "    ((df['OCCUPATION'] >= 6200) & (df['OCCUPATION'] <= 6765)), #CON\n",
    "    ((df['OCCUPATION'] >= 6800) & (df['OCCUPATION'] <= 6950)), #EXT\n",
    "    ((df['OCCUPATION'] >= 7000) & (df['OCCUPATION'] <= 7640)), #RPR\n",
    "    ((df['OCCUPATION'] >= 7700) & (df['OCCUPATION'] <= 8990)), #PRD\n",
    "    ((df['OCCUPATION'] >= 9005) & (df['OCCUPATION'] <= 9760)), #TRN\n",
    "    ((df['OCCUPATION'] >= 9800) & (df['OCCUPATION'] <= 9830)), #MIL\n",
    "]\n",
    "\n",
    "choices = [\n",
    "    'MGR', \n",
    "    'BUS', \n",
    "    'FIN',\n",
    "    'CMM', \n",
    "    'ENG', \n",
    "    'SCI',\n",
    "    'CMS', \n",
    "    'LGL', \n",
    "    'EDU',\n",
    "    'ENT', \n",
    "    'MED', \n",
    "    'HLS',\n",
    "    'PRT', \n",
    "    'EAT', \n",
    "    'CLN',\n",
    "    'PRS', \n",
    "    'SAL', \n",
    "    'OFF',\n",
    "    'FFF', \n",
    "    'CON', \n",
    "    'EXT',\n",
    "    'RPR',\n",
    "    'PRD', \n",
    "    'TRN', \n",
    "    'MIL',\n",
    "]\n",
    "\n",
    "df['OCCUPATION'] = np.select(conditions, choices, default='NA')"
   ]
  },
  {
   "cell_type": "code",
   "execution_count": 28,
   "metadata": {
    "ExecuteTime": {
     "end_time": "2021-01-07T20:26:14.322856Z",
     "start_time": "2021-01-07T20:26:14.318758Z"
    }
   },
   "outputs": [],
   "source": [
    "# df.OCCUPATION.value_counts() #Sanity Check"
   ]
  },
  {
   "cell_type": "markdown",
   "metadata": {},
   "source": [
    "### **WORK_INDUSTRY**"
   ]
  },
  {
   "cell_type": "code",
   "execution_count": 30,
   "metadata": {
    "ExecuteTime": {
     "end_time": "2021-01-07T20:26:16.013525Z",
     "start_time": "2021-01-07T20:26:14.355633Z"
    }
   },
   "outputs": [],
   "source": [
    "# Removing letters from values \n",
    "df['WORK_INDUSTRY'] = df.WORK_INDUSTRY.apply(lambda x: ''.join([num for num in x if num.isnumeric()]))\n"
   ]
  },
  {
   "cell_type": "code",
   "execution_count": 31,
   "metadata": {
    "ExecuteTime": {
     "end_time": "2021-01-07T20:26:16.590753Z",
     "start_time": "2021-01-07T20:26:16.016723Z"
    }
   },
   "outputs": [],
   "source": [
    "#lambda\n",
    "df['WORK_INDUSTRY'] = df['WORK_INDUSTRY'].apply(\n",
    "    lambda x:'99' if '9281' in x else x)"
   ]
  },
  {
   "cell_type": "code",
   "execution_count": 32,
   "metadata": {
    "ExecuteTime": {
     "end_time": "2021-01-07T20:26:16.779609Z",
     "start_time": "2021-01-07T20:26:16.593933Z"
    },
    "scrolled": false
   },
   "outputs": [
    {
     "data": {
      "text/plain": [
       "array(['23', '6111', '722', '337', '56173', '447', '921', '99', '5121',\n",
       "       '623', '4481', '42393', '7224', '5412', '44511', '713', '813',\n",
       "       '32711', '3256', '4441', '622', '531', '561', '51912', '3', '5241',\n",
       "       '8131', '5417', '443142', '493', '3352', '336', '8121', '721',\n",
       "       '111', '2211', '4411', '6243', '8111', '6244', '442', '4244',\n",
       "       '5616', '4511', '6113', '443141', '44512', '45221', '712', '115',\n",
       "       '5613', '331', '3231', '6112', '488', '92', '5416', '3272', '6214',\n",
       "       '3121', '484', '45121', '5617', '112', '6241', '5614', '6216',\n",
       "       '5411', '446', '4', '483', '492', '6231', '3112', '8123', '51111',\n",
       "       '812111', '522', '6211', '5615', '4539', '521', '814', '811192',\n",
       "       '5419', '71395', '4531', '44611', '6222', '44821', '3365', '311',\n",
       "       '6242', '4452', '7211', '621', '4533', '4523', '4236', '45322',\n",
       "       '562', '9211', '3391', '3399', '7115', '517311', '4853', '8129',\n",
       "       '7112', '333', '3219', '311811', '3118', '335', '33311', '5418',\n",
       "       '4234', '4239', '515', '8139', '3211', '92113', '491', '3116',\n",
       "       '5321', '3342', '3261', '8113', '4243', '45321', '92119', '6212',\n",
       "       '454110', '53', '3115', '332', '5415', '928', '3366', '221',\n",
       "       '44413', '4413', '213', '5322', '3131', '3132', '327', '4453',\n",
       "       '7111', '45113', '923', '485', '4233', '54194', '4238', '114',\n",
       "       '5413', '1133', '3252', '315', '3341', '5111', '454310', '3335',\n",
       "       '31411', '4442', '3255', '5313', '325', '812112', '32199', '482',\n",
       "       '711', '517', '2121', '5122', '487', '3345', '4483', '424', '3254',\n",
       "       '5221', '3327', '42491', '5414', '3314', '4249', '32621', '3221',\n",
       "       '62131', '3328', '3222', '4542', '4248', '4412', '45439', '3322',\n",
       "       '3331', '922', '5242', '211', '31', '3262', '81393', '3279',\n",
       "       '336412', '3111', '8112', '3321', '4237', '55', '336411', '3113',\n",
       "       '3114', '3333', '3313', '32221', '2212', '32411', '316', '2123',\n",
       "       '51913', '8114', '481', '4235', '3315', '4231', '5191', '22132',\n",
       "       '113', '8122', '6213', '62132', '33', '4241', '4245', '3212',\n",
       "       '3241', '2213', '3336', '22', '42', '3369', '5182', '314', '4232',\n",
       "       '3162', '4247', '2122', '3122', '5112', '45114', '4251', '33299',\n",
       "       '486', '3253', '327120', '3133'], dtype=object)"
      ]
     },
     "execution_count": 32,
     "metadata": {},
     "output_type": "execute_result"
    }
   ],
   "source": [
    "# Sanity Check\n",
    "#df.WORK_INDUSTRY.unique()"
   ]
  },
  {
   "cell_type": "code",
   "execution_count": 33,
   "metadata": {
    "ExecuteTime": {
     "end_time": "2021-01-07T20:26:18.479870Z",
     "start_time": "2021-01-07T20:26:16.788531Z"
    },
    "scrolled": true
   },
   "outputs": [],
   "source": [
    "def first_2_digits(num):\n",
    "    return int(num[:2])\n",
    "df['WORK_INDUSTRY'] = df.WORK_INDUSTRY.apply(first_2_digits).sort_values()\n",
    "# df.WORK_INDUSTRY.value_counts().sort_index() #Sanity Check"
   ]
  },
  {
   "cell_type": "code",
   "execution_count": 35,
   "metadata": {
    "ExecuteTime": {
     "end_time": "2021-01-07T20:26:19.190962Z",
     "start_time": "2021-01-07T20:26:18.604920Z"
    },
    "scrolled": true
   },
   "outputs": [],
   "source": [
    "# Binning Industry\n",
    "\n",
    "conditions = [ \n",
    "    (df['WORK_INDUSTRY'] == 11), #AGR\n",
    "    (df['WORK_INDUSTRY'] == 21), #EXT\n",
    "    (df['WORK_INDUSTRY'] == 22), #UTL\n",
    "    (df['WORK_INDUSTRY'] == 23), #CON\n",
    "    ((df['WORK_INDUSTRY'] >= 30) & (df['WORK_INDUSTRY'] <= 33)| (df['WORK_INDUSTRY'] == 3)), #MFG  ADD 3\n",
    "    ((df['WORK_INDUSTRY'] == 42) | (df['WORK_INDUSTRY'] == 4)), #WHL\n",
    "    ((df['WORK_INDUSTRY'] >= 44) & (df['WORK_INDUSTRY'] <= 45)), #RET ADD 4\n",
    "    ((df['WORK_INDUSTRY'] >= 48) & (df['WORK_INDUSTRY'] <= 49)), #TRN\n",
    "    (df['WORK_INDUSTRY'] == 51), # INF\n",
    "    ((df['WORK_INDUSTRY'] >= 52) & (df['WORK_INDUSTRY'] <= 53)), # FIN\n",
    "    ((df['WORK_INDUSTRY'] >= 54) & (df['WORK_INDUSTRY'] <= 56)), #PRF\n",
    "    (df['WORK_INDUSTRY'] == 61), #EDU\n",
    "    (df['WORK_INDUSTRY'] == 62), #MED/SCA\n",
    "    ((df['WORK_INDUSTRY'] >= 71) & (df['WORK_INDUSTRY'] <= 72)), #ENT\n",
    "    (df['WORK_INDUSTRY'] == 81), # SRV\n",
    "    ((df['WORK_INDUSTRY'] >= 921) & (df['WORK_INDUSTRY'] <= 923)), #ADM\n",
    "    (df['WORK_INDUSTRY'] == 99), #MIL\n",
    "]\n",
    "\n",
    "choices = [\n",
    "    'AGR',\n",
    "    'EXT',\n",
    "    'UTL',\n",
    "    'CON',\n",
    "    'MFG',\n",
    "    'WHL',\n",
    "    'RET',\n",
    "    'TRN',\n",
    "    'INF',\n",
    "    'FIN',\n",
    "    'PRF',\n",
    "    'EDU',\n",
    "    'MED',\n",
    "    'ENT',\n",
    "    'SRV',\n",
    "    'ADM',\n",
    "    'MIL'\n",
    "]\n",
    "\n",
    "df['WORK_INDUSTRY'] = np.select(conditions, choices, default='NA')"
   ]
  },
  {
   "cell_type": "code",
   "execution_count": 36,
   "metadata": {
    "ExecuteTime": {
     "end_time": "2021-01-07T20:26:19.513895Z",
     "start_time": "2021-01-07T20:26:19.194598Z"
    },
    "scrolled": true
   },
   "outputs": [
    {
     "data": {
      "text/plain": [
       "MED    222550\n",
       "PRF    197150\n",
       "EDU    172681\n",
       "RET    167656\n",
       "MFG    165671\n",
       "ENT    146322\n",
       "CON    109624\n",
       "FIN    106705\n",
       "SRV     79758\n",
       "NA      78940\n",
       "TRN     74078\n",
       "WHL     46533\n",
       "INF     31378\n",
       "AGR     25961\n",
       "UTL     14284\n",
       "MIL     12095\n",
       "EXT      8341\n",
       "Name: WORK_INDUSTRY, dtype: int64"
      ]
     },
     "execution_count": 36,
     "metadata": {},
     "output_type": "execute_result"
    }
   ],
   "source": [
    "# Sanity Check\n",
    "df.WORK_INDUSTRY.value_counts()\n",
    "# df.WORK_INDUSTRY.isnull().sum()"
   ]
  },
  {
   "cell_type": "markdown",
   "metadata": {},
   "source": [
    "**Checking out features after engineering**"
   ]
  },
  {
   "cell_type": "code",
   "execution_count": null,
   "metadata": {
    "ExecuteTime": {
     "end_time": "2021-01-07T18:29:16.888198Z",
     "start_time": "2021-01-07T18:29:11.151159Z"
    },
    "scrolled": false
   },
   "outputs": [],
   "source": []
  },
  {
   "cell_type": "markdown",
   "metadata": {},
   "source": [
    "# Exploring Target Variable"
   ]
  },
  {
   "cell_type": "code",
   "execution_count": 37,
   "metadata": {
    "ExecuteTime": {
     "end_time": "2021-01-07T20:26:20.112705Z",
     "start_time": "2021-01-07T20:26:19.522699Z"
    },
    "scrolled": true
   },
   "outputs": [
    {
     "data": {
      "text/plain": [
       "<=65k    1183289\n",
       ">65k      476438\n",
       "Name: TARGET, dtype: int64"
      ]
     },
     "execution_count": 37,
     "metadata": {},
     "output_type": "execute_result"
    }
   ],
   "source": [
    "df['TARGET'] = np.where(df.INCOME > 65000, '>65k', '<=65k')\n",
    "df.TARGET.value_counts()"
   ]
  },
  {
   "cell_type": "code",
   "execution_count": 38,
   "metadata": {
    "ExecuteTime": {
     "end_time": "2021-01-07T20:26:21.438356Z",
     "start_time": "2021-01-07T20:26:20.116937Z"
    },
    "scrolled": true
   },
   "outputs": [
    {
     "data": {
      "image/png": "[encoded data removed]",
      "text/plain": [
       "<Figure size 432x288 with 1 Axes>"
      ]
     },
     "metadata": {
      "needs_background": "light"
     },
     "output_type": "display_data"
    }
   ],
   "source": [
    "sns.histplot(data = df, x=\"TARGET\")\n",
    "plt.show()"
   ]
  },
  {
   "cell_type": "code",
   "execution_count": 39,
   "metadata": {
    "ExecuteTime": {
     "end_time": "2021-01-07T20:26:22.344560Z",
     "start_time": "2021-01-07T20:26:21.442412Z"
    },
    "scrolled": true
   },
   "outputs": [
    {
     "data": {
      "text/plain": [
       "<matplotlib.axes._subplots.AxesSubplot at 0x7f9dd007d8d0>"
      ]
     },
     "execution_count": 39,
     "metadata": {},
     "output_type": "execute_result"
    },
    {
     "data": {
      "image/png": "[encoded data removed]",
      "text/plain": [
       "<Figure size 432x288 with 1 Axes>"
      ]
     },
     "metadata": {
      "needs_background": "light"
     },
     "output_type": "display_data"
    }
   ],
   "source": [
    "sns.boxplot(x=df.INCOME)\n"
   ]
  },
  {
   "cell_type": "code",
   "execution_count": 40,
   "metadata": {
    "ExecuteTime": {
     "end_time": "2021-01-07T20:26:22.482897Z",
     "start_time": "2021-01-07T20:26:22.349001Z"
    }
   },
   "outputs": [
    {
     "data": {
      "text/plain": [
       "count    1.659727e+06\n",
       "mean     6.058823e+04\n",
       "std      7.691692e+04\n",
       "min     -1.020000e+04\n",
       "25%      2.100000e+04\n",
       "50%      4.024000e+04\n",
       "75%      7.200000e+04\n",
       "max      1.629000e+06\n",
       "Name: INCOME, dtype: float64"
      ]
     },
     "execution_count": 40,
     "metadata": {},
     "output_type": "execute_result"
    }
   ],
   "source": [
    "df.INCOME.describe()"
   ]
  },
  {
   "cell_type": "code",
   "execution_count": 41,
   "metadata": {
    "ExecuteTime": {
     "end_time": "2021-01-07T20:26:22.520276Z",
     "start_time": "2021-01-07T20:26:22.493740Z"
    }
   },
   "outputs": [
    {
     "data": {
      "text/plain": [
       "0           63000\n",
       "2            2000\n",
       "4            6000\n",
       "11           3200\n",
       "13            500\n",
       "            ...  \n",
       "3239548    150000\n",
       "3239549     27000\n",
       "3239550     75000\n",
       "3239551     57000\n",
       "3239552     55000\n",
       "Name: INCOME, Length: 1659727, dtype: int64"
      ]
     },
     "execution_count": 41,
     "metadata": {},
     "output_type": "execute_result"
    }
   ],
   "source": [
    "df.INCOME"
   ]
  },
  {
   "cell_type": "code",
   "execution_count": 42,
   "metadata": {
    "ExecuteTime": {
     "end_time": "2021-01-07T20:26:23.672324Z",
     "start_time": "2021-01-07T20:26:22.529826Z"
    }
   },
   "outputs": [
    {
     "data": {
      "text/plain": [
       "count    1.656282e+06\n",
       "mean     6.071761e+04\n",
       "std      7.694438e+04\n",
       "min      1.040000e+02\n",
       "25%      2.100000e+04\n",
       "50%      4.050000e+04\n",
       "75%      7.200000e+04\n",
       "max      1.629000e+06\n",
       "Name: INCOME, dtype: float64"
      ]
     },
     "execution_count": 42,
     "metadata": {},
     "output_type": "execute_result"
    }
   ],
   "source": [
    "df[df.INCOME > 100]['INCOME'].describe()"
   ]
  },
  {
   "cell_type": "code",
   "execution_count": 43,
   "metadata": {
    "ExecuteTime": {
     "end_time": "2021-01-07T20:26:23.759045Z",
     "start_time": "2021-01-07T20:26:23.677331Z"
    }
   },
   "outputs": [
    {
     "data": {
      "text/plain": [
       "count    1.659727e+06\n",
       "mean     5.189937e+04\n",
       "std      6.724644e+04\n",
       "min      0.000000e+00\n",
       "25%      1.450000e+04\n",
       "50%      3.540000e+04\n",
       "75%      6.500000e+04\n",
       "max      7.170000e+05\n",
       "Name: SALARY, dtype: float64"
      ]
     },
     "execution_count": 43,
     "metadata": {},
     "output_type": "execute_result"
    }
   ],
   "source": [
    "df.SALARY.describe()"
   ]
  },
  {
   "cell_type": "markdown",
   "metadata": {},
   "source": [
    "# Additional EDA"
   ]
  },
  {
   "cell_type": "code",
   "execution_count": 44,
   "metadata": {
    "ExecuteTime": {
     "end_time": "2021-01-07T20:26:24.162774Z",
     "start_time": "2021-01-07T20:26:23.806600Z"
    }
   },
   "outputs": [
    {
     "data": {
      "text/plain": [
       "High School                      769592\n",
       "Bachelor's                       378817\n",
       "Master's                         166793\n",
       "Associate's                      154487\n",
       "No High School Diploma or GED    118434\n",
       "Professional Other                42571\n",
       "Doctorate                         29033\n",
       "Name: EDUCATION, dtype: int64"
      ]
     },
     "execution_count": 44,
     "metadata": {},
     "output_type": "execute_result"
    }
   ],
   "source": [
    "df.EDUCATION.value_counts()"
   ]
  },
  {
   "cell_type": "code",
   "execution_count": 45,
   "metadata": {
    "ExecuteTime": {
     "end_time": "2021-01-07T20:27:00.153911Z",
     "start_time": "2021-01-07T20:26:24.176987Z"
    },
    "scrolled": false
   },
   "outputs": [
    {
     "data": {
      "text/plain": [
       "<matplotlib.axes._subplots.AxesSubplot at 0x7f9da9c1a208>"
      ]
     },
     "execution_count": 45,
     "metadata": {},
     "output_type": "execute_result"
    },
    {
     "data": {
      "image/png": "[encoded data removed]",
      "text/plain": [
       "<Figure size 432x288 with 1 Axes>"
      ]
     },
     "metadata": {
      "needs_background": "light"
     },
     "output_type": "display_data"
    }
   ],
   "source": [
    "sns.barplot(data=df, x='EDUCATION', y='INCOME')"
   ]
  },
  {
   "cell_type": "code",
   "execution_count": 46,
   "metadata": {
    "ExecuteTime": {
     "end_time": "2021-01-07T20:27:43.774033Z",
     "start_time": "2021-01-07T20:27:00.156685Z"
    }
   },
   "outputs": [
    {
     "data": {
      "text/plain": [
       "<matplotlib.axes._subplots.AxesSubplot at 0x7f9dabcb7d30>"
      ]
     },
     "execution_count": 46,
     "metadata": {},
     "output_type": "execute_result"
    },
    {
     "data": {
      "image/png": "[encoded data removed]",
      "text/plain": [
       "<Figure size 432x288 with 1 Axes>"
      ]
     },
     "metadata": {
      "needs_background": "light"
     },
     "output_type": "display_data"
    }
   ],
   "source": [
    "sns.barplot(data=df, x='EDUCATION', y='SALARY')"
   ]
  },
  {
   "cell_type": "code",
   "execution_count": 47,
   "metadata": {
    "ExecuteTime": {
     "end_time": "2021-01-07T20:27:46.692567Z",
     "start_time": "2021-01-07T20:27:43.779350Z"
    },
    "scrolled": true
   },
   "outputs": [
    {
     "data": {
      "image/png": "[encoded data removed]",
      "text/plain": [
       "<Figure size 432x288 with 1 Axes>"
      ]
     },
     "metadata": {
      "needs_background": "light"
     },
     "output_type": "display_data"
    }
   ],
   "source": [
    "sns.histplot(data = df, x=\"RACE\", hue = \"TARGET\")\n",
    "plt.show()"
   ]
  },
  {
   "cell_type": "code",
   "execution_count": 48,
   "metadata": {
    "ExecuteTime": {
     "end_time": "2021-01-07T20:27:50.720361Z",
     "start_time": "2021-01-07T20:27:46.695378Z"
    }
   },
   "outputs": [
    {
     "data": {
      "image/png": "[encoded data removed]",
      "text/plain": [
       "<Figure size 432x288 with 1 Axes>"
      ]
     },
     "metadata": {
      "needs_background": "light"
     },
     "output_type": "display_data"
    }
   ],
   "source": [
    "sns.histplot(data = df, x=\"AGE\", hue = \"TARGET\")\n",
    "plt.show()"
   ]
  },
  {
   "cell_type": "code",
   "execution_count": 49,
   "metadata": {
    "ExecuteTime": {
     "end_time": "2021-01-07T20:27:54.177400Z",
     "start_time": "2021-01-07T20:27:50.723589Z"
    },
    "scrolled": true
   },
   "outputs": [
    {
     "data": {
      "image/png": "[encoded data removed]",
      "text/plain": [
       "<Figure size 432x288 with 1 Axes>"
      ]
     },
     "metadata": {
      "needs_background": "light"
     },
     "output_type": "display_data"
    }
   ],
   "source": [
    "sns.histplot(data = df, x=\"SEX\", hue = \"TARGET\")\n",
    "plt.show()"
   ]
  },
  {
   "cell_type": "code",
   "execution_count": 50,
   "metadata": {
    "ExecuteTime": {
     "end_time": "2021-01-07T20:27:54.209560Z",
     "start_time": "2021-01-07T20:27:54.180814Z"
    }
   },
   "outputs": [
    {
     "data": {
      "text/plain": [
       "1    865247\n",
       "2    794480\n",
       "Name: SEX, dtype: int64"
      ]
     },
     "execution_count": 50,
     "metadata": {},
     "output_type": "execute_result"
    }
   ],
   "source": [
    "df.SEX.value_counts()"
   ]
  },
  {
   "cell_type": "code",
   "execution_count": 51,
   "metadata": {
    "ExecuteTime": {
     "end_time": "2021-01-07T20:27:57.463126Z",
     "start_time": "2021-01-07T20:27:54.213046Z"
    },
    "scrolled": true
   },
   "outputs": [
    {
     "data": {
      "image/png": "[encoded data removed]",
      "text/plain": [
       "<Figure size 432x288 with 1 Axes>"
      ]
     },
     "metadata": {
      "needs_background": "light"
     },
     "output_type": "display_data"
    }
   ],
   "source": [
    "sns.histplot(data = df, x=\"CITIZENSHIP\", hue = \"TARGET\")\n",
    "plt.show()"
   ]
  },
  {
   "cell_type": "code",
   "execution_count": 52,
   "metadata": {
    "ExecuteTime": {
     "end_time": "2021-01-07T20:28:01.579741Z",
     "start_time": "2021-01-07T20:27:57.470990Z"
    },
    "scrolled": true
   },
   "outputs": [
    {
     "data": {
      "image/png": "[encoded data removed]",
      "text/plain": [
       "<Figure size 432x288 with 1 Axes>"
      ]
     },
     "metadata": {
      "needs_background": "light"
     },
     "output_type": "display_data"
    }
   ],
   "source": [
    "sns.histplot(data = df, x=\"COUPLE\", hue = \"TARGET\")\n",
    "plt.show()"
   ]
  },
  {
   "cell_type": "markdown",
   "metadata": {
    "ExecuteTime": {
     "end_time": "2021-01-07T17:14:08.360955Z",
     "start_time": "2021-01-07T17:14:08.349719Z"
    }
   },
   "source": [
    "- 1 - Opposite-sex husband/wife/spouse household\n",
    "- 2 - Same-sex husband/wife/spouse household\n",
    "- 3 - Opposite-sex unmarried partner household\n",
    "- 4 - Same-sex unmarried partner household"
   ]
  },
  {
   "cell_type": "code",
   "execution_count": 53,
   "metadata": {
    "ExecuteTime": {
     "end_time": "2021-01-07T20:28:04.164797Z",
     "start_time": "2021-01-07T20:28:01.582799Z"
    },
    "scrolled": false
   },
   "outputs": [
    {
     "data": {
      "image/png": "[encoded data removed]",
      "text/plain": [
       "<Figure size 432x288 with 1 Axes>"
      ]
     },
     "metadata": {
      "needs_background": "light"
     },
     "output_type": "display_data"
    }
   ],
   "source": [
    "sns.histplot(data = df, x=\"PARTNER\", hue = \"TARGET\")\n",
    "plt.show()"
   ]
  },
  {
   "cell_type": "markdown",
   "metadata": {
    "ExecuteTime": {
     "end_time": "2021-01-07T17:14:12.776008Z",
     "start_time": "2021-01-07T17:14:12.756831Z"
    }
   },
   "source": [
    "- -1 - N/A (GQ/vacant)\n",
    "- 0\t- No unmarried partner in household\n",
    "- 1\t- Male householder, male partner\n",
    "- 2\t- Male householder, female partner\n",
    "- 3\t- Female householder, female partner\n",
    "- 4\t- Female householder, male partner"
   ]
  },
  {
   "cell_type": "code",
   "execution_count": 54,
   "metadata": {
    "ExecuteTime": {
     "end_time": "2021-01-07T20:28:04.200194Z",
     "start_time": "2021-01-07T20:28:04.169708Z"
    }
   },
   "outputs": [
    {
     "data": {
      "text/plain": [
       " 0    0.884924\n",
       " 4    0.038762\n",
       " 2    0.038427\n",
       "-1    0.033240\n",
       " 3    0.002341\n",
       " 1    0.002305\n",
       "Name: PARTNER, dtype: float64"
      ]
     },
     "execution_count": 54,
     "metadata": {},
     "output_type": "execute_result"
    }
   ],
   "source": [
    "df.PARTNER.value_counts(normalize=True)"
   ]
  },
  {
   "cell_type": "code",
   "execution_count": 55,
   "metadata": {
    "ExecuteTime": {
     "end_time": "2021-01-07T20:28:04.208368Z",
     "start_time": "2021-01-07T20:28:04.203617Z"
    }
   },
   "outputs": [],
   "source": [
    "# sns.histplot(data = df, x=\"POB_WORLD\", hue = \"TARGET_60\")"
   ]
  },
  {
   "cell_type": "code",
   "execution_count": 56,
   "metadata": {
    "ExecuteTime": {
     "end_time": "2021-01-07T20:28:05.103528Z",
     "start_time": "2021-01-07T20:28:04.212854Z"
    }
   },
   "outputs": [
    {
     "data": {
      "text/plain": [
       "<matplotlib.axes._subplots.AxesSubplot at 0x7f9daa3ec240>"
      ]
     },
     "execution_count": 56,
     "metadata": {},
     "output_type": "execute_result"
    },
    {
     "data": {
      "image/png": "[encoded data removed]",
      "text/plain": [
       "<Figure size 432x288 with 1 Axes>"
      ]
     },
     "metadata": {
      "needs_background": "light"
     },
     "output_type": "display_data"
    }
   ],
   "source": [
    "sns.boxplot(x=df.SALARY)\n"
   ]
  },
  {
   "cell_type": "code",
   "execution_count": 57,
   "metadata": {
    "ExecuteTime": {
     "end_time": "2021-01-07T20:28:05.170025Z",
     "start_time": "2021-01-07T20:28:05.107622Z"
    }
   },
   "outputs": [
    {
     "data": {
      "text/plain": [
       "40240.0"
      ]
     },
     "execution_count": 57,
     "metadata": {},
     "output_type": "execute_result"
    }
   ],
   "source": [
    "df.INCOME.median()"
   ]
  },
  {
   "cell_type": "code",
   "execution_count": 58,
   "metadata": {
    "ExecuteTime": {
     "end_time": "2021-01-07T20:28:05.245981Z",
     "start_time": "2021-01-07T20:28:05.175525Z"
    }
   },
   "outputs": [
    {
     "data": {
      "text/plain": [
       "35400.0"
      ]
     },
     "execution_count": 58,
     "metadata": {},
     "output_type": "execute_result"
    }
   ],
   "source": [
    "df.SALARY.median()"
   ]
  },
  {
   "cell_type": "markdown",
   "metadata": {},
   "source": [
    "# Prepare Data for Modeling\n",
    "- LabelEncoder for non-numeric features\n",
    "- Remove unnecessary variables\n"
   ]
  },
  {
   "cell_type": "code",
   "execution_count": null,
   "metadata": {},
   "outputs": [],
   "source": []
  },
  {
   "cell_type": "code",
   "execution_count": 59,
   "metadata": {
    "ExecuteTime": {
     "end_time": "2021-01-07T20:28:09.866306Z",
     "start_time": "2021-01-07T20:28:05.251560Z"
    },
    "scrolled": false
   },
   "outputs": [],
   "source": [
    "# define cols\n",
    "le = LabelEncoder()\n",
    "cols = ['OCCUPATION', 'WORK_INDUSTRY', 'EDUCATION', 'RACE2', 'RACE3', 'AGE_DIV']\n",
    "df.loc[:,cols] = df.loc[:,cols].apply(le.fit_transform)"
   ]
  },
  {
   "cell_type": "code",
   "execution_count": 60,
   "metadata": {
    "ExecuteTime": {
     "end_time": "2021-01-07T20:28:14.609334Z",
     "start_time": "2021-01-07T20:28:09.869379Z"
    }
   },
   "outputs": [
    {
     "data": {
      "image/png": "[encoded data removed]",
      "text/plain": [
       "<Figure size 1800x1080 with 2 Axes>"
      ]
     },
     "metadata": {
      "needs_background": "light"
     },
     "output_type": "display_data"
    }
   ],
   "source": [
    "#Checking correlations heatmap for added features\n",
    "\n",
    "fig, ax = plt.subplots(figsize=(25,15)) # figsize to make larger\n",
    "corr = df.corr()\n",
    "\n",
    "# Generate a mask for the upper triangle\n",
    "mask = np.zeros_like(corr, dtype=np.bool)\n",
    "mask[np.triu_indices_from(mask)] = True\n",
    "\n",
    "sns.heatmap(corr, mask=mask, cmap='bwr', center=0, annot=True)\n",
    "\n",
    "# fix for matplotlib bug that cuts off top/bottom of seaborn viz\n",
    "b, t = plt.ylim() # discover the values for bottom and top\n",
    "b += 0.5 # Add 0.5 to the bottom\n",
    "t -= 0.5 # Subtract 0.5 from the top\n",
    "plt.ylim(b, t) # update the ylim(bottom, top) values\n",
    "\n",
    "plt.show()"
   ]
  },
  {
   "cell_type": "code",
   "execution_count": 61,
   "metadata": {
    "ExecuteTime": {
     "end_time": "2021-01-07T20:28:14.842629Z",
     "start_time": "2021-01-07T20:28:14.611523Z"
    }
   },
   "outputs": [],
   "source": [
    "X = df.drop(['TARGET','INCOME', 'SALARY'], axis=1)\n",
    "y = df.TARGET"
   ]
  },
  {
   "cell_type": "code",
   "execution_count": 62,
   "metadata": {
    "ExecuteTime": {
     "end_time": "2021-01-07T20:28:14.884557Z",
     "start_time": "2021-01-07T20:28:14.849778Z"
    }
   },
   "outputs": [
    {
     "data": {
      "text/html": [
       "<div>\n",
       "<style scoped>\n",
       "    .dataframe tbody tr th:only-of-type {\n",
       "        vertical-align: middle;\n",
       "    }\n",
       "\n",
       "    .dataframe tbody tr th {\n",
       "        vertical-align: top;\n",
       "    }\n",
       "\n",
       "    .dataframe thead th {\n",
       "        text-align: right;\n",
       "    }\n",
       "</style>\n",
       "<table border=\"1\" class=\"dataframe\">\n",
       "  <thead>\n",
       "    <tr style=\"text-align: right;\">\n",
       "      <th></th>\n",
       "      <th>FNLWGT</th>\n",
       "      <th>WGTP</th>\n",
       "      <th>INCOME</th>\n",
       "      <th>WKLY_HRS</th>\n",
       "      <th>SALARY</th>\n",
       "      <th>AGE</th>\n",
       "      <th>MOM</th>\n",
       "      <th>WORK_CLASS</th>\n",
       "      <th>COUPLE</th>\n",
       "      <th>CITIZENSHIP</th>\n",
       "      <th>POB_DETAIL</th>\n",
       "      <th>PARTNER</th>\n",
       "      <th>SEX</th>\n",
       "      <th>RACE</th>\n",
       "      <th>EDUCATION</th>\n",
       "      <th>OCCUPATION</th>\n",
       "      <th>WORK_INDUSTRY</th>\n",
       "      <th>RACE2</th>\n",
       "      <th>RACE3</th>\n",
       "      <th>AGE_DIV</th>\n",
       "      <th>TARGET</th>\n",
       "    </tr>\n",
       "  </thead>\n",
       "  <tbody>\n",
       "    <tr>\n",
       "      <th>0</th>\n",
       "      <td>71</td>\n",
       "      <td>0</td>\n",
       "      <td>63000</td>\n",
       "      <td>80</td>\n",
       "      <td>63000</td>\n",
       "      <td>35</td>\n",
       "      <td>0</td>\n",
       "      <td>1</td>\n",
       "      <td>0</td>\n",
       "      <td>1</td>\n",
       "      <td>18</td>\n",
       "      <td>-1</td>\n",
       "      <td>1</td>\n",
       "      <td>1</td>\n",
       "      <td>3</td>\n",
       "      <td>4</td>\n",
       "      <td>1</td>\n",
       "      <td>1</td>\n",
       "      <td>4</td>\n",
       "      <td>0</td>\n",
       "      <td>&lt;=65k</td>\n",
       "    </tr>\n",
       "    <tr>\n",
       "      <th>2</th>\n",
       "      <td>24</td>\n",
       "      <td>0</td>\n",
       "      <td>2000</td>\n",
       "      <td>15</td>\n",
       "      <td>2000</td>\n",
       "      <td>21</td>\n",
       "      <td>2</td>\n",
       "      <td>2</td>\n",
       "      <td>0</td>\n",
       "      <td>0</td>\n",
       "      <td>229</td>\n",
       "      <td>-1</td>\n",
       "      <td>2</td>\n",
       "      <td>6</td>\n",
       "      <td>3</td>\n",
       "      <td>23</td>\n",
       "      <td>2</td>\n",
       "      <td>0</td>\n",
       "      <td>0</td>\n",
       "      <td>0</td>\n",
       "      <td>&lt;=65k</td>\n",
       "    </tr>\n",
       "  </tbody>\n",
       "</table>\n",
       "</div>"
      ],
      "text/plain": [
       "   FNLWGT  WGTP  INCOME  WKLY_HRS  SALARY  AGE  MOM  WORK_CLASS  COUPLE  \\\n",
       "0      71     0   63000        80   63000   35    0           1       0   \n",
       "2      24     0    2000        15    2000   21    2           2       0   \n",
       "\n",
       "   CITIZENSHIP  POB_DETAIL  PARTNER  SEX  RACE  EDUCATION  OCCUPATION  \\\n",
       "0            1          18       -1    1     1          3           4   \n",
       "2            0         229       -1    2     6          3          23   \n",
       "\n",
       "   WORK_INDUSTRY  RACE2  RACE3  AGE_DIV TARGET  \n",
       "0              1      1      4        0  <=65k  \n",
       "2              2      0      0        0  <=65k  "
      ]
     },
     "execution_count": 62,
     "metadata": {},
     "output_type": "execute_result"
    }
   ],
   "source": [
    "df.head(2) #Sanity Check"
   ]
  },
  {
   "cell_type": "markdown",
   "metadata": {},
   "source": [
    "# Model Testing"
   ]
  },
  {
   "cell_type": "markdown",
   "metadata": {},
   "source": [
    "## Baseline Model"
   ]
  },
  {
   "cell_type": "code",
   "execution_count": 63,
   "metadata": {
    "ExecuteTime": {
     "end_time": "2021-01-07T20:28:19.323094Z",
     "start_time": "2021-01-07T20:28:14.888555Z"
    }
   },
   "outputs": [],
   "source": [
    "X_train, X_test, y_train, y_test = train_test_split(X, y, random_state = 42, stratify = y)"
   ]
  },
  {
   "cell_type": "code",
   "execution_count": 64,
   "metadata": {
    "ExecuteTime": {
     "end_time": "2021-01-07T20:28:56.772090Z",
     "start_time": "2021-01-07T20:28:19.326931Z"
    },
    "scrolled": true
   },
   "outputs": [],
   "source": [
    "tree = DecisionTreeClassifier()\n",
    "tree.fit(X_train, y_train)\n",
    "y_pred = tree.predict(X_test)"
   ]
  },
  {
   "cell_type": "code",
   "execution_count": 65,
   "metadata": {
    "ExecuteTime": {
     "end_time": "2021-01-07T20:29:01.715006Z",
     "start_time": "2021-01-07T20:28:56.775434Z"
    }
   },
   "outputs": [
    {
     "data": {
      "text/plain": [
       "0.7544392816172288"
      ]
     },
     "execution_count": 65,
     "metadata": {},
     "output_type": "execute_result"
    }
   ],
   "source": [
    "accuracy_score(y_test, y_pred)"
   ]
  },
  {
   "cell_type": "code",
   "execution_count": 66,
   "metadata": {
    "ExecuteTime": {
     "end_time": "2021-01-07T20:29:01.732535Z",
     "start_time": "2021-01-07T20:29:01.719242Z"
    }
   },
   "outputs": [],
   "source": [
    "importance = tree.feature_importances_\n",
    "feat_imp_dict = dict(zip(X.columns, importance))"
   ]
  },
  {
   "cell_type": "code",
   "execution_count": 67,
   "metadata": {
    "ExecuteTime": {
     "end_time": "2021-01-07T20:29:01.747755Z",
     "start_time": "2021-01-07T20:29:01.737376Z"
    }
   },
   "outputs": [
    {
     "data": {
      "text/plain": [
       "{'FNLWGT': 0.11959715890068043,\n",
       " 'WGTP': 0.11928332916704966,\n",
       " 'WKLY_HRS': 0.12873818599168543,\n",
       " 'AGE': 0.15814246128503473,\n",
       " 'MOM': 0.0042243558777494365,\n",
       " 'WORK_CLASS': 0.03160832905854792,\n",
       " 'COUPLE': 0.020017991492454264,\n",
       " 'CITIZENSHIP': 0.002826961629506523,\n",
       " 'POB_DETAIL': 0.11245347287846325,\n",
       " 'PARTNER': 0.007385999719271251,\n",
       " 'SEX': 0.019821529063963363,\n",
       " 'RACE': 0.009656180861807523,\n",
       " 'EDUCATION': 0.06789459531474125,\n",
       " 'OCCUPATION': 0.10925566646848406,\n",
       " 'WORK_INDUSTRY': 0.07269069570782143,\n",
       " 'RACE2': 0.003836186854712591,\n",
       " 'RACE3': 0.010733012629929518,\n",
       " 'AGE_DIV': 0.0018338870980973859}"
      ]
     },
     "execution_count": 67,
     "metadata": {},
     "output_type": "execute_result"
    }
   ],
   "source": [
    "feat_imp_dict"
   ]
  },
  {
   "cell_type": "markdown",
   "metadata": {},
   "source": [
    "## Decision Tree and GridSearch"
   ]
  },
  {
   "cell_type": "code",
   "execution_count": 68,
   "metadata": {
    "ExecuteTime": {
     "end_time": "2021-01-07T20:29:01.771089Z",
     "start_time": "2021-01-07T20:29:01.764447Z"
    }
   },
   "outputs": [],
   "source": [
    "# dt = DecisionTreeClassifier()\n",
    "# dt_param_grid = {\n",
    "#     'criterion' : ['gini', 'entropy'],\n",
    "#     'max_depth' : [8, 9, 10, 11],\n",
    "#     'min_samples_split' : [2, 5, 10],\n",
    "#     'min_samples_leaf' : [1, 2, 3, 4, 5, 6, 7, 8]\n",
    "# }"
   ]
  },
  {
   "cell_type": "code",
   "execution_count": 69,
   "metadata": {
    "ExecuteTime": {
     "end_time": "2021-01-07T20:29:01.782952Z",
     "start_time": "2021-01-07T20:29:01.777365Z"
    }
   },
   "outputs": [],
   "source": [
    "# dt_grid_search = GridSearchCV(dt, dt_param_grid, cv=3, verbose=True, n_jobs=-1)\n",
    "# dt_grid_search.fit(X_train, y_train)"
   ]
  },
  {
   "cell_type": "markdown",
   "metadata": {},
   "source": [
    "## LogisticRegression and GridSearch"
   ]
  },
  {
   "cell_type": "code",
   "execution_count": 70,
   "metadata": {
    "ExecuteTime": {
     "end_time": "2021-01-07T20:29:01.793475Z",
     "start_time": "2021-01-07T20:29:01.786991Z"
    }
   },
   "outputs": [],
   "source": [
    "# pipe = Pipeline([('logrg', LogisticRegression())])\n",
    "\n",
    "# param_grid = {\n",
    "#     'logrg__penalty' : ['l1', 'l2'],\n",
    "#     'logrg__C' : [.01, .1, 1, 10, 100 ],\n",
    "#     'logrg__solver' : ['liblinear', 'sag', 'saga'],\n",
    "#     'logrg__max_iter' : [100, 200, 300]\n",
    "# }"
   ]
  },
  {
   "cell_type": "code",
   "execution_count": 71,
   "metadata": {
    "ExecuteTime": {
     "end_time": "2021-01-07T20:29:01.803387Z",
     "start_time": "2021-01-07T20:29:01.797704Z"
    }
   },
   "outputs": [],
   "source": [
    "# clf = GridSearchCV(pipe, param_grid, cv = 3, verbose=True, n_jobs=-1)\n",
    "# best_clf = clf.fit(X_train, y_train)"
   ]
  },
  {
   "cell_type": "code",
   "execution_count": 72,
   "metadata": {
    "ExecuteTime": {
     "end_time": "2021-01-07T20:29:01.811707Z",
     "start_time": "2021-01-07T20:29:01.806768Z"
    }
   },
   "outputs": [],
   "source": [
    "# best_clf.best_params_"
   ]
  },
  {
   "cell_type": "code",
   "execution_count": 73,
   "metadata": {
    "ExecuteTime": {
     "end_time": "2021-01-07T20:29:01.847322Z",
     "start_time": "2021-01-07T20:29:01.822148Z"
    }
   },
   "outputs": [],
   "source": [
    "# best_clf.best_score_"
   ]
  },
  {
   "cell_type": "markdown",
   "metadata": {},
   "source": [
    "## RandomForest and GridSearch"
   ]
  },
  {
   "cell_type": "code",
   "execution_count": 74,
   "metadata": {
    "ExecuteTime": {
     "end_time": "2021-01-07T20:29:01.866617Z",
     "start_time": "2021-01-07T20:29:01.858964Z"
    }
   },
   "outputs": [],
   "source": [
    "# rf_clf = RandomForestClassifier()\n",
    "# rf_param_grid = {\n",
    "#     'n_estimators': [10, 30, 100],\n",
    "#     'criterion': ['gini', 'entropy'],\n",
    "#     'max_depth': [None, 2, 6, 10],\n",
    "#     'min_samples_split': [5, 10],\n",
    "#     'min_samples_leaf': [3, 6]\n",
    "# }"
   ]
  },
  {
   "cell_type": "code",
   "execution_count": 75,
   "metadata": {
    "ExecuteTime": {
     "end_time": "2021-01-07T20:29:01.878327Z",
     "start_time": "2021-01-07T20:29:01.872137Z"
    }
   },
   "outputs": [],
   "source": [
    "\n",
    "# rf_grid_search = GridSearchCV(rf_clf, rf_param_grid, cv=3, verbose=True, n_jobs=-1)\n",
    "# rf_grid_search.fit(X_train, y_train)"
   ]
  },
  {
   "cell_type": "code",
   "execution_count": 76,
   "metadata": {
    "ExecuteTime": {
     "end_time": "2021-01-07T20:29:01.892397Z",
     "start_time": "2021-01-07T20:29:01.886954Z"
    }
   },
   "outputs": [],
   "source": [
    "# rf_grid_search.best_params_"
   ]
  },
  {
   "cell_type": "code",
   "execution_count": 77,
   "metadata": {
    "ExecuteTime": {
     "end_time": "2021-01-07T20:29:01.901140Z",
     "start_time": "2021-01-07T20:29:01.896372Z"
    }
   },
   "outputs": [],
   "source": [
    "# rf_grid_search.best_score_"
   ]
  },
  {
   "cell_type": "code",
   "execution_count": 78,
   "metadata": {
    "ExecuteTime": {
     "end_time": "2021-01-07T20:29:01.911371Z",
     "start_time": "2021-01-07T20:29:01.904819Z"
    }
   },
   "outputs": [],
   "source": [
    "# rf_clf = RandomForestClassifier(criterion = 'gini', min_samples_split = 5, min_samples_leaf = 6)\n",
    "# rf_clf.fit(X_train, y_train)"
   ]
  },
  {
   "cell_type": "code",
   "execution_count": 79,
   "metadata": {
    "ExecuteTime": {
     "end_time": "2021-01-07T20:29:01.922521Z",
     "start_time": "2021-01-07T20:29:01.915824Z"
    }
   },
   "outputs": [],
   "source": [
    "# y_pred = rf_clf.predict(X_test)\n",
    "# accuracy_score(y_test, y_pred)"
   ]
  },
  {
   "cell_type": "code",
   "execution_count": 80,
   "metadata": {
    "ExecuteTime": {
     "end_time": "2021-01-07T20:29:01.934759Z",
     "start_time": "2021-01-07T20:29:01.927687Z"
    }
   },
   "outputs": [],
   "source": [
    "# def plot_feature_imporances(model):\n",
    "#     n_features = X_train.shape[1]\n",
    "#     plt.figure(figsize = (8,8))\n",
    "#     plt.barh(range(n_features), model.feature_importances_, align = 'center')\n",
    "#     plt.yticks(np.arange(n_features), X_train.columns.values)\n",
    "#     plt.xlabel('Feature importance')\n",
    "#     plt.ylabel('Feature')\n",
    "    \n",
    "# plot_feature_imporances(rf_clf)"
   ]
  },
  {
   "cell_type": "markdown",
   "metadata": {},
   "source": [
    "## Model Evaluation Summary"
   ]
  },
  {
   "cell_type": "code",
   "execution_count": 81,
   "metadata": {
    "ExecuteTime": {
     "end_time": "2021-01-07T20:29:01.945937Z",
     "start_time": "2021-01-07T20:29:01.938089Z"
    }
   },
   "outputs": [],
   "source": [
    "# logrg_score = best_clf.score(X_test, y_test)\n",
    "# dt_score = dt_grid_search.score(X_test, y_test)\n",
    "# rf_score = rf_grid_search.score(X_test, y_test)\n",
    "\n",
    "\n",
    "# print(\"Logistic regression grid search \", logrg_score)\n",
    "# print(\"Decision tree grid search \", dt_score)\n",
    "# print(\"Random forest grid search\", rf_score)"
   ]
  },
  {
   "cell_type": "code",
   "execution_count": null,
   "metadata": {},
   "outputs": [],
   "source": []
  },
  {
   "cell_type": "code",
   "execution_count": null,
   "metadata": {},
   "outputs": [],
   "source": []
  }
 ],
 "metadata": {
  "kernelspec": {
   "display_name": "Python 3",
   "language": "python",
   "name": "python3"
  },
  "language_info": {
   "codemirror_mode": {
    "name": "ipython",
    "version": 3
   },
   "file_extension": ".py",
   "mimetype": "text/x-python",
   "name": "python",
   "nbconvert_exporter": "python",
   "pygments_lexer": "ipython3",
   "version": "3.6.9"
  },
  "toc": {
   "base_numbering": 1,
   "nav_menu": {},
   "number_sections": true,
   "sideBar": true,
   "skip_h1_title": false,
   "title_cell": "Table of Contents",
   "title_sidebar": "Contents",
   "toc_cell": false,
   "toc_position": {},
   "toc_section_display": true,
   "toc_window_display": false
  }
 },
 "nbformat": 4,
 "nbformat_minor": 4
}
