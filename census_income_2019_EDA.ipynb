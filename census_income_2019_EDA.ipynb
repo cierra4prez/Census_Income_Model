{
 "cells": [
  {
   "cell_type": "code",
   "execution_count": 1,
   "metadata": {},
   "outputs": [],
   "source": [
    "import pandas as pd\n",
    "import numpy as np\n",
    "import matplotlib.pyplot as plt\n",
    "import seaborn as sns\n",
    "from sklearn.model_selection import train_test_split\n",
    "from sklearn.linear_model import LogisticRegression\n",
    "from sklearn.tree import DecisionTreeClassifier\n",
    "from sklearn.metrics import accuracy_score\n",
    "from sklearn.preprocessing import LabelEncoder\n",
    "\n",
    "pd.options.display.max_columns = 999\n",
    "sns.set_style('white')"
   ]
  },
  {
   "cell_type": "code",
   "execution_count": 2,
   "metadata": {},
   "outputs": [
    {
     "data": {
      "text/html": [
       "<div>\n",
       "<style scoped>\n",
       "    .dataframe tbody tr th:only-of-type {\n",
       "        vertical-align: middle;\n",
       "    }\n",
       "\n",
       "    .dataframe tbody tr th {\n",
       "        vertical-align: top;\n",
       "    }\n",
       "\n",
       "    .dataframe thead th {\n",
       "        text-align: right;\n",
       "    }\n",
       "</style>\n",
       "<table border=\"1\" class=\"dataframe\">\n",
       "  <thead>\n",
       "    <tr style=\"text-align: right;\">\n",
       "      <th></th>\n",
       "      <th>PWGTP</th>\n",
       "      <th>WGTP</th>\n",
       "      <th>PINCP</th>\n",
       "      <th>WKHP</th>\n",
       "      <th>WAGP</th>\n",
       "      <th>AGEP</th>\n",
       "      <th>FER</th>\n",
       "      <th>DIS</th>\n",
       "      <th>COW</th>\n",
       "      <th>CPLT</th>\n",
       "      <th>ADJINC</th>\n",
       "      <th>CIT</th>\n",
       "      <th>POBP</th>\n",
       "      <th>PARTNER</th>\n",
       "      <th>SEX</th>\n",
       "      <th>RAC1P</th>\n",
       "      <th>SCHL</th>\n",
       "      <th>OCCP</th>\n",
       "      <th>NAICSP</th>\n",
       "      <th>SERIALNO</th>\n",
       "      <th>SPORDER</th>\n",
       "    </tr>\n",
       "  </thead>\n",
       "  <tbody>\n",
       "    <tr>\n",
       "      <th>0</th>\n",
       "      <td>71</td>\n",
       "      <td>0</td>\n",
       "      <td>63000</td>\n",
       "      <td>80</td>\n",
       "      <td>63000</td>\n",
       "      <td>35</td>\n",
       "      <td>0</td>\n",
       "      <td>2</td>\n",
       "      <td>1</td>\n",
       "      <td>0</td>\n",
       "      <td>1.010145</td>\n",
       "      <td>1</td>\n",
       "      <td>18</td>\n",
       "      <td>-1</td>\n",
       "      <td>1</td>\n",
       "      <td>1</td>\n",
       "      <td>17</td>\n",
       "      <td>6250</td>\n",
       "      <td>23</td>\n",
       "      <td>2019GQ0000001</td>\n",
       "      <td>1</td>\n",
       "    </tr>\n",
       "    <tr>\n",
       "      <th>1</th>\n",
       "      <td>67</td>\n",
       "      <td>0</td>\n",
       "      <td>0</td>\n",
       "      <td>0</td>\n",
       "      <td>0</td>\n",
       "      <td>25</td>\n",
       "      <td>0</td>\n",
       "      <td>2</td>\n",
       "      <td>0</td>\n",
       "      <td>0</td>\n",
       "      <td>1.010145</td>\n",
       "      <td>1</td>\n",
       "      <td>48</td>\n",
       "      <td>-1</td>\n",
       "      <td>1</td>\n",
       "      <td>1</td>\n",
       "      <td>12</td>\n",
       "      <td>9</td>\n",
       "      <td>-1</td>\n",
       "      <td>2019GQ0000004</td>\n",
       "      <td>1</td>\n",
       "    </tr>\n",
       "    <tr>\n",
       "      <th>2</th>\n",
       "      <td>24</td>\n",
       "      <td>0</td>\n",
       "      <td>2000</td>\n",
       "      <td>15</td>\n",
       "      <td>2000</td>\n",
       "      <td>21</td>\n",
       "      <td>2</td>\n",
       "      <td>2</td>\n",
       "      <td>2</td>\n",
       "      <td>0</td>\n",
       "      <td>1.010145</td>\n",
       "      <td>5</td>\n",
       "      <td>229</td>\n",
       "      <td>-1</td>\n",
       "      <td>2</td>\n",
       "      <td>6</td>\n",
       "      <td>19</td>\n",
       "      <td>4740</td>\n",
       "      <td>611M1</td>\n",
       "      <td>2019GQ0000007</td>\n",
       "      <td>1</td>\n",
       "    </tr>\n",
       "    <tr>\n",
       "      <th>3</th>\n",
       "      <td>52</td>\n",
       "      <td>0</td>\n",
       "      <td>0</td>\n",
       "      <td>0</td>\n",
       "      <td>0</td>\n",
       "      <td>49</td>\n",
       "      <td>0</td>\n",
       "      <td>2</td>\n",
       "      <td>1</td>\n",
       "      <td>0</td>\n",
       "      <td>1.010145</td>\n",
       "      <td>1</td>\n",
       "      <td>6</td>\n",
       "      <td>-1</td>\n",
       "      <td>1</td>\n",
       "      <td>1</td>\n",
       "      <td>21</td>\n",
       "      <td>110</td>\n",
       "      <td>722Z</td>\n",
       "      <td>2019GQ0000010</td>\n",
       "      <td>1</td>\n",
       "    </tr>\n",
       "    <tr>\n",
       "      <th>4</th>\n",
       "      <td>28</td>\n",
       "      <td>0</td>\n",
       "      <td>6000</td>\n",
       "      <td>15</td>\n",
       "      <td>6000</td>\n",
       "      <td>18</td>\n",
       "      <td>2</td>\n",
       "      <td>2</td>\n",
       "      <td>1</td>\n",
       "      <td>0</td>\n",
       "      <td>1.010145</td>\n",
       "      <td>1</td>\n",
       "      <td>6</td>\n",
       "      <td>-1</td>\n",
       "      <td>2</td>\n",
       "      <td>1</td>\n",
       "      <td>16</td>\n",
       "      <td>4110</td>\n",
       "      <td>722Z</td>\n",
       "      <td>2019GQ0000013</td>\n",
       "      <td>1</td>\n",
       "    </tr>\n",
       "  </tbody>\n",
       "</table>\n",
       "</div>"
      ],
      "text/plain": [
       "   PWGTP  WGTP  PINCP  WKHP   WAGP  AGEP  FER  DIS  COW  CPLT    ADJINC  CIT  \\\n",
       "0     71     0  63000    80  63000    35    0    2    1     0  1.010145    1   \n",
       "1     67     0      0     0      0    25    0    2    0     0  1.010145    1   \n",
       "2     24     0   2000    15   2000    21    2    2    2     0  1.010145    5   \n",
       "3     52     0      0     0      0    49    0    2    1     0  1.010145    1   \n",
       "4     28     0   6000    15   6000    18    2    2    1     0  1.010145    1   \n",
       "\n",
       "   POBP  PARTNER  SEX  RAC1P  SCHL  OCCP NAICSP       SERIALNO  SPORDER  \n",
       "0    18       -1    1      1    17  6250     23  2019GQ0000001        1  \n",
       "1    48       -1    1      1    12     9     -1  2019GQ0000004        1  \n",
       "2   229       -1    2      6    19  4740  611M1  2019GQ0000007        1  \n",
       "3     6       -1    1      1    21   110   722Z  2019GQ0000010        1  \n",
       "4     6       -1    2      1    16  4110   722Z  2019GQ0000013        1  "
      ]
     },
     "execution_count": 2,
     "metadata": {},
     "output_type": "execute_result"
    }
   ],
   "source": [
    "df = pd.read_csv('census_income_2019.csv', compression = 'zip')\n",
    "df.head()"
   ]
  },
  {
   "cell_type": "code",
   "execution_count": 3,
   "metadata": {},
   "outputs": [
    {
     "data": {
      "text/plain": [
       "(3239553, 21)"
      ]
     },
     "execution_count": 3,
     "metadata": {},
     "output_type": "execute_result"
    }
   ],
   "source": [
    "df.shape"
   ]
  },
  {
   "cell_type": "markdown",
   "metadata": {},
   "source": [
    "##### Update Column Names"
   ]
  },
  {
   "cell_type": "code",
   "execution_count": 4,
   "metadata": {},
   "outputs": [],
   "source": [
    "org_vars = \"\"\"PINCP\n",
    "WAGP\n",
    "INTP\n",
    "ADJINC\n",
    "PWGTP\n",
    "OCCP\n",
    "NAICSP\n",
    "WKHP\n",
    "AGEP\n",
    "SEX\n",
    "FER\n",
    "CPLT\n",
    "PARTNER\n",
    "COW\n",
    "RAC1P\n",
    "POBP\n",
    "CIT\n",
    "SCHL\n",
    "DIS\n",
    "SERIALNO\n",
    "SPORDER\n",
    "WAOB\"\"\".split(\"\\n\")"
   ]
  },
  {
   "cell_type": "code",
   "execution_count": 5,
   "metadata": {},
   "outputs": [],
   "source": [
    "uptd_vars = \"\"\"INCOME\n",
    "SALARY\n",
    "INTEREST_DIV\n",
    "ADJINC\n",
    "FNLWGT\n",
    "OCCUPATION\n",
    "WORK_INDUSTRY\n",
    "WKLY_HRS\n",
    "AGE\n",
    "SEX\n",
    "MOM\n",
    "COUPLE\n",
    "PARTNER\n",
    "WORK_CLASS\n",
    "RACE\n",
    "POB_DETAIL\n",
    "CITIZENSHIP\n",
    "EDUCATION\n",
    "DIS\n",
    "SERIALNO\n",
    "PERSON_NO\n",
    "POB_WORLD\"\"\".split(\"\\n\")"
   ]
  },
  {
   "cell_type": "code",
   "execution_count": 6,
   "metadata": {},
   "outputs": [],
   "source": [
    "vars_dict = dict(zip(org_vars, uptd_vars))\n",
    "# vars_dict #Uncomment to view"
   ]
  },
  {
   "cell_type": "code",
   "execution_count": 7,
   "metadata": {},
   "outputs": [
    {
     "data": {
      "text/html": [
       "<div>\n",
       "<style scoped>\n",
       "    .dataframe tbody tr th:only-of-type {\n",
       "        vertical-align: middle;\n",
       "    }\n",
       "\n",
       "    .dataframe tbody tr th {\n",
       "        vertical-align: top;\n",
       "    }\n",
       "\n",
       "    .dataframe thead th {\n",
       "        text-align: right;\n",
       "    }\n",
       "</style>\n",
       "<table border=\"1\" class=\"dataframe\">\n",
       "  <thead>\n",
       "    <tr style=\"text-align: right;\">\n",
       "      <th></th>\n",
       "      <th>FNLWGT</th>\n",
       "      <th>WGTP</th>\n",
       "      <th>INCOME</th>\n",
       "      <th>WKLY_HRS</th>\n",
       "      <th>SALARY</th>\n",
       "      <th>AGE</th>\n",
       "      <th>MOM</th>\n",
       "      <th>DIS</th>\n",
       "      <th>WORK_CLASS</th>\n",
       "      <th>COUPLE</th>\n",
       "      <th>ADJINC</th>\n",
       "      <th>CITIZENSHIP</th>\n",
       "      <th>POB_DETAIL</th>\n",
       "      <th>PARTNER</th>\n",
       "      <th>SEX</th>\n",
       "      <th>RACE</th>\n",
       "      <th>EDUCATION</th>\n",
       "      <th>OCCUPATION</th>\n",
       "      <th>WORK_INDUSTRY</th>\n",
       "      <th>SERIALNO</th>\n",
       "      <th>PERSON_NO</th>\n",
       "    </tr>\n",
       "  </thead>\n",
       "  <tbody>\n",
       "    <tr>\n",
       "      <th>0</th>\n",
       "      <td>71</td>\n",
       "      <td>0</td>\n",
       "      <td>63000</td>\n",
       "      <td>80</td>\n",
       "      <td>63000</td>\n",
       "      <td>35</td>\n",
       "      <td>0</td>\n",
       "      <td>2</td>\n",
       "      <td>1</td>\n",
       "      <td>0</td>\n",
       "      <td>1.010145</td>\n",
       "      <td>1</td>\n",
       "      <td>18</td>\n",
       "      <td>-1</td>\n",
       "      <td>1</td>\n",
       "      <td>1</td>\n",
       "      <td>17</td>\n",
       "      <td>6250</td>\n",
       "      <td>23</td>\n",
       "      <td>2019GQ0000001</td>\n",
       "      <td>1</td>\n",
       "    </tr>\n",
       "    <tr>\n",
       "      <th>1</th>\n",
       "      <td>67</td>\n",
       "      <td>0</td>\n",
       "      <td>0</td>\n",
       "      <td>0</td>\n",
       "      <td>0</td>\n",
       "      <td>25</td>\n",
       "      <td>0</td>\n",
       "      <td>2</td>\n",
       "      <td>0</td>\n",
       "      <td>0</td>\n",
       "      <td>1.010145</td>\n",
       "      <td>1</td>\n",
       "      <td>48</td>\n",
       "      <td>-1</td>\n",
       "      <td>1</td>\n",
       "      <td>1</td>\n",
       "      <td>12</td>\n",
       "      <td>9</td>\n",
       "      <td>-1</td>\n",
       "      <td>2019GQ0000004</td>\n",
       "      <td>1</td>\n",
       "    </tr>\n",
       "    <tr>\n",
       "      <th>2</th>\n",
       "      <td>24</td>\n",
       "      <td>0</td>\n",
       "      <td>2000</td>\n",
       "      <td>15</td>\n",
       "      <td>2000</td>\n",
       "      <td>21</td>\n",
       "      <td>2</td>\n",
       "      <td>2</td>\n",
       "      <td>2</td>\n",
       "      <td>0</td>\n",
       "      <td>1.010145</td>\n",
       "      <td>5</td>\n",
       "      <td>229</td>\n",
       "      <td>-1</td>\n",
       "      <td>2</td>\n",
       "      <td>6</td>\n",
       "      <td>19</td>\n",
       "      <td>4740</td>\n",
       "      <td>611M1</td>\n",
       "      <td>2019GQ0000007</td>\n",
       "      <td>1</td>\n",
       "    </tr>\n",
       "    <tr>\n",
       "      <th>3</th>\n",
       "      <td>52</td>\n",
       "      <td>0</td>\n",
       "      <td>0</td>\n",
       "      <td>0</td>\n",
       "      <td>0</td>\n",
       "      <td>49</td>\n",
       "      <td>0</td>\n",
       "      <td>2</td>\n",
       "      <td>1</td>\n",
       "      <td>0</td>\n",
       "      <td>1.010145</td>\n",
       "      <td>1</td>\n",
       "      <td>6</td>\n",
       "      <td>-1</td>\n",
       "      <td>1</td>\n",
       "      <td>1</td>\n",
       "      <td>21</td>\n",
       "      <td>110</td>\n",
       "      <td>722Z</td>\n",
       "      <td>2019GQ0000010</td>\n",
       "      <td>1</td>\n",
       "    </tr>\n",
       "    <tr>\n",
       "      <th>4</th>\n",
       "      <td>28</td>\n",
       "      <td>0</td>\n",
       "      <td>6000</td>\n",
       "      <td>15</td>\n",
       "      <td>6000</td>\n",
       "      <td>18</td>\n",
       "      <td>2</td>\n",
       "      <td>2</td>\n",
       "      <td>1</td>\n",
       "      <td>0</td>\n",
       "      <td>1.010145</td>\n",
       "      <td>1</td>\n",
       "      <td>6</td>\n",
       "      <td>-1</td>\n",
       "      <td>2</td>\n",
       "      <td>1</td>\n",
       "      <td>16</td>\n",
       "      <td>4110</td>\n",
       "      <td>722Z</td>\n",
       "      <td>2019GQ0000013</td>\n",
       "      <td>1</td>\n",
       "    </tr>\n",
       "  </tbody>\n",
       "</table>\n",
       "</div>"
      ],
      "text/plain": [
       "   FNLWGT  WGTP  INCOME  WKLY_HRS  SALARY  AGE  MOM  DIS  WORK_CLASS  COUPLE  \\\n",
       "0      71     0   63000        80   63000   35    0    2           1       0   \n",
       "1      67     0       0         0       0   25    0    2           0       0   \n",
       "2      24     0    2000        15    2000   21    2    2           2       0   \n",
       "3      52     0       0         0       0   49    0    2           1       0   \n",
       "4      28     0    6000        15    6000   18    2    2           1       0   \n",
       "\n",
       "     ADJINC  CITIZENSHIP  POB_DETAIL  PARTNER  SEX  RACE  EDUCATION  \\\n",
       "0  1.010145            1          18       -1    1     1         17   \n",
       "1  1.010145            1          48       -1    1     1         12   \n",
       "2  1.010145            5         229       -1    2     6         19   \n",
       "3  1.010145            1           6       -1    1     1         21   \n",
       "4  1.010145            1           6       -1    2     1         16   \n",
       "\n",
       "   OCCUPATION WORK_INDUSTRY       SERIALNO  PERSON_NO  \n",
       "0        6250            23  2019GQ0000001          1  \n",
       "1           9            -1  2019GQ0000004          1  \n",
       "2        4740         611M1  2019GQ0000007          1  \n",
       "3         110          722Z  2019GQ0000010          1  \n",
       "4        4110          722Z  2019GQ0000013          1  "
      ]
     },
     "execution_count": 7,
     "metadata": {},
     "output_type": "execute_result"
    }
   ],
   "source": [
    "df = df.rename(columns=vars_dict)\n",
    "df.head() #Sanity Check"
   ]
  },
  {
   "cell_type": "code",
   "execution_count": 8,
   "metadata": {
    "scrolled": true
   },
   "outputs": [
    {
     "data": {
      "text/html": [
       "<div>\n",
       "<style scoped>\n",
       "    .dataframe tbody tr th:only-of-type {\n",
       "        vertical-align: middle;\n",
       "    }\n",
       "\n",
       "    .dataframe tbody tr th {\n",
       "        vertical-align: top;\n",
       "    }\n",
       "\n",
       "    .dataframe thead th {\n",
       "        text-align: right;\n",
       "    }\n",
       "</style>\n",
       "<table border=\"1\" class=\"dataframe\">\n",
       "  <thead>\n",
       "    <tr style=\"text-align: right;\">\n",
       "      <th></th>\n",
       "      <th>FNLWGT</th>\n",
       "      <th>WGTP</th>\n",
       "      <th>INCOME</th>\n",
       "      <th>WKLY_HRS</th>\n",
       "      <th>SALARY</th>\n",
       "      <th>AGE</th>\n",
       "      <th>MOM</th>\n",
       "      <th>DIS</th>\n",
       "      <th>WORK_CLASS</th>\n",
       "      <th>COUPLE</th>\n",
       "      <th>ADJINC</th>\n",
       "      <th>CITIZENSHIP</th>\n",
       "      <th>POB_DETAIL</th>\n",
       "      <th>PARTNER</th>\n",
       "      <th>SEX</th>\n",
       "      <th>RACE</th>\n",
       "      <th>EDUCATION</th>\n",
       "      <th>OCCUPATION</th>\n",
       "      <th>WORK_INDUSTRY</th>\n",
       "      <th>SERIALNO</th>\n",
       "      <th>PERSON_NO</th>\n",
       "    </tr>\n",
       "  </thead>\n",
       "  <tbody>\n",
       "    <tr>\n",
       "      <th>0</th>\n",
       "      <td>71</td>\n",
       "      <td>0</td>\n",
       "      <td>63000</td>\n",
       "      <td>80</td>\n",
       "      <td>63000</td>\n",
       "      <td>35</td>\n",
       "      <td>0</td>\n",
       "      <td>2</td>\n",
       "      <td>1</td>\n",
       "      <td>0</td>\n",
       "      <td>1.010145</td>\n",
       "      <td>1</td>\n",
       "      <td>18</td>\n",
       "      <td>-1</td>\n",
       "      <td>1</td>\n",
       "      <td>1</td>\n",
       "      <td>17</td>\n",
       "      <td>6250</td>\n",
       "      <td>23</td>\n",
       "      <td>2019GQ0000001</td>\n",
       "      <td>1</td>\n",
       "    </tr>\n",
       "    <tr>\n",
       "      <th>1</th>\n",
       "      <td>67</td>\n",
       "      <td>0</td>\n",
       "      <td>0</td>\n",
       "      <td>0</td>\n",
       "      <td>0</td>\n",
       "      <td>25</td>\n",
       "      <td>0</td>\n",
       "      <td>2</td>\n",
       "      <td>0</td>\n",
       "      <td>0</td>\n",
       "      <td>1.010145</td>\n",
       "      <td>1</td>\n",
       "      <td>48</td>\n",
       "      <td>-1</td>\n",
       "      <td>1</td>\n",
       "      <td>1</td>\n",
       "      <td>12</td>\n",
       "      <td>9</td>\n",
       "      <td>-1</td>\n",
       "      <td>2019GQ0000004</td>\n",
       "      <td>1</td>\n",
       "    </tr>\n",
       "    <tr>\n",
       "      <th>2</th>\n",
       "      <td>24</td>\n",
       "      <td>0</td>\n",
       "      <td>2000</td>\n",
       "      <td>15</td>\n",
       "      <td>2000</td>\n",
       "      <td>21</td>\n",
       "      <td>2</td>\n",
       "      <td>2</td>\n",
       "      <td>2</td>\n",
       "      <td>0</td>\n",
       "      <td>1.010145</td>\n",
       "      <td>5</td>\n",
       "      <td>229</td>\n",
       "      <td>-1</td>\n",
       "      <td>2</td>\n",
       "      <td>6</td>\n",
       "      <td>19</td>\n",
       "      <td>4740</td>\n",
       "      <td>611M1</td>\n",
       "      <td>2019GQ0000007</td>\n",
       "      <td>1</td>\n",
       "    </tr>\n",
       "    <tr>\n",
       "      <th>3</th>\n",
       "      <td>52</td>\n",
       "      <td>0</td>\n",
       "      <td>0</td>\n",
       "      <td>0</td>\n",
       "      <td>0</td>\n",
       "      <td>49</td>\n",
       "      <td>0</td>\n",
       "      <td>2</td>\n",
       "      <td>1</td>\n",
       "      <td>0</td>\n",
       "      <td>1.010145</td>\n",
       "      <td>1</td>\n",
       "      <td>6</td>\n",
       "      <td>-1</td>\n",
       "      <td>1</td>\n",
       "      <td>1</td>\n",
       "      <td>21</td>\n",
       "      <td>110</td>\n",
       "      <td>722Z</td>\n",
       "      <td>2019GQ0000010</td>\n",
       "      <td>1</td>\n",
       "    </tr>\n",
       "    <tr>\n",
       "      <th>4</th>\n",
       "      <td>28</td>\n",
       "      <td>0</td>\n",
       "      <td>6000</td>\n",
       "      <td>15</td>\n",
       "      <td>6000</td>\n",
       "      <td>18</td>\n",
       "      <td>2</td>\n",
       "      <td>2</td>\n",
       "      <td>1</td>\n",
       "      <td>0</td>\n",
       "      <td>1.010145</td>\n",
       "      <td>1</td>\n",
       "      <td>6</td>\n",
       "      <td>-1</td>\n",
       "      <td>2</td>\n",
       "      <td>1</td>\n",
       "      <td>16</td>\n",
       "      <td>4110</td>\n",
       "      <td>722Z</td>\n",
       "      <td>2019GQ0000013</td>\n",
       "      <td>1</td>\n",
       "    </tr>\n",
       "  </tbody>\n",
       "</table>\n",
       "</div>"
      ],
      "text/plain": [
       "   FNLWGT  WGTP  INCOME  WKLY_HRS  SALARY  AGE  MOM  DIS  WORK_CLASS  COUPLE  \\\n",
       "0      71     0   63000        80   63000   35    0    2           1       0   \n",
       "1      67     0       0         0       0   25    0    2           0       0   \n",
       "2      24     0    2000        15    2000   21    2    2           2       0   \n",
       "3      52     0       0         0       0   49    0    2           1       0   \n",
       "4      28     0    6000        15    6000   18    2    2           1       0   \n",
       "\n",
       "     ADJINC  CITIZENSHIP  POB_DETAIL  PARTNER  SEX  RACE  EDUCATION  \\\n",
       "0  1.010145            1          18       -1    1     1         17   \n",
       "1  1.010145            1          48       -1    1     1         12   \n",
       "2  1.010145            5         229       -1    2     6         19   \n",
       "3  1.010145            1           6       -1    1     1         21   \n",
       "4  1.010145            1           6       -1    2     1         16   \n",
       "\n",
       "   OCCUPATION WORK_INDUSTRY       SERIALNO  PERSON_NO  \n",
       "0        6250            23  2019GQ0000001          1  \n",
       "1           9            -1  2019GQ0000004          1  \n",
       "2        4740         611M1  2019GQ0000007          1  \n",
       "3         110          722Z  2019GQ0000010          1  \n",
       "4        4110          722Z  2019GQ0000013          1  "
      ]
     },
     "execution_count": 8,
     "metadata": {},
     "output_type": "execute_result"
    }
   ],
   "source": [
    "df.head()"
   ]
  },
  {
   "cell_type": "code",
   "execution_count": 9,
   "metadata": {
    "scrolled": true
   },
   "outputs": [
    {
     "data": {
      "text/plain": [
       "0"
      ]
     },
     "execution_count": 9,
     "metadata": {},
     "output_type": "execute_result"
    }
   ],
   "source": [
    "#checking for duplicates\n",
    "df.duplicated().sum()"
   ]
  },
  {
   "cell_type": "code",
   "execution_count": 10,
   "metadata": {},
   "outputs": [],
   "source": [
    "##Remove MOM, DIS, SERIALNO and PERSON_NO here?\n",
    "df = df.drop(['DIS','ADJINC','SERIALNO', 'PERSON_NO'], axis=1)"
   ]
  },
  {
   "cell_type": "markdown",
   "metadata": {},
   "source": [
    "# Cleaning"
   ]
  },
  {
   "cell_type": "code",
   "execution_count": 11,
   "metadata": {},
   "outputs": [
    {
     "data": {
      "image/png": "[encoded data removed]",
      "text/plain": [
       "<Figure size 1800x1080 with 2 Axes>"
      ]
     },
     "metadata": {
      "needs_background": "light"
     },
     "output_type": "display_data"
    }
   ],
   "source": [
    "#create a heatmap to visualize the correlations\n",
    "fig, ax = plt.subplots(figsize=(25,15)) # figsize to make larger\n",
    "corr = df.corr()\n",
    "\n",
    "# Generate a mask for the upper triangle\n",
    "mask = np.zeros_like(corr, dtype=np.bool)\n",
    "mask[np.triu_indices_from(mask)] = True\n",
    "\n",
    "sns.heatmap(corr, mask=mask, cmap='bwr', center=0, annot=True)\n",
    "\n",
    "# fix for matplotlib bug that cuts off top/bottom of seaborn viz\n",
    "b, t = plt.ylim() # discover the values for bottom and top\n",
    "b += 0.5 # Add 0.5 to the bottom\n",
    "t -= 0.5 # Subtract 0.5 from the top\n",
    "plt.ylim(b, t) # update the ylim(bottom, top) values\n",
    "\n",
    "plt.show()"
   ]
  },
  {
   "cell_type": "code",
   "execution_count": 12,
   "metadata": {},
   "outputs": [],
   "source": [
    "# narrow down data to adults over the 17 years old\n",
    "df = df[df.AGE > 17]"
   ]
  },
  {
   "cell_type": "code",
   "execution_count": 13,
   "metadata": {},
   "outputs": [
    {
     "data": {
      "text/plain": [
       "(2599171, 17)"
      ]
     },
     "execution_count": 13,
     "metadata": {},
     "output_type": "execute_result"
    }
   ],
   "source": [
    "df.shape"
   ]
  },
  {
   "cell_type": "code",
   "execution_count": 14,
   "metadata": {},
   "outputs": [],
   "source": [
    "# narrow down data to adults who worked in the past 12 months\n",
    "df = df[df.WKLY_HRS > 0]"
   ]
  },
  {
   "cell_type": "code",
   "execution_count": 15,
   "metadata": {
    "scrolled": true
   },
   "outputs": [
    {
     "data": {
      "text/plain": [
       "(1659727, 17)"
      ]
     },
     "execution_count": 15,
     "metadata": {},
     "output_type": "execute_result"
    }
   ],
   "source": [
    "df.shape"
   ]
  },
  {
   "cell_type": "code",
   "execution_count": 16,
   "metadata": {
    "scrolled": false
   },
   "outputs": [
    {
     "data": {
      "text/html": [
       "<div>\n",
       "<style scoped>\n",
       "    .dataframe tbody tr th:only-of-type {\n",
       "        vertical-align: middle;\n",
       "    }\n",
       "\n",
       "    .dataframe tbody tr th {\n",
       "        vertical-align: top;\n",
       "    }\n",
       "\n",
       "    .dataframe thead th {\n",
       "        text-align: right;\n",
       "    }\n",
       "</style>\n",
       "<table border=\"1\" class=\"dataframe\">\n",
       "  <thead>\n",
       "    <tr style=\"text-align: right;\">\n",
       "      <th></th>\n",
       "      <th>FNLWGT</th>\n",
       "      <th>WGTP</th>\n",
       "      <th>INCOME</th>\n",
       "      <th>WKLY_HRS</th>\n",
       "      <th>SALARY</th>\n",
       "      <th>AGE</th>\n",
       "      <th>MOM</th>\n",
       "      <th>WORK_CLASS</th>\n",
       "      <th>COUPLE</th>\n",
       "      <th>CITIZENSHIP</th>\n",
       "      <th>POB_DETAIL</th>\n",
       "      <th>PARTNER</th>\n",
       "      <th>SEX</th>\n",
       "      <th>RACE</th>\n",
       "      <th>EDUCATION</th>\n",
       "      <th>OCCUPATION</th>\n",
       "    </tr>\n",
       "  </thead>\n",
       "  <tbody>\n",
       "    <tr>\n",
       "      <th>count</th>\n",
       "      <td>1.659727e+06</td>\n",
       "      <td>1.659727e+06</td>\n",
       "      <td>1.659727e+06</td>\n",
       "      <td>1.659727e+06</td>\n",
       "      <td>1.659727e+06</td>\n",
       "      <td>1.659727e+06</td>\n",
       "      <td>1.659727e+06</td>\n",
       "      <td>1.659727e+06</td>\n",
       "      <td>1.659727e+06</td>\n",
       "      <td>1.659727e+06</td>\n",
       "      <td>1.659727e+06</td>\n",
       "      <td>1.659727e+06</td>\n",
       "      <td>1.659727e+06</td>\n",
       "      <td>1.659727e+06</td>\n",
       "      <td>1.659727e+06</td>\n",
       "      <td>1.659727e+06</td>\n",
       "    </tr>\n",
       "    <tr>\n",
       "      <th>mean</th>\n",
       "      <td>1.033513e+02</td>\n",
       "      <td>9.579058e+01</td>\n",
       "      <td>6.058823e+04</td>\n",
       "      <td>3.839128e+01</td>\n",
       "      <td>5.189937e+04</td>\n",
       "      <td>4.390527e+01</td>\n",
       "      <td>5.906477e-01</td>\n",
       "      <td>2.103359e+00</td>\n",
       "      <td>8.639788e-01</td>\n",
       "      <td>1.519284e+00</td>\n",
       "      <td>6.538772e+01</td>\n",
       "      <td>2.079902e-01</td>\n",
       "      <td>1.478681e+00</td>\n",
       "      <td>1.873518e+00</td>\n",
       "      <td>1.871658e+01</td>\n",
       "      <td>4.088068e+03</td>\n",
       "    </tr>\n",
       "    <tr>\n",
       "      <th>std</th>\n",
       "      <td>9.061065e+01</td>\n",
       "      <td>8.493126e+01</td>\n",
       "      <td>7.691692e+04</td>\n",
       "      <td>1.310493e+01</td>\n",
       "      <td>6.724644e+04</td>\n",
       "      <td>1.525340e+01</td>\n",
       "      <td>9.042176e-01</td>\n",
       "      <td>1.827131e+00</td>\n",
       "      <td>8.056928e-01</td>\n",
       "      <td>1.227446e+00</td>\n",
       "      <td>9.273321e+01</td>\n",
       "      <td>8.872759e-01</td>\n",
       "      <td>4.995454e-01</td>\n",
       "      <td>2.079837e+00</td>\n",
       "      <td>3.274921e+00</td>\n",
       "      <td>2.685733e+03</td>\n",
       "    </tr>\n",
       "    <tr>\n",
       "      <th>min</th>\n",
       "      <td>1.000000e+00</td>\n",
       "      <td>0.000000e+00</td>\n",
       "      <td>-1.020000e+04</td>\n",
       "      <td>1.000000e+00</td>\n",
       "      <td>0.000000e+00</td>\n",
       "      <td>1.800000e+01</td>\n",
       "      <td>0.000000e+00</td>\n",
       "      <td>1.000000e+00</td>\n",
       "      <td>0.000000e+00</td>\n",
       "      <td>1.000000e+00</td>\n",
       "      <td>1.000000e+00</td>\n",
       "      <td>-1.000000e+00</td>\n",
       "      <td>1.000000e+00</td>\n",
       "      <td>1.000000e+00</td>\n",
       "      <td>1.000000e+00</td>\n",
       "      <td>1.000000e+01</td>\n",
       "    </tr>\n",
       "    <tr>\n",
       "      <th>25%</th>\n",
       "      <td>5.100000e+01</td>\n",
       "      <td>4.800000e+01</td>\n",
       "      <td>2.100000e+04</td>\n",
       "      <td>3.500000e+01</td>\n",
       "      <td>1.450000e+04</td>\n",
       "      <td>3.100000e+01</td>\n",
       "      <td>0.000000e+00</td>\n",
       "      <td>1.000000e+00</td>\n",
       "      <td>0.000000e+00</td>\n",
       "      <td>1.000000e+00</td>\n",
       "      <td>1.800000e+01</td>\n",
       "      <td>0.000000e+00</td>\n",
       "      <td>1.000000e+00</td>\n",
       "      <td>1.000000e+00</td>\n",
       "      <td>1.600000e+01</td>\n",
       "      <td>2.040000e+03</td>\n",
       "    </tr>\n",
       "    <tr>\n",
       "      <th>50%</th>\n",
       "      <td>7.900000e+01</td>\n",
       "      <td>7.400000e+01</td>\n",
       "      <td>4.024000e+04</td>\n",
       "      <td>4.000000e+01</td>\n",
       "      <td>3.540000e+04</td>\n",
       "      <td>4.400000e+01</td>\n",
       "      <td>0.000000e+00</td>\n",
       "      <td>1.000000e+00</td>\n",
       "      <td>1.000000e+00</td>\n",
       "      <td>1.000000e+00</td>\n",
       "      <td>3.600000e+01</td>\n",
       "      <td>0.000000e+00</td>\n",
       "      <td>1.000000e+00</td>\n",
       "      <td>1.000000e+00</td>\n",
       "      <td>1.900000e+01</td>\n",
       "      <td>4.110000e+03</td>\n",
       "    </tr>\n",
       "    <tr>\n",
       "      <th>75%</th>\n",
       "      <td>1.230000e+02</td>\n",
       "      <td>1.160000e+02</td>\n",
       "      <td>7.200000e+04</td>\n",
       "      <td>4.200000e+01</td>\n",
       "      <td>6.500000e+04</td>\n",
       "      <td>5.600000e+01</td>\n",
       "      <td>2.000000e+00</td>\n",
       "      <td>3.000000e+00</td>\n",
       "      <td>1.000000e+00</td>\n",
       "      <td>1.000000e+00</td>\n",
       "      <td>4.800000e+01</td>\n",
       "      <td>0.000000e+00</td>\n",
       "      <td>2.000000e+00</td>\n",
       "      <td>1.000000e+00</td>\n",
       "      <td>2.100000e+01</td>\n",
       "      <td>5.740000e+03</td>\n",
       "    </tr>\n",
       "    <tr>\n",
       "      <th>max</th>\n",
       "      <td>2.408000e+03</td>\n",
       "      <td>2.377000e+03</td>\n",
       "      <td>1.629000e+06</td>\n",
       "      <td>9.900000e+01</td>\n",
       "      <td>7.170000e+05</td>\n",
       "      <td>9.600000e+01</td>\n",
       "      <td>2.000000e+00</td>\n",
       "      <td>8.000000e+00</td>\n",
       "      <td>4.000000e+00</td>\n",
       "      <td>5.000000e+00</td>\n",
       "      <td>5.540000e+02</td>\n",
       "      <td>4.000000e+00</td>\n",
       "      <td>2.000000e+00</td>\n",
       "      <td>9.000000e+00</td>\n",
       "      <td>2.400000e+01</td>\n",
       "      <td>9.830000e+03</td>\n",
       "    </tr>\n",
       "  </tbody>\n",
       "</table>\n",
       "</div>"
      ],
      "text/plain": [
       "             FNLWGT          WGTP        INCOME      WKLY_HRS        SALARY  \\\n",
       "count  1.659727e+06  1.659727e+06  1.659727e+06  1.659727e+06  1.659727e+06   \n",
       "mean   1.033513e+02  9.579058e+01  6.058823e+04  3.839128e+01  5.189937e+04   \n",
       "std    9.061065e+01  8.493126e+01  7.691692e+04  1.310493e+01  6.724644e+04   \n",
       "min    1.000000e+00  0.000000e+00 -1.020000e+04  1.000000e+00  0.000000e+00   \n",
       "25%    5.100000e+01  4.800000e+01  2.100000e+04  3.500000e+01  1.450000e+04   \n",
       "50%    7.900000e+01  7.400000e+01  4.024000e+04  4.000000e+01  3.540000e+04   \n",
       "75%    1.230000e+02  1.160000e+02  7.200000e+04  4.200000e+01  6.500000e+04   \n",
       "max    2.408000e+03  2.377000e+03  1.629000e+06  9.900000e+01  7.170000e+05   \n",
       "\n",
       "                AGE           MOM    WORK_CLASS        COUPLE   CITIZENSHIP  \\\n",
       "count  1.659727e+06  1.659727e+06  1.659727e+06  1.659727e+06  1.659727e+06   \n",
       "mean   4.390527e+01  5.906477e-01  2.103359e+00  8.639788e-01  1.519284e+00   \n",
       "std    1.525340e+01  9.042176e-01  1.827131e+00  8.056928e-01  1.227446e+00   \n",
       "min    1.800000e+01  0.000000e+00  1.000000e+00  0.000000e+00  1.000000e+00   \n",
       "25%    3.100000e+01  0.000000e+00  1.000000e+00  0.000000e+00  1.000000e+00   \n",
       "50%    4.400000e+01  0.000000e+00  1.000000e+00  1.000000e+00  1.000000e+00   \n",
       "75%    5.600000e+01  2.000000e+00  3.000000e+00  1.000000e+00  1.000000e+00   \n",
       "max    9.600000e+01  2.000000e+00  8.000000e+00  4.000000e+00  5.000000e+00   \n",
       "\n",
       "         POB_DETAIL       PARTNER           SEX          RACE     EDUCATION  \\\n",
       "count  1.659727e+06  1.659727e+06  1.659727e+06  1.659727e+06  1.659727e+06   \n",
       "mean   6.538772e+01  2.079902e-01  1.478681e+00  1.873518e+00  1.871658e+01   \n",
       "std    9.273321e+01  8.872759e-01  4.995454e-01  2.079837e+00  3.274921e+00   \n",
       "min    1.000000e+00 -1.000000e+00  1.000000e+00  1.000000e+00  1.000000e+00   \n",
       "25%    1.800000e+01  0.000000e+00  1.000000e+00  1.000000e+00  1.600000e+01   \n",
       "50%    3.600000e+01  0.000000e+00  1.000000e+00  1.000000e+00  1.900000e+01   \n",
       "75%    4.800000e+01  0.000000e+00  2.000000e+00  1.000000e+00  2.100000e+01   \n",
       "max    5.540000e+02  4.000000e+00  2.000000e+00  9.000000e+00  2.400000e+01   \n",
       "\n",
       "         OCCUPATION  \n",
       "count  1.659727e+06  \n",
       "mean   4.088068e+03  \n",
       "std    2.685733e+03  \n",
       "min    1.000000e+01  \n",
       "25%    2.040000e+03  \n",
       "50%    4.110000e+03  \n",
       "75%    5.740000e+03  \n",
       "max    9.830000e+03  "
      ]
     },
     "execution_count": 16,
     "metadata": {},
     "output_type": "execute_result"
    }
   ],
   "source": [
    "df.describe()"
   ]
  },
  {
   "cell_type": "markdown",
   "metadata": {},
   "source": [
    "##### Binning Variables"
   ]
  },
  {
   "cell_type": "markdown",
   "metadata": {},
   "source": [
    "**CITIZENSHIP**"
   ]
  },
  {
   "cell_type": "code",
   "execution_count": 17,
   "metadata": {},
   "outputs": [],
   "source": [
    "# 1 indicating born in US, 0 indicating born outside of US\n",
    "df['CITIZENSHIP'] = np.where(df['CITIZENSHIP']==1 , 1, 0)"
   ]
  },
  {
   "cell_type": "markdown",
   "metadata": {},
   "source": [
    "**OCCUPATION**"
   ]
  },
  {
   "cell_type": "code",
   "execution_count": 18,
   "metadata": {},
   "outputs": [],
   "source": [
    "# Binning Occupations\n",
    "\n",
    "conditions = [ \n",
    "    ((df['OCCUPATION'] >= 10) & (df['OCCUPATION'] <= 440)), #MGR\n",
    "    ((df['OCCUPATION'] >= 500) & (df['OCCUPATION'] <= 750)), #BUS\n",
    "    ((df['OCCUPATION'] >= 800) & (df['OCCUPATION'] <= 960)), #FIN\n",
    "    ((df['OCCUPATION'] >= 1005) & (df['OCCUPATION'] <= 1240)), #CMM\n",
    "    ((df['OCCUPATION'] >= 1305) & (df['OCCUPATION'] <= 1560)), #ENG\n",
    "    ((df['OCCUPATION'] >= 1600) & (df['OCCUPATION'] <= 1980)), #SCI\n",
    "    ((df['OCCUPATION'] >= 2001) & (df['OCCUPATION'] <= 2060)), #CMS \n",
    "    ((df['OCCUPATION'] >= 2100) & (df['OCCUPATION'] <= 2180)), #LGL\n",
    "    ((df['OCCUPATION'] >= 2205) & (df['OCCUPATION'] <= 2555)), #EDU\n",
    "    ((df['OCCUPATION'] >= 2600) & (df['OCCUPATION'] <= 2920)), #ENT \n",
    "    ((df['OCCUPATION'] >= 3000) & (df['OCCUPATION'] <= 3550)), #MED\n",
    "    ((df['OCCUPATION'] >= 3610) & (df['OCCUPATION'] <= 3655)), #HLS\n",
    "    ((df['OCCUPATION'] >= 3700) & (df['OCCUPATION'] <= 3960)), #PRT \n",
    "    ((df['OCCUPATION'] >= 4000) & (df['OCCUPATION'] <= 4160)), #EAT\n",
    "    ((df['OCCUPATION'] >= 4200) & (df['OCCUPATION'] <= 4255)), #CLN\n",
    "    ((df['OCCUPATION'] >= 4330) & (df['OCCUPATION'] <= 4655)), #PRS\n",
    "    ((df['OCCUPATION'] >= 4700) & (df['OCCUPATION'] <= 4965)), #SAL\n",
    "    ((df['OCCUPATION'] >= 5000) & (df['OCCUPATION'] <= 5940)), #OFF\n",
    "    ((df['OCCUPATION'] >= 6005) & (df['OCCUPATION'] <= 6130)), #FFF\n",
    "    ((df['OCCUPATION'] >= 6200) & (df['OCCUPATION'] <= 6765)), #CON\n",
    "    ((df['OCCUPATION'] >= 6800) & (df['OCCUPATION'] <= 6950)), #EXT\n",
    "    ((df['OCCUPATION'] >= 7000) & (df['OCCUPATION'] <= 7640)), #RPR\n",
    "    ((df['OCCUPATION'] >= 7700) & (df['OCCUPATION'] <= 8990)), #PRD\n",
    "    ((df['OCCUPATION'] >= 9005) & (df['OCCUPATION'] <= 9760)), #TRN\n",
    "    ((df['OCCUPATION'] >= 9800) & (df['OCCUPATION'] <= 9830)), #MIL\n",
    "]\n",
    "\n",
    "choices = [\n",
    "    'MGR', \n",
    "    'BUS', \n",
    "    'FIN',\n",
    "    'CMM', \n",
    "    'ENG', \n",
    "    'SCI',\n",
    "    'CMS', \n",
    "    'LGL', \n",
    "    'EDU',\n",
    "    'ENT', \n",
    "    'MED', \n",
    "    'HLS',\n",
    "    'PRT', \n",
    "    'EAT', \n",
    "    'CLN',\n",
    "    'PRS', \n",
    "    'SAL', \n",
    "    'OFF',\n",
    "    'FFF', \n",
    "    'CON', \n",
    "    'EXT',\n",
    "    'RPR',\n",
    "    'PRD', \n",
    "    'TRN', \n",
    "    'MIL',\n",
    "]\n",
    "\n",
    "df['OCCUPATION'] = np.select(conditions, choices, default='NA')"
   ]
  },
  {
   "cell_type": "code",
   "execution_count": 19,
   "metadata": {},
   "outputs": [],
   "source": [
    "# df.OCCUPATION.value_counts() #Sanity Check"
   ]
  },
  {
   "cell_type": "markdown",
   "metadata": {},
   "source": [
    "**WORK_INDUSTRY**"
   ]
  },
  {
   "cell_type": "markdown",
   "metadata": {
    "heading_collapsed": true
   },
   "source": [
    "# FIGURE OUT WORK_INDUSTRY"
   ]
  },
  {
   "cell_type": "code",
   "execution_count": 20,
   "metadata": {
    "hidden": true,
    "scrolled": true
   },
   "outputs": [
    {
     "data": {
      "text/plain": [
       "0             23\n",
       "2          611M1\n",
       "4           722Z\n",
       "11           337\n",
       "13         611M1\n",
       "           ...  \n",
       "3239548     5616\n",
       "3239549    56173\n",
       "3239550     5412\n",
       "3239551       23\n",
       "3239552     622M\n",
       "Name: WORK_INDUSTRY, Length: 1659727, dtype: object"
      ]
     },
     "execution_count": 20,
     "metadata": {},
     "output_type": "execute_result"
    }
   ],
   "source": [
    "df.WORK_INDUSTRY"
   ]
  },
  {
   "cell_type": "code",
   "execution_count": 21,
   "metadata": {
    "hidden": true
   },
   "outputs": [],
   "source": [
    "# Removing letters from values \n",
    "df['WORK_INDUSTRY'] = df.WORK_INDUSTRY.apply(lambda x: ''.join([num for num in x if num.isnumeric()]))\n"
   ]
  },
  {
   "cell_type": "code",
   "execution_count": 22,
   "metadata": {
    "hidden": true
   },
   "outputs": [],
   "source": [
    "# # TESTING VARIATIONS\n",
    "# def first_digits(num):\n",
    "#     while i in num[:1] == 9:\n",
    "#         return int(num[:3])\n",
    "#     else:\n",
    "#         return int(num[:2])\n"
   ]
  },
  {
   "cell_type": "code",
   "execution_count": 23,
   "metadata": {
    "hidden": true,
    "scrolled": true
   },
   "outputs": [
    {
     "data": {
      "text/plain": [
       "163677      3\n",
       "560897      3\n",
       "560831      3\n",
       "2745785     3\n",
       "2745572     3\n",
       "           ..\n",
       "1113334    92\n",
       "2195247    92\n",
       "1113320    92\n",
       "407056     92\n",
       "2554397    92\n",
       "Name: WORK_INDUSTRY, Length: 1659727, dtype: int64"
      ]
     },
     "execution_count": 23,
     "metadata": {},
     "output_type": "execute_result"
    }
   ],
   "source": [
    "def first_digits(num):\n",
    "    return int(num[:2])\n",
    "df.WORK_INDUSTRY.apply(first_digits).sort_values()\n",
    "# #Uncomment when ready to apply to df:\n",
    "# df['WORK_INDUSTRY'] = df.WORK_INDUSTRY.apply(first_digits).sort_values() \n",
    "# df.WORK_INDUSTRY.value_counts().sort_index() #Sanity Check"
   ]
  },
  {
   "cell_type": "code",
   "execution_count": null,
   "metadata": {
    "hidden": true,
    "scrolled": false
   },
   "outputs": [],
   "source": []
  },
  {
   "cell_type": "code",
   "execution_count": 24,
   "metadata": {
    "hidden": true,
    "scrolled": true
   },
   "outputs": [
    {
     "data": {
      "text/html": [
       "<div>\n",
       "<style scoped>\n",
       "    .dataframe tbody tr th:only-of-type {\n",
       "        vertical-align: middle;\n",
       "    }\n",
       "\n",
       "    .dataframe tbody tr th {\n",
       "        vertical-align: top;\n",
       "    }\n",
       "\n",
       "    .dataframe thead th {\n",
       "        text-align: right;\n",
       "    }\n",
       "</style>\n",
       "<table border=\"1\" class=\"dataframe\">\n",
       "  <thead>\n",
       "    <tr style=\"text-align: right;\">\n",
       "      <th></th>\n",
       "      <th>FNLWGT</th>\n",
       "      <th>WGTP</th>\n",
       "      <th>INCOME</th>\n",
       "      <th>WKLY_HRS</th>\n",
       "      <th>SALARY</th>\n",
       "      <th>AGE</th>\n",
       "      <th>MOM</th>\n",
       "      <th>WORK_CLASS</th>\n",
       "      <th>COUPLE</th>\n",
       "      <th>CITIZENSHIP</th>\n",
       "      <th>POB_DETAIL</th>\n",
       "      <th>PARTNER</th>\n",
       "      <th>SEX</th>\n",
       "      <th>RACE</th>\n",
       "      <th>EDUCATION</th>\n",
       "      <th>OCCUPATION</th>\n",
       "      <th>WORK_INDUSTRY</th>\n",
       "    </tr>\n",
       "  </thead>\n",
       "  <tbody>\n",
       "    <tr>\n",
       "      <th>0</th>\n",
       "      <td>71</td>\n",
       "      <td>0</td>\n",
       "      <td>63000</td>\n",
       "      <td>80</td>\n",
       "      <td>63000</td>\n",
       "      <td>35</td>\n",
       "      <td>0</td>\n",
       "      <td>1</td>\n",
       "      <td>0</td>\n",
       "      <td>1</td>\n",
       "      <td>18</td>\n",
       "      <td>-1</td>\n",
       "      <td>1</td>\n",
       "      <td>1</td>\n",
       "      <td>17</td>\n",
       "      <td>CON</td>\n",
       "      <td>23</td>\n",
       "    </tr>\n",
       "    <tr>\n",
       "      <th>2</th>\n",
       "      <td>24</td>\n",
       "      <td>0</td>\n",
       "      <td>2000</td>\n",
       "      <td>15</td>\n",
       "      <td>2000</td>\n",
       "      <td>21</td>\n",
       "      <td>2</td>\n",
       "      <td>2</td>\n",
       "      <td>0</td>\n",
       "      <td>0</td>\n",
       "      <td>229</td>\n",
       "      <td>-1</td>\n",
       "      <td>2</td>\n",
       "      <td>6</td>\n",
       "      <td>19</td>\n",
       "      <td>SAL</td>\n",
       "      <td>6111</td>\n",
       "    </tr>\n",
       "    <tr>\n",
       "      <th>4</th>\n",
       "      <td>28</td>\n",
       "      <td>0</td>\n",
       "      <td>6000</td>\n",
       "      <td>15</td>\n",
       "      <td>6000</td>\n",
       "      <td>18</td>\n",
       "      <td>2</td>\n",
       "      <td>1</td>\n",
       "      <td>0</td>\n",
       "      <td>1</td>\n",
       "      <td>6</td>\n",
       "      <td>-1</td>\n",
       "      <td>2</td>\n",
       "      <td>1</td>\n",
       "      <td>16</td>\n",
       "      <td>EAT</td>\n",
       "      <td>722</td>\n",
       "    </tr>\n",
       "    <tr>\n",
       "      <th>11</th>\n",
       "      <td>70</td>\n",
       "      <td>0</td>\n",
       "      <td>3200</td>\n",
       "      <td>40</td>\n",
       "      <td>3200</td>\n",
       "      <td>50</td>\n",
       "      <td>0</td>\n",
       "      <td>1</td>\n",
       "      <td>0</td>\n",
       "      <td>1</td>\n",
       "      <td>45</td>\n",
       "      <td>-1</td>\n",
       "      <td>1</td>\n",
       "      <td>2</td>\n",
       "      <td>16</td>\n",
       "      <td>TRN</td>\n",
       "      <td>337</td>\n",
       "    </tr>\n",
       "    <tr>\n",
       "      <th>13</th>\n",
       "      <td>45</td>\n",
       "      <td>0</td>\n",
       "      <td>500</td>\n",
       "      <td>12</td>\n",
       "      <td>500</td>\n",
       "      <td>19</td>\n",
       "      <td>2</td>\n",
       "      <td>4</td>\n",
       "      <td>0</td>\n",
       "      <td>1</td>\n",
       "      <td>12</td>\n",
       "      <td>-1</td>\n",
       "      <td>2</td>\n",
       "      <td>1</td>\n",
       "      <td>18</td>\n",
       "      <td>OFF</td>\n",
       "      <td>6111</td>\n",
       "    </tr>\n",
       "  </tbody>\n",
       "</table>\n",
       "</div>"
      ],
      "text/plain": [
       "    FNLWGT  WGTP  INCOME  WKLY_HRS  SALARY  AGE  MOM  WORK_CLASS  COUPLE  \\\n",
       "0       71     0   63000        80   63000   35    0           1       0   \n",
       "2       24     0    2000        15    2000   21    2           2       0   \n",
       "4       28     0    6000        15    6000   18    2           1       0   \n",
       "11      70     0    3200        40    3200   50    0           1       0   \n",
       "13      45     0     500        12     500   19    2           4       0   \n",
       "\n",
       "    CITIZENSHIP  POB_DETAIL  PARTNER  SEX  RACE  EDUCATION OCCUPATION  \\\n",
       "0             1          18       -1    1     1         17        CON   \n",
       "2             0         229       -1    2     6         19        SAL   \n",
       "4             1           6       -1    2     1         16        EAT   \n",
       "11            1          45       -1    1     2         16        TRN   \n",
       "13            1          12       -1    2     1         18        OFF   \n",
       "\n",
       "   WORK_INDUSTRY  \n",
       "0             23  \n",
       "2           6111  \n",
       "4            722  \n",
       "11           337  \n",
       "13          6111  "
      ]
     },
     "execution_count": 24,
     "metadata": {},
     "output_type": "execute_result"
    }
   ],
   "source": [
    "df.head()"
   ]
  },
  {
   "cell_type": "code",
   "execution_count": 25,
   "metadata": {
    "hidden": true,
    "scrolled": true
   },
   "outputs": [],
   "source": [
    "# # Binning Industry\n",
    "\n",
    "# conditions = [ \n",
    "#     (df['WORK_INDUSTRY'] == 11), #AGR\n",
    "#     (df['WORK_INDUSTRY'] == 21), #EXT\n",
    "#     (df['WORK_INDUSTRY'] == 22), #UTL\n",
    "#     (df['WORK_INDUSTRY'] == 23), #CON\n",
    "#     ((df['WORK_INDUSTRY'] >= 30) & (df['WORK_INDUSTRY'] <= 33)), #MFG  ADD 3\n",
    "#     (df['WORK_INDUSTRY'] == 42), #WHL\n",
    "#     ((df['WORK_INDUSTRY'] >= 44) & (df['WORK_INDUSTRY'] <= 45)), #RET ADD 4\n",
    "#     ((df['WORK_INDUSTRY'] >= 48) & (df['WORK_INDUSTRY'] <= 49)), #TRN\n",
    "#     (df['WORK_INDUSTRY'] == 51), # INF\n",
    "#     ((df['WORK_INDUSTRY'] >= 52) & (df['WORK_INDUSTRY'] <= 53)), # FIN\n",
    "#     ((df['WORK_INDUSTRY'] >= 54) & (df['WORK_INDUSTRY'] <= 56)), #PRF\n",
    "#     (df['WORK_INDUSTRY'] == 61), #EDU\n",
    "#     (df['WORK_INDUSTRY'] == 62), #MED/SCA\n",
    "#     ((df['WORK_INDUSTRY'] >= 71) & (df['WORK_INDUSTRY'] <= 72)), #ENT\n",
    "#     (df['WORK_INDUSTRY'] >= 81), # SRV\n",
    "# #     ((df['WORK_INDUSTRY'] >= 921) & (df['WORK_INDUSTRY'] <= 923)), #ADM\n",
    "# #     ((df['WORK_INDUSTRY'] == 928) & (df['WORK_INDUSTRY'] <= 4255)), #MIL\n",
    "# ]\n",
    "\n",
    "# choices = [\n",
    "#     'AGR',\n",
    "#     'EXT',\n",
    "#     'UTL',\n",
    "#     'CON',\n",
    "#     'MFG',\n",
    "#     'WHL',\n",
    "#     'RET',\n",
    "#     'TRN',\n",
    "#     'INF',\n",
    "#     'FIN',\n",
    "#     'PRF',\n",
    "#     'EDU',\n",
    "#     'MED',\n",
    "#     'ENT',\n",
    "#     'SRV',\n",
    "# #     'ADM',\n",
    "# #     'MIL'\n",
    "# ]\n",
    "\n",
    "# # df['OCCUPATION'] = np.select(conditions, choices, default='NA')"
   ]
  },
  {
   "cell_type": "code",
   "execution_count": 26,
   "metadata": {
    "hidden": true
   },
   "outputs": [],
   "source": [
    "##Saving this code because it works, but I still need to figure out how to \n",
    "# # Binning Industry\n",
    "\n",
    "# conditions = [ \n",
    "#     (df['WORK_INDUSTRY'] == 11), #AGR\n",
    "#     (df['WORK_INDUSTRY'] == 21), #EXT\n",
    "#     (df['WORK_INDUSTRY'] == 22), #UTL\n",
    "#     (df['WORK_INDUSTRY'] == 23), #CON\n",
    "#     ((df['WORK_INDUSTRY'] >= 30) & (df['WORK_INDUSTRY'] <= 33)), #MFG  ADD 3\n",
    "#     (df['WORK_INDUSTRY'] == 42), #WHL\n",
    "#     ((df['WORK_INDUSTRY'] >= 44) & (df['WORK_INDUSTRY'] <= 45)), #RET ADD 4\n",
    "#     ((df['WORK_INDUSTRY'] >= 48) & (df['WORK_INDUSTRY'] <= 49)), #TRN\n",
    "#     (df['WORK_INDUSTRY'] == 51), # INF\n",
    "#     ((df['WORK_INDUSTRY'] >= 52) & (df['WORK_INDUSTRY'] <= 53)), # FIN\n",
    "#     ((df['WORK_INDUSTRY'] >= 54) & (df['WORK_INDUSTRY'] <= 56)), #PRF\n",
    "#     (df['WORK_INDUSTRY'] == 61), #EDU\n",
    "#     (df['WORK_INDUSTRY'] == 62), #MED/SCA\n",
    "#     ((df['WORK_INDUSTRY'] >= 71) & (df['WORK_INDUSTRY'] <= 72)), #ENT\n",
    "#     (df['WORK_INDUSTRY'] == 81) # SRV\n",
    "# ]\n",
    "# choices = [\n",
    "#     'AGR',\n",
    "#     'EXT',\n",
    "#     'UTL',\n",
    "#     'CON',\n",
    "#     'MFG',\n",
    "#     'WHL',\n",
    "#     'RET',\n",
    "#     'TRN',\n",
    "#     'INF',\n",
    "#     'FIN',\n",
    "#     'PRF',\n",
    "#     'EDU',\n",
    "#     'MED',\n",
    "#     'ENT',\n",
    "#     'SRV'\n",
    "# ]\n",
    "\n",
    "# df['WORK_INDUSTRY2'] = np.select(conditions, choices, default='NA')"
   ]
  },
  {
   "cell_type": "code",
   "execution_count": 27,
   "metadata": {
    "hidden": true,
    "scrolled": true
   },
   "outputs": [],
   "source": [
    "# Sanity Check\n",
    "# df.WORK_INDUSTRY.value_counts()\n",
    "# df.WORK_INDUSTRY.isnull().sum()"
   ]
  },
  {
   "cell_type": "markdown",
   "metadata": {},
   "source": [
    "# Exploring Target Variable"
   ]
  },
  {
   "cell_type": "code",
   "execution_count": 28,
   "metadata": {},
   "outputs": [
    {
     "data": {
      "text/plain": [
       "<=65k    1183289\n",
       ">65k      476438\n",
       "Name: TARGET, dtype: int64"
      ]
     },
     "execution_count": 28,
     "metadata": {},
     "output_type": "execute_result"
    }
   ],
   "source": [
    "df['TARGET'] = np.where(df.INCOME > 65000, '>65k', '<=65k')\n",
    "df.TARGET.value_counts()"
   ]
  },
  {
   "cell_type": "code",
   "execution_count": null,
   "metadata": {
    "scrolled": true
   },
   "outputs": [],
   "source": []
  },
  {
   "cell_type": "code",
   "execution_count": 29,
   "metadata": {
    "scrolled": true
   },
   "outputs": [
    {
     "data": {
      "image/png": "[encoded data removed]",
      "text/plain": [
       "<Figure size 432x288 with 1 Axes>"
      ]
     },
     "metadata": {
      "needs_background": "light"
     },
     "output_type": "display_data"
    }
   ],
   "source": [
    "sns.histplot(data = df, x=\"TARGET\")\n",
    "plt.show()"
   ]
  },
  {
   "cell_type": "code",
   "execution_count": 30,
   "metadata": {
    "scrolled": true
   },
   "outputs": [
    {
     "data": {
      "text/plain": [
       "<matplotlib.axes._subplots.AxesSubplot at 0x7fe60dbb6a20>"
      ]
     },
     "execution_count": 30,
     "metadata": {},
     "output_type": "execute_result"
    },
    {
     "data": {
      "image/png": "[encoded data removed]",
      "text/plain": [
       "<Figure size 432x288 with 1 Axes>"
      ]
     },
     "metadata": {
      "needs_background": "light"
     },
     "output_type": "display_data"
    }
   ],
   "source": [
    "sns.boxplot(x=df.INCOME)\n"
   ]
  },
  {
   "cell_type": "code",
   "execution_count": 31,
   "metadata": {},
   "outputs": [
    {
     "data": {
      "text/plain": [
       "count    1.659727e+06\n",
       "mean     6.058823e+04\n",
       "std      7.691692e+04\n",
       "min     -1.020000e+04\n",
       "25%      2.100000e+04\n",
       "50%      4.024000e+04\n",
       "75%      7.200000e+04\n",
       "max      1.629000e+06\n",
       "Name: INCOME, dtype: float64"
      ]
     },
     "execution_count": 31,
     "metadata": {},
     "output_type": "execute_result"
    }
   ],
   "source": [
    "df.INCOME.describe()"
   ]
  },
  {
   "cell_type": "code",
   "execution_count": 32,
   "metadata": {},
   "outputs": [
    {
     "data": {
      "text/plain": [
       "0           63000\n",
       "2            2000\n",
       "4            6000\n",
       "11           3200\n",
       "13            500\n",
       "            ...  \n",
       "3239548    150000\n",
       "3239549     27000\n",
       "3239550     75000\n",
       "3239551     57000\n",
       "3239552     55000\n",
       "Name: INCOME, Length: 1659727, dtype: int64"
      ]
     },
     "execution_count": 32,
     "metadata": {},
     "output_type": "execute_result"
    }
   ],
   "source": [
    "df.INCOME"
   ]
  },
  {
   "cell_type": "code",
   "execution_count": 33,
   "metadata": {},
   "outputs": [
    {
     "data": {
      "text/plain": [
       "count    1.656282e+06\n",
       "mean     6.071761e+04\n",
       "std      7.694438e+04\n",
       "min      1.040000e+02\n",
       "25%      2.100000e+04\n",
       "50%      4.050000e+04\n",
       "75%      7.200000e+04\n",
       "max      1.629000e+06\n",
       "Name: INCOME, dtype: float64"
      ]
     },
     "execution_count": 33,
     "metadata": {},
     "output_type": "execute_result"
    }
   ],
   "source": [
    "df[df.INCOME > 100]['INCOME'].describe()"
   ]
  },
  {
   "cell_type": "code",
   "execution_count": 34,
   "metadata": {},
   "outputs": [
    {
     "data": {
      "text/plain": [
       "count    1.659727e+06\n",
       "mean     5.189937e+04\n",
       "std      6.724644e+04\n",
       "min      0.000000e+00\n",
       "25%      1.450000e+04\n",
       "50%      3.540000e+04\n",
       "75%      6.500000e+04\n",
       "max      7.170000e+05\n",
       "Name: SALARY, dtype: float64"
      ]
     },
     "execution_count": 34,
     "metadata": {},
     "output_type": "execute_result"
    }
   ],
   "source": [
    "df.SALARY.describe()"
   ]
  },
  {
   "cell_type": "markdown",
   "metadata": {},
   "source": [
    "# EDA"
   ]
  },
  {
   "cell_type": "code",
   "execution_count": 35,
   "metadata": {},
   "outputs": [
    {
     "data": {
      "image/png": "[encoded data removed]",
      "text/plain": [
       "<Figure size 1800x1080 with 2 Axes>"
      ]
     },
     "metadata": {
      "needs_background": "light"
     },
     "output_type": "display_data"
    }
   ],
   "source": [
    "#create a heatmap to visualize the correlations\n",
    "fig, ax = plt.subplots(figsize=(25,15)) # figsize to make larger\n",
    "corr = df.corr()\n",
    "\n",
    "# Generate a mask for the upper triangle\n",
    "mask = np.zeros_like(corr, dtype=np.bool)\n",
    "mask[np.triu_indices_from(mask)] = True\n",
    "\n",
    "sns.heatmap(corr, mask=mask, cmap='bwr', center=0, annot=True)\n",
    "\n",
    "# fix for matplotlib bug that cuts off top/bottom of seaborn viz\n",
    "b, t = plt.ylim() # discover the values for bottom and top\n",
    "b += 0.5 # Add 0.5 to the bottom\n",
    "t -= 0.5 # Subtract 0.5 from the top\n",
    "plt.ylim(b, t) # update the ylim(bottom, top) values\n",
    "\n",
    "plt.show()"
   ]
  },
  {
   "cell_type": "code",
   "execution_count": 36,
   "metadata": {},
   "outputs": [
    {
     "data": {
      "text/plain": [
       "21    378817\n",
       "16    342093\n",
       "19    250254\n",
       "22    166793\n",
       "20    154487\n",
       "18    120758\n",
       "17     56487\n",
       "23     42571\n",
       "24     29033\n",
       "15     26173\n",
       "14     23779\n",
       "1      15897\n",
       "13     15039\n",
       "12     12130\n",
       "9       8507\n",
       "11      8136\n",
       "10      2418\n",
       "8       1794\n",
       "6       1670\n",
       "7       1112\n",
       "5        797\n",
       "4        423\n",
       "2        298\n",
       "3        261\n",
       "Name: EDUCATION, dtype: int64"
      ]
     },
     "execution_count": 36,
     "metadata": {},
     "output_type": "execute_result"
    }
   ],
   "source": [
    "df.EDUCATION.value_counts()"
   ]
  },
  {
   "cell_type": "code",
   "execution_count": 37,
   "metadata": {
    "scrolled": false
   },
   "outputs": [
    {
     "data": {
      "text/plain": [
       "<matplotlib.axes._subplots.AxesSubplot at 0x7fe60dfe0ba8>"
      ]
     },
     "execution_count": 37,
     "metadata": {},
     "output_type": "execute_result"
    },
    {
     "data": {
      "image/png": "[encoded data removed]",
      "text/plain": [
       "<Figure size 432x288 with 1 Axes>"
      ]
     },
     "metadata": {
      "needs_background": "light"
     },
     "output_type": "display_data"
    }
   ],
   "source": [
    "sns.barplot(data=df, x='EDUCATION', y='INCOME')"
   ]
  },
  {
   "cell_type": "code",
   "execution_count": 38,
   "metadata": {},
   "outputs": [
    {
     "data": {
      "text/plain": [
       "<matplotlib.axes._subplots.AxesSubplot at 0x7fe61af94630>"
      ]
     },
     "execution_count": 38,
     "metadata": {},
     "output_type": "execute_result"
    },
    {
     "data": {
      "image/png": "[encoded data removed]",
      "text/plain": [
       "<Figure size 432x288 with 1 Axes>"
      ]
     },
     "metadata": {
      "needs_background": "light"
     },
     "output_type": "display_data"
    }
   ],
   "source": [
    "sns.barplot(data=df, x='EDUCATION', y='SALARY')"
   ]
  },
  {
   "cell_type": "code",
   "execution_count": 39,
   "metadata": {
    "scrolled": true
   },
   "outputs": [
    {
     "data": {
      "image/png": "[encoded data removed]",
      "text/plain": [
       "<Figure size 432x288 with 1 Axes>"
      ]
     },
     "metadata": {
      "needs_background": "light"
     },
     "output_type": "display_data"
    }
   ],
   "source": [
    "sns.histplot(data = df, x=\"RACE\", hue = \"TARGET\")\n",
    "plt.show()"
   ]
  },
  {
   "cell_type": "code",
   "execution_count": 40,
   "metadata": {},
   "outputs": [
    {
     "data": {
      "image/png": "[encoded data removed]",
      "text/plain": [
       "<Figure size 432x288 with 1 Axes>"
      ]
     },
     "metadata": {
      "needs_background": "light"
     },
     "output_type": "display_data"
    }
   ],
   "source": [
    "sns.histplot(data = df, x=\"AGE\", hue = \"TARGET\")\n",
    "plt.show()"
   ]
  },
  {
   "cell_type": "code",
   "execution_count": 41,
   "metadata": {
    "scrolled": true
   },
   "outputs": [
    {
     "data": {
      "image/png": "[encoded data removed]",
      "text/plain": [
       "<Figure size 432x288 with 1 Axes>"
      ]
     },
     "metadata": {
      "needs_background": "light"
     },
     "output_type": "display_data"
    }
   ],
   "source": [
    "sns.histplot(data = df, x=\"SEX\", hue = \"TARGET\")\n",
    "plt.show()"
   ]
  },
  {
   "cell_type": "code",
   "execution_count": 42,
   "metadata": {},
   "outputs": [
    {
     "data": {
      "text/plain": [
       "1    865247\n",
       "2    794480\n",
       "Name: SEX, dtype: int64"
      ]
     },
     "execution_count": 42,
     "metadata": {},
     "output_type": "execute_result"
    }
   ],
   "source": [
    "df.SEX.value_counts()"
   ]
  },
  {
   "cell_type": "code",
   "execution_count": 43,
   "metadata": {
    "scrolled": true
   },
   "outputs": [
    {
     "data": {
      "image/png": "[encoded data removed]",
      "text/plain": [
       "<Figure size 432x288 with 1 Axes>"
      ]
     },
     "metadata": {
      "needs_background": "light"
     },
     "output_type": "display_data"
    }
   ],
   "source": [
    "sns.histplot(data = df, x=\"CITIZENSHIP\", hue = \"TARGET\")\n",
    "plt.show()"
   ]
  },
  {
   "cell_type": "code",
   "execution_count": 44,
   "metadata": {},
   "outputs": [],
   "source": [
    "# 1\tOpposite-sex husband/wife/spouse household\n",
    "# 2\tSame-sex husband/wife/spouse household\n",
    "# 3\tOpposite-sex unmarried partner household\n",
    "# 4\tSame-sex unmarried partner household"
   ]
  },
  {
   "cell_type": "code",
   "execution_count": 45,
   "metadata": {
    "scrolled": true
   },
   "outputs": [
    {
     "data": {
      "image/png": "[encoded data removed]",
      "text/plain": [
       "<Figure size 432x288 with 1 Axes>"
      ]
     },
     "metadata": {
      "needs_background": "light"
     },
     "output_type": "display_data"
    }
   ],
   "source": [
    "sns.histplot(data = df, x=\"COUPLE\", hue = \"TARGET\")\n",
    "plt.show()"
   ]
  },
  {
   "cell_type": "code",
   "execution_count": 46,
   "metadata": {},
   "outputs": [],
   "source": [
    "# -1\tN/A (GQ/vacant)\n",
    "# 0\tNo unmarried partner in household\n",
    "# 1\tMale householder, male partner\n",
    "# 2\tMale householder, female partner\n",
    "# 3\tFemale householder, female partner\n",
    "# 4\tFemale householder, male partner"
   ]
  },
  {
   "cell_type": "code",
   "execution_count": 47,
   "metadata": {
    "scrolled": false
   },
   "outputs": [
    {
     "data": {
      "image/png": "[encoded data removed]",
      "text/plain": [
       "<Figure size 432x288 with 1 Axes>"
      ]
     },
     "metadata": {
      "needs_background": "light"
     },
     "output_type": "display_data"
    }
   ],
   "source": [
    "sns.histplot(data = df, x=\"PARTNER\", hue = \"TARGET\")\n",
    "plt.show()"
   ]
  },
  {
   "cell_type": "code",
   "execution_count": 48,
   "metadata": {},
   "outputs": [
    {
     "data": {
      "text/plain": [
       " 0    1468733\n",
       " 4      64335\n",
       " 2      63778\n",
       "-1      55170\n",
       " 3       3885\n",
       " 1       3826\n",
       "Name: PARTNER, dtype: int64"
      ]
     },
     "execution_count": 48,
     "metadata": {},
     "output_type": "execute_result"
    }
   ],
   "source": [
    "df.PARTNER.value_counts()"
   ]
  },
  {
   "cell_type": "code",
   "execution_count": 49,
   "metadata": {},
   "outputs": [],
   "source": [
    "# sns.histplot(data = df, x=\"POB_WORLD\", hue = \"TARGET_60\")"
   ]
  },
  {
   "cell_type": "code",
   "execution_count": 50,
   "metadata": {},
   "outputs": [
    {
     "data": {
      "text/plain": [
       "<matplotlib.axes._subplots.AxesSubplot at 0x7fe5f91a2080>"
      ]
     },
     "execution_count": 50,
     "metadata": {},
     "output_type": "execute_result"
    },
    {
     "data": {
      "image/png": "[encoded data removed]",
      "text/plain": [
       "<Figure size 432x288 with 1 Axes>"
      ]
     },
     "metadata": {
      "needs_background": "light"
     },
     "output_type": "display_data"
    }
   ],
   "source": [
    "sns.boxplot(x=df.SALARY)\n"
   ]
  },
  {
   "cell_type": "code",
   "execution_count": 51,
   "metadata": {},
   "outputs": [
    {
     "data": {
      "text/plain": [
       "40240.0"
      ]
     },
     "execution_count": 51,
     "metadata": {},
     "output_type": "execute_result"
    }
   ],
   "source": [
    "df.INCOME.median()"
   ]
  },
  {
   "cell_type": "code",
   "execution_count": 52,
   "metadata": {},
   "outputs": [
    {
     "data": {
      "text/plain": [
       "35400.0"
      ]
     },
     "execution_count": 52,
     "metadata": {},
     "output_type": "execute_result"
    }
   ],
   "source": [
    "df.SALARY.median()"
   ]
  },
  {
   "cell_type": "markdown",
   "metadata": {},
   "source": [
    "# Prepare Data for Modeling\n",
    "- LabelEncoder\n",
    "- remove unnecessary variables\n",
    "- train-test split\n"
   ]
  },
  {
   "cell_type": "code",
   "execution_count": 53,
   "metadata": {
    "scrolled": false
   },
   "outputs": [],
   "source": [
    "# define cols\n",
    "le = LabelEncoder()\n",
    "cols = ['OCCUPATION', 'WORK_INDUSTRY']\n",
    "df.loc[:,cols] = df.loc[:,cols].apply(le.fit_transform)"
   ]
  },
  {
   "cell_type": "code",
   "execution_count": 54,
   "metadata": {},
   "outputs": [],
   "source": [
    "X = df.drop(['TARGET','INCOME', 'SALARY'], axis=1)\n",
    "y = df.TARGET"
   ]
  },
  {
   "cell_type": "code",
   "execution_count": 55,
   "metadata": {},
   "outputs": [],
   "source": [
    "X_train, X_test, y_train, y_test = train_test_split(X, y, random_state = 42, stratify = y)"
   ]
  },
  {
   "cell_type": "code",
   "execution_count": 56,
   "metadata": {},
   "outputs": [
    {
     "data": {
      "text/html": [
       "<div>\n",
       "<style scoped>\n",
       "    .dataframe tbody tr th:only-of-type {\n",
       "        vertical-align: middle;\n",
       "    }\n",
       "\n",
       "    .dataframe tbody tr th {\n",
       "        vertical-align: top;\n",
       "    }\n",
       "\n",
       "    .dataframe thead th {\n",
       "        text-align: right;\n",
       "    }\n",
       "</style>\n",
       "<table border=\"1\" class=\"dataframe\">\n",
       "  <thead>\n",
       "    <tr style=\"text-align: right;\">\n",
       "      <th></th>\n",
       "      <th>FNLWGT</th>\n",
       "      <th>WGTP</th>\n",
       "      <th>INCOME</th>\n",
       "      <th>WKLY_HRS</th>\n",
       "      <th>SALARY</th>\n",
       "      <th>AGE</th>\n",
       "      <th>MOM</th>\n",
       "      <th>WORK_CLASS</th>\n",
       "      <th>COUPLE</th>\n",
       "      <th>CITIZENSHIP</th>\n",
       "      <th>POB_DETAIL</th>\n",
       "      <th>PARTNER</th>\n",
       "      <th>SEX</th>\n",
       "      <th>RACE</th>\n",
       "      <th>EDUCATION</th>\n",
       "      <th>OCCUPATION</th>\n",
       "      <th>WORK_INDUSTRY</th>\n",
       "      <th>TARGET</th>\n",
       "    </tr>\n",
       "  </thead>\n",
       "  <tbody>\n",
       "    <tr>\n",
       "      <th>0</th>\n",
       "      <td>71</td>\n",
       "      <td>0</td>\n",
       "      <td>63000</td>\n",
       "      <td>80</td>\n",
       "      <td>63000</td>\n",
       "      <td>35</td>\n",
       "      <td>0</td>\n",
       "      <td>1</td>\n",
       "      <td>0</td>\n",
       "      <td>1</td>\n",
       "      <td>18</td>\n",
       "      <td>-1</td>\n",
       "      <td>1</td>\n",
       "      <td>1</td>\n",
       "      <td>17</td>\n",
       "      <td>4</td>\n",
       "      <td>17</td>\n",
       "      <td>&lt;=65k</td>\n",
       "    </tr>\n",
       "    <tr>\n",
       "      <th>2</th>\n",
       "      <td>24</td>\n",
       "      <td>0</td>\n",
       "      <td>2000</td>\n",
       "      <td>15</td>\n",
       "      <td>2000</td>\n",
       "      <td>21</td>\n",
       "      <td>2</td>\n",
       "      <td>2</td>\n",
       "      <td>0</td>\n",
       "      <td>0</td>\n",
       "      <td>229</td>\n",
       "      <td>-1</td>\n",
       "      <td>2</td>\n",
       "      <td>6</td>\n",
       "      <td>19</td>\n",
       "      <td>23</td>\n",
       "      <td>203</td>\n",
       "      <td>&lt;=65k</td>\n",
       "    </tr>\n",
       "  </tbody>\n",
       "</table>\n",
       "</div>"
      ],
      "text/plain": [
       "   FNLWGT  WGTP  INCOME  WKLY_HRS  SALARY  AGE  MOM  WORK_CLASS  COUPLE  \\\n",
       "0      71     0   63000        80   63000   35    0           1       0   \n",
       "2      24     0    2000        15    2000   21    2           2       0   \n",
       "\n",
       "   CITIZENSHIP  POB_DETAIL  PARTNER  SEX  RACE  EDUCATION  OCCUPATION  \\\n",
       "0            1          18       -1    1     1         17           4   \n",
       "2            0         229       -1    2     6         19          23   \n",
       "\n",
       "   WORK_INDUSTRY TARGET  \n",
       "0             17  <=65k  \n",
       "2            203  <=65k  "
      ]
     },
     "execution_count": 56,
     "metadata": {},
     "output_type": "execute_result"
    }
   ],
   "source": [
    "df.head(2) #Sanity Check"
   ]
  },
  {
   "cell_type": "markdown",
   "metadata": {},
   "source": [
    "# Model Testing"
   ]
  },
  {
   "cell_type": "code",
   "execution_count": 57,
   "metadata": {
    "scrolled": true
   },
   "outputs": [],
   "source": [
    "tree = DecisionTreeClassifier()\n",
    "tree.fit(X_train, y_train)\n",
    "y_pred = tree.predict(X_test)"
   ]
  },
  {
   "cell_type": "code",
   "execution_count": 58,
   "metadata": {},
   "outputs": [
    {
     "data": {
      "text/plain": [
       "0.7597437652434615"
      ]
     },
     "execution_count": 58,
     "metadata": {},
     "output_type": "execute_result"
    }
   ],
   "source": [
    "accuracy_score(y_test, y_pred)"
   ]
  },
  {
   "cell_type": "code",
   "execution_count": 59,
   "metadata": {},
   "outputs": [],
   "source": [
    "importance = tree.feature_importances_\n",
    "feat_imp_dict = dict(zip(X.columns, importance))"
   ]
  },
  {
   "cell_type": "code",
   "execution_count": 60,
   "metadata": {},
   "outputs": [
    {
     "data": {
      "text/plain": [
       "{'FNLWGT': 0.10609208678588701,\n",
       " 'WGTP': 0.10625187250947501,\n",
       " 'WKLY_HRS': 0.10341417804103596,\n",
       " 'AGE': 0.14183970968089873,\n",
       " 'MOM': 0.0038820711568278675,\n",
       " 'WORK_CLASS': 0.027866749927783693,\n",
       " 'COUPLE': 0.017783993819359793,\n",
       " 'CITIZENSHIP': 0.002737407412536461,\n",
       " 'POB_DETAIL': 0.10189099095770214,\n",
       " 'PARTNER': 0.006739637899674568,\n",
       " 'SEX': 0.021635514284834116,\n",
       " 'RACE': 0.017367279841005515,\n",
       " 'EDUCATION': 0.16390169395492662,\n",
       " 'OCCUPATION': 0.07107452147266016,\n",
       " 'WORK_INDUSTRY': 0.10752229225539231}"
      ]
     },
     "execution_count": 60,
     "metadata": {},
     "output_type": "execute_result"
    }
   ],
   "source": [
    "feat_imp_dict"
   ]
  },
  {
   "cell_type": "code",
   "execution_count": null,
   "metadata": {},
   "outputs": [],
   "source": []
  }
 ],
 "metadata": {
  "kernelspec": {
   "display_name": "Python 3",
   "language": "python",
   "name": "python3"
  },
  "language_info": {
   "codemirror_mode": {
    "name": "ipython",
    "version": 3
   },
   "file_extension": ".py",
   "mimetype": "text/x-python",
   "name": "python",
   "nbconvert_exporter": "python",
   "pygments_lexer": "ipython3",
   "version": "3.6.9"
  },
  "toc": {
   "base_numbering": 1,
   "nav_menu": {},
   "number_sections": true,
   "sideBar": true,
   "skip_h1_title": false,
   "title_cell": "Table of Contents",
   "title_sidebar": "Contents",
   "toc_cell": false,
   "toc_position": {},
   "toc_section_display": true,
   "toc_window_display": false
  }
 },
 "nbformat": 4,
 "nbformat_minor": 4
}
